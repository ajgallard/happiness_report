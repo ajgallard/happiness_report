{
 "cells": [
  {
   "cell_type": "markdown",
   "id": "1e982785",
   "metadata": {},
   "source": [
    "# Visualizations"
   ]
  },
  {
   "cell_type": "markdown",
   "id": "06a8ecce",
   "metadata": {},
   "source": [
    "In this notebook we will focus soley on visualizing the datapoints cleaned and engineered in our EDA notebook"
   ]
  },
  {
   "cell_type": "code",
   "execution_count": 1,
   "id": "9a9940c4",
   "metadata": {},
   "outputs": [],
   "source": [
    "# general imports\n",
    "import pandas as pd\n",
    "import numpy as np\n",
    "import matplotlib.pyplot as plt\n",
    "import seaborn as sns\n",
    "import plotly.express as px\n",
    "import plotly.graph_objects as go"
   ]
  },
  {
   "cell_type": "code",
   "execution_count": 2,
   "id": "191b21c9",
   "metadata": {},
   "outputs": [],
   "source": [
    "# reading engineered csv files\n",
    "df18 = pd.read_csv(\"data//2018_eng.csv\")\n",
    "df19 = pd.read_csv(\"data//2019_eng.csv\")"
   ]
  },
  {
   "cell_type": "markdown",
   "id": "365514f4",
   "metadata": {},
   "source": [
    "# World Happiness 2018 - Visuals"
   ]
  },
  {
   "cell_type": "markdown",
   "id": "63e0f92a",
   "metadata": {},
   "source": [
    "* Create Button for switching X value for scatter plot\n",
    "* Combine all three following continent maps with alterable y value"
   ]
  },
  {
   "cell_type": "code",
   "execution_count": 3,
   "id": "3ae87502",
   "metadata": {},
   "outputs": [],
   "source": [
    "# need sum of all happiness score contributors stacked on top of one another for all countries"
   ]
  },
  {
   "cell_type": "code",
   "execution_count": 4,
   "id": "f8eef9c9",
   "metadata": {},
   "outputs": [],
   "source": [
    "cols = df18.columns[3:5].values.tolist()"
   ]
  },
  {
   "cell_type": "code",
   "execution_count": 5,
   "id": "056a7f2b",
   "metadata": {},
   "outputs": [
    {
     "data": {
      "text/plain": [
       "2"
      ]
     },
     "execution_count": 5,
     "metadata": {},
     "output_type": "execute_result"
    }
   ],
   "source": [
    "len(cols)"
   ]
  },
  {
   "cell_type": "markdown",
   "id": "2d26e05f",
   "metadata": {},
   "source": [
    "https://stackoverflow.com/questions/69242033/build-a-plotly-scatterplot-with-two-drop-down-buttons-one-for-x-and-one-for-y-ax"
   ]
  },
  {
   "cell_type": "code",
   "execution_count": 65,
   "id": "922cbeba",
   "metadata": {
    "scrolled": true
   },
   "outputs": [
    {
     "data": {
      "application/vnd.plotly.v1+json": {
       "config": {
        "plotlyServerURL": "https://plot.ly"
       },
       "data": [
        {
         "hovertemplate": "<b>%{hovertext}</b><br><br>Continent=Europe<br>GDP per capita=%{x}<br>Score=%{y}<br>Population=%{marker.size}<extra></extra>",
         "hovertext": [
          "Finland",
          "Norway",
          "Denmark",
          "Iceland",
          "Switzerland",
          "Netherlands",
          "Sweden",
          "United Kingdom",
          "Austria",
          "Ireland",
          "Germany",
          "Belgium",
          "Luxembourg",
          "Czech Republic",
          "Malta",
          "France",
          "Spain",
          "Slovakia",
          "Poland",
          "Italy",
          "Lithuania",
          "Slovenia",
          "Romania",
          "Latvia",
          "Russia",
          "Estonia",
          "Kosovo",
          "Moldova",
          "Hungary",
          "Belarus",
          "Portugal",
          "Serbia",
          "Greece",
          "Montenegro",
          "Croatia",
          "Macedonia",
          "Bosnia and Herzegovina",
          "Bulgaria",
          "Albania",
          "Ukraine"
         ],
         "legendgroup": "Europe",
         "marker": {
          "color": "#3366CC",
          "size": [
           5470437,
           5156450,
           5655750,
           328170,
           8183800,
           16881000,
           9737521,
           64105654,
           8527230,
           6378000,
           80783000,
           11225469,
           549700,
           10521600,
           416055,
           66078000,
           46507760,
           5415949,
           38496000,
           60769102,
           2927310,
           2064966,
           19942642,
           1991800,
           146233000,
           1315819,
           1795666,
           3557600,
           9879000,
           9475100,
           10477800,
           7186862,
           10992589,
           627809,
           4267558,
           2085051,
           3791622,
           7245677,
           2895947,
           42973696
          ],
          "sizemode": "area",
          "sizeref": 379752.77777777775,
          "symbol": "circle"
         },
         "mode": "markers",
         "name": "Europe",
         "orientation": "v",
         "showlegend": true,
         "type": "scatter",
         "visible": true,
         "x": [
          1.305,
          1.456,
          1.351,
          1.343,
          1.42,
          1.361,
          1.355,
          1.244,
          1.341,
          1.448,
          1.34,
          1.324,
          1.576,
          1.233,
          1.27,
          1.293,
          1.251,
          1.21,
          1.176,
          1.264,
          1.197,
          1.219,
          1.116,
          1.148,
          1.151,
          1.2,
          0.855,
          0.657,
          1.171,
          1.039,
          1.188,
          0.975,
          1.154,
          1.017,
          1.115,
          0.959,
          0.915,
          1.054,
          0.916,
          0.793
         ],
         "xaxis": "x",
         "y": [
          7.632,
          7.594,
          7.555,
          7.495,
          7.487,
          7.441,
          7.314,
          7.19,
          7.139,
          6.977,
          6.965,
          6.927,
          6.91,
          6.711,
          6.627,
          6.489,
          6.31,
          6.173,
          6.123,
          6,
          5.952,
          5.948,
          5.945,
          5.933,
          5.81,
          5.739,
          5.662,
          5.64,
          5.62,
          5.483,
          5.41,
          5.398,
          5.358,
          5.347,
          5.321,
          5.185,
          5.129,
          4.933,
          4.586,
          4.103
         ],
         "yaxis": "y"
        },
        {
         "hovertemplate": "<b>%{hovertext}</b><br><br>Continent=North America<br>GDP per capita=%{x}<br>Score=%{y}<br>Population=%{marker.size}<extra></extra>",
         "hovertext": [
          "Canada",
          "Costa Rica",
          "United States",
          "Mexico",
          "Panama",
          "Guatemala",
          "Trinidad and Tobago",
          "El Salvador",
          "Nicaragua",
          "Belize",
          "Jamaica",
          "Honduras",
          "Dominican Republic",
          "Haiti"
         ],
         "legendgroup": "North America",
         "marker": {
          "color": "#DC3912",
          "size": [
           35540419,
           4713168,
           319259000,
           119713203,
           3713312,
           15806675,
           1328019,
           6401240,
           6134270,
           349728,
           2717991,
           8725111,
           10378267,
           10745665
          ],
          "sizemode": "area",
          "sizeref": 379752.77777777775,
          "symbol": "circle"
         },
         "mode": "markers",
         "name": "North America",
         "orientation": "v",
         "showlegend": true,
         "type": "scatter",
         "visible": true,
         "x": [
          1.33,
          1.01,
          1.398,
          1.038,
          1.112,
          0.781,
          1.223,
          0.806,
          0.668,
          0.807,
          0.819,
          0.62,
          0.982,
          0.315
         ],
         "xaxis": "x",
         "y": [
          7.328,
          7.072,
          6.886,
          6.488,
          6.43,
          6.382,
          6.192,
          6.167,
          6.141,
          5.956,
          5.89,
          5.504,
          5.302,
          3.582
         ],
         "yaxis": "y"
        },
        {
         "hovertemplate": "<b>%{hovertext}</b><br><br>Continent=Oceania<br>GDP per capita=%{x}<br>Score=%{y}<br>Population=%{marker.size}<extra></extra>",
         "hovertext": [
          "New Zealand",
          "Australia"
         ],
         "legendgroup": "Oceania",
         "marker": {
          "color": "#FF9900",
          "size": [
           4547900,
           23696900
          ],
          "sizemode": "area",
          "sizeref": 379752.77777777775,
          "symbol": "circle"
         },
         "mode": "markers",
         "name": "Oceania",
         "orientation": "v",
         "showlegend": true,
         "type": "scatter",
         "visible": true,
         "x": [
          1.268,
          1.34
         ],
         "xaxis": "x",
         "y": [
          7.324,
          7.272
         ],
         "yaxis": "y"
        },
        {
         "hovertemplate": "<b>%{hovertext}</b><br><br>Continent=Asia<br>GDP per capita=%{x}<br>Score=%{y}<br>Population=%{marker.size}<extra></extra>",
         "hovertext": [
          "Israel",
          "United Arab Emirates",
          "Taiwan",
          "Qatar",
          "Saudi Arabia",
          "Singapore",
          "Malaysia",
          "Bahrain",
          "Uzbekistan",
          "Kuwait",
          "Thailand",
          "Japan",
          "South Korea",
          "Cyprus",
          "Kazakhstan",
          "Cyprus",
          "Turkmenistan",
          "Philippines",
          "Turkey",
          "Pakistan",
          "Hong Kong",
          "Lebanon",
          "China",
          "Azerbaijan",
          "Tajikistan",
          "Jordan",
          "Kyrgyz Republic",
          "Mongolia",
          "Vietnam",
          "Indonesia",
          "Bhutan",
          "Nepal",
          "Palestine",
          "Iran",
          "Laos",
          "Bangladesh",
          "Sri Lanka",
          "Iraq",
          "Cambodia",
          "Georgia",
          "Armenia",
          "Myanmar",
          "India",
          "Afghanistan",
          "Syria",
          "Yemen"
         ],
         "legendgroup": "Asia",
         "marker": {
          "color": "#109618",
          "size": [
           8268400,
           9446000,
           23424615,
           2269672,
           30770375,
           5469700,
           30430500,
           1316500,
           30492800,
           3268431,
           64871000,
           127080000,
           50423955,
           858000,
           17377800,
           858000,
           5838064,
           100697400,
           76667864,
           188410000,
           7234800,
           4104000,
           1367110000,
           9552500,
           8161000,
           6666960,
           5776570,
           2987733,
           89708900,
           252164800,
           755030,
           27646053,
           5091819,
           77966400,
           6693300,
           157486000,
           20277597,
           36004552,
           15184116,
           4490500,
           3009800,
           53708318,
           1263930000,
           26023100,
           22964324,
           25956000
          ],
          "sizemode": "area",
          "sizeref": 379752.77777777775,
          "symbol": "circle"
         },
         "mode": "markers",
         "name": "Asia",
         "orientation": "v",
         "showlegend": true,
         "type": "scatter",
         "visible": true,
         "x": [
          1.301,
          2.096,
          1.365,
          1.649,
          1.379,
          1.529,
          1.161,
          1.338,
          0.719,
          1.474,
          1.016,
          1.294,
          1.266,
          1.229,
          1.143,
          1.229,
          1.016,
          0.775,
          1.148,
          0.652,
          1.405,
          0.965,
          0.989,
          1.024,
          0.474,
          0.822,
          0.53,
          0.914,
          0.715,
          0.899,
          0.796,
          0.425,
          0.642,
          1.059,
          0.72,
          0.532,
          0.918,
          1.01,
          0.549,
          0.853,
          0.816,
          0.682,
          0.721,
          0.332,
          0.689,
          0.442
         ],
         "xaxis": "x",
         "y": [
          6.814,
          6.774,
          6.441,
          6.374,
          6.371,
          6.343,
          6.322,
          6.105,
          6.096,
          6.083,
          6.072,
          5.915,
          5.875,
          5.835,
          5.79,
          5.762,
          5.636,
          5.524,
          5.483,
          5.472,
          5.43,
          5.358,
          5.246,
          5.201,
          5.199,
          5.161,
          5.131,
          5.125,
          5.103,
          5.093,
          5.082,
          4.88,
          4.743,
          4.707,
          4.623,
          4.5,
          4.471,
          4.456,
          4.433,
          4.34,
          4.321,
          4.308,
          4.19,
          3.632,
          3.462,
          3.355
         ],
         "yaxis": "y"
        },
        {
         "hovertemplate": "<b>%{hovertext}</b><br><br>Continent=South America<br>GDP per capita=%{x}<br>Score=%{y}<br>Population=%{marker.size}<extra></extra>",
         "hovertext": [
          "Chile",
          "Brazil",
          "Argentina",
          "Uruguay",
          "Colombia",
          "Ecuador",
          "Bolivia",
          "Paraguay",
          "Peru",
          "Venezuela"
         ],
         "legendgroup": "South America",
         "marker": {
          "color": "#990099",
          "size": [
           17819054,
           203586000,
           42669500,
           3404189,
           47907800,
           15888900,
           10027254,
           6893727,
           30814175,
           30206307
          ],
          "sizemode": "area",
          "sizeref": 379752.77777777775,
          "symbol": "circle"
         },
         "mode": "markers",
         "name": "South America",
         "orientation": "v",
         "showlegend": true,
         "type": "scatter",
         "visible": true,
         "x": [
          1.131,
          0.986,
          1.073,
          1.093,
          0.96,
          0.889,
          0.751,
          0.835,
          0.934,
          0.996
         ],
         "xaxis": "x",
         "y": [
          6.476,
          6.419,
          6.388,
          6.379,
          6.26,
          5.973,
          5.752,
          5.681,
          5.663,
          4.806
         ],
         "yaxis": "y"
        },
        {
         "hovertemplate": "<b>%{hovertext}</b><br><br>Continent=Africa<br>GDP per capita=%{x}<br>Score=%{y}<br>Population=%{marker.size}<extra></extra>",
         "hovertext": [
          "Mauritius",
          "Libya",
          "Algeria",
          "Morocco",
          "Nigeria",
          "Somalia",
          "Cameroon",
          "Gabon",
          "South Africa",
          "Cote d'Ivoire",
          "Ghana",
          "Senegal",
          "Tunisia",
          "Sierra Leone",
          "Congo Republic",
          "Mali",
          "Namibia",
          "Burkina Faso",
          "Egypt",
          "Mozambique",
          "Kenya",
          "Zambia",
          "Mauritania",
          "Ethiopia",
          "Chad",
          "DR Congo",
          "Niger",
          "Uganda",
          "Benin",
          "Sudan",
          "Togo",
          "Guinea",
          "Lesotho",
          "Angola",
          "Madagascar",
          "Zimbabwe",
          "Botswana",
          "Malawi",
          "Liberia",
          "Rwanda",
          "Tanzania",
          "South Sudan",
          "Central African Republic",
          "Burundi"
         ],
         "legendgroup": "Africa",
         "marker": {
          "color": "#0099C6",
          "size": [
           1261208,
           6253000,
           38700000,
           33465000,
           178517000,
           10806000,
           20386799,
           1711000,
           54002000,
           26378275,
           27043093,
           13508715,
           10982754,
           6205000,
           5244362,
           15768000,
           2113077,
           17322796,
           87668100,
           25041922,
           41800000,
           15023315,
           3545620,
           87952991,
           13211000,
           69360000,
           17138707,
           34856813,
           9988068,
           37289406,
           6993000,
           10628972,
           2098000,
           24383301,
           21842167,
           13061239,
           2024904,
           15805239,
           4397000,
           10996891,
           47421786,
           11384393,
           4709000,
           9530434
          ],
          "sizemode": "area",
          "sizeref": 379752.77777777775,
          "symbol": "circle"
         },
         "mode": "markers",
         "name": "Africa",
         "orientation": "v",
         "showlegend": true,
         "type": "scatter",
         "visible": true,
         "x": [
          1.09,
          0.985,
          0.979,
          0.779,
          0.689,
          0,
          0.535,
          1.036,
          0.94,
          0.541,
          0.592,
          0.429,
          0.9,
          0.256,
          0.682,
          0.37,
          0.874,
          0.314,
          0.885,
          0.198,
          0.493,
          0.562,
          0.557,
          0.308,
          0.358,
          0.069,
          0.131,
          0.322,
          0.378,
          0.605,
          0.259,
          0.344,
          0.472,
          0.73,
          0.262,
          0.357,
          1.017,
          0.186,
          0.076,
          0.332,
          0.455,
          0.337,
          0.024,
          0.091
         ],
         "xaxis": "x",
         "y": [
          5.891,
          5.566,
          5.295,
          5.254,
          5.155,
          4.982,
          4.975,
          4.758,
          4.724,
          4.671,
          4.657,
          4.631,
          4.592,
          4.571,
          4.559,
          4.447,
          4.441,
          4.424,
          4.419,
          4.417,
          4.41,
          4.377,
          4.356,
          4.35,
          4.301,
          4.245,
          4.166,
          4.161,
          4.141,
          4.139,
          3.999,
          3.964,
          3.808,
          3.795,
          3.774,
          3.692,
          3.59,
          3.587,
          3.495,
          3.408,
          3.303,
          3.254,
          3.083,
          2.905
         ],
         "yaxis": "y"
        },
        {
         "hovertemplate": "<b>%{hovertext}</b><br><br>Continent=Europe<br>Social support=%{x}<br>Score=%{y}<br>Population=%{marker.size}<extra></extra>",
         "hovertext": [
          "Finland",
          "Norway",
          "Denmark",
          "Iceland",
          "Switzerland",
          "Netherlands",
          "Sweden",
          "United Kingdom",
          "Austria",
          "Ireland",
          "Germany",
          "Belgium",
          "Luxembourg",
          "Czech Republic",
          "Malta",
          "France",
          "Spain",
          "Slovakia",
          "Poland",
          "Italy",
          "Lithuania",
          "Slovenia",
          "Romania",
          "Latvia",
          "Russia",
          "Estonia",
          "Kosovo",
          "Moldova",
          "Hungary",
          "Belarus",
          "Portugal",
          "Serbia",
          "Greece",
          "Montenegro",
          "Croatia",
          "Macedonia",
          "Bosnia and Herzegovina",
          "Bulgaria",
          "Albania",
          "Ukraine"
         ],
         "legendgroup": "Europe",
         "marker": {
          "color": "#3366CC",
          "size": [
           5470437,
           5156450,
           5655750,
           328170,
           8183800,
           16881000,
           9737521,
           64105654,
           8527230,
           6378000,
           80783000,
           11225469,
           549700,
           10521600,
           416055,
           66078000,
           46507760,
           5415949,
           38496000,
           60769102,
           2927310,
           2064966,
           19942642,
           1991800,
           146233000,
           1315819,
           1795666,
           3557600,
           9879000,
           9475100,
           10477800,
           7186862,
           10992589,
           627809,
           4267558,
           2085051,
           3791622,
           7245677,
           2895947,
           42973696
          ],
          "sizemode": "area",
          "sizeref": 379752.77777777775,
          "symbol": "circle"
         },
         "mode": "markers",
         "name": "Europe",
         "orientation": "v",
         "showlegend": true,
         "type": "scatter",
         "visible": true,
         "x": [
          1.592,
          1.582,
          1.59,
          1.644,
          1.549,
          1.488,
          1.501,
          1.433,
          1.504,
          1.583,
          1.474,
          1.483,
          1.52,
          1.489,
          1.525,
          1.466,
          1.538,
          1.537,
          1.448,
          1.501,
          1.527,
          1.506,
          1.219,
          1.454,
          1.479,
          1.532,
          1.23,
          1.301,
          1.401,
          1.498,
          1.429,
          1.369,
          1.202,
          1.279,
          1.161,
          1.239,
          1.078,
          1.515,
          0.817,
          1.413
         ],
         "xaxis": "x",
         "y": [
          7.632,
          7.594,
          7.555,
          7.495,
          7.487,
          7.441,
          7.314,
          7.19,
          7.139,
          6.977,
          6.965,
          6.927,
          6.91,
          6.711,
          6.627,
          6.489,
          6.31,
          6.173,
          6.123,
          6,
          5.952,
          5.948,
          5.945,
          5.933,
          5.81,
          5.739,
          5.662,
          5.64,
          5.62,
          5.483,
          5.41,
          5.398,
          5.358,
          5.347,
          5.321,
          5.185,
          5.129,
          4.933,
          4.586,
          4.103
         ],
         "yaxis": "y"
        },
        {
         "hovertemplate": "<b>%{hovertext}</b><br><br>Continent=North America<br>Social support=%{x}<br>Score=%{y}<br>Population=%{marker.size}<extra></extra>",
         "hovertext": [
          "Canada",
          "Costa Rica",
          "United States",
          "Mexico",
          "Panama",
          "Guatemala",
          "Trinidad and Tobago",
          "El Salvador",
          "Nicaragua",
          "Belize",
          "Jamaica",
          "Honduras",
          "Dominican Republic",
          "Haiti"
         ],
         "legendgroup": "North America",
         "marker": {
          "color": "#DC3912",
          "size": [
           35540419,
           4713168,
           319259000,
           119713203,
           3713312,
           15806675,
           1328019,
           6401240,
           6134270,
           349728,
           2717991,
           8725111,
           10378267,
           10745665
          ],
          "sizemode": "area",
          "sizeref": 379752.77777777775,
          "symbol": "circle"
         },
         "mode": "markers",
         "name": "North America",
         "orientation": "v",
         "showlegend": true,
         "type": "scatter",
         "visible": true,
         "x": [
          1.532,
          1.459,
          1.471,
          1.252,
          1.438,
          1.268,
          1.492,
          1.231,
          1.319,
          1.101,
          1.493,
          1.205,
          1.441,
          0.714
         ],
         "xaxis": "x",
         "y": [
          7.328,
          7.072,
          6.886,
          6.488,
          6.43,
          6.382,
          6.192,
          6.167,
          6.141,
          5.956,
          5.89,
          5.504,
          5.302,
          3.582
         ],
         "yaxis": "y"
        },
        {
         "hovertemplate": "<b>%{hovertext}</b><br><br>Continent=Oceania<br>Social support=%{x}<br>Score=%{y}<br>Population=%{marker.size}<extra></extra>",
         "hovertext": [
          "New Zealand",
          "Australia"
         ],
         "legendgroup": "Oceania",
         "marker": {
          "color": "#FF9900",
          "size": [
           4547900,
           23696900
          ],
          "sizemode": "area",
          "sizeref": 379752.77777777775,
          "symbol": "circle"
         },
         "mode": "markers",
         "name": "Oceania",
         "orientation": "v",
         "showlegend": true,
         "type": "scatter",
         "visible": true,
         "x": [
          1.601,
          1.573
         ],
         "xaxis": "x",
         "y": [
          7.324,
          7.272
         ],
         "yaxis": "y"
        },
        {
         "hovertemplate": "<b>%{hovertext}</b><br><br>Continent=Asia<br>Social support=%{x}<br>Score=%{y}<br>Population=%{marker.size}<extra></extra>",
         "hovertext": [
          "Israel",
          "United Arab Emirates",
          "Taiwan",
          "Qatar",
          "Saudi Arabia",
          "Singapore",
          "Malaysia",
          "Bahrain",
          "Uzbekistan",
          "Kuwait",
          "Thailand",
          "Japan",
          "South Korea",
          "Cyprus",
          "Kazakhstan",
          "Cyprus",
          "Turkmenistan",
          "Philippines",
          "Turkey",
          "Pakistan",
          "Hong Kong",
          "Lebanon",
          "China",
          "Azerbaijan",
          "Tajikistan",
          "Jordan",
          "Kyrgyz Republic",
          "Mongolia",
          "Vietnam",
          "Indonesia",
          "Bhutan",
          "Nepal",
          "Palestine",
          "Iran",
          "Laos",
          "Bangladesh",
          "Sri Lanka",
          "Iraq",
          "Cambodia",
          "Georgia",
          "Armenia",
          "Myanmar",
          "India",
          "Afghanistan",
          "Syria",
          "Yemen"
         ],
         "legendgroup": "Asia",
         "marker": {
          "color": "#109618",
          "size": [
           8268400,
           9446000,
           23424615,
           2269672,
           30770375,
           5469700,
           30430500,
           1316500,
           30492800,
           3268431,
           64871000,
           127080000,
           50423955,
           858000,
           17377800,
           858000,
           5838064,
           100697400,
           76667864,
           188410000,
           7234800,
           4104000,
           1367110000,
           9552500,
           8161000,
           6666960,
           5776570,
           2987733,
           89708900,
           252164800,
           755030,
           27646053,
           5091819,
           77966400,
           6693300,
           157486000,
           20277597,
           36004552,
           15184116,
           4490500,
           3009800,
           53708318,
           1263930000,
           26023100,
           22964324,
           25956000
          ],
          "sizemode": "area",
          "sizeref": 379752.77777777775,
          "symbol": "circle"
         },
         "mode": "markers",
         "name": "Asia",
         "orientation": "v",
         "showlegend": true,
         "type": "scatter",
         "visible": true,
         "x": [
          1.559,
          0.776,
          1.436,
          1.303,
          1.331,
          1.451,
          1.258,
          1.366,
          1.584,
          1.301,
          1.417,
          1.462,
          1.204,
          1.211,
          1.516,
          1.191,
          1.533,
          1.312,
          1.38,
          0.81,
          1.29,
          1.179,
          1.142,
          1.161,
          1.166,
          1.265,
          1.416,
          1.517,
          1.365,
          1.215,
          1.335,
          1.228,
          1.217,
          0.771,
          1.034,
          0.85,
          1.314,
          0.971,
          1.088,
          0.592,
          0.99,
          1.174,
          0.747,
          0.537,
          0.382,
          1.073
         ],
         "xaxis": "x",
         "y": [
          6.814,
          6.774,
          6.441,
          6.374,
          6.371,
          6.343,
          6.322,
          6.105,
          6.096,
          6.083,
          6.072,
          5.915,
          5.875,
          5.835,
          5.79,
          5.762,
          5.636,
          5.524,
          5.483,
          5.472,
          5.43,
          5.358,
          5.246,
          5.201,
          5.199,
          5.161,
          5.131,
          5.125,
          5.103,
          5.093,
          5.082,
          4.88,
          4.743,
          4.707,
          4.623,
          4.5,
          4.471,
          4.456,
          4.433,
          4.34,
          4.321,
          4.308,
          4.19,
          3.632,
          3.462,
          3.355
         ],
         "yaxis": "y"
        },
        {
         "hovertemplate": "<b>%{hovertext}</b><br><br>Continent=South America<br>Social support=%{x}<br>Score=%{y}<br>Population=%{marker.size}<extra></extra>",
         "hovertext": [
          "Chile",
          "Brazil",
          "Argentina",
          "Uruguay",
          "Colombia",
          "Ecuador",
          "Bolivia",
          "Paraguay",
          "Peru",
          "Venezuela"
         ],
         "legendgroup": "South America",
         "marker": {
          "color": "#990099",
          "size": [
           17819054,
           203586000,
           42669500,
           3404189,
           47907800,
           15888900,
           10027254,
           6893727,
           30814175,
           30206307
          ],
          "sizemode": "area",
          "sizeref": 379752.77777777775,
          "symbol": "circle"
         },
         "mode": "markers",
         "name": "South America",
         "orientation": "v",
         "showlegend": true,
         "type": "scatter",
         "visible": true,
         "x": [
          1.331,
          1.474,
          1.468,
          1.459,
          1.439,
          1.33,
          1.223,
          1.522,
          1.249,
          1.469
         ],
         "xaxis": "x",
         "y": [
          6.476,
          6.419,
          6.388,
          6.379,
          6.26,
          5.973,
          5.752,
          5.681,
          5.663,
          4.806
         ],
         "yaxis": "y"
        },
        {
         "hovertemplate": "<b>%{hovertext}</b><br><br>Continent=Africa<br>Social support=%{x}<br>Score=%{y}<br>Population=%{marker.size}<extra></extra>",
         "hovertext": [
          "Mauritius",
          "Libya",
          "Algeria",
          "Morocco",
          "Nigeria",
          "Somalia",
          "Cameroon",
          "Gabon",
          "South Africa",
          "Cote d'Ivoire",
          "Ghana",
          "Senegal",
          "Tunisia",
          "Sierra Leone",
          "Congo Republic",
          "Mali",
          "Namibia",
          "Burkina Faso",
          "Egypt",
          "Mozambique",
          "Kenya",
          "Zambia",
          "Mauritania",
          "Ethiopia",
          "Chad",
          "DR Congo",
          "Niger",
          "Uganda",
          "Benin",
          "Sudan",
          "Togo",
          "Guinea",
          "Lesotho",
          "Angola",
          "Madagascar",
          "Zimbabwe",
          "Botswana",
          "Malawi",
          "Liberia",
          "Rwanda",
          "Tanzania",
          "South Sudan",
          "Central African Republic",
          "Burundi"
         ],
         "legendgroup": "Africa",
         "marker": {
          "color": "#0099C6",
          "size": [
           1261208,
           6253000,
           38700000,
           33465000,
           178517000,
           10806000,
           20386799,
           1711000,
           54002000,
           26378275,
           27043093,
           13508715,
           10982754,
           6205000,
           5244362,
           15768000,
           2113077,
           17322796,
           87668100,
           25041922,
           41800000,
           15023315,
           3545620,
           87952991,
           13211000,
           69360000,
           17138707,
           34856813,
           9988068,
           37289406,
           6993000,
           10628972,
           2098000,
           24383301,
           21842167,
           13061239,
           2024904,
           15805239,
           4397000,
           10996891,
           47421786,
           11384393,
           4709000,
           9530434
          ],
          "sizemode": "area",
          "sizeref": 379752.77777777775,
          "symbol": "circle"
         },
         "mode": "markers",
         "name": "Africa",
         "orientation": "v",
         "showlegend": true,
         "type": "scatter",
         "visible": true,
         "x": [
          1.387,
          1.35,
          1.154,
          0.797,
          1.172,
          0.712,
          0.891,
          1.164,
          1.41,
          0.872,
          0.896,
          1.117,
          0.906,
          0.813,
          0.811,
          1.233,
          1.281,
          1.097,
          1.025,
          0.902,
          1.048,
          1.047,
          1.245,
          0.95,
          0.907,
          1.136,
          0.867,
          1.09,
          0.372,
          1.24,
          0.474,
          0.792,
          1.215,
          1.125,
          0.908,
          1.094,
          1.174,
          0.541,
          0.858,
          0.896,
          0.991,
          0.608,
          0,
          0.627
         ],
         "xaxis": "x",
         "y": [
          5.891,
          5.566,
          5.295,
          5.254,
          5.155,
          4.982,
          4.975,
          4.758,
          4.724,
          4.671,
          4.657,
          4.631,
          4.592,
          4.571,
          4.559,
          4.447,
          4.441,
          4.424,
          4.419,
          4.417,
          4.41,
          4.377,
          4.356,
          4.35,
          4.301,
          4.245,
          4.166,
          4.161,
          4.141,
          4.139,
          3.999,
          3.964,
          3.808,
          3.795,
          3.774,
          3.692,
          3.59,
          3.587,
          3.495,
          3.408,
          3.303,
          3.254,
          3.083,
          2.905
         ],
         "yaxis": "y"
        }
       ],
       "layout": {
        "template": {
         "data": {
          "bar": [
           {
            "error_x": {
             "color": "#2a3f5f"
            },
            "error_y": {
             "color": "#2a3f5f"
            },
            "marker": {
             "line": {
              "color": "#E5ECF6",
              "width": 0.5
             },
             "pattern": {
              "fillmode": "overlay",
              "size": 10,
              "solidity": 0.2
             }
            },
            "type": "bar"
           }
          ],
          "barpolar": [
           {
            "marker": {
             "line": {
              "color": "#E5ECF6",
              "width": 0.5
             },
             "pattern": {
              "fillmode": "overlay",
              "size": 10,
              "solidity": 0.2
             }
            },
            "type": "barpolar"
           }
          ],
          "carpet": [
           {
            "aaxis": {
             "endlinecolor": "#2a3f5f",
             "gridcolor": "white",
             "linecolor": "white",
             "minorgridcolor": "white",
             "startlinecolor": "#2a3f5f"
            },
            "baxis": {
             "endlinecolor": "#2a3f5f",
             "gridcolor": "white",
             "linecolor": "white",
             "minorgridcolor": "white",
             "startlinecolor": "#2a3f5f"
            },
            "type": "carpet"
           }
          ],
          "choropleth": [
           {
            "colorbar": {
             "outlinewidth": 0,
             "ticks": ""
            },
            "type": "choropleth"
           }
          ],
          "contour": [
           {
            "colorbar": {
             "outlinewidth": 0,
             "ticks": ""
            },
            "colorscale": [
             [
              0,
              "#0d0887"
             ],
             [
              0.1111111111111111,
              "#46039f"
             ],
             [
              0.2222222222222222,
              "#7201a8"
             ],
             [
              0.3333333333333333,
              "#9c179e"
             ],
             [
              0.4444444444444444,
              "#bd3786"
             ],
             [
              0.5555555555555556,
              "#d8576b"
             ],
             [
              0.6666666666666666,
              "#ed7953"
             ],
             [
              0.7777777777777778,
              "#fb9f3a"
             ],
             [
              0.8888888888888888,
              "#fdca26"
             ],
             [
              1,
              "#f0f921"
             ]
            ],
            "type": "contour"
           }
          ],
          "contourcarpet": [
           {
            "colorbar": {
             "outlinewidth": 0,
             "ticks": ""
            },
            "type": "contourcarpet"
           }
          ],
          "heatmap": [
           {
            "colorbar": {
             "outlinewidth": 0,
             "ticks": ""
            },
            "colorscale": [
             [
              0,
              "#0d0887"
             ],
             [
              0.1111111111111111,
              "#46039f"
             ],
             [
              0.2222222222222222,
              "#7201a8"
             ],
             [
              0.3333333333333333,
              "#9c179e"
             ],
             [
              0.4444444444444444,
              "#bd3786"
             ],
             [
              0.5555555555555556,
              "#d8576b"
             ],
             [
              0.6666666666666666,
              "#ed7953"
             ],
             [
              0.7777777777777778,
              "#fb9f3a"
             ],
             [
              0.8888888888888888,
              "#fdca26"
             ],
             [
              1,
              "#f0f921"
             ]
            ],
            "type": "heatmap"
           }
          ],
          "heatmapgl": [
           {
            "colorbar": {
             "outlinewidth": 0,
             "ticks": ""
            },
            "colorscale": [
             [
              0,
              "#0d0887"
             ],
             [
              0.1111111111111111,
              "#46039f"
             ],
             [
              0.2222222222222222,
              "#7201a8"
             ],
             [
              0.3333333333333333,
              "#9c179e"
             ],
             [
              0.4444444444444444,
              "#bd3786"
             ],
             [
              0.5555555555555556,
              "#d8576b"
             ],
             [
              0.6666666666666666,
              "#ed7953"
             ],
             [
              0.7777777777777778,
              "#fb9f3a"
             ],
             [
              0.8888888888888888,
              "#fdca26"
             ],
             [
              1,
              "#f0f921"
             ]
            ],
            "type": "heatmapgl"
           }
          ],
          "histogram": [
           {
            "marker": {
             "pattern": {
              "fillmode": "overlay",
              "size": 10,
              "solidity": 0.2
             }
            },
            "type": "histogram"
           }
          ],
          "histogram2d": [
           {
            "colorbar": {
             "outlinewidth": 0,
             "ticks": ""
            },
            "colorscale": [
             [
              0,
              "#0d0887"
             ],
             [
              0.1111111111111111,
              "#46039f"
             ],
             [
              0.2222222222222222,
              "#7201a8"
             ],
             [
              0.3333333333333333,
              "#9c179e"
             ],
             [
              0.4444444444444444,
              "#bd3786"
             ],
             [
              0.5555555555555556,
              "#d8576b"
             ],
             [
              0.6666666666666666,
              "#ed7953"
             ],
             [
              0.7777777777777778,
              "#fb9f3a"
             ],
             [
              0.8888888888888888,
              "#fdca26"
             ],
             [
              1,
              "#f0f921"
             ]
            ],
            "type": "histogram2d"
           }
          ],
          "histogram2dcontour": [
           {
            "colorbar": {
             "outlinewidth": 0,
             "ticks": ""
            },
            "colorscale": [
             [
              0,
              "#0d0887"
             ],
             [
              0.1111111111111111,
              "#46039f"
             ],
             [
              0.2222222222222222,
              "#7201a8"
             ],
             [
              0.3333333333333333,
              "#9c179e"
             ],
             [
              0.4444444444444444,
              "#bd3786"
             ],
             [
              0.5555555555555556,
              "#d8576b"
             ],
             [
              0.6666666666666666,
              "#ed7953"
             ],
             [
              0.7777777777777778,
              "#fb9f3a"
             ],
             [
              0.8888888888888888,
              "#fdca26"
             ],
             [
              1,
              "#f0f921"
             ]
            ],
            "type": "histogram2dcontour"
           }
          ],
          "mesh3d": [
           {
            "colorbar": {
             "outlinewidth": 0,
             "ticks": ""
            },
            "type": "mesh3d"
           }
          ],
          "parcoords": [
           {
            "line": {
             "colorbar": {
              "outlinewidth": 0,
              "ticks": ""
             }
            },
            "type": "parcoords"
           }
          ],
          "pie": [
           {
            "automargin": true,
            "type": "pie"
           }
          ],
          "scatter": [
           {
            "marker": {
             "colorbar": {
              "outlinewidth": 0,
              "ticks": ""
             }
            },
            "type": "scatter"
           }
          ],
          "scatter3d": [
           {
            "line": {
             "colorbar": {
              "outlinewidth": 0,
              "ticks": ""
             }
            },
            "marker": {
             "colorbar": {
              "outlinewidth": 0,
              "ticks": ""
             }
            },
            "type": "scatter3d"
           }
          ],
          "scattercarpet": [
           {
            "marker": {
             "colorbar": {
              "outlinewidth": 0,
              "ticks": ""
             }
            },
            "type": "scattercarpet"
           }
          ],
          "scattergeo": [
           {
            "marker": {
             "colorbar": {
              "outlinewidth": 0,
              "ticks": ""
             }
            },
            "type": "scattergeo"
           }
          ],
          "scattergl": [
           {
            "marker": {
             "colorbar": {
              "outlinewidth": 0,
              "ticks": ""
             }
            },
            "type": "scattergl"
           }
          ],
          "scattermapbox": [
           {
            "marker": {
             "colorbar": {
              "outlinewidth": 0,
              "ticks": ""
             }
            },
            "type": "scattermapbox"
           }
          ],
          "scatterpolar": [
           {
            "marker": {
             "colorbar": {
              "outlinewidth": 0,
              "ticks": ""
             }
            },
            "type": "scatterpolar"
           }
          ],
          "scatterpolargl": [
           {
            "marker": {
             "colorbar": {
              "outlinewidth": 0,
              "ticks": ""
             }
            },
            "type": "scatterpolargl"
           }
          ],
          "scatterternary": [
           {
            "marker": {
             "colorbar": {
              "outlinewidth": 0,
              "ticks": ""
             }
            },
            "type": "scatterternary"
           }
          ],
          "surface": [
           {
            "colorbar": {
             "outlinewidth": 0,
             "ticks": ""
            },
            "colorscale": [
             [
              0,
              "#0d0887"
             ],
             [
              0.1111111111111111,
              "#46039f"
             ],
             [
              0.2222222222222222,
              "#7201a8"
             ],
             [
              0.3333333333333333,
              "#9c179e"
             ],
             [
              0.4444444444444444,
              "#bd3786"
             ],
             [
              0.5555555555555556,
              "#d8576b"
             ],
             [
              0.6666666666666666,
              "#ed7953"
             ],
             [
              0.7777777777777778,
              "#fb9f3a"
             ],
             [
              0.8888888888888888,
              "#fdca26"
             ],
             [
              1,
              "#f0f921"
             ]
            ],
            "type": "surface"
           }
          ],
          "table": [
           {
            "cells": {
             "fill": {
              "color": "#EBF0F8"
             },
             "line": {
              "color": "white"
             }
            },
            "header": {
             "fill": {
              "color": "#C8D4E3"
             },
             "line": {
              "color": "white"
             }
            },
            "type": "table"
           }
          ]
         },
         "layout": {
          "annotationdefaults": {
           "arrowcolor": "#2a3f5f",
           "arrowhead": 0,
           "arrowwidth": 1
          },
          "autotypenumbers": "strict",
          "coloraxis": {
           "colorbar": {
            "outlinewidth": 0,
            "ticks": ""
           }
          },
          "colorscale": {
           "diverging": [
            [
             0,
             "#8e0152"
            ],
            [
             0.1,
             "#c51b7d"
            ],
            [
             0.2,
             "#de77ae"
            ],
            [
             0.3,
             "#f1b6da"
            ],
            [
             0.4,
             "#fde0ef"
            ],
            [
             0.5,
             "#f7f7f7"
            ],
            [
             0.6,
             "#e6f5d0"
            ],
            [
             0.7,
             "#b8e186"
            ],
            [
             0.8,
             "#7fbc41"
            ],
            [
             0.9,
             "#4d9221"
            ],
            [
             1,
             "#276419"
            ]
           ],
           "sequential": [
            [
             0,
             "#0d0887"
            ],
            [
             0.1111111111111111,
             "#46039f"
            ],
            [
             0.2222222222222222,
             "#7201a8"
            ],
            [
             0.3333333333333333,
             "#9c179e"
            ],
            [
             0.4444444444444444,
             "#bd3786"
            ],
            [
             0.5555555555555556,
             "#d8576b"
            ],
            [
             0.6666666666666666,
             "#ed7953"
            ],
            [
             0.7777777777777778,
             "#fb9f3a"
            ],
            [
             0.8888888888888888,
             "#fdca26"
            ],
            [
             1,
             "#f0f921"
            ]
           ],
           "sequentialminus": [
            [
             0,
             "#0d0887"
            ],
            [
             0.1111111111111111,
             "#46039f"
            ],
            [
             0.2222222222222222,
             "#7201a8"
            ],
            [
             0.3333333333333333,
             "#9c179e"
            ],
            [
             0.4444444444444444,
             "#bd3786"
            ],
            [
             0.5555555555555556,
             "#d8576b"
            ],
            [
             0.6666666666666666,
             "#ed7953"
            ],
            [
             0.7777777777777778,
             "#fb9f3a"
            ],
            [
             0.8888888888888888,
             "#fdca26"
            ],
            [
             1,
             "#f0f921"
            ]
           ]
          },
          "colorway": [
           "#636efa",
           "#EF553B",
           "#00cc96",
           "#ab63fa",
           "#FFA15A",
           "#19d3f3",
           "#FF6692",
           "#B6E880",
           "#FF97FF",
           "#FECB52"
          ],
          "font": {
           "color": "#2a3f5f"
          },
          "geo": {
           "bgcolor": "white",
           "lakecolor": "white",
           "landcolor": "#E5ECF6",
           "showlakes": true,
           "showland": true,
           "subunitcolor": "white"
          },
          "hoverlabel": {
           "align": "left"
          },
          "hovermode": "closest",
          "mapbox": {
           "style": "light"
          },
          "paper_bgcolor": "white",
          "plot_bgcolor": "#E5ECF6",
          "polar": {
           "angularaxis": {
            "gridcolor": "white",
            "linecolor": "white",
            "ticks": ""
           },
           "bgcolor": "#E5ECF6",
           "radialaxis": {
            "gridcolor": "white",
            "linecolor": "white",
            "ticks": ""
           }
          },
          "scene": {
           "xaxis": {
            "backgroundcolor": "#E5ECF6",
            "gridcolor": "white",
            "gridwidth": 2,
            "linecolor": "white",
            "showbackground": true,
            "ticks": "",
            "zerolinecolor": "white"
           },
           "yaxis": {
            "backgroundcolor": "#E5ECF6",
            "gridcolor": "white",
            "gridwidth": 2,
            "linecolor": "white",
            "showbackground": true,
            "ticks": "",
            "zerolinecolor": "white"
           },
           "zaxis": {
            "backgroundcolor": "#E5ECF6",
            "gridcolor": "white",
            "gridwidth": 2,
            "linecolor": "white",
            "showbackground": true,
            "ticks": "",
            "zerolinecolor": "white"
           }
          },
          "shapedefaults": {
           "line": {
            "color": "#2a3f5f"
           }
          },
          "ternary": {
           "aaxis": {
            "gridcolor": "white",
            "linecolor": "white",
            "ticks": ""
           },
           "baxis": {
            "gridcolor": "white",
            "linecolor": "white",
            "ticks": ""
           },
           "bgcolor": "#E5ECF6",
           "caxis": {
            "gridcolor": "white",
            "linecolor": "white",
            "ticks": ""
           }
          },
          "title": {
           "x": 0.05
          },
          "xaxis": {
           "automargin": true,
           "gridcolor": "white",
           "linecolor": "white",
           "ticks": "",
           "title": {
            "standoff": 15
           },
           "zerolinecolor": "white",
           "zerolinewidth": 2
          },
          "yaxis": {
           "automargin": true,
           "gridcolor": "white",
           "linecolor": "white",
           "ticks": "",
           "title": {
            "standoff": 15
           },
           "zerolinecolor": "white",
           "zerolinewidth": 2
          }
         }
        },
        "updatemenus": [
         {
          "buttons": [
           {
            "args": [
             {
              "visible": [
               "GDP per capita",
               "Social support"
              ]
             }
            ],
            "label": "GDP per capita",
            "method": "update"
           },
           {
            "args": [
             {
              "visible": [
               "GDP per capita",
               "Social support"
              ]
             }
            ],
            "label": "Social support",
            "method": "update"
           }
          ]
         }
        ]
       }
      },
      "text/html": [
       "<div>                            <div id=\"53d4e5d3-5530-48e5-9912-451f9e12c494\" class=\"plotly-graph-div\" style=\"height:525px; width:100%;\"></div>            <script type=\"text/javascript\">                require([\"plotly\"], function(Plotly) {                    window.PLOTLYENV=window.PLOTLYENV || {};                                    if (document.getElementById(\"53d4e5d3-5530-48e5-9912-451f9e12c494\")) {                    Plotly.newPlot(                        \"53d4e5d3-5530-48e5-9912-451f9e12c494\",                        [{\"hovertemplate\":\"<b>%{hovertext}</b><br><br>Continent=Europe<br>GDP per capita=%{x}<br>Score=%{y}<br>Population=%{marker.size}<extra></extra>\",\"hovertext\":[\"Finland\",\"Norway\",\"Denmark\",\"Iceland\",\"Switzerland\",\"Netherlands\",\"Sweden\",\"United Kingdom\",\"Austria\",\"Ireland\",\"Germany\",\"Belgium\",\"Luxembourg\",\"Czech Republic\",\"Malta\",\"France\",\"Spain\",\"Slovakia\",\"Poland\",\"Italy\",\"Lithuania\",\"Slovenia\",\"Romania\",\"Latvia\",\"Russia\",\"Estonia\",\"Kosovo\",\"Moldova\",\"Hungary\",\"Belarus\",\"Portugal\",\"Serbia\",\"Greece\",\"Montenegro\",\"Croatia\",\"Macedonia\",\"Bosnia and Herzegovina\",\"Bulgaria\",\"Albania\",\"Ukraine\"],\"legendgroup\":\"Europe\",\"marker\":{\"color\":\"#3366CC\",\"size\":[5470437.0,5156450.0,5655750.0,328170.0,8183800.0,16881000.0,9737521.0,64105654.0,8527230.0,6378000.0,80783000.0,11225469.0,549700.0,10521600.0,416055.0,66078000.0,46507760.0,5415949.0,38496000.0,60769102.0,2927310.0,2064966.0,19942642.0,1991800.0,146233000.0,1315819.0,1795666.0,3557600.0,9879000.0,9475100.0,10477800.0,7186862.0,10992589.0,627809.0,4267558.0,2085051.0,3791622.0,7245677.0,2895947.0,42973696.0],\"sizemode\":\"area\",\"sizeref\":379752.77777777775,\"symbol\":\"circle\"},\"mode\":\"markers\",\"name\":\"Europe\",\"orientation\":\"v\",\"showlegend\":true,\"type\":\"scatter\",\"visible\":true,\"x\":[1.305,1.456,1.351,1.343,1.42,1.361,1.355,1.244,1.341,1.448,1.34,1.324,1.576,1.233,1.27,1.293,1.251,1.21,1.176,1.264,1.197,1.219,1.116,1.148,1.151,1.2,0.855,0.657,1.171,1.039,1.188,0.975,1.154,1.017,1.115,0.959,0.915,1.054,0.916,0.793],\"xaxis\":\"x\",\"y\":[7.632,7.594,7.555,7.495,7.487,7.441,7.314,7.19,7.139,6.977,6.965,6.927,6.91,6.711,6.627,6.489,6.31,6.173,6.123,6.0,5.952,5.948,5.945,5.933,5.81,5.739,5.662,5.64,5.62,5.483,5.41,5.398,5.358,5.347,5.321,5.185,5.129,4.933,4.586,4.103],\"yaxis\":\"y\"},{\"hovertemplate\":\"<b>%{hovertext}</b><br><br>Continent=North America<br>GDP per capita=%{x}<br>Score=%{y}<br>Population=%{marker.size}<extra></extra>\",\"hovertext\":[\"Canada\",\"Costa Rica\",\"United States\",\"Mexico\",\"Panama\",\"Guatemala\",\"Trinidad and Tobago\",\"El Salvador\",\"Nicaragua\",\"Belize\",\"Jamaica\",\"Honduras\",\"Dominican Republic\",\"Haiti\"],\"legendgroup\":\"North America\",\"marker\":{\"color\":\"#DC3912\",\"size\":[35540419.0,4713168.0,319259000.0,119713203.0,3713312.0,15806675.0,1328019.0,6401240.0,6134270.0,349728.0,2717991.0,8725111.0,10378267.0,10745665.0],\"sizemode\":\"area\",\"sizeref\":379752.77777777775,\"symbol\":\"circle\"},\"mode\":\"markers\",\"name\":\"North America\",\"orientation\":\"v\",\"showlegend\":true,\"type\":\"scatter\",\"visible\":true,\"x\":[1.33,1.01,1.398,1.038,1.112,0.781,1.223,0.806,0.668,0.807,0.819,0.62,0.982,0.315],\"xaxis\":\"x\",\"y\":[7.328,7.072,6.886,6.488,6.43,6.382,6.192,6.167,6.141,5.956,5.89,5.504,5.302,3.582],\"yaxis\":\"y\"},{\"hovertemplate\":\"<b>%{hovertext}</b><br><br>Continent=Oceania<br>GDP per capita=%{x}<br>Score=%{y}<br>Population=%{marker.size}<extra></extra>\",\"hovertext\":[\"New Zealand\",\"Australia\"],\"legendgroup\":\"Oceania\",\"marker\":{\"color\":\"#FF9900\",\"size\":[4547900.0,23696900.0],\"sizemode\":\"area\",\"sizeref\":379752.77777777775,\"symbol\":\"circle\"},\"mode\":\"markers\",\"name\":\"Oceania\",\"orientation\":\"v\",\"showlegend\":true,\"type\":\"scatter\",\"visible\":true,\"x\":[1.268,1.34],\"xaxis\":\"x\",\"y\":[7.324,7.272],\"yaxis\":\"y\"},{\"hovertemplate\":\"<b>%{hovertext}</b><br><br>Continent=Asia<br>GDP per capita=%{x}<br>Score=%{y}<br>Population=%{marker.size}<extra></extra>\",\"hovertext\":[\"Israel\",\"United Arab Emirates\",\"Taiwan\",\"Qatar\",\"Saudi Arabia\",\"Singapore\",\"Malaysia\",\"Bahrain\",\"Uzbekistan\",\"Kuwait\",\"Thailand\",\"Japan\",\"South Korea\",\"Cyprus\",\"Kazakhstan\",\"Cyprus\",\"Turkmenistan\",\"Philippines\",\"Turkey\",\"Pakistan\",\"Hong Kong\",\"Lebanon\",\"China\",\"Azerbaijan\",\"Tajikistan\",\"Jordan\",\"Kyrgyz Republic\",\"Mongolia\",\"Vietnam\",\"Indonesia\",\"Bhutan\",\"Nepal\",\"Palestine\",\"Iran\",\"Laos\",\"Bangladesh\",\"Sri Lanka\",\"Iraq\",\"Cambodia\",\"Georgia\",\"Armenia\",\"Myanmar\",\"India\",\"Afghanistan\",\"Syria\",\"Yemen\"],\"legendgroup\":\"Asia\",\"marker\":{\"color\":\"#109618\",\"size\":[8268400.0,9446000.0,23424615.0,2269672.0,30770375.0,5469700.0,30430500.0,1316500.0,30492800.0,3268431.0,64871000.0,127080000.0,50423955.0,858000.0,17377800.0,858000.0,5838064.0,100697400.0,76667864.0,188410000.0,7234800.0,4104000.0,1367110000.0,9552500.0,8161000.0,6666960.0,5776570.0,2987733.0,89708900.0,252164800.0,755030.0,27646053.0,5091819.0,77966400.0,6693300.0,157486000.0,20277597.0,36004552.0,15184116.0,4490500.0,3009800.0,53708318.0,1263930000.0,26023100.0,22964324.0,25956000.0],\"sizemode\":\"area\",\"sizeref\":379752.77777777775,\"symbol\":\"circle\"},\"mode\":\"markers\",\"name\":\"Asia\",\"orientation\":\"v\",\"showlegend\":true,\"type\":\"scatter\",\"visible\":true,\"x\":[1.301,2.096,1.365,1.649,1.379,1.529,1.161,1.338,0.719,1.474,1.016,1.294,1.266,1.229,1.143,1.229,1.016,0.775,1.148,0.652,1.405,0.965,0.989,1.024,0.474,0.822,0.53,0.914,0.715,0.899,0.796,0.425,0.642,1.059,0.72,0.532,0.918,1.01,0.549,0.853,0.816,0.682,0.721,0.332,0.689,0.442],\"xaxis\":\"x\",\"y\":[6.814,6.774,6.441,6.374,6.371,6.343,6.322,6.105,6.096,6.083,6.072,5.915,5.875,5.835,5.79,5.762,5.636,5.524,5.483,5.472,5.43,5.358,5.246,5.201,5.199,5.161,5.131,5.125,5.103,5.093,5.082,4.88,4.743,4.707,4.623,4.5,4.471,4.456,4.433,4.34,4.321,4.308,4.19,3.632,3.462,3.355],\"yaxis\":\"y\"},{\"hovertemplate\":\"<b>%{hovertext}</b><br><br>Continent=South America<br>GDP per capita=%{x}<br>Score=%{y}<br>Population=%{marker.size}<extra></extra>\",\"hovertext\":[\"Chile\",\"Brazil\",\"Argentina\",\"Uruguay\",\"Colombia\",\"Ecuador\",\"Bolivia\",\"Paraguay\",\"Peru\",\"Venezuela\"],\"legendgroup\":\"South America\",\"marker\":{\"color\":\"#990099\",\"size\":[17819054.0,203586000.0,42669500.0,3404189.0,47907800.0,15888900.0,10027254.0,6893727.0,30814175.0,30206307.0],\"sizemode\":\"area\",\"sizeref\":379752.77777777775,\"symbol\":\"circle\"},\"mode\":\"markers\",\"name\":\"South America\",\"orientation\":\"v\",\"showlegend\":true,\"type\":\"scatter\",\"visible\":true,\"x\":[1.131,0.986,1.073,1.093,0.96,0.889,0.751,0.835,0.934,0.996],\"xaxis\":\"x\",\"y\":[6.476,6.419,6.388,6.379,6.26,5.973,5.752,5.681,5.663,4.806],\"yaxis\":\"y\"},{\"hovertemplate\":\"<b>%{hovertext}</b><br><br>Continent=Africa<br>GDP per capita=%{x}<br>Score=%{y}<br>Population=%{marker.size}<extra></extra>\",\"hovertext\":[\"Mauritius\",\"Libya\",\"Algeria\",\"Morocco\",\"Nigeria\",\"Somalia\",\"Cameroon\",\"Gabon\",\"South Africa\",\"Cote d'Ivoire\",\"Ghana\",\"Senegal\",\"Tunisia\",\"Sierra Leone\",\"Congo Republic\",\"Mali\",\"Namibia\",\"Burkina Faso\",\"Egypt\",\"Mozambique\",\"Kenya\",\"Zambia\",\"Mauritania\",\"Ethiopia\",\"Chad\",\"DR Congo\",\"Niger\",\"Uganda\",\"Benin\",\"Sudan\",\"Togo\",\"Guinea\",\"Lesotho\",\"Angola\",\"Madagascar\",\"Zimbabwe\",\"Botswana\",\"Malawi\",\"Liberia\",\"Rwanda\",\"Tanzania\",\"South Sudan\",\"Central African Republic\",\"Burundi\"],\"legendgroup\":\"Africa\",\"marker\":{\"color\":\"#0099C6\",\"size\":[1261208.0,6253000.0,38700000.0,33465000.0,178517000.0,10806000.0,20386799.0,1711000.0,54002000.0,26378275.0,27043093.0,13508715.0,10982754.0,6205000.0,5244362.0,15768000.0,2113077.0,17322796.0,87668100.0,25041922.0,41800000.0,15023315.0,3545620.0,87952991.0,13211000.0,69360000.0,17138707.0,34856813.0,9988068.0,37289406.0,6993000.0,10628972.0,2098000.0,24383301.0,21842167.0,13061239.0,2024904.0,15805239.0,4397000.0,10996891.0,47421786.0,11384393.0,4709000.0,9530434.0],\"sizemode\":\"area\",\"sizeref\":379752.77777777775,\"symbol\":\"circle\"},\"mode\":\"markers\",\"name\":\"Africa\",\"orientation\":\"v\",\"showlegend\":true,\"type\":\"scatter\",\"visible\":true,\"x\":[1.09,0.985,0.979,0.779,0.689,0.0,0.535,1.036,0.94,0.541,0.592,0.429,0.9,0.256,0.682,0.37,0.874,0.314,0.885,0.198,0.493,0.562,0.557,0.308,0.358,0.069,0.131,0.322,0.378,0.605,0.259,0.344,0.472,0.73,0.262,0.357,1.017,0.186,0.076,0.332,0.455,0.337,0.024,0.091],\"xaxis\":\"x\",\"y\":[5.891,5.566,5.295,5.254,5.155,4.982,4.975,4.758,4.724,4.671,4.657,4.631,4.592,4.571,4.559,4.447,4.441,4.424,4.419,4.417,4.41,4.377,4.356,4.35,4.301,4.245,4.166,4.161,4.141,4.139,3.999,3.964,3.808,3.795,3.774,3.692,3.59,3.587,3.495,3.408,3.303,3.254,3.083,2.905],\"yaxis\":\"y\"},{\"hovertemplate\":\"<b>%{hovertext}</b><br><br>Continent=Europe<br>Social support=%{x}<br>Score=%{y}<br>Population=%{marker.size}<extra></extra>\",\"hovertext\":[\"Finland\",\"Norway\",\"Denmark\",\"Iceland\",\"Switzerland\",\"Netherlands\",\"Sweden\",\"United Kingdom\",\"Austria\",\"Ireland\",\"Germany\",\"Belgium\",\"Luxembourg\",\"Czech Republic\",\"Malta\",\"France\",\"Spain\",\"Slovakia\",\"Poland\",\"Italy\",\"Lithuania\",\"Slovenia\",\"Romania\",\"Latvia\",\"Russia\",\"Estonia\",\"Kosovo\",\"Moldova\",\"Hungary\",\"Belarus\",\"Portugal\",\"Serbia\",\"Greece\",\"Montenegro\",\"Croatia\",\"Macedonia\",\"Bosnia and Herzegovina\",\"Bulgaria\",\"Albania\",\"Ukraine\"],\"legendgroup\":\"Europe\",\"marker\":{\"color\":\"#3366CC\",\"size\":[5470437.0,5156450.0,5655750.0,328170.0,8183800.0,16881000.0,9737521.0,64105654.0,8527230.0,6378000.0,80783000.0,11225469.0,549700.0,10521600.0,416055.0,66078000.0,46507760.0,5415949.0,38496000.0,60769102.0,2927310.0,2064966.0,19942642.0,1991800.0,146233000.0,1315819.0,1795666.0,3557600.0,9879000.0,9475100.0,10477800.0,7186862.0,10992589.0,627809.0,4267558.0,2085051.0,3791622.0,7245677.0,2895947.0,42973696.0],\"sizemode\":\"area\",\"sizeref\":379752.77777777775,\"symbol\":\"circle\"},\"mode\":\"markers\",\"name\":\"Europe\",\"orientation\":\"v\",\"showlegend\":true,\"type\":\"scatter\",\"visible\":true,\"x\":[1.592,1.582,1.59,1.644,1.549,1.488,1.501,1.433,1.504,1.583,1.474,1.483,1.52,1.489,1.525,1.466,1.538,1.537,1.448,1.501,1.527,1.506,1.219,1.454,1.479,1.532,1.23,1.301,1.401,1.498,1.429,1.369,1.202,1.279,1.161,1.239,1.078,1.515,0.817,1.413],\"xaxis\":\"x\",\"y\":[7.632,7.594,7.555,7.495,7.487,7.441,7.314,7.19,7.139,6.977,6.965,6.927,6.91,6.711,6.627,6.489,6.31,6.173,6.123,6.0,5.952,5.948,5.945,5.933,5.81,5.739,5.662,5.64,5.62,5.483,5.41,5.398,5.358,5.347,5.321,5.185,5.129,4.933,4.586,4.103],\"yaxis\":\"y\"},{\"hovertemplate\":\"<b>%{hovertext}</b><br><br>Continent=North America<br>Social support=%{x}<br>Score=%{y}<br>Population=%{marker.size}<extra></extra>\",\"hovertext\":[\"Canada\",\"Costa Rica\",\"United States\",\"Mexico\",\"Panama\",\"Guatemala\",\"Trinidad and Tobago\",\"El Salvador\",\"Nicaragua\",\"Belize\",\"Jamaica\",\"Honduras\",\"Dominican Republic\",\"Haiti\"],\"legendgroup\":\"North America\",\"marker\":{\"color\":\"#DC3912\",\"size\":[35540419.0,4713168.0,319259000.0,119713203.0,3713312.0,15806675.0,1328019.0,6401240.0,6134270.0,349728.0,2717991.0,8725111.0,10378267.0,10745665.0],\"sizemode\":\"area\",\"sizeref\":379752.77777777775,\"symbol\":\"circle\"},\"mode\":\"markers\",\"name\":\"North America\",\"orientation\":\"v\",\"showlegend\":true,\"type\":\"scatter\",\"visible\":true,\"x\":[1.532,1.459,1.471,1.252,1.438,1.268,1.492,1.231,1.319,1.101,1.493,1.205,1.441,0.714],\"xaxis\":\"x\",\"y\":[7.328,7.072,6.886,6.488,6.43,6.382,6.192,6.167,6.141,5.956,5.89,5.504,5.302,3.582],\"yaxis\":\"y\"},{\"hovertemplate\":\"<b>%{hovertext}</b><br><br>Continent=Oceania<br>Social support=%{x}<br>Score=%{y}<br>Population=%{marker.size}<extra></extra>\",\"hovertext\":[\"New Zealand\",\"Australia\"],\"legendgroup\":\"Oceania\",\"marker\":{\"color\":\"#FF9900\",\"size\":[4547900.0,23696900.0],\"sizemode\":\"area\",\"sizeref\":379752.77777777775,\"symbol\":\"circle\"},\"mode\":\"markers\",\"name\":\"Oceania\",\"orientation\":\"v\",\"showlegend\":true,\"type\":\"scatter\",\"visible\":true,\"x\":[1.601,1.573],\"xaxis\":\"x\",\"y\":[7.324,7.272],\"yaxis\":\"y\"},{\"hovertemplate\":\"<b>%{hovertext}</b><br><br>Continent=Asia<br>Social support=%{x}<br>Score=%{y}<br>Population=%{marker.size}<extra></extra>\",\"hovertext\":[\"Israel\",\"United Arab Emirates\",\"Taiwan\",\"Qatar\",\"Saudi Arabia\",\"Singapore\",\"Malaysia\",\"Bahrain\",\"Uzbekistan\",\"Kuwait\",\"Thailand\",\"Japan\",\"South Korea\",\"Cyprus\",\"Kazakhstan\",\"Cyprus\",\"Turkmenistan\",\"Philippines\",\"Turkey\",\"Pakistan\",\"Hong Kong\",\"Lebanon\",\"China\",\"Azerbaijan\",\"Tajikistan\",\"Jordan\",\"Kyrgyz Republic\",\"Mongolia\",\"Vietnam\",\"Indonesia\",\"Bhutan\",\"Nepal\",\"Palestine\",\"Iran\",\"Laos\",\"Bangladesh\",\"Sri Lanka\",\"Iraq\",\"Cambodia\",\"Georgia\",\"Armenia\",\"Myanmar\",\"India\",\"Afghanistan\",\"Syria\",\"Yemen\"],\"legendgroup\":\"Asia\",\"marker\":{\"color\":\"#109618\",\"size\":[8268400.0,9446000.0,23424615.0,2269672.0,30770375.0,5469700.0,30430500.0,1316500.0,30492800.0,3268431.0,64871000.0,127080000.0,50423955.0,858000.0,17377800.0,858000.0,5838064.0,100697400.0,76667864.0,188410000.0,7234800.0,4104000.0,1367110000.0,9552500.0,8161000.0,6666960.0,5776570.0,2987733.0,89708900.0,252164800.0,755030.0,27646053.0,5091819.0,77966400.0,6693300.0,157486000.0,20277597.0,36004552.0,15184116.0,4490500.0,3009800.0,53708318.0,1263930000.0,26023100.0,22964324.0,25956000.0],\"sizemode\":\"area\",\"sizeref\":379752.77777777775,\"symbol\":\"circle\"},\"mode\":\"markers\",\"name\":\"Asia\",\"orientation\":\"v\",\"showlegend\":true,\"type\":\"scatter\",\"visible\":true,\"x\":[1.559,0.776,1.436,1.303,1.331,1.451,1.258,1.366,1.584,1.301,1.417,1.462,1.204,1.211,1.516,1.191,1.533,1.312,1.38,0.81,1.29,1.179,1.142,1.161,1.166,1.265,1.416,1.517,1.365,1.215,1.335,1.228,1.217,0.771,1.034,0.85,1.314,0.971,1.088,0.592,0.99,1.174,0.747,0.537,0.382,1.073],\"xaxis\":\"x\",\"y\":[6.814,6.774,6.441,6.374,6.371,6.343,6.322,6.105,6.096,6.083,6.072,5.915,5.875,5.835,5.79,5.762,5.636,5.524,5.483,5.472,5.43,5.358,5.246,5.201,5.199,5.161,5.131,5.125,5.103,5.093,5.082,4.88,4.743,4.707,4.623,4.5,4.471,4.456,4.433,4.34,4.321,4.308,4.19,3.632,3.462,3.355],\"yaxis\":\"y\"},{\"hovertemplate\":\"<b>%{hovertext}</b><br><br>Continent=South America<br>Social support=%{x}<br>Score=%{y}<br>Population=%{marker.size}<extra></extra>\",\"hovertext\":[\"Chile\",\"Brazil\",\"Argentina\",\"Uruguay\",\"Colombia\",\"Ecuador\",\"Bolivia\",\"Paraguay\",\"Peru\",\"Venezuela\"],\"legendgroup\":\"South America\",\"marker\":{\"color\":\"#990099\",\"size\":[17819054.0,203586000.0,42669500.0,3404189.0,47907800.0,15888900.0,10027254.0,6893727.0,30814175.0,30206307.0],\"sizemode\":\"area\",\"sizeref\":379752.77777777775,\"symbol\":\"circle\"},\"mode\":\"markers\",\"name\":\"South America\",\"orientation\":\"v\",\"showlegend\":true,\"type\":\"scatter\",\"visible\":true,\"x\":[1.331,1.474,1.468,1.459,1.439,1.33,1.223,1.522,1.249,1.469],\"xaxis\":\"x\",\"y\":[6.476,6.419,6.388,6.379,6.26,5.973,5.752,5.681,5.663,4.806],\"yaxis\":\"y\"},{\"hovertemplate\":\"<b>%{hovertext}</b><br><br>Continent=Africa<br>Social support=%{x}<br>Score=%{y}<br>Population=%{marker.size}<extra></extra>\",\"hovertext\":[\"Mauritius\",\"Libya\",\"Algeria\",\"Morocco\",\"Nigeria\",\"Somalia\",\"Cameroon\",\"Gabon\",\"South Africa\",\"Cote d'Ivoire\",\"Ghana\",\"Senegal\",\"Tunisia\",\"Sierra Leone\",\"Congo Republic\",\"Mali\",\"Namibia\",\"Burkina Faso\",\"Egypt\",\"Mozambique\",\"Kenya\",\"Zambia\",\"Mauritania\",\"Ethiopia\",\"Chad\",\"DR Congo\",\"Niger\",\"Uganda\",\"Benin\",\"Sudan\",\"Togo\",\"Guinea\",\"Lesotho\",\"Angola\",\"Madagascar\",\"Zimbabwe\",\"Botswana\",\"Malawi\",\"Liberia\",\"Rwanda\",\"Tanzania\",\"South Sudan\",\"Central African Republic\",\"Burundi\"],\"legendgroup\":\"Africa\",\"marker\":{\"color\":\"#0099C6\",\"size\":[1261208.0,6253000.0,38700000.0,33465000.0,178517000.0,10806000.0,20386799.0,1711000.0,54002000.0,26378275.0,27043093.0,13508715.0,10982754.0,6205000.0,5244362.0,15768000.0,2113077.0,17322796.0,87668100.0,25041922.0,41800000.0,15023315.0,3545620.0,87952991.0,13211000.0,69360000.0,17138707.0,34856813.0,9988068.0,37289406.0,6993000.0,10628972.0,2098000.0,24383301.0,21842167.0,13061239.0,2024904.0,15805239.0,4397000.0,10996891.0,47421786.0,11384393.0,4709000.0,9530434.0],\"sizemode\":\"area\",\"sizeref\":379752.77777777775,\"symbol\":\"circle\"},\"mode\":\"markers\",\"name\":\"Africa\",\"orientation\":\"v\",\"showlegend\":true,\"type\":\"scatter\",\"visible\":true,\"x\":[1.387,1.35,1.154,0.797,1.172,0.712,0.891,1.164,1.41,0.872,0.896,1.117,0.906,0.813,0.811,1.233,1.281,1.097,1.025,0.902,1.048,1.047,1.245,0.95,0.907,1.136,0.867,1.09,0.372,1.24,0.474,0.792,1.215,1.125,0.908,1.094,1.174,0.541,0.858,0.896,0.991,0.608,0.0,0.627],\"xaxis\":\"x\",\"y\":[5.891,5.566,5.295,5.254,5.155,4.982,4.975,4.758,4.724,4.671,4.657,4.631,4.592,4.571,4.559,4.447,4.441,4.424,4.419,4.417,4.41,4.377,4.356,4.35,4.301,4.245,4.166,4.161,4.141,4.139,3.999,3.964,3.808,3.795,3.774,3.692,3.59,3.587,3.495,3.408,3.303,3.254,3.083,2.905],\"yaxis\":\"y\"}],                        {\"template\":{\"data\":{\"bar\":[{\"error_x\":{\"color\":\"#2a3f5f\"},\"error_y\":{\"color\":\"#2a3f5f\"},\"marker\":{\"line\":{\"color\":\"#E5ECF6\",\"width\":0.5},\"pattern\":{\"fillmode\":\"overlay\",\"size\":10,\"solidity\":0.2}},\"type\":\"bar\"}],\"barpolar\":[{\"marker\":{\"line\":{\"color\":\"#E5ECF6\",\"width\":0.5},\"pattern\":{\"fillmode\":\"overlay\",\"size\":10,\"solidity\":0.2}},\"type\":\"barpolar\"}],\"carpet\":[{\"aaxis\":{\"endlinecolor\":\"#2a3f5f\",\"gridcolor\":\"white\",\"linecolor\":\"white\",\"minorgridcolor\":\"white\",\"startlinecolor\":\"#2a3f5f\"},\"baxis\":{\"endlinecolor\":\"#2a3f5f\",\"gridcolor\":\"white\",\"linecolor\":\"white\",\"minorgridcolor\":\"white\",\"startlinecolor\":\"#2a3f5f\"},\"type\":\"carpet\"}],\"choropleth\":[{\"colorbar\":{\"outlinewidth\":0,\"ticks\":\"\"},\"type\":\"choropleth\"}],\"contour\":[{\"colorbar\":{\"outlinewidth\":0,\"ticks\":\"\"},\"colorscale\":[[0.0,\"#0d0887\"],[0.1111111111111111,\"#46039f\"],[0.2222222222222222,\"#7201a8\"],[0.3333333333333333,\"#9c179e\"],[0.4444444444444444,\"#bd3786\"],[0.5555555555555556,\"#d8576b\"],[0.6666666666666666,\"#ed7953\"],[0.7777777777777778,\"#fb9f3a\"],[0.8888888888888888,\"#fdca26\"],[1.0,\"#f0f921\"]],\"type\":\"contour\"}],\"contourcarpet\":[{\"colorbar\":{\"outlinewidth\":0,\"ticks\":\"\"},\"type\":\"contourcarpet\"}],\"heatmap\":[{\"colorbar\":{\"outlinewidth\":0,\"ticks\":\"\"},\"colorscale\":[[0.0,\"#0d0887\"],[0.1111111111111111,\"#46039f\"],[0.2222222222222222,\"#7201a8\"],[0.3333333333333333,\"#9c179e\"],[0.4444444444444444,\"#bd3786\"],[0.5555555555555556,\"#d8576b\"],[0.6666666666666666,\"#ed7953\"],[0.7777777777777778,\"#fb9f3a\"],[0.8888888888888888,\"#fdca26\"],[1.0,\"#f0f921\"]],\"type\":\"heatmap\"}],\"heatmapgl\":[{\"colorbar\":{\"outlinewidth\":0,\"ticks\":\"\"},\"colorscale\":[[0.0,\"#0d0887\"],[0.1111111111111111,\"#46039f\"],[0.2222222222222222,\"#7201a8\"],[0.3333333333333333,\"#9c179e\"],[0.4444444444444444,\"#bd3786\"],[0.5555555555555556,\"#d8576b\"],[0.6666666666666666,\"#ed7953\"],[0.7777777777777778,\"#fb9f3a\"],[0.8888888888888888,\"#fdca26\"],[1.0,\"#f0f921\"]],\"type\":\"heatmapgl\"}],\"histogram\":[{\"marker\":{\"pattern\":{\"fillmode\":\"overlay\",\"size\":10,\"solidity\":0.2}},\"type\":\"histogram\"}],\"histogram2d\":[{\"colorbar\":{\"outlinewidth\":0,\"ticks\":\"\"},\"colorscale\":[[0.0,\"#0d0887\"],[0.1111111111111111,\"#46039f\"],[0.2222222222222222,\"#7201a8\"],[0.3333333333333333,\"#9c179e\"],[0.4444444444444444,\"#bd3786\"],[0.5555555555555556,\"#d8576b\"],[0.6666666666666666,\"#ed7953\"],[0.7777777777777778,\"#fb9f3a\"],[0.8888888888888888,\"#fdca26\"],[1.0,\"#f0f921\"]],\"type\":\"histogram2d\"}],\"histogram2dcontour\":[{\"colorbar\":{\"outlinewidth\":0,\"ticks\":\"\"},\"colorscale\":[[0.0,\"#0d0887\"],[0.1111111111111111,\"#46039f\"],[0.2222222222222222,\"#7201a8\"],[0.3333333333333333,\"#9c179e\"],[0.4444444444444444,\"#bd3786\"],[0.5555555555555556,\"#d8576b\"],[0.6666666666666666,\"#ed7953\"],[0.7777777777777778,\"#fb9f3a\"],[0.8888888888888888,\"#fdca26\"],[1.0,\"#f0f921\"]],\"type\":\"histogram2dcontour\"}],\"mesh3d\":[{\"colorbar\":{\"outlinewidth\":0,\"ticks\":\"\"},\"type\":\"mesh3d\"}],\"parcoords\":[{\"line\":{\"colorbar\":{\"outlinewidth\":0,\"ticks\":\"\"}},\"type\":\"parcoords\"}],\"pie\":[{\"automargin\":true,\"type\":\"pie\"}],\"scatter\":[{\"marker\":{\"colorbar\":{\"outlinewidth\":0,\"ticks\":\"\"}},\"type\":\"scatter\"}],\"scatter3d\":[{\"line\":{\"colorbar\":{\"outlinewidth\":0,\"ticks\":\"\"}},\"marker\":{\"colorbar\":{\"outlinewidth\":0,\"ticks\":\"\"}},\"type\":\"scatter3d\"}],\"scattercarpet\":[{\"marker\":{\"colorbar\":{\"outlinewidth\":0,\"ticks\":\"\"}},\"type\":\"scattercarpet\"}],\"scattergeo\":[{\"marker\":{\"colorbar\":{\"outlinewidth\":0,\"ticks\":\"\"}},\"type\":\"scattergeo\"}],\"scattergl\":[{\"marker\":{\"colorbar\":{\"outlinewidth\":0,\"ticks\":\"\"}},\"type\":\"scattergl\"}],\"scattermapbox\":[{\"marker\":{\"colorbar\":{\"outlinewidth\":0,\"ticks\":\"\"}},\"type\":\"scattermapbox\"}],\"scatterpolar\":[{\"marker\":{\"colorbar\":{\"outlinewidth\":0,\"ticks\":\"\"}},\"type\":\"scatterpolar\"}],\"scatterpolargl\":[{\"marker\":{\"colorbar\":{\"outlinewidth\":0,\"ticks\":\"\"}},\"type\":\"scatterpolargl\"}],\"scatterternary\":[{\"marker\":{\"colorbar\":{\"outlinewidth\":0,\"ticks\":\"\"}},\"type\":\"scatterternary\"}],\"surface\":[{\"colorbar\":{\"outlinewidth\":0,\"ticks\":\"\"},\"colorscale\":[[0.0,\"#0d0887\"],[0.1111111111111111,\"#46039f\"],[0.2222222222222222,\"#7201a8\"],[0.3333333333333333,\"#9c179e\"],[0.4444444444444444,\"#bd3786\"],[0.5555555555555556,\"#d8576b\"],[0.6666666666666666,\"#ed7953\"],[0.7777777777777778,\"#fb9f3a\"],[0.8888888888888888,\"#fdca26\"],[1.0,\"#f0f921\"]],\"type\":\"surface\"}],\"table\":[{\"cells\":{\"fill\":{\"color\":\"#EBF0F8\"},\"line\":{\"color\":\"white\"}},\"header\":{\"fill\":{\"color\":\"#C8D4E3\"},\"line\":{\"color\":\"white\"}},\"type\":\"table\"}]},\"layout\":{\"annotationdefaults\":{\"arrowcolor\":\"#2a3f5f\",\"arrowhead\":0,\"arrowwidth\":1},\"autotypenumbers\":\"strict\",\"coloraxis\":{\"colorbar\":{\"outlinewidth\":0,\"ticks\":\"\"}},\"colorscale\":{\"diverging\":[[0,\"#8e0152\"],[0.1,\"#c51b7d\"],[0.2,\"#de77ae\"],[0.3,\"#f1b6da\"],[0.4,\"#fde0ef\"],[0.5,\"#f7f7f7\"],[0.6,\"#e6f5d0\"],[0.7,\"#b8e186\"],[0.8,\"#7fbc41\"],[0.9,\"#4d9221\"],[1,\"#276419\"]],\"sequential\":[[0.0,\"#0d0887\"],[0.1111111111111111,\"#46039f\"],[0.2222222222222222,\"#7201a8\"],[0.3333333333333333,\"#9c179e\"],[0.4444444444444444,\"#bd3786\"],[0.5555555555555556,\"#d8576b\"],[0.6666666666666666,\"#ed7953\"],[0.7777777777777778,\"#fb9f3a\"],[0.8888888888888888,\"#fdca26\"],[1.0,\"#f0f921\"]],\"sequentialminus\":[[0.0,\"#0d0887\"],[0.1111111111111111,\"#46039f\"],[0.2222222222222222,\"#7201a8\"],[0.3333333333333333,\"#9c179e\"],[0.4444444444444444,\"#bd3786\"],[0.5555555555555556,\"#d8576b\"],[0.6666666666666666,\"#ed7953\"],[0.7777777777777778,\"#fb9f3a\"],[0.8888888888888888,\"#fdca26\"],[1.0,\"#f0f921\"]]},\"colorway\":[\"#636efa\",\"#EF553B\",\"#00cc96\",\"#ab63fa\",\"#FFA15A\",\"#19d3f3\",\"#FF6692\",\"#B6E880\",\"#FF97FF\",\"#FECB52\"],\"font\":{\"color\":\"#2a3f5f\"},\"geo\":{\"bgcolor\":\"white\",\"lakecolor\":\"white\",\"landcolor\":\"#E5ECF6\",\"showlakes\":true,\"showland\":true,\"subunitcolor\":\"white\"},\"hoverlabel\":{\"align\":\"left\"},\"hovermode\":\"closest\",\"mapbox\":{\"style\":\"light\"},\"paper_bgcolor\":\"white\",\"plot_bgcolor\":\"#E5ECF6\",\"polar\":{\"angularaxis\":{\"gridcolor\":\"white\",\"linecolor\":\"white\",\"ticks\":\"\"},\"bgcolor\":\"#E5ECF6\",\"radialaxis\":{\"gridcolor\":\"white\",\"linecolor\":\"white\",\"ticks\":\"\"}},\"scene\":{\"xaxis\":{\"backgroundcolor\":\"#E5ECF6\",\"gridcolor\":\"white\",\"gridwidth\":2,\"linecolor\":\"white\",\"showbackground\":true,\"ticks\":\"\",\"zerolinecolor\":\"white\"},\"yaxis\":{\"backgroundcolor\":\"#E5ECF6\",\"gridcolor\":\"white\",\"gridwidth\":2,\"linecolor\":\"white\",\"showbackground\":true,\"ticks\":\"\",\"zerolinecolor\":\"white\"},\"zaxis\":{\"backgroundcolor\":\"#E5ECF6\",\"gridcolor\":\"white\",\"gridwidth\":2,\"linecolor\":\"white\",\"showbackground\":true,\"ticks\":\"\",\"zerolinecolor\":\"white\"}},\"shapedefaults\":{\"line\":{\"color\":\"#2a3f5f\"}},\"ternary\":{\"aaxis\":{\"gridcolor\":\"white\",\"linecolor\":\"white\",\"ticks\":\"\"},\"baxis\":{\"gridcolor\":\"white\",\"linecolor\":\"white\",\"ticks\":\"\"},\"bgcolor\":\"#E5ECF6\",\"caxis\":{\"gridcolor\":\"white\",\"linecolor\":\"white\",\"ticks\":\"\"}},\"title\":{\"x\":0.05},\"xaxis\":{\"automargin\":true,\"gridcolor\":\"white\",\"linecolor\":\"white\",\"ticks\":\"\",\"title\":{\"standoff\":15},\"zerolinecolor\":\"white\",\"zerolinewidth\":2},\"yaxis\":{\"automargin\":true,\"gridcolor\":\"white\",\"linecolor\":\"white\",\"ticks\":\"\",\"title\":{\"standoff\":15},\"zerolinecolor\":\"white\",\"zerolinewidth\":2}}},\"updatemenus\":[{\"buttons\":[{\"args\":[{\"visible\":[\"GDP per capita\",\"Social support\"]}],\"label\":\"GDP per capita\",\"method\":\"update\"},{\"args\":[{\"visible\":[\"GDP per capita\",\"Social support\"]}],\"label\":\"Social support\",\"method\":\"update\"}]}]},                        {\"responsive\": true}                    ).then(function(){\n",
       "                            \n",
       "var gd = document.getElementById('53d4e5d3-5530-48e5-9912-451f9e12c494');\n",
       "var x = new MutationObserver(function (mutations, observer) {{\n",
       "        var display = window.getComputedStyle(gd).display;\n",
       "        if (!display || display === 'none') {{\n",
       "            console.log([gd, 'removed!']);\n",
       "            Plotly.purge(gd);\n",
       "            observer.disconnect();\n",
       "        }}\n",
       "}});\n",
       "\n",
       "// Listen for the removal of the full notebook cells\n",
       "var notebookContainer = gd.closest('#notebook-container');\n",
       "if (notebookContainer) {{\n",
       "    x.observe(notebookContainer, {childList: true});\n",
       "}}\n",
       "\n",
       "// Listen for the clearing of the current output cell\n",
       "var outputEl = gd.closest('.output');\n",
       "if (outputEl) {{\n",
       "    x.observe(outputEl, {childList: true});\n",
       "}}\n",
       "\n",
       "                        })                };                });            </script>        </div>"
      ]
     },
     "metadata": {},
     "output_type": "display_data"
    }
   ],
   "source": [
    "import pandas as pd\n",
    "import plotly.express as px\n",
    "import plotly.graph_objects as go\n",
    "\n",
    "df = pd.read_csv(\"https://media.githubusercontent.com/media/ajgallard/happiness_report/main/data/2018_eng.csv\")\n",
    "\n",
    "cols = df.columns[3:5].values.tolist() # \"GDP per Capita\" & \"Social Support\"\n",
    "\n",
    "fig = go.Figure()\n",
    "for col in cols:\n",
    "    figpx = px.scatter(df,\n",
    "                       x=col,\n",
    "                       y=\"Score\",\n",
    "                       size=\"Population\",\n",
    "                       color=\"Continent\",\n",
    "                       hover_name=\"Country/Region\",\n",
    "                       size_max=60,\n",
    "                       color_discrete_sequence=px.colors.qualitative.G10).update_traces(visible=False)\n",
    "    \n",
    "    fig.add_traces(figpx.data)\n",
    "\n",
    "fig.update_layout(\n",
    "    updatemenus=[\n",
    "        {\n",
    "            \"buttons\": \n",
    "            [\n",
    "                {\n",
    "                    \"label\": f\"{k}\",\n",
    "                    \"method\": \"update\",\n",
    "                    \"args\": \n",
    "                    [\n",
    "                        {\"visible\": [k for k in cols]},\n",
    "                    ],\n",
    "                }\n",
    "                for k in cols\n",
    "            ]\n",
    "        }\n",
    "    ]\n",
    ").update_traces(visible=True, selector=0)\n",
    "\n",
    "fig.show()"
   ]
  },
  {
   "cell_type": "markdown",
   "id": "d52f2306",
   "metadata": {},
   "source": [
    "https://stackoverflow.com/questions/61898599/plotly-how-to-update-figure-with-multiple-dependent-traces-using-updatemenus"
   ]
  },
  {
   "cell_type": "code",
   "execution_count": 58,
   "id": "d99cbcfb",
   "metadata": {},
   "outputs": [
    {
     "data": {
      "application/vnd.plotly.v1+json": {
       "config": {
        "plotlyServerURL": "https://plot.ly"
       },
       "data": [
        {
         "hovertemplate": "<b>%{hovertext}</b><br><br>Continent=Europe<br>GDP per capita=%{x}<br>Score=%{y}<br>Population=%{marker.size}<extra></extra>",
         "hovertext": [
          "Finland",
          "Norway",
          "Denmark",
          "Iceland",
          "Switzerland",
          "Netherlands",
          "Sweden",
          "United Kingdom",
          "Austria",
          "Ireland",
          "Germany",
          "Belgium",
          "Luxembourg",
          "Czech Republic",
          "Malta",
          "France",
          "Spain",
          "Slovakia",
          "Poland",
          "Italy",
          "Lithuania",
          "Slovenia",
          "Romania",
          "Latvia",
          "Russia",
          "Estonia",
          "Kosovo",
          "Moldova",
          "Hungary",
          "Belarus",
          "Portugal",
          "Serbia",
          "Greece",
          "Montenegro",
          "Croatia",
          "Macedonia",
          "Bosnia and Herzegovina",
          "Bulgaria",
          "Albania",
          "Ukraine"
         ],
         "legendgroup": "Europe",
         "marker": {
          "color": "#3366CC",
          "size": [
           5470437,
           5156450,
           5655750,
           328170,
           8183800,
           16881000,
           9737521,
           64105654,
           8527230,
           6378000,
           80783000,
           11225469,
           549700,
           10521600,
           416055,
           66078000,
           46507760,
           5415949,
           38496000,
           60769102,
           2927310,
           2064966,
           19942642,
           1991800,
           146233000,
           1315819,
           1795666,
           3557600,
           9879000,
           9475100,
           10477800,
           7186862,
           10992589,
           627809,
           4267558,
           2085051,
           3791622,
           7245677,
           2895947,
           42973696
          ],
          "sizemode": "area",
          "sizeref": 379752.77777777775,
          "symbol": "circle"
         },
         "mode": "markers",
         "name": "Europe",
         "orientation": "v",
         "showlegend": true,
         "type": "scatter",
         "x": [
          1.305,
          1.456,
          1.351,
          1.343,
          1.42,
          1.361,
          1.355,
          1.244,
          1.341,
          1.448,
          1.34,
          1.324,
          1.576,
          1.233,
          1.27,
          1.293,
          1.251,
          1.21,
          1.176,
          1.264,
          1.197,
          1.219,
          1.116,
          1.148,
          1.151,
          1.2,
          0.855,
          0.657,
          1.171,
          1.039,
          1.188,
          0.975,
          1.154,
          1.017,
          1.115,
          0.959,
          0.915,
          1.054,
          0.916,
          0.793
         ],
         "xaxis": "x",
         "y": [
          7.632,
          7.594,
          7.555,
          7.495,
          7.487,
          7.441,
          7.314,
          7.19,
          7.139,
          6.977,
          6.965,
          6.927,
          6.91,
          6.711,
          6.627,
          6.489,
          6.31,
          6.173,
          6.123,
          6,
          5.952,
          5.948,
          5.945,
          5.933,
          5.81,
          5.739,
          5.662,
          5.64,
          5.62,
          5.483,
          5.41,
          5.398,
          5.358,
          5.347,
          5.321,
          5.185,
          5.129,
          4.933,
          4.586,
          4.103
         ],
         "yaxis": "y"
        },
        {
         "hovertemplate": "<b>%{hovertext}</b><br><br>Continent=North America<br>GDP per capita=%{x}<br>Score=%{y}<br>Population=%{marker.size}<extra></extra>",
         "hovertext": [
          "Canada",
          "Costa Rica",
          "United States",
          "Mexico",
          "Panama",
          "Guatemala",
          "Trinidad and Tobago",
          "El Salvador",
          "Nicaragua",
          "Belize",
          "Jamaica",
          "Honduras",
          "Dominican Republic",
          "Haiti"
         ],
         "legendgroup": "North America",
         "marker": {
          "color": "#DC3912",
          "size": [
           35540419,
           4713168,
           319259000,
           119713203,
           3713312,
           15806675,
           1328019,
           6401240,
           6134270,
           349728,
           2717991,
           8725111,
           10378267,
           10745665
          ],
          "sizemode": "area",
          "sizeref": 379752.77777777775,
          "symbol": "circle"
         },
         "mode": "markers",
         "name": "North America",
         "orientation": "v",
         "showlegend": true,
         "type": "scatter",
         "x": [
          1.33,
          1.01,
          1.398,
          1.038,
          1.112,
          0.781,
          1.223,
          0.806,
          0.668,
          0.807,
          0.819,
          0.62,
          0.982,
          0.315
         ],
         "xaxis": "x",
         "y": [
          7.328,
          7.072,
          6.886,
          6.488,
          6.43,
          6.382,
          6.192,
          6.167,
          6.141,
          5.956,
          5.89,
          5.504,
          5.302,
          3.582
         ],
         "yaxis": "y"
        },
        {
         "hovertemplate": "<b>%{hovertext}</b><br><br>Continent=Oceania<br>GDP per capita=%{x}<br>Score=%{y}<br>Population=%{marker.size}<extra></extra>",
         "hovertext": [
          "New Zealand",
          "Australia"
         ],
         "legendgroup": "Oceania",
         "marker": {
          "color": "#FF9900",
          "size": [
           4547900,
           23696900
          ],
          "sizemode": "area",
          "sizeref": 379752.77777777775,
          "symbol": "circle"
         },
         "mode": "markers",
         "name": "Oceania",
         "orientation": "v",
         "showlegend": true,
         "type": "scatter",
         "x": [
          1.268,
          1.34
         ],
         "xaxis": "x",
         "y": [
          7.324,
          7.272
         ],
         "yaxis": "y"
        },
        {
         "hovertemplate": "<b>%{hovertext}</b><br><br>Continent=Asia<br>GDP per capita=%{x}<br>Score=%{y}<br>Population=%{marker.size}<extra></extra>",
         "hovertext": [
          "Israel",
          "United Arab Emirates",
          "Taiwan",
          "Qatar",
          "Saudi Arabia",
          "Singapore",
          "Malaysia",
          "Bahrain",
          "Uzbekistan",
          "Kuwait",
          "Thailand",
          "Japan",
          "South Korea",
          "Cyprus",
          "Kazakhstan",
          "Cyprus",
          "Turkmenistan",
          "Philippines",
          "Turkey",
          "Pakistan",
          "Hong Kong",
          "Lebanon",
          "China",
          "Azerbaijan",
          "Tajikistan",
          "Jordan",
          "Kyrgyz Republic",
          "Mongolia",
          "Vietnam",
          "Indonesia",
          "Bhutan",
          "Nepal",
          "Palestine",
          "Iran",
          "Laos",
          "Bangladesh",
          "Sri Lanka",
          "Iraq",
          "Cambodia",
          "Georgia",
          "Armenia",
          "Myanmar",
          "India",
          "Afghanistan",
          "Syria",
          "Yemen"
         ],
         "legendgroup": "Asia",
         "marker": {
          "color": "#109618",
          "size": [
           8268400,
           9446000,
           23424615,
           2269672,
           30770375,
           5469700,
           30430500,
           1316500,
           30492800,
           3268431,
           64871000,
           127080000,
           50423955,
           858000,
           17377800,
           858000,
           5838064,
           100697400,
           76667864,
           188410000,
           7234800,
           4104000,
           1367110000,
           9552500,
           8161000,
           6666960,
           5776570,
           2987733,
           89708900,
           252164800,
           755030,
           27646053,
           5091819,
           77966400,
           6693300,
           157486000,
           20277597,
           36004552,
           15184116,
           4490500,
           3009800,
           53708318,
           1263930000,
           26023100,
           22964324,
           25956000
          ],
          "sizemode": "area",
          "sizeref": 379752.77777777775,
          "symbol": "circle"
         },
         "mode": "markers",
         "name": "Asia",
         "orientation": "v",
         "showlegend": true,
         "type": "scatter",
         "x": [
          1.301,
          2.096,
          1.365,
          1.649,
          1.379,
          1.529,
          1.161,
          1.338,
          0.719,
          1.474,
          1.016,
          1.294,
          1.266,
          1.229,
          1.143,
          1.229,
          1.016,
          0.775,
          1.148,
          0.652,
          1.405,
          0.965,
          0.989,
          1.024,
          0.474,
          0.822,
          0.53,
          0.914,
          0.715,
          0.899,
          0.796,
          0.425,
          0.642,
          1.059,
          0.72,
          0.532,
          0.918,
          1.01,
          0.549,
          0.853,
          0.816,
          0.682,
          0.721,
          0.332,
          0.689,
          0.442
         ],
         "xaxis": "x",
         "y": [
          6.814,
          6.774,
          6.441,
          6.374,
          6.371,
          6.343,
          6.322,
          6.105,
          6.096,
          6.083,
          6.072,
          5.915,
          5.875,
          5.835,
          5.79,
          5.762,
          5.636,
          5.524,
          5.483,
          5.472,
          5.43,
          5.358,
          5.246,
          5.201,
          5.199,
          5.161,
          5.131,
          5.125,
          5.103,
          5.093,
          5.082,
          4.88,
          4.743,
          4.707,
          4.623,
          4.5,
          4.471,
          4.456,
          4.433,
          4.34,
          4.321,
          4.308,
          4.19,
          3.632,
          3.462,
          3.355
         ],
         "yaxis": "y"
        },
        {
         "hovertemplate": "<b>%{hovertext}</b><br><br>Continent=South America<br>GDP per capita=%{x}<br>Score=%{y}<br>Population=%{marker.size}<extra></extra>",
         "hovertext": [
          "Chile",
          "Brazil",
          "Argentina",
          "Uruguay",
          "Colombia",
          "Ecuador",
          "Bolivia",
          "Paraguay",
          "Peru",
          "Venezuela"
         ],
         "legendgroup": "South America",
         "marker": {
          "color": "#990099",
          "size": [
           17819054,
           203586000,
           42669500,
           3404189,
           47907800,
           15888900,
           10027254,
           6893727,
           30814175,
           30206307
          ],
          "sizemode": "area",
          "sizeref": 379752.77777777775,
          "symbol": "circle"
         },
         "mode": "markers",
         "name": "South America",
         "orientation": "v",
         "showlegend": true,
         "type": "scatter",
         "x": [
          1.131,
          0.986,
          1.073,
          1.093,
          0.96,
          0.889,
          0.751,
          0.835,
          0.934,
          0.996
         ],
         "xaxis": "x",
         "y": [
          6.476,
          6.419,
          6.388,
          6.379,
          6.26,
          5.973,
          5.752,
          5.681,
          5.663,
          4.806
         ],
         "yaxis": "y"
        },
        {
         "hovertemplate": "<b>%{hovertext}</b><br><br>Continent=Africa<br>GDP per capita=%{x}<br>Score=%{y}<br>Population=%{marker.size}<extra></extra>",
         "hovertext": [
          "Mauritius",
          "Libya",
          "Algeria",
          "Morocco",
          "Nigeria",
          "Somalia",
          "Cameroon",
          "Gabon",
          "South Africa",
          "Cote d'Ivoire",
          "Ghana",
          "Senegal",
          "Tunisia",
          "Sierra Leone",
          "Congo Republic",
          "Mali",
          "Namibia",
          "Burkina Faso",
          "Egypt",
          "Mozambique",
          "Kenya",
          "Zambia",
          "Mauritania",
          "Ethiopia",
          "Chad",
          "DR Congo",
          "Niger",
          "Uganda",
          "Benin",
          "Sudan",
          "Togo",
          "Guinea",
          "Lesotho",
          "Angola",
          "Madagascar",
          "Zimbabwe",
          "Botswana",
          "Malawi",
          "Liberia",
          "Rwanda",
          "Tanzania",
          "South Sudan",
          "Central African Republic",
          "Burundi"
         ],
         "legendgroup": "Africa",
         "marker": {
          "color": "#0099C6",
          "size": [
           1261208,
           6253000,
           38700000,
           33465000,
           178517000,
           10806000,
           20386799,
           1711000,
           54002000,
           26378275,
           27043093,
           13508715,
           10982754,
           6205000,
           5244362,
           15768000,
           2113077,
           17322796,
           87668100,
           25041922,
           41800000,
           15023315,
           3545620,
           87952991,
           13211000,
           69360000,
           17138707,
           34856813,
           9988068,
           37289406,
           6993000,
           10628972,
           2098000,
           24383301,
           21842167,
           13061239,
           2024904,
           15805239,
           4397000,
           10996891,
           47421786,
           11384393,
           4709000,
           9530434
          ],
          "sizemode": "area",
          "sizeref": 379752.77777777775,
          "symbol": "circle"
         },
         "mode": "markers",
         "name": "Africa",
         "orientation": "v",
         "showlegend": true,
         "type": "scatter",
         "x": [
          1.09,
          0.985,
          0.979,
          0.779,
          0.689,
          0,
          0.535,
          1.036,
          0.94,
          0.541,
          0.592,
          0.429,
          0.9,
          0.256,
          0.682,
          0.37,
          0.874,
          0.314,
          0.885,
          0.198,
          0.493,
          0.562,
          0.557,
          0.308,
          0.358,
          0.069,
          0.131,
          0.322,
          0.378,
          0.605,
          0.259,
          0.344,
          0.472,
          0.73,
          0.262,
          0.357,
          1.017,
          0.186,
          0.076,
          0.332,
          0.455,
          0.337,
          0.024,
          0.091
         ],
         "xaxis": "x",
         "y": [
          5.891,
          5.566,
          5.295,
          5.254,
          5.155,
          4.982,
          4.975,
          4.758,
          4.724,
          4.671,
          4.657,
          4.631,
          4.592,
          4.571,
          4.559,
          4.447,
          4.441,
          4.424,
          4.419,
          4.417,
          4.41,
          4.377,
          4.356,
          4.35,
          4.301,
          4.245,
          4.166,
          4.161,
          4.141,
          4.139,
          3.999,
          3.964,
          3.808,
          3.795,
          3.774,
          3.692,
          3.59,
          3.587,
          3.495,
          3.408,
          3.303,
          3.254,
          3.083,
          2.905
         ],
         "yaxis": "y"
        },
        {
         "hovertemplate": "<b>%{hovertext}</b><br><br>Continent=Europe<br>Social support=%{x}<br>Score=%{y}<br>Population=%{marker.size}<extra></extra>",
         "hovertext": [
          "Finland",
          "Norway",
          "Denmark",
          "Iceland",
          "Switzerland",
          "Netherlands",
          "Sweden",
          "United Kingdom",
          "Austria",
          "Ireland",
          "Germany",
          "Belgium",
          "Luxembourg",
          "Czech Republic",
          "Malta",
          "France",
          "Spain",
          "Slovakia",
          "Poland",
          "Italy",
          "Lithuania",
          "Slovenia",
          "Romania",
          "Latvia",
          "Russia",
          "Estonia",
          "Kosovo",
          "Moldova",
          "Hungary",
          "Belarus",
          "Portugal",
          "Serbia",
          "Greece",
          "Montenegro",
          "Croatia",
          "Macedonia",
          "Bosnia and Herzegovina",
          "Bulgaria",
          "Albania",
          "Ukraine"
         ],
         "legendgroup": "Europe",
         "marker": {
          "color": "#3366CC",
          "size": [
           5470437,
           5156450,
           5655750,
           328170,
           8183800,
           16881000,
           9737521,
           64105654,
           8527230,
           6378000,
           80783000,
           11225469,
           549700,
           10521600,
           416055,
           66078000,
           46507760,
           5415949,
           38496000,
           60769102,
           2927310,
           2064966,
           19942642,
           1991800,
           146233000,
           1315819,
           1795666,
           3557600,
           9879000,
           9475100,
           10477800,
           7186862,
           10992589,
           627809,
           4267558,
           2085051,
           3791622,
           7245677,
           2895947,
           42973696
          ],
          "sizemode": "area",
          "sizeref": 379752.77777777775,
          "symbol": "circle"
         },
         "mode": "markers",
         "name": "Europe",
         "orientation": "v",
         "showlegend": true,
         "type": "scatter",
         "x": [
          1.592,
          1.582,
          1.59,
          1.644,
          1.549,
          1.488,
          1.501,
          1.433,
          1.504,
          1.583,
          1.474,
          1.483,
          1.52,
          1.489,
          1.525,
          1.466,
          1.538,
          1.537,
          1.448,
          1.501,
          1.527,
          1.506,
          1.219,
          1.454,
          1.479,
          1.532,
          1.23,
          1.301,
          1.401,
          1.498,
          1.429,
          1.369,
          1.202,
          1.279,
          1.161,
          1.239,
          1.078,
          1.515,
          0.817,
          1.413
         ],
         "xaxis": "x",
         "y": [
          7.632,
          7.594,
          7.555,
          7.495,
          7.487,
          7.441,
          7.314,
          7.19,
          7.139,
          6.977,
          6.965,
          6.927,
          6.91,
          6.711,
          6.627,
          6.489,
          6.31,
          6.173,
          6.123,
          6,
          5.952,
          5.948,
          5.945,
          5.933,
          5.81,
          5.739,
          5.662,
          5.64,
          5.62,
          5.483,
          5.41,
          5.398,
          5.358,
          5.347,
          5.321,
          5.185,
          5.129,
          4.933,
          4.586,
          4.103
         ],
         "yaxis": "y"
        },
        {
         "hovertemplate": "<b>%{hovertext}</b><br><br>Continent=North America<br>Social support=%{x}<br>Score=%{y}<br>Population=%{marker.size}<extra></extra>",
         "hovertext": [
          "Canada",
          "Costa Rica",
          "United States",
          "Mexico",
          "Panama",
          "Guatemala",
          "Trinidad and Tobago",
          "El Salvador",
          "Nicaragua",
          "Belize",
          "Jamaica",
          "Honduras",
          "Dominican Republic",
          "Haiti"
         ],
         "legendgroup": "North America",
         "marker": {
          "color": "#DC3912",
          "size": [
           35540419,
           4713168,
           319259000,
           119713203,
           3713312,
           15806675,
           1328019,
           6401240,
           6134270,
           349728,
           2717991,
           8725111,
           10378267,
           10745665
          ],
          "sizemode": "area",
          "sizeref": 379752.77777777775,
          "symbol": "circle"
         },
         "mode": "markers",
         "name": "North America",
         "orientation": "v",
         "showlegend": true,
         "type": "scatter",
         "x": [
          1.532,
          1.459,
          1.471,
          1.252,
          1.438,
          1.268,
          1.492,
          1.231,
          1.319,
          1.101,
          1.493,
          1.205,
          1.441,
          0.714
         ],
         "xaxis": "x",
         "y": [
          7.328,
          7.072,
          6.886,
          6.488,
          6.43,
          6.382,
          6.192,
          6.167,
          6.141,
          5.956,
          5.89,
          5.504,
          5.302,
          3.582
         ],
         "yaxis": "y"
        },
        {
         "hovertemplate": "<b>%{hovertext}</b><br><br>Continent=Oceania<br>Social support=%{x}<br>Score=%{y}<br>Population=%{marker.size}<extra></extra>",
         "hovertext": [
          "New Zealand",
          "Australia"
         ],
         "legendgroup": "Oceania",
         "marker": {
          "color": "#FF9900",
          "size": [
           4547900,
           23696900
          ],
          "sizemode": "area",
          "sizeref": 379752.77777777775,
          "symbol": "circle"
         },
         "mode": "markers",
         "name": "Oceania",
         "orientation": "v",
         "showlegend": true,
         "type": "scatter",
         "x": [
          1.601,
          1.573
         ],
         "xaxis": "x",
         "y": [
          7.324,
          7.272
         ],
         "yaxis": "y"
        },
        {
         "hovertemplate": "<b>%{hovertext}</b><br><br>Continent=Asia<br>Social support=%{x}<br>Score=%{y}<br>Population=%{marker.size}<extra></extra>",
         "hovertext": [
          "Israel",
          "United Arab Emirates",
          "Taiwan",
          "Qatar",
          "Saudi Arabia",
          "Singapore",
          "Malaysia",
          "Bahrain",
          "Uzbekistan",
          "Kuwait",
          "Thailand",
          "Japan",
          "South Korea",
          "Cyprus",
          "Kazakhstan",
          "Cyprus",
          "Turkmenistan",
          "Philippines",
          "Turkey",
          "Pakistan",
          "Hong Kong",
          "Lebanon",
          "China",
          "Azerbaijan",
          "Tajikistan",
          "Jordan",
          "Kyrgyz Republic",
          "Mongolia",
          "Vietnam",
          "Indonesia",
          "Bhutan",
          "Nepal",
          "Palestine",
          "Iran",
          "Laos",
          "Bangladesh",
          "Sri Lanka",
          "Iraq",
          "Cambodia",
          "Georgia",
          "Armenia",
          "Myanmar",
          "India",
          "Afghanistan",
          "Syria",
          "Yemen"
         ],
         "legendgroup": "Asia",
         "marker": {
          "color": "#109618",
          "size": [
           8268400,
           9446000,
           23424615,
           2269672,
           30770375,
           5469700,
           30430500,
           1316500,
           30492800,
           3268431,
           64871000,
           127080000,
           50423955,
           858000,
           17377800,
           858000,
           5838064,
           100697400,
           76667864,
           188410000,
           7234800,
           4104000,
           1367110000,
           9552500,
           8161000,
           6666960,
           5776570,
           2987733,
           89708900,
           252164800,
           755030,
           27646053,
           5091819,
           77966400,
           6693300,
           157486000,
           20277597,
           36004552,
           15184116,
           4490500,
           3009800,
           53708318,
           1263930000,
           26023100,
           22964324,
           25956000
          ],
          "sizemode": "area",
          "sizeref": 379752.77777777775,
          "symbol": "circle"
         },
         "mode": "markers",
         "name": "Asia",
         "orientation": "v",
         "showlegend": true,
         "type": "scatter",
         "x": [
          1.559,
          0.776,
          1.436,
          1.303,
          1.331,
          1.451,
          1.258,
          1.366,
          1.584,
          1.301,
          1.417,
          1.462,
          1.204,
          1.211,
          1.516,
          1.191,
          1.533,
          1.312,
          1.38,
          0.81,
          1.29,
          1.179,
          1.142,
          1.161,
          1.166,
          1.265,
          1.416,
          1.517,
          1.365,
          1.215,
          1.335,
          1.228,
          1.217,
          0.771,
          1.034,
          0.85,
          1.314,
          0.971,
          1.088,
          0.592,
          0.99,
          1.174,
          0.747,
          0.537,
          0.382,
          1.073
         ],
         "xaxis": "x",
         "y": [
          6.814,
          6.774,
          6.441,
          6.374,
          6.371,
          6.343,
          6.322,
          6.105,
          6.096,
          6.083,
          6.072,
          5.915,
          5.875,
          5.835,
          5.79,
          5.762,
          5.636,
          5.524,
          5.483,
          5.472,
          5.43,
          5.358,
          5.246,
          5.201,
          5.199,
          5.161,
          5.131,
          5.125,
          5.103,
          5.093,
          5.082,
          4.88,
          4.743,
          4.707,
          4.623,
          4.5,
          4.471,
          4.456,
          4.433,
          4.34,
          4.321,
          4.308,
          4.19,
          3.632,
          3.462,
          3.355
         ],
         "yaxis": "y"
        },
        {
         "hovertemplate": "<b>%{hovertext}</b><br><br>Continent=South America<br>Social support=%{x}<br>Score=%{y}<br>Population=%{marker.size}<extra></extra>",
         "hovertext": [
          "Chile",
          "Brazil",
          "Argentina",
          "Uruguay",
          "Colombia",
          "Ecuador",
          "Bolivia",
          "Paraguay",
          "Peru",
          "Venezuela"
         ],
         "legendgroup": "South America",
         "marker": {
          "color": "#990099",
          "size": [
           17819054,
           203586000,
           42669500,
           3404189,
           47907800,
           15888900,
           10027254,
           6893727,
           30814175,
           30206307
          ],
          "sizemode": "area",
          "sizeref": 379752.77777777775,
          "symbol": "circle"
         },
         "mode": "markers",
         "name": "South America",
         "orientation": "v",
         "showlegend": true,
         "type": "scatter",
         "x": [
          1.331,
          1.474,
          1.468,
          1.459,
          1.439,
          1.33,
          1.223,
          1.522,
          1.249,
          1.469
         ],
         "xaxis": "x",
         "y": [
          6.476,
          6.419,
          6.388,
          6.379,
          6.26,
          5.973,
          5.752,
          5.681,
          5.663,
          4.806
         ],
         "yaxis": "y"
        },
        {
         "hovertemplate": "<b>%{hovertext}</b><br><br>Continent=Africa<br>Social support=%{x}<br>Score=%{y}<br>Population=%{marker.size}<extra></extra>",
         "hovertext": [
          "Mauritius",
          "Libya",
          "Algeria",
          "Morocco",
          "Nigeria",
          "Somalia",
          "Cameroon",
          "Gabon",
          "South Africa",
          "Cote d'Ivoire",
          "Ghana",
          "Senegal",
          "Tunisia",
          "Sierra Leone",
          "Congo Republic",
          "Mali",
          "Namibia",
          "Burkina Faso",
          "Egypt",
          "Mozambique",
          "Kenya",
          "Zambia",
          "Mauritania",
          "Ethiopia",
          "Chad",
          "DR Congo",
          "Niger",
          "Uganda",
          "Benin",
          "Sudan",
          "Togo",
          "Guinea",
          "Lesotho",
          "Angola",
          "Madagascar",
          "Zimbabwe",
          "Botswana",
          "Malawi",
          "Liberia",
          "Rwanda",
          "Tanzania",
          "South Sudan",
          "Central African Republic",
          "Burundi"
         ],
         "legendgroup": "Africa",
         "marker": {
          "color": "#0099C6",
          "size": [
           1261208,
           6253000,
           38700000,
           33465000,
           178517000,
           10806000,
           20386799,
           1711000,
           54002000,
           26378275,
           27043093,
           13508715,
           10982754,
           6205000,
           5244362,
           15768000,
           2113077,
           17322796,
           87668100,
           25041922,
           41800000,
           15023315,
           3545620,
           87952991,
           13211000,
           69360000,
           17138707,
           34856813,
           9988068,
           37289406,
           6993000,
           10628972,
           2098000,
           24383301,
           21842167,
           13061239,
           2024904,
           15805239,
           4397000,
           10996891,
           47421786,
           11384393,
           4709000,
           9530434
          ],
          "sizemode": "area",
          "sizeref": 379752.77777777775,
          "symbol": "circle"
         },
         "mode": "markers",
         "name": "Africa",
         "orientation": "v",
         "showlegend": true,
         "type": "scatter",
         "x": [
          1.387,
          1.35,
          1.154,
          0.797,
          1.172,
          0.712,
          0.891,
          1.164,
          1.41,
          0.872,
          0.896,
          1.117,
          0.906,
          0.813,
          0.811,
          1.233,
          1.281,
          1.097,
          1.025,
          0.902,
          1.048,
          1.047,
          1.245,
          0.95,
          0.907,
          1.136,
          0.867,
          1.09,
          0.372,
          1.24,
          0.474,
          0.792,
          1.215,
          1.125,
          0.908,
          1.094,
          1.174,
          0.541,
          0.858,
          0.896,
          0.991,
          0.608,
          0,
          0.627
         ],
         "xaxis": "x",
         "y": [
          5.891,
          5.566,
          5.295,
          5.254,
          5.155,
          4.982,
          4.975,
          4.758,
          4.724,
          4.671,
          4.657,
          4.631,
          4.592,
          4.571,
          4.559,
          4.447,
          4.441,
          4.424,
          4.419,
          4.417,
          4.41,
          4.377,
          4.356,
          4.35,
          4.301,
          4.245,
          4.166,
          4.161,
          4.141,
          4.139,
          3.999,
          3.964,
          3.808,
          3.795,
          3.774,
          3.692,
          3.59,
          3.587,
          3.495,
          3.408,
          3.303,
          3.254,
          3.083,
          2.905
         ],
         "yaxis": "y"
        }
       ],
       "layout": {
        "showlegend": false,
        "template": {
         "data": {
          "bar": [
           {
            "error_x": {
             "color": "#2a3f5f"
            },
            "error_y": {
             "color": "#2a3f5f"
            },
            "marker": {
             "line": {
              "color": "#E5ECF6",
              "width": 0.5
             },
             "pattern": {
              "fillmode": "overlay",
              "size": 10,
              "solidity": 0.2
             }
            },
            "type": "bar"
           }
          ],
          "barpolar": [
           {
            "marker": {
             "line": {
              "color": "#E5ECF6",
              "width": 0.5
             },
             "pattern": {
              "fillmode": "overlay",
              "size": 10,
              "solidity": 0.2
             }
            },
            "type": "barpolar"
           }
          ],
          "carpet": [
           {
            "aaxis": {
             "endlinecolor": "#2a3f5f",
             "gridcolor": "white",
             "linecolor": "white",
             "minorgridcolor": "white",
             "startlinecolor": "#2a3f5f"
            },
            "baxis": {
             "endlinecolor": "#2a3f5f",
             "gridcolor": "white",
             "linecolor": "white",
             "minorgridcolor": "white",
             "startlinecolor": "#2a3f5f"
            },
            "type": "carpet"
           }
          ],
          "choropleth": [
           {
            "colorbar": {
             "outlinewidth": 0,
             "ticks": ""
            },
            "type": "choropleth"
           }
          ],
          "contour": [
           {
            "colorbar": {
             "outlinewidth": 0,
             "ticks": ""
            },
            "colorscale": [
             [
              0,
              "#0d0887"
             ],
             [
              0.1111111111111111,
              "#46039f"
             ],
             [
              0.2222222222222222,
              "#7201a8"
             ],
             [
              0.3333333333333333,
              "#9c179e"
             ],
             [
              0.4444444444444444,
              "#bd3786"
             ],
             [
              0.5555555555555556,
              "#d8576b"
             ],
             [
              0.6666666666666666,
              "#ed7953"
             ],
             [
              0.7777777777777778,
              "#fb9f3a"
             ],
             [
              0.8888888888888888,
              "#fdca26"
             ],
             [
              1,
              "#f0f921"
             ]
            ],
            "type": "contour"
           }
          ],
          "contourcarpet": [
           {
            "colorbar": {
             "outlinewidth": 0,
             "ticks": ""
            },
            "type": "contourcarpet"
           }
          ],
          "heatmap": [
           {
            "colorbar": {
             "outlinewidth": 0,
             "ticks": ""
            },
            "colorscale": [
             [
              0,
              "#0d0887"
             ],
             [
              0.1111111111111111,
              "#46039f"
             ],
             [
              0.2222222222222222,
              "#7201a8"
             ],
             [
              0.3333333333333333,
              "#9c179e"
             ],
             [
              0.4444444444444444,
              "#bd3786"
             ],
             [
              0.5555555555555556,
              "#d8576b"
             ],
             [
              0.6666666666666666,
              "#ed7953"
             ],
             [
              0.7777777777777778,
              "#fb9f3a"
             ],
             [
              0.8888888888888888,
              "#fdca26"
             ],
             [
              1,
              "#f0f921"
             ]
            ],
            "type": "heatmap"
           }
          ],
          "heatmapgl": [
           {
            "colorbar": {
             "outlinewidth": 0,
             "ticks": ""
            },
            "colorscale": [
             [
              0,
              "#0d0887"
             ],
             [
              0.1111111111111111,
              "#46039f"
             ],
             [
              0.2222222222222222,
              "#7201a8"
             ],
             [
              0.3333333333333333,
              "#9c179e"
             ],
             [
              0.4444444444444444,
              "#bd3786"
             ],
             [
              0.5555555555555556,
              "#d8576b"
             ],
             [
              0.6666666666666666,
              "#ed7953"
             ],
             [
              0.7777777777777778,
              "#fb9f3a"
             ],
             [
              0.8888888888888888,
              "#fdca26"
             ],
             [
              1,
              "#f0f921"
             ]
            ],
            "type": "heatmapgl"
           }
          ],
          "histogram": [
           {
            "marker": {
             "pattern": {
              "fillmode": "overlay",
              "size": 10,
              "solidity": 0.2
             }
            },
            "type": "histogram"
           }
          ],
          "histogram2d": [
           {
            "colorbar": {
             "outlinewidth": 0,
             "ticks": ""
            },
            "colorscale": [
             [
              0,
              "#0d0887"
             ],
             [
              0.1111111111111111,
              "#46039f"
             ],
             [
              0.2222222222222222,
              "#7201a8"
             ],
             [
              0.3333333333333333,
              "#9c179e"
             ],
             [
              0.4444444444444444,
              "#bd3786"
             ],
             [
              0.5555555555555556,
              "#d8576b"
             ],
             [
              0.6666666666666666,
              "#ed7953"
             ],
             [
              0.7777777777777778,
              "#fb9f3a"
             ],
             [
              0.8888888888888888,
              "#fdca26"
             ],
             [
              1,
              "#f0f921"
             ]
            ],
            "type": "histogram2d"
           }
          ],
          "histogram2dcontour": [
           {
            "colorbar": {
             "outlinewidth": 0,
             "ticks": ""
            },
            "colorscale": [
             [
              0,
              "#0d0887"
             ],
             [
              0.1111111111111111,
              "#46039f"
             ],
             [
              0.2222222222222222,
              "#7201a8"
             ],
             [
              0.3333333333333333,
              "#9c179e"
             ],
             [
              0.4444444444444444,
              "#bd3786"
             ],
             [
              0.5555555555555556,
              "#d8576b"
             ],
             [
              0.6666666666666666,
              "#ed7953"
             ],
             [
              0.7777777777777778,
              "#fb9f3a"
             ],
             [
              0.8888888888888888,
              "#fdca26"
             ],
             [
              1,
              "#f0f921"
             ]
            ],
            "type": "histogram2dcontour"
           }
          ],
          "mesh3d": [
           {
            "colorbar": {
             "outlinewidth": 0,
             "ticks": ""
            },
            "type": "mesh3d"
           }
          ],
          "parcoords": [
           {
            "line": {
             "colorbar": {
              "outlinewidth": 0,
              "ticks": ""
             }
            },
            "type": "parcoords"
           }
          ],
          "pie": [
           {
            "automargin": true,
            "type": "pie"
           }
          ],
          "scatter": [
           {
            "marker": {
             "colorbar": {
              "outlinewidth": 0,
              "ticks": ""
             }
            },
            "type": "scatter"
           }
          ],
          "scatter3d": [
           {
            "line": {
             "colorbar": {
              "outlinewidth": 0,
              "ticks": ""
             }
            },
            "marker": {
             "colorbar": {
              "outlinewidth": 0,
              "ticks": ""
             }
            },
            "type": "scatter3d"
           }
          ],
          "scattercarpet": [
           {
            "marker": {
             "colorbar": {
              "outlinewidth": 0,
              "ticks": ""
             }
            },
            "type": "scattercarpet"
           }
          ],
          "scattergeo": [
           {
            "marker": {
             "colorbar": {
              "outlinewidth": 0,
              "ticks": ""
             }
            },
            "type": "scattergeo"
           }
          ],
          "scattergl": [
           {
            "marker": {
             "colorbar": {
              "outlinewidth": 0,
              "ticks": ""
             }
            },
            "type": "scattergl"
           }
          ],
          "scattermapbox": [
           {
            "marker": {
             "colorbar": {
              "outlinewidth": 0,
              "ticks": ""
             }
            },
            "type": "scattermapbox"
           }
          ],
          "scatterpolar": [
           {
            "marker": {
             "colorbar": {
              "outlinewidth": 0,
              "ticks": ""
             }
            },
            "type": "scatterpolar"
           }
          ],
          "scatterpolargl": [
           {
            "marker": {
             "colorbar": {
              "outlinewidth": 0,
              "ticks": ""
             }
            },
            "type": "scatterpolargl"
           }
          ],
          "scatterternary": [
           {
            "marker": {
             "colorbar": {
              "outlinewidth": 0,
              "ticks": ""
             }
            },
            "type": "scatterternary"
           }
          ],
          "surface": [
           {
            "colorbar": {
             "outlinewidth": 0,
             "ticks": ""
            },
            "colorscale": [
             [
              0,
              "#0d0887"
             ],
             [
              0.1111111111111111,
              "#46039f"
             ],
             [
              0.2222222222222222,
              "#7201a8"
             ],
             [
              0.3333333333333333,
              "#9c179e"
             ],
             [
              0.4444444444444444,
              "#bd3786"
             ],
             [
              0.5555555555555556,
              "#d8576b"
             ],
             [
              0.6666666666666666,
              "#ed7953"
             ],
             [
              0.7777777777777778,
              "#fb9f3a"
             ],
             [
              0.8888888888888888,
              "#fdca26"
             ],
             [
              1,
              "#f0f921"
             ]
            ],
            "type": "surface"
           }
          ],
          "table": [
           {
            "cells": {
             "fill": {
              "color": "#EBF0F8"
             },
             "line": {
              "color": "white"
             }
            },
            "header": {
             "fill": {
              "color": "#C8D4E3"
             },
             "line": {
              "color": "white"
             }
            },
            "type": "table"
           }
          ]
         },
         "layout": {
          "annotationdefaults": {
           "arrowcolor": "#2a3f5f",
           "arrowhead": 0,
           "arrowwidth": 1
          },
          "autotypenumbers": "strict",
          "coloraxis": {
           "colorbar": {
            "outlinewidth": 0,
            "ticks": ""
           }
          },
          "colorscale": {
           "diverging": [
            [
             0,
             "#8e0152"
            ],
            [
             0.1,
             "#c51b7d"
            ],
            [
             0.2,
             "#de77ae"
            ],
            [
             0.3,
             "#f1b6da"
            ],
            [
             0.4,
             "#fde0ef"
            ],
            [
             0.5,
             "#f7f7f7"
            ],
            [
             0.6,
             "#e6f5d0"
            ],
            [
             0.7,
             "#b8e186"
            ],
            [
             0.8,
             "#7fbc41"
            ],
            [
             0.9,
             "#4d9221"
            ],
            [
             1,
             "#276419"
            ]
           ],
           "sequential": [
            [
             0,
             "#0d0887"
            ],
            [
             0.1111111111111111,
             "#46039f"
            ],
            [
             0.2222222222222222,
             "#7201a8"
            ],
            [
             0.3333333333333333,
             "#9c179e"
            ],
            [
             0.4444444444444444,
             "#bd3786"
            ],
            [
             0.5555555555555556,
             "#d8576b"
            ],
            [
             0.6666666666666666,
             "#ed7953"
            ],
            [
             0.7777777777777778,
             "#fb9f3a"
            ],
            [
             0.8888888888888888,
             "#fdca26"
            ],
            [
             1,
             "#f0f921"
            ]
           ],
           "sequentialminus": [
            [
             0,
             "#0d0887"
            ],
            [
             0.1111111111111111,
             "#46039f"
            ],
            [
             0.2222222222222222,
             "#7201a8"
            ],
            [
             0.3333333333333333,
             "#9c179e"
            ],
            [
             0.4444444444444444,
             "#bd3786"
            ],
            [
             0.5555555555555556,
             "#d8576b"
            ],
            [
             0.6666666666666666,
             "#ed7953"
            ],
            [
             0.7777777777777778,
             "#fb9f3a"
            ],
            [
             0.8888888888888888,
             "#fdca26"
            ],
            [
             1,
             "#f0f921"
            ]
           ]
          },
          "colorway": [
           "#636efa",
           "#EF553B",
           "#00cc96",
           "#ab63fa",
           "#FFA15A",
           "#19d3f3",
           "#FF6692",
           "#B6E880",
           "#FF97FF",
           "#FECB52"
          ],
          "font": {
           "color": "#2a3f5f"
          },
          "geo": {
           "bgcolor": "white",
           "lakecolor": "white",
           "landcolor": "#E5ECF6",
           "showlakes": true,
           "showland": true,
           "subunitcolor": "white"
          },
          "hoverlabel": {
           "align": "left"
          },
          "hovermode": "closest",
          "mapbox": {
           "style": "light"
          },
          "paper_bgcolor": "white",
          "plot_bgcolor": "#E5ECF6",
          "polar": {
           "angularaxis": {
            "gridcolor": "white",
            "linecolor": "white",
            "ticks": ""
           },
           "bgcolor": "#E5ECF6",
           "radialaxis": {
            "gridcolor": "white",
            "linecolor": "white",
            "ticks": ""
           }
          },
          "scene": {
           "xaxis": {
            "backgroundcolor": "#E5ECF6",
            "gridcolor": "white",
            "gridwidth": 2,
            "linecolor": "white",
            "showbackground": true,
            "ticks": "",
            "zerolinecolor": "white"
           },
           "yaxis": {
            "backgroundcolor": "#E5ECF6",
            "gridcolor": "white",
            "gridwidth": 2,
            "linecolor": "white",
            "showbackground": true,
            "ticks": "",
            "zerolinecolor": "white"
           },
           "zaxis": {
            "backgroundcolor": "#E5ECF6",
            "gridcolor": "white",
            "gridwidth": 2,
            "linecolor": "white",
            "showbackground": true,
            "ticks": "",
            "zerolinecolor": "white"
           }
          },
          "shapedefaults": {
           "line": {
            "color": "#2a3f5f"
           }
          },
          "ternary": {
           "aaxis": {
            "gridcolor": "white",
            "linecolor": "white",
            "ticks": ""
           },
           "baxis": {
            "gridcolor": "white",
            "linecolor": "white",
            "ticks": ""
           },
           "bgcolor": "#E5ECF6",
           "caxis": {
            "gridcolor": "white",
            "linecolor": "white",
            "ticks": ""
           }
          },
          "title": {
           "x": 0.05
          },
          "xaxis": {
           "automargin": true,
           "gridcolor": "white",
           "linecolor": "white",
           "ticks": "",
           "title": {
            "standoff": 15
           },
           "zerolinecolor": "white",
           "zerolinewidth": 2
          },
          "yaxis": {
           "automargin": true,
           "gridcolor": "white",
           "linecolor": "white",
           "ticks": "",
           "title": {
            "standoff": 15
           },
           "zerolinecolor": "white",
           "zerolinewidth": 2
          }
         }
        },
        "updatemenus": [
         {
          "buttons": [
           {
            "args": [
             {
              "x": [
               "GDP per capita"
              ]
             },
             [
              0
             ]
            ],
            "label": "GDP per capita",
            "method": "update",
            "visible": true
           },
           {
            "args": [
             {
              "x": [
               "Social support"
              ]
             },
             [
              1
             ]
            ],
            "label": "Social support",
            "method": "update",
            "visible": true
           }
          ]
         }
        ]
       }
      },
      "text/html": [
       "<div>                            <div id=\"af406ed3-765b-43ba-8b6d-4f0625ca9582\" class=\"plotly-graph-div\" style=\"height:525px; width:100%;\"></div>            <script type=\"text/javascript\">                require([\"plotly\"], function(Plotly) {                    window.PLOTLYENV=window.PLOTLYENV || {};                                    if (document.getElementById(\"af406ed3-765b-43ba-8b6d-4f0625ca9582\")) {                    Plotly.newPlot(                        \"af406ed3-765b-43ba-8b6d-4f0625ca9582\",                        [{\"hovertemplate\":\"<b>%{hovertext}</b><br><br>Continent=Europe<br>GDP per capita=%{x}<br>Score=%{y}<br>Population=%{marker.size}<extra></extra>\",\"hovertext\":[\"Finland\",\"Norway\",\"Denmark\",\"Iceland\",\"Switzerland\",\"Netherlands\",\"Sweden\",\"United Kingdom\",\"Austria\",\"Ireland\",\"Germany\",\"Belgium\",\"Luxembourg\",\"Czech Republic\",\"Malta\",\"France\",\"Spain\",\"Slovakia\",\"Poland\",\"Italy\",\"Lithuania\",\"Slovenia\",\"Romania\",\"Latvia\",\"Russia\",\"Estonia\",\"Kosovo\",\"Moldova\",\"Hungary\",\"Belarus\",\"Portugal\",\"Serbia\",\"Greece\",\"Montenegro\",\"Croatia\",\"Macedonia\",\"Bosnia and Herzegovina\",\"Bulgaria\",\"Albania\",\"Ukraine\"],\"legendgroup\":\"Europe\",\"marker\":{\"color\":\"#3366CC\",\"size\":[5470437.0,5156450.0,5655750.0,328170.0,8183800.0,16881000.0,9737521.0,64105654.0,8527230.0,6378000.0,80783000.0,11225469.0,549700.0,10521600.0,416055.0,66078000.0,46507760.0,5415949.0,38496000.0,60769102.0,2927310.0,2064966.0,19942642.0,1991800.0,146233000.0,1315819.0,1795666.0,3557600.0,9879000.0,9475100.0,10477800.0,7186862.0,10992589.0,627809.0,4267558.0,2085051.0,3791622.0,7245677.0,2895947.0,42973696.0],\"sizemode\":\"area\",\"sizeref\":379752.77777777775,\"symbol\":\"circle\"},\"mode\":\"markers\",\"name\":\"Europe\",\"orientation\":\"v\",\"showlegend\":true,\"type\":\"scatter\",\"x\":[1.305,1.456,1.351,1.343,1.42,1.361,1.355,1.244,1.341,1.448,1.34,1.324,1.576,1.233,1.27,1.293,1.251,1.21,1.176,1.264,1.197,1.219,1.116,1.148,1.151,1.2,0.855,0.657,1.171,1.039,1.188,0.975,1.154,1.017,1.115,0.959,0.915,1.054,0.916,0.793],\"xaxis\":\"x\",\"y\":[7.632,7.594,7.555,7.495,7.487,7.441,7.314,7.19,7.139,6.977,6.965,6.927,6.91,6.711,6.627,6.489,6.31,6.173,6.123,6.0,5.952,5.948,5.945,5.933,5.81,5.739,5.662,5.64,5.62,5.483,5.41,5.398,5.358,5.347,5.321,5.185,5.129,4.933,4.586,4.103],\"yaxis\":\"y\"},{\"hovertemplate\":\"<b>%{hovertext}</b><br><br>Continent=North America<br>GDP per capita=%{x}<br>Score=%{y}<br>Population=%{marker.size}<extra></extra>\",\"hovertext\":[\"Canada\",\"Costa Rica\",\"United States\",\"Mexico\",\"Panama\",\"Guatemala\",\"Trinidad and Tobago\",\"El Salvador\",\"Nicaragua\",\"Belize\",\"Jamaica\",\"Honduras\",\"Dominican Republic\",\"Haiti\"],\"legendgroup\":\"North America\",\"marker\":{\"color\":\"#DC3912\",\"size\":[35540419.0,4713168.0,319259000.0,119713203.0,3713312.0,15806675.0,1328019.0,6401240.0,6134270.0,349728.0,2717991.0,8725111.0,10378267.0,10745665.0],\"sizemode\":\"area\",\"sizeref\":379752.77777777775,\"symbol\":\"circle\"},\"mode\":\"markers\",\"name\":\"North America\",\"orientation\":\"v\",\"showlegend\":true,\"type\":\"scatter\",\"x\":[1.33,1.01,1.398,1.038,1.112,0.781,1.223,0.806,0.668,0.807,0.819,0.62,0.982,0.315],\"xaxis\":\"x\",\"y\":[7.328,7.072,6.886,6.488,6.43,6.382,6.192,6.167,6.141,5.956,5.89,5.504,5.302,3.582],\"yaxis\":\"y\"},{\"hovertemplate\":\"<b>%{hovertext}</b><br><br>Continent=Oceania<br>GDP per capita=%{x}<br>Score=%{y}<br>Population=%{marker.size}<extra></extra>\",\"hovertext\":[\"New Zealand\",\"Australia\"],\"legendgroup\":\"Oceania\",\"marker\":{\"color\":\"#FF9900\",\"size\":[4547900.0,23696900.0],\"sizemode\":\"area\",\"sizeref\":379752.77777777775,\"symbol\":\"circle\"},\"mode\":\"markers\",\"name\":\"Oceania\",\"orientation\":\"v\",\"showlegend\":true,\"type\":\"scatter\",\"x\":[1.268,1.34],\"xaxis\":\"x\",\"y\":[7.324,7.272],\"yaxis\":\"y\"},{\"hovertemplate\":\"<b>%{hovertext}</b><br><br>Continent=Asia<br>GDP per capita=%{x}<br>Score=%{y}<br>Population=%{marker.size}<extra></extra>\",\"hovertext\":[\"Israel\",\"United Arab Emirates\",\"Taiwan\",\"Qatar\",\"Saudi Arabia\",\"Singapore\",\"Malaysia\",\"Bahrain\",\"Uzbekistan\",\"Kuwait\",\"Thailand\",\"Japan\",\"South Korea\",\"Cyprus\",\"Kazakhstan\",\"Cyprus\",\"Turkmenistan\",\"Philippines\",\"Turkey\",\"Pakistan\",\"Hong Kong\",\"Lebanon\",\"China\",\"Azerbaijan\",\"Tajikistan\",\"Jordan\",\"Kyrgyz Republic\",\"Mongolia\",\"Vietnam\",\"Indonesia\",\"Bhutan\",\"Nepal\",\"Palestine\",\"Iran\",\"Laos\",\"Bangladesh\",\"Sri Lanka\",\"Iraq\",\"Cambodia\",\"Georgia\",\"Armenia\",\"Myanmar\",\"India\",\"Afghanistan\",\"Syria\",\"Yemen\"],\"legendgroup\":\"Asia\",\"marker\":{\"color\":\"#109618\",\"size\":[8268400.0,9446000.0,23424615.0,2269672.0,30770375.0,5469700.0,30430500.0,1316500.0,30492800.0,3268431.0,64871000.0,127080000.0,50423955.0,858000.0,17377800.0,858000.0,5838064.0,100697400.0,76667864.0,188410000.0,7234800.0,4104000.0,1367110000.0,9552500.0,8161000.0,6666960.0,5776570.0,2987733.0,89708900.0,252164800.0,755030.0,27646053.0,5091819.0,77966400.0,6693300.0,157486000.0,20277597.0,36004552.0,15184116.0,4490500.0,3009800.0,53708318.0,1263930000.0,26023100.0,22964324.0,25956000.0],\"sizemode\":\"area\",\"sizeref\":379752.77777777775,\"symbol\":\"circle\"},\"mode\":\"markers\",\"name\":\"Asia\",\"orientation\":\"v\",\"showlegend\":true,\"type\":\"scatter\",\"x\":[1.301,2.096,1.365,1.649,1.379,1.529,1.161,1.338,0.719,1.474,1.016,1.294,1.266,1.229,1.143,1.229,1.016,0.775,1.148,0.652,1.405,0.965,0.989,1.024,0.474,0.822,0.53,0.914,0.715,0.899,0.796,0.425,0.642,1.059,0.72,0.532,0.918,1.01,0.549,0.853,0.816,0.682,0.721,0.332,0.689,0.442],\"xaxis\":\"x\",\"y\":[6.814,6.774,6.441,6.374,6.371,6.343,6.322,6.105,6.096,6.083,6.072,5.915,5.875,5.835,5.79,5.762,5.636,5.524,5.483,5.472,5.43,5.358,5.246,5.201,5.199,5.161,5.131,5.125,5.103,5.093,5.082,4.88,4.743,4.707,4.623,4.5,4.471,4.456,4.433,4.34,4.321,4.308,4.19,3.632,3.462,3.355],\"yaxis\":\"y\"},{\"hovertemplate\":\"<b>%{hovertext}</b><br><br>Continent=South America<br>GDP per capita=%{x}<br>Score=%{y}<br>Population=%{marker.size}<extra></extra>\",\"hovertext\":[\"Chile\",\"Brazil\",\"Argentina\",\"Uruguay\",\"Colombia\",\"Ecuador\",\"Bolivia\",\"Paraguay\",\"Peru\",\"Venezuela\"],\"legendgroup\":\"South America\",\"marker\":{\"color\":\"#990099\",\"size\":[17819054.0,203586000.0,42669500.0,3404189.0,47907800.0,15888900.0,10027254.0,6893727.0,30814175.0,30206307.0],\"sizemode\":\"area\",\"sizeref\":379752.77777777775,\"symbol\":\"circle\"},\"mode\":\"markers\",\"name\":\"South America\",\"orientation\":\"v\",\"showlegend\":true,\"type\":\"scatter\",\"x\":[1.131,0.986,1.073,1.093,0.96,0.889,0.751,0.835,0.934,0.996],\"xaxis\":\"x\",\"y\":[6.476,6.419,6.388,6.379,6.26,5.973,5.752,5.681,5.663,4.806],\"yaxis\":\"y\"},{\"hovertemplate\":\"<b>%{hovertext}</b><br><br>Continent=Africa<br>GDP per capita=%{x}<br>Score=%{y}<br>Population=%{marker.size}<extra></extra>\",\"hovertext\":[\"Mauritius\",\"Libya\",\"Algeria\",\"Morocco\",\"Nigeria\",\"Somalia\",\"Cameroon\",\"Gabon\",\"South Africa\",\"Cote d'Ivoire\",\"Ghana\",\"Senegal\",\"Tunisia\",\"Sierra Leone\",\"Congo Republic\",\"Mali\",\"Namibia\",\"Burkina Faso\",\"Egypt\",\"Mozambique\",\"Kenya\",\"Zambia\",\"Mauritania\",\"Ethiopia\",\"Chad\",\"DR Congo\",\"Niger\",\"Uganda\",\"Benin\",\"Sudan\",\"Togo\",\"Guinea\",\"Lesotho\",\"Angola\",\"Madagascar\",\"Zimbabwe\",\"Botswana\",\"Malawi\",\"Liberia\",\"Rwanda\",\"Tanzania\",\"South Sudan\",\"Central African Republic\",\"Burundi\"],\"legendgroup\":\"Africa\",\"marker\":{\"color\":\"#0099C6\",\"size\":[1261208.0,6253000.0,38700000.0,33465000.0,178517000.0,10806000.0,20386799.0,1711000.0,54002000.0,26378275.0,27043093.0,13508715.0,10982754.0,6205000.0,5244362.0,15768000.0,2113077.0,17322796.0,87668100.0,25041922.0,41800000.0,15023315.0,3545620.0,87952991.0,13211000.0,69360000.0,17138707.0,34856813.0,9988068.0,37289406.0,6993000.0,10628972.0,2098000.0,24383301.0,21842167.0,13061239.0,2024904.0,15805239.0,4397000.0,10996891.0,47421786.0,11384393.0,4709000.0,9530434.0],\"sizemode\":\"area\",\"sizeref\":379752.77777777775,\"symbol\":\"circle\"},\"mode\":\"markers\",\"name\":\"Africa\",\"orientation\":\"v\",\"showlegend\":true,\"type\":\"scatter\",\"x\":[1.09,0.985,0.979,0.779,0.689,0.0,0.535,1.036,0.94,0.541,0.592,0.429,0.9,0.256,0.682,0.37,0.874,0.314,0.885,0.198,0.493,0.562,0.557,0.308,0.358,0.069,0.131,0.322,0.378,0.605,0.259,0.344,0.472,0.73,0.262,0.357,1.017,0.186,0.076,0.332,0.455,0.337,0.024,0.091],\"xaxis\":\"x\",\"y\":[5.891,5.566,5.295,5.254,5.155,4.982,4.975,4.758,4.724,4.671,4.657,4.631,4.592,4.571,4.559,4.447,4.441,4.424,4.419,4.417,4.41,4.377,4.356,4.35,4.301,4.245,4.166,4.161,4.141,4.139,3.999,3.964,3.808,3.795,3.774,3.692,3.59,3.587,3.495,3.408,3.303,3.254,3.083,2.905],\"yaxis\":\"y\"},{\"hovertemplate\":\"<b>%{hovertext}</b><br><br>Continent=Europe<br>Social support=%{x}<br>Score=%{y}<br>Population=%{marker.size}<extra></extra>\",\"hovertext\":[\"Finland\",\"Norway\",\"Denmark\",\"Iceland\",\"Switzerland\",\"Netherlands\",\"Sweden\",\"United Kingdom\",\"Austria\",\"Ireland\",\"Germany\",\"Belgium\",\"Luxembourg\",\"Czech Republic\",\"Malta\",\"France\",\"Spain\",\"Slovakia\",\"Poland\",\"Italy\",\"Lithuania\",\"Slovenia\",\"Romania\",\"Latvia\",\"Russia\",\"Estonia\",\"Kosovo\",\"Moldova\",\"Hungary\",\"Belarus\",\"Portugal\",\"Serbia\",\"Greece\",\"Montenegro\",\"Croatia\",\"Macedonia\",\"Bosnia and Herzegovina\",\"Bulgaria\",\"Albania\",\"Ukraine\"],\"legendgroup\":\"Europe\",\"marker\":{\"color\":\"#3366CC\",\"size\":[5470437.0,5156450.0,5655750.0,328170.0,8183800.0,16881000.0,9737521.0,64105654.0,8527230.0,6378000.0,80783000.0,11225469.0,549700.0,10521600.0,416055.0,66078000.0,46507760.0,5415949.0,38496000.0,60769102.0,2927310.0,2064966.0,19942642.0,1991800.0,146233000.0,1315819.0,1795666.0,3557600.0,9879000.0,9475100.0,10477800.0,7186862.0,10992589.0,627809.0,4267558.0,2085051.0,3791622.0,7245677.0,2895947.0,42973696.0],\"sizemode\":\"area\",\"sizeref\":379752.77777777775,\"symbol\":\"circle\"},\"mode\":\"markers\",\"name\":\"Europe\",\"orientation\":\"v\",\"showlegend\":true,\"type\":\"scatter\",\"x\":[1.592,1.582,1.59,1.644,1.549,1.488,1.501,1.433,1.504,1.583,1.474,1.483,1.52,1.489,1.525,1.466,1.538,1.537,1.448,1.501,1.527,1.506,1.219,1.454,1.479,1.532,1.23,1.301,1.401,1.498,1.429,1.369,1.202,1.279,1.161,1.239,1.078,1.515,0.817,1.413],\"xaxis\":\"x\",\"y\":[7.632,7.594,7.555,7.495,7.487,7.441,7.314,7.19,7.139,6.977,6.965,6.927,6.91,6.711,6.627,6.489,6.31,6.173,6.123,6.0,5.952,5.948,5.945,5.933,5.81,5.739,5.662,5.64,5.62,5.483,5.41,5.398,5.358,5.347,5.321,5.185,5.129,4.933,4.586,4.103],\"yaxis\":\"y\"},{\"hovertemplate\":\"<b>%{hovertext}</b><br><br>Continent=North America<br>Social support=%{x}<br>Score=%{y}<br>Population=%{marker.size}<extra></extra>\",\"hovertext\":[\"Canada\",\"Costa Rica\",\"United States\",\"Mexico\",\"Panama\",\"Guatemala\",\"Trinidad and Tobago\",\"El Salvador\",\"Nicaragua\",\"Belize\",\"Jamaica\",\"Honduras\",\"Dominican Republic\",\"Haiti\"],\"legendgroup\":\"North America\",\"marker\":{\"color\":\"#DC3912\",\"size\":[35540419.0,4713168.0,319259000.0,119713203.0,3713312.0,15806675.0,1328019.0,6401240.0,6134270.0,349728.0,2717991.0,8725111.0,10378267.0,10745665.0],\"sizemode\":\"area\",\"sizeref\":379752.77777777775,\"symbol\":\"circle\"},\"mode\":\"markers\",\"name\":\"North America\",\"orientation\":\"v\",\"showlegend\":true,\"type\":\"scatter\",\"x\":[1.532,1.459,1.471,1.252,1.438,1.268,1.492,1.231,1.319,1.101,1.493,1.205,1.441,0.714],\"xaxis\":\"x\",\"y\":[7.328,7.072,6.886,6.488,6.43,6.382,6.192,6.167,6.141,5.956,5.89,5.504,5.302,3.582],\"yaxis\":\"y\"},{\"hovertemplate\":\"<b>%{hovertext}</b><br><br>Continent=Oceania<br>Social support=%{x}<br>Score=%{y}<br>Population=%{marker.size}<extra></extra>\",\"hovertext\":[\"New Zealand\",\"Australia\"],\"legendgroup\":\"Oceania\",\"marker\":{\"color\":\"#FF9900\",\"size\":[4547900.0,23696900.0],\"sizemode\":\"area\",\"sizeref\":379752.77777777775,\"symbol\":\"circle\"},\"mode\":\"markers\",\"name\":\"Oceania\",\"orientation\":\"v\",\"showlegend\":true,\"type\":\"scatter\",\"x\":[1.601,1.573],\"xaxis\":\"x\",\"y\":[7.324,7.272],\"yaxis\":\"y\"},{\"hovertemplate\":\"<b>%{hovertext}</b><br><br>Continent=Asia<br>Social support=%{x}<br>Score=%{y}<br>Population=%{marker.size}<extra></extra>\",\"hovertext\":[\"Israel\",\"United Arab Emirates\",\"Taiwan\",\"Qatar\",\"Saudi Arabia\",\"Singapore\",\"Malaysia\",\"Bahrain\",\"Uzbekistan\",\"Kuwait\",\"Thailand\",\"Japan\",\"South Korea\",\"Cyprus\",\"Kazakhstan\",\"Cyprus\",\"Turkmenistan\",\"Philippines\",\"Turkey\",\"Pakistan\",\"Hong Kong\",\"Lebanon\",\"China\",\"Azerbaijan\",\"Tajikistan\",\"Jordan\",\"Kyrgyz Republic\",\"Mongolia\",\"Vietnam\",\"Indonesia\",\"Bhutan\",\"Nepal\",\"Palestine\",\"Iran\",\"Laos\",\"Bangladesh\",\"Sri Lanka\",\"Iraq\",\"Cambodia\",\"Georgia\",\"Armenia\",\"Myanmar\",\"India\",\"Afghanistan\",\"Syria\",\"Yemen\"],\"legendgroup\":\"Asia\",\"marker\":{\"color\":\"#109618\",\"size\":[8268400.0,9446000.0,23424615.0,2269672.0,30770375.0,5469700.0,30430500.0,1316500.0,30492800.0,3268431.0,64871000.0,127080000.0,50423955.0,858000.0,17377800.0,858000.0,5838064.0,100697400.0,76667864.0,188410000.0,7234800.0,4104000.0,1367110000.0,9552500.0,8161000.0,6666960.0,5776570.0,2987733.0,89708900.0,252164800.0,755030.0,27646053.0,5091819.0,77966400.0,6693300.0,157486000.0,20277597.0,36004552.0,15184116.0,4490500.0,3009800.0,53708318.0,1263930000.0,26023100.0,22964324.0,25956000.0],\"sizemode\":\"area\",\"sizeref\":379752.77777777775,\"symbol\":\"circle\"},\"mode\":\"markers\",\"name\":\"Asia\",\"orientation\":\"v\",\"showlegend\":true,\"type\":\"scatter\",\"x\":[1.559,0.776,1.436,1.303,1.331,1.451,1.258,1.366,1.584,1.301,1.417,1.462,1.204,1.211,1.516,1.191,1.533,1.312,1.38,0.81,1.29,1.179,1.142,1.161,1.166,1.265,1.416,1.517,1.365,1.215,1.335,1.228,1.217,0.771,1.034,0.85,1.314,0.971,1.088,0.592,0.99,1.174,0.747,0.537,0.382,1.073],\"xaxis\":\"x\",\"y\":[6.814,6.774,6.441,6.374,6.371,6.343,6.322,6.105,6.096,6.083,6.072,5.915,5.875,5.835,5.79,5.762,5.636,5.524,5.483,5.472,5.43,5.358,5.246,5.201,5.199,5.161,5.131,5.125,5.103,5.093,5.082,4.88,4.743,4.707,4.623,4.5,4.471,4.456,4.433,4.34,4.321,4.308,4.19,3.632,3.462,3.355],\"yaxis\":\"y\"},{\"hovertemplate\":\"<b>%{hovertext}</b><br><br>Continent=South America<br>Social support=%{x}<br>Score=%{y}<br>Population=%{marker.size}<extra></extra>\",\"hovertext\":[\"Chile\",\"Brazil\",\"Argentina\",\"Uruguay\",\"Colombia\",\"Ecuador\",\"Bolivia\",\"Paraguay\",\"Peru\",\"Venezuela\"],\"legendgroup\":\"South America\",\"marker\":{\"color\":\"#990099\",\"size\":[17819054.0,203586000.0,42669500.0,3404189.0,47907800.0,15888900.0,10027254.0,6893727.0,30814175.0,30206307.0],\"sizemode\":\"area\",\"sizeref\":379752.77777777775,\"symbol\":\"circle\"},\"mode\":\"markers\",\"name\":\"South America\",\"orientation\":\"v\",\"showlegend\":true,\"type\":\"scatter\",\"x\":[1.331,1.474,1.468,1.459,1.439,1.33,1.223,1.522,1.249,1.469],\"xaxis\":\"x\",\"y\":[6.476,6.419,6.388,6.379,6.26,5.973,5.752,5.681,5.663,4.806],\"yaxis\":\"y\"},{\"hovertemplate\":\"<b>%{hovertext}</b><br><br>Continent=Africa<br>Social support=%{x}<br>Score=%{y}<br>Population=%{marker.size}<extra></extra>\",\"hovertext\":[\"Mauritius\",\"Libya\",\"Algeria\",\"Morocco\",\"Nigeria\",\"Somalia\",\"Cameroon\",\"Gabon\",\"South Africa\",\"Cote d'Ivoire\",\"Ghana\",\"Senegal\",\"Tunisia\",\"Sierra Leone\",\"Congo Republic\",\"Mali\",\"Namibia\",\"Burkina Faso\",\"Egypt\",\"Mozambique\",\"Kenya\",\"Zambia\",\"Mauritania\",\"Ethiopia\",\"Chad\",\"DR Congo\",\"Niger\",\"Uganda\",\"Benin\",\"Sudan\",\"Togo\",\"Guinea\",\"Lesotho\",\"Angola\",\"Madagascar\",\"Zimbabwe\",\"Botswana\",\"Malawi\",\"Liberia\",\"Rwanda\",\"Tanzania\",\"South Sudan\",\"Central African Republic\",\"Burundi\"],\"legendgroup\":\"Africa\",\"marker\":{\"color\":\"#0099C6\",\"size\":[1261208.0,6253000.0,38700000.0,33465000.0,178517000.0,10806000.0,20386799.0,1711000.0,54002000.0,26378275.0,27043093.0,13508715.0,10982754.0,6205000.0,5244362.0,15768000.0,2113077.0,17322796.0,87668100.0,25041922.0,41800000.0,15023315.0,3545620.0,87952991.0,13211000.0,69360000.0,17138707.0,34856813.0,9988068.0,37289406.0,6993000.0,10628972.0,2098000.0,24383301.0,21842167.0,13061239.0,2024904.0,15805239.0,4397000.0,10996891.0,47421786.0,11384393.0,4709000.0,9530434.0],\"sizemode\":\"area\",\"sizeref\":379752.77777777775,\"symbol\":\"circle\"},\"mode\":\"markers\",\"name\":\"Africa\",\"orientation\":\"v\",\"showlegend\":true,\"type\":\"scatter\",\"x\":[1.387,1.35,1.154,0.797,1.172,0.712,0.891,1.164,1.41,0.872,0.896,1.117,0.906,0.813,0.811,1.233,1.281,1.097,1.025,0.902,1.048,1.047,1.245,0.95,0.907,1.136,0.867,1.09,0.372,1.24,0.474,0.792,1.215,1.125,0.908,1.094,1.174,0.541,0.858,0.896,0.991,0.608,0.0,0.627],\"xaxis\":\"x\",\"y\":[5.891,5.566,5.295,5.254,5.155,4.982,4.975,4.758,4.724,4.671,4.657,4.631,4.592,4.571,4.559,4.447,4.441,4.424,4.419,4.417,4.41,4.377,4.356,4.35,4.301,4.245,4.166,4.161,4.141,4.139,3.999,3.964,3.808,3.795,3.774,3.692,3.59,3.587,3.495,3.408,3.303,3.254,3.083,2.905],\"yaxis\":\"y\"}],                        {\"showlegend\":false,\"template\":{\"data\":{\"bar\":[{\"error_x\":{\"color\":\"#2a3f5f\"},\"error_y\":{\"color\":\"#2a3f5f\"},\"marker\":{\"line\":{\"color\":\"#E5ECF6\",\"width\":0.5},\"pattern\":{\"fillmode\":\"overlay\",\"size\":10,\"solidity\":0.2}},\"type\":\"bar\"}],\"barpolar\":[{\"marker\":{\"line\":{\"color\":\"#E5ECF6\",\"width\":0.5},\"pattern\":{\"fillmode\":\"overlay\",\"size\":10,\"solidity\":0.2}},\"type\":\"barpolar\"}],\"carpet\":[{\"aaxis\":{\"endlinecolor\":\"#2a3f5f\",\"gridcolor\":\"white\",\"linecolor\":\"white\",\"minorgridcolor\":\"white\",\"startlinecolor\":\"#2a3f5f\"},\"baxis\":{\"endlinecolor\":\"#2a3f5f\",\"gridcolor\":\"white\",\"linecolor\":\"white\",\"minorgridcolor\":\"white\",\"startlinecolor\":\"#2a3f5f\"},\"type\":\"carpet\"}],\"choropleth\":[{\"colorbar\":{\"outlinewidth\":0,\"ticks\":\"\"},\"type\":\"choropleth\"}],\"contour\":[{\"colorbar\":{\"outlinewidth\":0,\"ticks\":\"\"},\"colorscale\":[[0.0,\"#0d0887\"],[0.1111111111111111,\"#46039f\"],[0.2222222222222222,\"#7201a8\"],[0.3333333333333333,\"#9c179e\"],[0.4444444444444444,\"#bd3786\"],[0.5555555555555556,\"#d8576b\"],[0.6666666666666666,\"#ed7953\"],[0.7777777777777778,\"#fb9f3a\"],[0.8888888888888888,\"#fdca26\"],[1.0,\"#f0f921\"]],\"type\":\"contour\"}],\"contourcarpet\":[{\"colorbar\":{\"outlinewidth\":0,\"ticks\":\"\"},\"type\":\"contourcarpet\"}],\"heatmap\":[{\"colorbar\":{\"outlinewidth\":0,\"ticks\":\"\"},\"colorscale\":[[0.0,\"#0d0887\"],[0.1111111111111111,\"#46039f\"],[0.2222222222222222,\"#7201a8\"],[0.3333333333333333,\"#9c179e\"],[0.4444444444444444,\"#bd3786\"],[0.5555555555555556,\"#d8576b\"],[0.6666666666666666,\"#ed7953\"],[0.7777777777777778,\"#fb9f3a\"],[0.8888888888888888,\"#fdca26\"],[1.0,\"#f0f921\"]],\"type\":\"heatmap\"}],\"heatmapgl\":[{\"colorbar\":{\"outlinewidth\":0,\"ticks\":\"\"},\"colorscale\":[[0.0,\"#0d0887\"],[0.1111111111111111,\"#46039f\"],[0.2222222222222222,\"#7201a8\"],[0.3333333333333333,\"#9c179e\"],[0.4444444444444444,\"#bd3786\"],[0.5555555555555556,\"#d8576b\"],[0.6666666666666666,\"#ed7953\"],[0.7777777777777778,\"#fb9f3a\"],[0.8888888888888888,\"#fdca26\"],[1.0,\"#f0f921\"]],\"type\":\"heatmapgl\"}],\"histogram\":[{\"marker\":{\"pattern\":{\"fillmode\":\"overlay\",\"size\":10,\"solidity\":0.2}},\"type\":\"histogram\"}],\"histogram2d\":[{\"colorbar\":{\"outlinewidth\":0,\"ticks\":\"\"},\"colorscale\":[[0.0,\"#0d0887\"],[0.1111111111111111,\"#46039f\"],[0.2222222222222222,\"#7201a8\"],[0.3333333333333333,\"#9c179e\"],[0.4444444444444444,\"#bd3786\"],[0.5555555555555556,\"#d8576b\"],[0.6666666666666666,\"#ed7953\"],[0.7777777777777778,\"#fb9f3a\"],[0.8888888888888888,\"#fdca26\"],[1.0,\"#f0f921\"]],\"type\":\"histogram2d\"}],\"histogram2dcontour\":[{\"colorbar\":{\"outlinewidth\":0,\"ticks\":\"\"},\"colorscale\":[[0.0,\"#0d0887\"],[0.1111111111111111,\"#46039f\"],[0.2222222222222222,\"#7201a8\"],[0.3333333333333333,\"#9c179e\"],[0.4444444444444444,\"#bd3786\"],[0.5555555555555556,\"#d8576b\"],[0.6666666666666666,\"#ed7953\"],[0.7777777777777778,\"#fb9f3a\"],[0.8888888888888888,\"#fdca26\"],[1.0,\"#f0f921\"]],\"type\":\"histogram2dcontour\"}],\"mesh3d\":[{\"colorbar\":{\"outlinewidth\":0,\"ticks\":\"\"},\"type\":\"mesh3d\"}],\"parcoords\":[{\"line\":{\"colorbar\":{\"outlinewidth\":0,\"ticks\":\"\"}},\"type\":\"parcoords\"}],\"pie\":[{\"automargin\":true,\"type\":\"pie\"}],\"scatter\":[{\"marker\":{\"colorbar\":{\"outlinewidth\":0,\"ticks\":\"\"}},\"type\":\"scatter\"}],\"scatter3d\":[{\"line\":{\"colorbar\":{\"outlinewidth\":0,\"ticks\":\"\"}},\"marker\":{\"colorbar\":{\"outlinewidth\":0,\"ticks\":\"\"}},\"type\":\"scatter3d\"}],\"scattercarpet\":[{\"marker\":{\"colorbar\":{\"outlinewidth\":0,\"ticks\":\"\"}},\"type\":\"scattercarpet\"}],\"scattergeo\":[{\"marker\":{\"colorbar\":{\"outlinewidth\":0,\"ticks\":\"\"}},\"type\":\"scattergeo\"}],\"scattergl\":[{\"marker\":{\"colorbar\":{\"outlinewidth\":0,\"ticks\":\"\"}},\"type\":\"scattergl\"}],\"scattermapbox\":[{\"marker\":{\"colorbar\":{\"outlinewidth\":0,\"ticks\":\"\"}},\"type\":\"scattermapbox\"}],\"scatterpolar\":[{\"marker\":{\"colorbar\":{\"outlinewidth\":0,\"ticks\":\"\"}},\"type\":\"scatterpolar\"}],\"scatterpolargl\":[{\"marker\":{\"colorbar\":{\"outlinewidth\":0,\"ticks\":\"\"}},\"type\":\"scatterpolargl\"}],\"scatterternary\":[{\"marker\":{\"colorbar\":{\"outlinewidth\":0,\"ticks\":\"\"}},\"type\":\"scatterternary\"}],\"surface\":[{\"colorbar\":{\"outlinewidth\":0,\"ticks\":\"\"},\"colorscale\":[[0.0,\"#0d0887\"],[0.1111111111111111,\"#46039f\"],[0.2222222222222222,\"#7201a8\"],[0.3333333333333333,\"#9c179e\"],[0.4444444444444444,\"#bd3786\"],[0.5555555555555556,\"#d8576b\"],[0.6666666666666666,\"#ed7953\"],[0.7777777777777778,\"#fb9f3a\"],[0.8888888888888888,\"#fdca26\"],[1.0,\"#f0f921\"]],\"type\":\"surface\"}],\"table\":[{\"cells\":{\"fill\":{\"color\":\"#EBF0F8\"},\"line\":{\"color\":\"white\"}},\"header\":{\"fill\":{\"color\":\"#C8D4E3\"},\"line\":{\"color\":\"white\"}},\"type\":\"table\"}]},\"layout\":{\"annotationdefaults\":{\"arrowcolor\":\"#2a3f5f\",\"arrowhead\":0,\"arrowwidth\":1},\"autotypenumbers\":\"strict\",\"coloraxis\":{\"colorbar\":{\"outlinewidth\":0,\"ticks\":\"\"}},\"colorscale\":{\"diverging\":[[0,\"#8e0152\"],[0.1,\"#c51b7d\"],[0.2,\"#de77ae\"],[0.3,\"#f1b6da\"],[0.4,\"#fde0ef\"],[0.5,\"#f7f7f7\"],[0.6,\"#e6f5d0\"],[0.7,\"#b8e186\"],[0.8,\"#7fbc41\"],[0.9,\"#4d9221\"],[1,\"#276419\"]],\"sequential\":[[0.0,\"#0d0887\"],[0.1111111111111111,\"#46039f\"],[0.2222222222222222,\"#7201a8\"],[0.3333333333333333,\"#9c179e\"],[0.4444444444444444,\"#bd3786\"],[0.5555555555555556,\"#d8576b\"],[0.6666666666666666,\"#ed7953\"],[0.7777777777777778,\"#fb9f3a\"],[0.8888888888888888,\"#fdca26\"],[1.0,\"#f0f921\"]],\"sequentialminus\":[[0.0,\"#0d0887\"],[0.1111111111111111,\"#46039f\"],[0.2222222222222222,\"#7201a8\"],[0.3333333333333333,\"#9c179e\"],[0.4444444444444444,\"#bd3786\"],[0.5555555555555556,\"#d8576b\"],[0.6666666666666666,\"#ed7953\"],[0.7777777777777778,\"#fb9f3a\"],[0.8888888888888888,\"#fdca26\"],[1.0,\"#f0f921\"]]},\"colorway\":[\"#636efa\",\"#EF553B\",\"#00cc96\",\"#ab63fa\",\"#FFA15A\",\"#19d3f3\",\"#FF6692\",\"#B6E880\",\"#FF97FF\",\"#FECB52\"],\"font\":{\"color\":\"#2a3f5f\"},\"geo\":{\"bgcolor\":\"white\",\"lakecolor\":\"white\",\"landcolor\":\"#E5ECF6\",\"showlakes\":true,\"showland\":true,\"subunitcolor\":\"white\"},\"hoverlabel\":{\"align\":\"left\"},\"hovermode\":\"closest\",\"mapbox\":{\"style\":\"light\"},\"paper_bgcolor\":\"white\",\"plot_bgcolor\":\"#E5ECF6\",\"polar\":{\"angularaxis\":{\"gridcolor\":\"white\",\"linecolor\":\"white\",\"ticks\":\"\"},\"bgcolor\":\"#E5ECF6\",\"radialaxis\":{\"gridcolor\":\"white\",\"linecolor\":\"white\",\"ticks\":\"\"}},\"scene\":{\"xaxis\":{\"backgroundcolor\":\"#E5ECF6\",\"gridcolor\":\"white\",\"gridwidth\":2,\"linecolor\":\"white\",\"showbackground\":true,\"ticks\":\"\",\"zerolinecolor\":\"white\"},\"yaxis\":{\"backgroundcolor\":\"#E5ECF6\",\"gridcolor\":\"white\",\"gridwidth\":2,\"linecolor\":\"white\",\"showbackground\":true,\"ticks\":\"\",\"zerolinecolor\":\"white\"},\"zaxis\":{\"backgroundcolor\":\"#E5ECF6\",\"gridcolor\":\"white\",\"gridwidth\":2,\"linecolor\":\"white\",\"showbackground\":true,\"ticks\":\"\",\"zerolinecolor\":\"white\"}},\"shapedefaults\":{\"line\":{\"color\":\"#2a3f5f\"}},\"ternary\":{\"aaxis\":{\"gridcolor\":\"white\",\"linecolor\":\"white\",\"ticks\":\"\"},\"baxis\":{\"gridcolor\":\"white\",\"linecolor\":\"white\",\"ticks\":\"\"},\"bgcolor\":\"#E5ECF6\",\"caxis\":{\"gridcolor\":\"white\",\"linecolor\":\"white\",\"ticks\":\"\"}},\"title\":{\"x\":0.05},\"xaxis\":{\"automargin\":true,\"gridcolor\":\"white\",\"linecolor\":\"white\",\"ticks\":\"\",\"title\":{\"standoff\":15},\"zerolinecolor\":\"white\",\"zerolinewidth\":2},\"yaxis\":{\"automargin\":true,\"gridcolor\":\"white\",\"linecolor\":\"white\",\"ticks\":\"\",\"title\":{\"standoff\":15},\"zerolinecolor\":\"white\",\"zerolinewidth\":2}}},\"updatemenus\":[{\"buttons\":[{\"args\":[{\"x\":[\"GDP per capita\"]},[0]],\"label\":\"GDP per capita\",\"method\":\"update\",\"visible\":true},{\"args\":[{\"x\":[\"Social support\"]},[1]],\"label\":\"Social support\",\"method\":\"update\",\"visible\":true}]}]},                        {\"responsive\": true}                    ).then(function(){\n",
       "                            \n",
       "var gd = document.getElementById('af406ed3-765b-43ba-8b6d-4f0625ca9582');\n",
       "var x = new MutationObserver(function (mutations, observer) {{\n",
       "        var display = window.getComputedStyle(gd).display;\n",
       "        if (!display || display === 'none') {{\n",
       "            console.log([gd, 'removed!']);\n",
       "            Plotly.purge(gd);\n",
       "            observer.disconnect();\n",
       "        }}\n",
       "}});\n",
       "\n",
       "// Listen for the removal of the full notebook cells\n",
       "var notebookContainer = gd.closest('#notebook-container');\n",
       "if (notebookContainer) {{\n",
       "    x.observe(notebookContainer, {childList: true});\n",
       "}}\n",
       "\n",
       "// Listen for the clearing of the current output cell\n",
       "var outputEl = gd.closest('.output');\n",
       "if (outputEl) {{\n",
       "    x.observe(outputEl, {childList: true});\n",
       "}}\n",
       "\n",
       "                        })                };                });            </script>        </div>"
      ]
     },
     "metadata": {},
     "output_type": "display_data"
    }
   ],
   "source": [
    "fig = go.Figure()\n",
    "\n",
    "for col in cols:\n",
    "    figpx = px.scatter(df18,\n",
    "                       x=col,\n",
    "                       y=\"Score\",\n",
    "                       size=\"Population\",\n",
    "                       color=\"Continent\",\n",
    "                       hover_name=\"Country/Region\",\n",
    "                       size_max=60,\n",
    "                       color_discrete_sequence=px.colors.qualitative.G10)\n",
    "    \n",
    "    fig.add_traces(figpx.data)\n",
    "\n",
    "updatemenu = []\n",
    "buttons = []\n",
    "for i, col in enumerate(cols):\n",
    "    buttons.append(dict(method='update', label=col, visible=True, args=[{'x':[col]},[i]],))\n",
    "\n",
    "updatemenu=[]\n",
    "your_menu=dict()\n",
    "updatemenu.append(your_menu)\n",
    "\n",
    "updatemenu[0]['buttons']=buttons\n",
    "\n",
    "# add dropdown menus to the figure\n",
    "fig.update_layout(showlegend=False, updatemenus=updatemenu)\n",
    "\n",
    "fig.show()"
   ]
  },
  {
   "cell_type": "markdown",
   "id": "41cccf91",
   "metadata": {},
   "source": [
    "# Plotly Express Visuals"
   ]
  },
  {
   "cell_type": "code",
   "execution_count": 37,
   "id": "7278d9e1",
   "metadata": {},
   "outputs": [
    {
     "data": {
      "application/vnd.plotly.v1+json": {
       "config": {
        "plotlyServerURL": "https://plot.ly"
       },
       "data": [
        {
         "hovertemplate": "<b>%{hovertext}</b><br><br>Continent=Europe<br>GDP per capita=%{x}<br>Score=%{y}<br>Population=%{marker.size}<extra></extra>",
         "hovertext": [
          "Finland",
          "Norway",
          "Denmark",
          "Iceland",
          "Switzerland",
          "Netherlands",
          "Sweden",
          "United Kingdom",
          "Austria",
          "Ireland",
          "Germany",
          "Belgium",
          "Luxembourg",
          "Czech Republic",
          "Malta",
          "France",
          "Spain",
          "Slovakia",
          "Poland",
          "Italy",
          "Lithuania",
          "Slovenia",
          "Romania",
          "Latvia",
          "Russia",
          "Estonia",
          "Kosovo",
          "Moldova",
          "Hungary",
          "Belarus",
          "Portugal",
          "Serbia",
          "Greece",
          "Montenegro",
          "Croatia",
          "Macedonia",
          "Bosnia and Herzegovina",
          "Bulgaria",
          "Albania",
          "Ukraine"
         ],
         "legendgroup": "Europe",
         "marker": {
          "color": "#3366CC",
          "size": [
           5470437,
           5156450,
           5655750,
           328170,
           8183800,
           16881000,
           9737521,
           64105654,
           8527230,
           6378000,
           80783000,
           11225469,
           549700,
           10521600,
           416055,
           66078000,
           46507760,
           5415949,
           38496000,
           60769102,
           2927310,
           2064966,
           19942642,
           1991800,
           146233000,
           1315819,
           1795666,
           3557600,
           9879000,
           9475100,
           10477800,
           7186862,
           10992589,
           627809,
           4267558,
           2085051,
           3791622,
           7245677,
           2895947,
           42973696
          ],
          "sizemode": "area",
          "sizeref": 379752.77777777775,
          "symbol": "circle"
         },
         "mode": "markers",
         "name": "Europe",
         "orientation": "v",
         "showlegend": true,
         "type": "scatter",
         "x": [
          1.305,
          1.456,
          1.351,
          1.343,
          1.42,
          1.361,
          1.355,
          1.244,
          1.341,
          1.448,
          1.34,
          1.324,
          1.576,
          1.233,
          1.27,
          1.293,
          1.251,
          1.21,
          1.176,
          1.264,
          1.197,
          1.219,
          1.116,
          1.148,
          1.151,
          1.2,
          0.855,
          0.657,
          1.171,
          1.039,
          1.188,
          0.975,
          1.154,
          1.017,
          1.115,
          0.959,
          0.915,
          1.054,
          0.916,
          0.793
         ],
         "xaxis": "x",
         "y": [
          7.632,
          7.594,
          7.555,
          7.495,
          7.487,
          7.441,
          7.314,
          7.19,
          7.139,
          6.977,
          6.965,
          6.927,
          6.91,
          6.711,
          6.627,
          6.489,
          6.31,
          6.173,
          6.123,
          6,
          5.952,
          5.948,
          5.945,
          5.933,
          5.81,
          5.739,
          5.662,
          5.64,
          5.62,
          5.483,
          5.41,
          5.398,
          5.358,
          5.347,
          5.321,
          5.185,
          5.129,
          4.933,
          4.586,
          4.103
         ],
         "yaxis": "y"
        },
        {
         "hovertemplate": "<b>%{hovertext}</b><br><br>Continent=North America<br>GDP per capita=%{x}<br>Score=%{y}<br>Population=%{marker.size}<extra></extra>",
         "hovertext": [
          "Canada",
          "Costa Rica",
          "United States",
          "Mexico",
          "Panama",
          "Guatemala",
          "Trinidad and Tobago",
          "El Salvador",
          "Nicaragua",
          "Belize",
          "Jamaica",
          "Honduras",
          "Dominican Republic",
          "Haiti"
         ],
         "legendgroup": "North America",
         "marker": {
          "color": "#DC3912",
          "size": [
           35540419,
           4713168,
           319259000,
           119713203,
           3713312,
           15806675,
           1328019,
           6401240,
           6134270,
           349728,
           2717991,
           8725111,
           10378267,
           10745665
          ],
          "sizemode": "area",
          "sizeref": 379752.77777777775,
          "symbol": "circle"
         },
         "mode": "markers",
         "name": "North America",
         "orientation": "v",
         "showlegend": true,
         "type": "scatter",
         "x": [
          1.33,
          1.01,
          1.398,
          1.038,
          1.112,
          0.781,
          1.223,
          0.806,
          0.668,
          0.807,
          0.819,
          0.62,
          0.982,
          0.315
         ],
         "xaxis": "x",
         "y": [
          7.328,
          7.072,
          6.886,
          6.488,
          6.43,
          6.382,
          6.192,
          6.167,
          6.141,
          5.956,
          5.89,
          5.504,
          5.302,
          3.582
         ],
         "yaxis": "y"
        },
        {
         "hovertemplate": "<b>%{hovertext}</b><br><br>Continent=Oceania<br>GDP per capita=%{x}<br>Score=%{y}<br>Population=%{marker.size}<extra></extra>",
         "hovertext": [
          "New Zealand",
          "Australia"
         ],
         "legendgroup": "Oceania",
         "marker": {
          "color": "#FF9900",
          "size": [
           4547900,
           23696900
          ],
          "sizemode": "area",
          "sizeref": 379752.77777777775,
          "symbol": "circle"
         },
         "mode": "markers",
         "name": "Oceania",
         "orientation": "v",
         "showlegend": true,
         "type": "scatter",
         "x": [
          1.268,
          1.34
         ],
         "xaxis": "x",
         "y": [
          7.324,
          7.272
         ],
         "yaxis": "y"
        },
        {
         "hovertemplate": "<b>%{hovertext}</b><br><br>Continent=Asia<br>GDP per capita=%{x}<br>Score=%{y}<br>Population=%{marker.size}<extra></extra>",
         "hovertext": [
          "Israel",
          "United Arab Emirates",
          "Taiwan",
          "Qatar",
          "Saudi Arabia",
          "Singapore",
          "Malaysia",
          "Bahrain",
          "Uzbekistan",
          "Kuwait",
          "Thailand",
          "Japan",
          "South Korea",
          "Cyprus",
          "Kazakhstan",
          "Cyprus",
          "Turkmenistan",
          "Philippines",
          "Turkey",
          "Pakistan",
          "Hong Kong",
          "Lebanon",
          "China",
          "Azerbaijan",
          "Tajikistan",
          "Jordan",
          "Kyrgyz Republic",
          "Mongolia",
          "Vietnam",
          "Indonesia",
          "Bhutan",
          "Nepal",
          "Palestine",
          "Iran",
          "Laos",
          "Bangladesh",
          "Sri Lanka",
          "Iraq",
          "Cambodia",
          "Georgia",
          "Armenia",
          "Myanmar",
          "India",
          "Afghanistan",
          "Syria",
          "Yemen"
         ],
         "legendgroup": "Asia",
         "marker": {
          "color": "#109618",
          "size": [
           8268400,
           9446000,
           23424615,
           2269672,
           30770375,
           5469700,
           30430500,
           1316500,
           30492800,
           3268431,
           64871000,
           127080000,
           50423955,
           858000,
           17377800,
           858000,
           5838064,
           100697400,
           76667864,
           188410000,
           7234800,
           4104000,
           1367110000,
           9552500,
           8161000,
           6666960,
           5776570,
           2987733,
           89708900,
           252164800,
           755030,
           27646053,
           5091819,
           77966400,
           6693300,
           157486000,
           20277597,
           36004552,
           15184116,
           4490500,
           3009800,
           53708318,
           1263930000,
           26023100,
           22964324,
           25956000
          ],
          "sizemode": "area",
          "sizeref": 379752.77777777775,
          "symbol": "circle"
         },
         "mode": "markers",
         "name": "Asia",
         "orientation": "v",
         "showlegend": true,
         "type": "scatter",
         "x": [
          1.301,
          2.096,
          1.365,
          1.649,
          1.379,
          1.529,
          1.161,
          1.338,
          0.719,
          1.474,
          1.016,
          1.294,
          1.266,
          1.229,
          1.143,
          1.229,
          1.016,
          0.775,
          1.148,
          0.652,
          1.405,
          0.965,
          0.989,
          1.024,
          0.474,
          0.822,
          0.53,
          0.914,
          0.715,
          0.899,
          0.796,
          0.425,
          0.642,
          1.059,
          0.72,
          0.532,
          0.918,
          1.01,
          0.549,
          0.853,
          0.816,
          0.682,
          0.721,
          0.332,
          0.689,
          0.442
         ],
         "xaxis": "x",
         "y": [
          6.814,
          6.774,
          6.441,
          6.374,
          6.371,
          6.343,
          6.322,
          6.105,
          6.096,
          6.083,
          6.072,
          5.915,
          5.875,
          5.835,
          5.79,
          5.762,
          5.636,
          5.524,
          5.483,
          5.472,
          5.43,
          5.358,
          5.246,
          5.201,
          5.199,
          5.161,
          5.131,
          5.125,
          5.103,
          5.093,
          5.082,
          4.88,
          4.743,
          4.707,
          4.623,
          4.5,
          4.471,
          4.456,
          4.433,
          4.34,
          4.321,
          4.308,
          4.19,
          3.632,
          3.462,
          3.355
         ],
         "yaxis": "y"
        },
        {
         "hovertemplate": "<b>%{hovertext}</b><br><br>Continent=South America<br>GDP per capita=%{x}<br>Score=%{y}<br>Population=%{marker.size}<extra></extra>",
         "hovertext": [
          "Chile",
          "Brazil",
          "Argentina",
          "Uruguay",
          "Colombia",
          "Ecuador",
          "Bolivia",
          "Paraguay",
          "Peru",
          "Venezuela"
         ],
         "legendgroup": "South America",
         "marker": {
          "color": "#990099",
          "size": [
           17819054,
           203586000,
           42669500,
           3404189,
           47907800,
           15888900,
           10027254,
           6893727,
           30814175,
           30206307
          ],
          "sizemode": "area",
          "sizeref": 379752.77777777775,
          "symbol": "circle"
         },
         "mode": "markers",
         "name": "South America",
         "orientation": "v",
         "showlegend": true,
         "type": "scatter",
         "x": [
          1.131,
          0.986,
          1.073,
          1.093,
          0.96,
          0.889,
          0.751,
          0.835,
          0.934,
          0.996
         ],
         "xaxis": "x",
         "y": [
          6.476,
          6.419,
          6.388,
          6.379,
          6.26,
          5.973,
          5.752,
          5.681,
          5.663,
          4.806
         ],
         "yaxis": "y"
        },
        {
         "hovertemplate": "<b>%{hovertext}</b><br><br>Continent=Africa<br>GDP per capita=%{x}<br>Score=%{y}<br>Population=%{marker.size}<extra></extra>",
         "hovertext": [
          "Mauritius",
          "Libya",
          "Algeria",
          "Morocco",
          "Nigeria",
          "Somalia",
          "Cameroon",
          "Gabon",
          "South Africa",
          "Cote d'Ivoire",
          "Ghana",
          "Senegal",
          "Tunisia",
          "Sierra Leone",
          "Congo Republic",
          "Mali",
          "Namibia",
          "Burkina Faso",
          "Egypt",
          "Mozambique",
          "Kenya",
          "Zambia",
          "Mauritania",
          "Ethiopia",
          "Chad",
          "DR Congo",
          "Niger",
          "Uganda",
          "Benin",
          "Sudan",
          "Togo",
          "Guinea",
          "Lesotho",
          "Angola",
          "Madagascar",
          "Zimbabwe",
          "Botswana",
          "Malawi",
          "Liberia",
          "Rwanda",
          "Tanzania",
          "South Sudan",
          "Central African Republic",
          "Burundi"
         ],
         "legendgroup": "Africa",
         "marker": {
          "color": "#0099C6",
          "size": [
           1261208,
           6253000,
           38700000,
           33465000,
           178517000,
           10806000,
           20386799,
           1711000,
           54002000,
           26378275,
           27043093,
           13508715,
           10982754,
           6205000,
           5244362,
           15768000,
           2113077,
           17322796,
           87668100,
           25041922,
           41800000,
           15023315,
           3545620,
           87952991,
           13211000,
           69360000,
           17138707,
           34856813,
           9988068,
           37289406,
           6993000,
           10628972,
           2098000,
           24383301,
           21842167,
           13061239,
           2024904,
           15805239,
           4397000,
           10996891,
           47421786,
           11384393,
           4709000,
           9530434
          ],
          "sizemode": "area",
          "sizeref": 379752.77777777775,
          "symbol": "circle"
         },
         "mode": "markers",
         "name": "Africa",
         "orientation": "v",
         "showlegend": true,
         "type": "scatter",
         "x": [
          1.09,
          0.985,
          0.979,
          0.779,
          0.689,
          0,
          0.535,
          1.036,
          0.94,
          0.541,
          0.592,
          0.429,
          0.9,
          0.256,
          0.682,
          0.37,
          0.874,
          0.314,
          0.885,
          0.198,
          0.493,
          0.562,
          0.557,
          0.308,
          0.358,
          0.069,
          0.131,
          0.322,
          0.378,
          0.605,
          0.259,
          0.344,
          0.472,
          0.73,
          0.262,
          0.357,
          1.017,
          0.186,
          0.076,
          0.332,
          0.455,
          0.337,
          0.024,
          0.091
         ],
         "xaxis": "x",
         "y": [
          5.891,
          5.566,
          5.295,
          5.254,
          5.155,
          4.982,
          4.975,
          4.758,
          4.724,
          4.671,
          4.657,
          4.631,
          4.592,
          4.571,
          4.559,
          4.447,
          4.441,
          4.424,
          4.419,
          4.417,
          4.41,
          4.377,
          4.356,
          4.35,
          4.301,
          4.245,
          4.166,
          4.161,
          4.141,
          4.139,
          3.999,
          3.964,
          3.808,
          3.795,
          3.774,
          3.692,
          3.59,
          3.587,
          3.495,
          3.408,
          3.303,
          3.254,
          3.083,
          2.905
         ],
         "yaxis": "y"
        }
       ],
       "layout": {
        "legend": {
         "itemsizing": "constant",
         "title": {
          "text": "Continent"
         },
         "tracegroupgap": 0
        },
        "margin": {
         "t": 60
        },
        "template": {
         "data": {
          "bar": [
           {
            "error_x": {
             "color": "#2a3f5f"
            },
            "error_y": {
             "color": "#2a3f5f"
            },
            "marker": {
             "line": {
              "color": "#E5ECF6",
              "width": 0.5
             },
             "pattern": {
              "fillmode": "overlay",
              "size": 10,
              "solidity": 0.2
             }
            },
            "type": "bar"
           }
          ],
          "barpolar": [
           {
            "marker": {
             "line": {
              "color": "#E5ECF6",
              "width": 0.5
             },
             "pattern": {
              "fillmode": "overlay",
              "size": 10,
              "solidity": 0.2
             }
            },
            "type": "barpolar"
           }
          ],
          "carpet": [
           {
            "aaxis": {
             "endlinecolor": "#2a3f5f",
             "gridcolor": "white",
             "linecolor": "white",
             "minorgridcolor": "white",
             "startlinecolor": "#2a3f5f"
            },
            "baxis": {
             "endlinecolor": "#2a3f5f",
             "gridcolor": "white",
             "linecolor": "white",
             "minorgridcolor": "white",
             "startlinecolor": "#2a3f5f"
            },
            "type": "carpet"
           }
          ],
          "choropleth": [
           {
            "colorbar": {
             "outlinewidth": 0,
             "ticks": ""
            },
            "type": "choropleth"
           }
          ],
          "contour": [
           {
            "colorbar": {
             "outlinewidth": 0,
             "ticks": ""
            },
            "colorscale": [
             [
              0,
              "#0d0887"
             ],
             [
              0.1111111111111111,
              "#46039f"
             ],
             [
              0.2222222222222222,
              "#7201a8"
             ],
             [
              0.3333333333333333,
              "#9c179e"
             ],
             [
              0.4444444444444444,
              "#bd3786"
             ],
             [
              0.5555555555555556,
              "#d8576b"
             ],
             [
              0.6666666666666666,
              "#ed7953"
             ],
             [
              0.7777777777777778,
              "#fb9f3a"
             ],
             [
              0.8888888888888888,
              "#fdca26"
             ],
             [
              1,
              "#f0f921"
             ]
            ],
            "type": "contour"
           }
          ],
          "contourcarpet": [
           {
            "colorbar": {
             "outlinewidth": 0,
             "ticks": ""
            },
            "type": "contourcarpet"
           }
          ],
          "heatmap": [
           {
            "colorbar": {
             "outlinewidth": 0,
             "ticks": ""
            },
            "colorscale": [
             [
              0,
              "#0d0887"
             ],
             [
              0.1111111111111111,
              "#46039f"
             ],
             [
              0.2222222222222222,
              "#7201a8"
             ],
             [
              0.3333333333333333,
              "#9c179e"
             ],
             [
              0.4444444444444444,
              "#bd3786"
             ],
             [
              0.5555555555555556,
              "#d8576b"
             ],
             [
              0.6666666666666666,
              "#ed7953"
             ],
             [
              0.7777777777777778,
              "#fb9f3a"
             ],
             [
              0.8888888888888888,
              "#fdca26"
             ],
             [
              1,
              "#f0f921"
             ]
            ],
            "type": "heatmap"
           }
          ],
          "heatmapgl": [
           {
            "colorbar": {
             "outlinewidth": 0,
             "ticks": ""
            },
            "colorscale": [
             [
              0,
              "#0d0887"
             ],
             [
              0.1111111111111111,
              "#46039f"
             ],
             [
              0.2222222222222222,
              "#7201a8"
             ],
             [
              0.3333333333333333,
              "#9c179e"
             ],
             [
              0.4444444444444444,
              "#bd3786"
             ],
             [
              0.5555555555555556,
              "#d8576b"
             ],
             [
              0.6666666666666666,
              "#ed7953"
             ],
             [
              0.7777777777777778,
              "#fb9f3a"
             ],
             [
              0.8888888888888888,
              "#fdca26"
             ],
             [
              1,
              "#f0f921"
             ]
            ],
            "type": "heatmapgl"
           }
          ],
          "histogram": [
           {
            "marker": {
             "pattern": {
              "fillmode": "overlay",
              "size": 10,
              "solidity": 0.2
             }
            },
            "type": "histogram"
           }
          ],
          "histogram2d": [
           {
            "colorbar": {
             "outlinewidth": 0,
             "ticks": ""
            },
            "colorscale": [
             [
              0,
              "#0d0887"
             ],
             [
              0.1111111111111111,
              "#46039f"
             ],
             [
              0.2222222222222222,
              "#7201a8"
             ],
             [
              0.3333333333333333,
              "#9c179e"
             ],
             [
              0.4444444444444444,
              "#bd3786"
             ],
             [
              0.5555555555555556,
              "#d8576b"
             ],
             [
              0.6666666666666666,
              "#ed7953"
             ],
             [
              0.7777777777777778,
              "#fb9f3a"
             ],
             [
              0.8888888888888888,
              "#fdca26"
             ],
             [
              1,
              "#f0f921"
             ]
            ],
            "type": "histogram2d"
           }
          ],
          "histogram2dcontour": [
           {
            "colorbar": {
             "outlinewidth": 0,
             "ticks": ""
            },
            "colorscale": [
             [
              0,
              "#0d0887"
             ],
             [
              0.1111111111111111,
              "#46039f"
             ],
             [
              0.2222222222222222,
              "#7201a8"
             ],
             [
              0.3333333333333333,
              "#9c179e"
             ],
             [
              0.4444444444444444,
              "#bd3786"
             ],
             [
              0.5555555555555556,
              "#d8576b"
             ],
             [
              0.6666666666666666,
              "#ed7953"
             ],
             [
              0.7777777777777778,
              "#fb9f3a"
             ],
             [
              0.8888888888888888,
              "#fdca26"
             ],
             [
              1,
              "#f0f921"
             ]
            ],
            "type": "histogram2dcontour"
           }
          ],
          "mesh3d": [
           {
            "colorbar": {
             "outlinewidth": 0,
             "ticks": ""
            },
            "type": "mesh3d"
           }
          ],
          "parcoords": [
           {
            "line": {
             "colorbar": {
              "outlinewidth": 0,
              "ticks": ""
             }
            },
            "type": "parcoords"
           }
          ],
          "pie": [
           {
            "automargin": true,
            "type": "pie"
           }
          ],
          "scatter": [
           {
            "marker": {
             "colorbar": {
              "outlinewidth": 0,
              "ticks": ""
             }
            },
            "type": "scatter"
           }
          ],
          "scatter3d": [
           {
            "line": {
             "colorbar": {
              "outlinewidth": 0,
              "ticks": ""
             }
            },
            "marker": {
             "colorbar": {
              "outlinewidth": 0,
              "ticks": ""
             }
            },
            "type": "scatter3d"
           }
          ],
          "scattercarpet": [
           {
            "marker": {
             "colorbar": {
              "outlinewidth": 0,
              "ticks": ""
             }
            },
            "type": "scattercarpet"
           }
          ],
          "scattergeo": [
           {
            "marker": {
             "colorbar": {
              "outlinewidth": 0,
              "ticks": ""
             }
            },
            "type": "scattergeo"
           }
          ],
          "scattergl": [
           {
            "marker": {
             "colorbar": {
              "outlinewidth": 0,
              "ticks": ""
             }
            },
            "type": "scattergl"
           }
          ],
          "scattermapbox": [
           {
            "marker": {
             "colorbar": {
              "outlinewidth": 0,
              "ticks": ""
             }
            },
            "type": "scattermapbox"
           }
          ],
          "scatterpolar": [
           {
            "marker": {
             "colorbar": {
              "outlinewidth": 0,
              "ticks": ""
             }
            },
            "type": "scatterpolar"
           }
          ],
          "scatterpolargl": [
           {
            "marker": {
             "colorbar": {
              "outlinewidth": 0,
              "ticks": ""
             }
            },
            "type": "scatterpolargl"
           }
          ],
          "scatterternary": [
           {
            "marker": {
             "colorbar": {
              "outlinewidth": 0,
              "ticks": ""
             }
            },
            "type": "scatterternary"
           }
          ],
          "surface": [
           {
            "colorbar": {
             "outlinewidth": 0,
             "ticks": ""
            },
            "colorscale": [
             [
              0,
              "#0d0887"
             ],
             [
              0.1111111111111111,
              "#46039f"
             ],
             [
              0.2222222222222222,
              "#7201a8"
             ],
             [
              0.3333333333333333,
              "#9c179e"
             ],
             [
              0.4444444444444444,
              "#bd3786"
             ],
             [
              0.5555555555555556,
              "#d8576b"
             ],
             [
              0.6666666666666666,
              "#ed7953"
             ],
             [
              0.7777777777777778,
              "#fb9f3a"
             ],
             [
              0.8888888888888888,
              "#fdca26"
             ],
             [
              1,
              "#f0f921"
             ]
            ],
            "type": "surface"
           }
          ],
          "table": [
           {
            "cells": {
             "fill": {
              "color": "#EBF0F8"
             },
             "line": {
              "color": "white"
             }
            },
            "header": {
             "fill": {
              "color": "#C8D4E3"
             },
             "line": {
              "color": "white"
             }
            },
            "type": "table"
           }
          ]
         },
         "layout": {
          "annotationdefaults": {
           "arrowcolor": "#2a3f5f",
           "arrowhead": 0,
           "arrowwidth": 1
          },
          "autotypenumbers": "strict",
          "coloraxis": {
           "colorbar": {
            "outlinewidth": 0,
            "ticks": ""
           }
          },
          "colorscale": {
           "diverging": [
            [
             0,
             "#8e0152"
            ],
            [
             0.1,
             "#c51b7d"
            ],
            [
             0.2,
             "#de77ae"
            ],
            [
             0.3,
             "#f1b6da"
            ],
            [
             0.4,
             "#fde0ef"
            ],
            [
             0.5,
             "#f7f7f7"
            ],
            [
             0.6,
             "#e6f5d0"
            ],
            [
             0.7,
             "#b8e186"
            ],
            [
             0.8,
             "#7fbc41"
            ],
            [
             0.9,
             "#4d9221"
            ],
            [
             1,
             "#276419"
            ]
           ],
           "sequential": [
            [
             0,
             "#0d0887"
            ],
            [
             0.1111111111111111,
             "#46039f"
            ],
            [
             0.2222222222222222,
             "#7201a8"
            ],
            [
             0.3333333333333333,
             "#9c179e"
            ],
            [
             0.4444444444444444,
             "#bd3786"
            ],
            [
             0.5555555555555556,
             "#d8576b"
            ],
            [
             0.6666666666666666,
             "#ed7953"
            ],
            [
             0.7777777777777778,
             "#fb9f3a"
            ],
            [
             0.8888888888888888,
             "#fdca26"
            ],
            [
             1,
             "#f0f921"
            ]
           ],
           "sequentialminus": [
            [
             0,
             "#0d0887"
            ],
            [
             0.1111111111111111,
             "#46039f"
            ],
            [
             0.2222222222222222,
             "#7201a8"
            ],
            [
             0.3333333333333333,
             "#9c179e"
            ],
            [
             0.4444444444444444,
             "#bd3786"
            ],
            [
             0.5555555555555556,
             "#d8576b"
            ],
            [
             0.6666666666666666,
             "#ed7953"
            ],
            [
             0.7777777777777778,
             "#fb9f3a"
            ],
            [
             0.8888888888888888,
             "#fdca26"
            ],
            [
             1,
             "#f0f921"
            ]
           ]
          },
          "colorway": [
           "#636efa",
           "#EF553B",
           "#00cc96",
           "#ab63fa",
           "#FFA15A",
           "#19d3f3",
           "#FF6692",
           "#B6E880",
           "#FF97FF",
           "#FECB52"
          ],
          "font": {
           "color": "#2a3f5f"
          },
          "geo": {
           "bgcolor": "white",
           "lakecolor": "white",
           "landcolor": "#E5ECF6",
           "showlakes": true,
           "showland": true,
           "subunitcolor": "white"
          },
          "hoverlabel": {
           "align": "left"
          },
          "hovermode": "closest",
          "mapbox": {
           "style": "light"
          },
          "paper_bgcolor": "white",
          "plot_bgcolor": "#E5ECF6",
          "polar": {
           "angularaxis": {
            "gridcolor": "white",
            "linecolor": "white",
            "ticks": ""
           },
           "bgcolor": "#E5ECF6",
           "radialaxis": {
            "gridcolor": "white",
            "linecolor": "white",
            "ticks": ""
           }
          },
          "scene": {
           "xaxis": {
            "backgroundcolor": "#E5ECF6",
            "gridcolor": "white",
            "gridwidth": 2,
            "linecolor": "white",
            "showbackground": true,
            "ticks": "",
            "zerolinecolor": "white"
           },
           "yaxis": {
            "backgroundcolor": "#E5ECF6",
            "gridcolor": "white",
            "gridwidth": 2,
            "linecolor": "white",
            "showbackground": true,
            "ticks": "",
            "zerolinecolor": "white"
           },
           "zaxis": {
            "backgroundcolor": "#E5ECF6",
            "gridcolor": "white",
            "gridwidth": 2,
            "linecolor": "white",
            "showbackground": true,
            "ticks": "",
            "zerolinecolor": "white"
           }
          },
          "shapedefaults": {
           "line": {
            "color": "#2a3f5f"
           }
          },
          "ternary": {
           "aaxis": {
            "gridcolor": "white",
            "linecolor": "white",
            "ticks": ""
           },
           "baxis": {
            "gridcolor": "white",
            "linecolor": "white",
            "ticks": ""
           },
           "bgcolor": "#E5ECF6",
           "caxis": {
            "gridcolor": "white",
            "linecolor": "white",
            "ticks": ""
           }
          },
          "title": {
           "x": 0.05
          },
          "xaxis": {
           "automargin": true,
           "gridcolor": "white",
           "linecolor": "white",
           "ticks": "",
           "title": {
            "standoff": 15
           },
           "zerolinecolor": "white",
           "zerolinewidth": 2
          },
          "yaxis": {
           "automargin": true,
           "gridcolor": "white",
           "linecolor": "white",
           "ticks": "",
           "title": {
            "standoff": 15
           },
           "zerolinecolor": "white",
           "zerolinewidth": 2
          }
         }
        },
        "xaxis": {
         "anchor": "y",
         "domain": [
          0,
          1
         ],
         "title": {
          "text": "GDP per capita"
         }
        },
        "yaxis": {
         "anchor": "x",
         "domain": [
          0,
          1
         ],
         "title": {
          "text": "Score"
         }
        }
       }
      },
      "text/html": [
       "<div>                            <div id=\"66bda2c0-2429-43c8-897b-76f9ca1febbd\" class=\"plotly-graph-div\" style=\"height:525px; width:100%;\"></div>            <script type=\"text/javascript\">                require([\"plotly\"], function(Plotly) {                    window.PLOTLYENV=window.PLOTLYENV || {};                                    if (document.getElementById(\"66bda2c0-2429-43c8-897b-76f9ca1febbd\")) {                    Plotly.newPlot(                        \"66bda2c0-2429-43c8-897b-76f9ca1febbd\",                        [{\"hovertemplate\":\"<b>%{hovertext}</b><br><br>Continent=Europe<br>GDP per capita=%{x}<br>Score=%{y}<br>Population=%{marker.size}<extra></extra>\",\"hovertext\":[\"Finland\",\"Norway\",\"Denmark\",\"Iceland\",\"Switzerland\",\"Netherlands\",\"Sweden\",\"United Kingdom\",\"Austria\",\"Ireland\",\"Germany\",\"Belgium\",\"Luxembourg\",\"Czech Republic\",\"Malta\",\"France\",\"Spain\",\"Slovakia\",\"Poland\",\"Italy\",\"Lithuania\",\"Slovenia\",\"Romania\",\"Latvia\",\"Russia\",\"Estonia\",\"Kosovo\",\"Moldova\",\"Hungary\",\"Belarus\",\"Portugal\",\"Serbia\",\"Greece\",\"Montenegro\",\"Croatia\",\"Macedonia\",\"Bosnia and Herzegovina\",\"Bulgaria\",\"Albania\",\"Ukraine\"],\"legendgroup\":\"Europe\",\"marker\":{\"color\":\"#3366CC\",\"size\":[5470437.0,5156450.0,5655750.0,328170.0,8183800.0,16881000.0,9737521.0,64105654.0,8527230.0,6378000.0,80783000.0,11225469.0,549700.0,10521600.0,416055.0,66078000.0,46507760.0,5415949.0,38496000.0,60769102.0,2927310.0,2064966.0,19942642.0,1991800.0,146233000.0,1315819.0,1795666.0,3557600.0,9879000.0,9475100.0,10477800.0,7186862.0,10992589.0,627809.0,4267558.0,2085051.0,3791622.0,7245677.0,2895947.0,42973696.0],\"sizemode\":\"area\",\"sizeref\":379752.77777777775,\"symbol\":\"circle\"},\"mode\":\"markers\",\"name\":\"Europe\",\"orientation\":\"v\",\"showlegend\":true,\"type\":\"scatter\",\"x\":[1.305,1.456,1.351,1.343,1.42,1.361,1.355,1.244,1.341,1.448,1.34,1.324,1.576,1.233,1.27,1.293,1.251,1.21,1.176,1.264,1.197,1.219,1.116,1.148,1.151,1.2,0.855,0.657,1.171,1.039,1.188,0.975,1.154,1.017,1.115,0.959,0.915,1.054,0.916,0.793],\"xaxis\":\"x\",\"y\":[7.632,7.594,7.555,7.495,7.487,7.441,7.314,7.19,7.139,6.977,6.965,6.927,6.91,6.711,6.627,6.489,6.31,6.173,6.123,6.0,5.952,5.948,5.945,5.933,5.81,5.739,5.662,5.64,5.62,5.483,5.41,5.398,5.358,5.347,5.321,5.185,5.129,4.933,4.586,4.103],\"yaxis\":\"y\"},{\"hovertemplate\":\"<b>%{hovertext}</b><br><br>Continent=North America<br>GDP per capita=%{x}<br>Score=%{y}<br>Population=%{marker.size}<extra></extra>\",\"hovertext\":[\"Canada\",\"Costa Rica\",\"United States\",\"Mexico\",\"Panama\",\"Guatemala\",\"Trinidad and Tobago\",\"El Salvador\",\"Nicaragua\",\"Belize\",\"Jamaica\",\"Honduras\",\"Dominican Republic\",\"Haiti\"],\"legendgroup\":\"North America\",\"marker\":{\"color\":\"#DC3912\",\"size\":[35540419.0,4713168.0,319259000.0,119713203.0,3713312.0,15806675.0,1328019.0,6401240.0,6134270.0,349728.0,2717991.0,8725111.0,10378267.0,10745665.0],\"sizemode\":\"area\",\"sizeref\":379752.77777777775,\"symbol\":\"circle\"},\"mode\":\"markers\",\"name\":\"North America\",\"orientation\":\"v\",\"showlegend\":true,\"type\":\"scatter\",\"x\":[1.33,1.01,1.398,1.038,1.112,0.781,1.223,0.806,0.668,0.807,0.819,0.62,0.982,0.315],\"xaxis\":\"x\",\"y\":[7.328,7.072,6.886,6.488,6.43,6.382,6.192,6.167,6.141,5.956,5.89,5.504,5.302,3.582],\"yaxis\":\"y\"},{\"hovertemplate\":\"<b>%{hovertext}</b><br><br>Continent=Oceania<br>GDP per capita=%{x}<br>Score=%{y}<br>Population=%{marker.size}<extra></extra>\",\"hovertext\":[\"New Zealand\",\"Australia\"],\"legendgroup\":\"Oceania\",\"marker\":{\"color\":\"#FF9900\",\"size\":[4547900.0,23696900.0],\"sizemode\":\"area\",\"sizeref\":379752.77777777775,\"symbol\":\"circle\"},\"mode\":\"markers\",\"name\":\"Oceania\",\"orientation\":\"v\",\"showlegend\":true,\"type\":\"scatter\",\"x\":[1.268,1.34],\"xaxis\":\"x\",\"y\":[7.324,7.272],\"yaxis\":\"y\"},{\"hovertemplate\":\"<b>%{hovertext}</b><br><br>Continent=Asia<br>GDP per capita=%{x}<br>Score=%{y}<br>Population=%{marker.size}<extra></extra>\",\"hovertext\":[\"Israel\",\"United Arab Emirates\",\"Taiwan\",\"Qatar\",\"Saudi Arabia\",\"Singapore\",\"Malaysia\",\"Bahrain\",\"Uzbekistan\",\"Kuwait\",\"Thailand\",\"Japan\",\"South Korea\",\"Cyprus\",\"Kazakhstan\",\"Cyprus\",\"Turkmenistan\",\"Philippines\",\"Turkey\",\"Pakistan\",\"Hong Kong\",\"Lebanon\",\"China\",\"Azerbaijan\",\"Tajikistan\",\"Jordan\",\"Kyrgyz Republic\",\"Mongolia\",\"Vietnam\",\"Indonesia\",\"Bhutan\",\"Nepal\",\"Palestine\",\"Iran\",\"Laos\",\"Bangladesh\",\"Sri Lanka\",\"Iraq\",\"Cambodia\",\"Georgia\",\"Armenia\",\"Myanmar\",\"India\",\"Afghanistan\",\"Syria\",\"Yemen\"],\"legendgroup\":\"Asia\",\"marker\":{\"color\":\"#109618\",\"size\":[8268400.0,9446000.0,23424615.0,2269672.0,30770375.0,5469700.0,30430500.0,1316500.0,30492800.0,3268431.0,64871000.0,127080000.0,50423955.0,858000.0,17377800.0,858000.0,5838064.0,100697400.0,76667864.0,188410000.0,7234800.0,4104000.0,1367110000.0,9552500.0,8161000.0,6666960.0,5776570.0,2987733.0,89708900.0,252164800.0,755030.0,27646053.0,5091819.0,77966400.0,6693300.0,157486000.0,20277597.0,36004552.0,15184116.0,4490500.0,3009800.0,53708318.0,1263930000.0,26023100.0,22964324.0,25956000.0],\"sizemode\":\"area\",\"sizeref\":379752.77777777775,\"symbol\":\"circle\"},\"mode\":\"markers\",\"name\":\"Asia\",\"orientation\":\"v\",\"showlegend\":true,\"type\":\"scatter\",\"x\":[1.301,2.096,1.365,1.649,1.379,1.529,1.161,1.338,0.719,1.474,1.016,1.294,1.266,1.229,1.143,1.229,1.016,0.775,1.148,0.652,1.405,0.965,0.989,1.024,0.474,0.822,0.53,0.914,0.715,0.899,0.796,0.425,0.642,1.059,0.72,0.532,0.918,1.01,0.549,0.853,0.816,0.682,0.721,0.332,0.689,0.442],\"xaxis\":\"x\",\"y\":[6.814,6.774,6.441,6.374,6.371,6.343,6.322,6.105,6.096,6.083,6.072,5.915,5.875,5.835,5.79,5.762,5.636,5.524,5.483,5.472,5.43,5.358,5.246,5.201,5.199,5.161,5.131,5.125,5.103,5.093,5.082,4.88,4.743,4.707,4.623,4.5,4.471,4.456,4.433,4.34,4.321,4.308,4.19,3.632,3.462,3.355],\"yaxis\":\"y\"},{\"hovertemplate\":\"<b>%{hovertext}</b><br><br>Continent=South America<br>GDP per capita=%{x}<br>Score=%{y}<br>Population=%{marker.size}<extra></extra>\",\"hovertext\":[\"Chile\",\"Brazil\",\"Argentina\",\"Uruguay\",\"Colombia\",\"Ecuador\",\"Bolivia\",\"Paraguay\",\"Peru\",\"Venezuela\"],\"legendgroup\":\"South America\",\"marker\":{\"color\":\"#990099\",\"size\":[17819054.0,203586000.0,42669500.0,3404189.0,47907800.0,15888900.0,10027254.0,6893727.0,30814175.0,30206307.0],\"sizemode\":\"area\",\"sizeref\":379752.77777777775,\"symbol\":\"circle\"},\"mode\":\"markers\",\"name\":\"South America\",\"orientation\":\"v\",\"showlegend\":true,\"type\":\"scatter\",\"x\":[1.131,0.986,1.073,1.093,0.96,0.889,0.751,0.835,0.934,0.996],\"xaxis\":\"x\",\"y\":[6.476,6.419,6.388,6.379,6.26,5.973,5.752,5.681,5.663,4.806],\"yaxis\":\"y\"},{\"hovertemplate\":\"<b>%{hovertext}</b><br><br>Continent=Africa<br>GDP per capita=%{x}<br>Score=%{y}<br>Population=%{marker.size}<extra></extra>\",\"hovertext\":[\"Mauritius\",\"Libya\",\"Algeria\",\"Morocco\",\"Nigeria\",\"Somalia\",\"Cameroon\",\"Gabon\",\"South Africa\",\"Cote d'Ivoire\",\"Ghana\",\"Senegal\",\"Tunisia\",\"Sierra Leone\",\"Congo Republic\",\"Mali\",\"Namibia\",\"Burkina Faso\",\"Egypt\",\"Mozambique\",\"Kenya\",\"Zambia\",\"Mauritania\",\"Ethiopia\",\"Chad\",\"DR Congo\",\"Niger\",\"Uganda\",\"Benin\",\"Sudan\",\"Togo\",\"Guinea\",\"Lesotho\",\"Angola\",\"Madagascar\",\"Zimbabwe\",\"Botswana\",\"Malawi\",\"Liberia\",\"Rwanda\",\"Tanzania\",\"South Sudan\",\"Central African Republic\",\"Burundi\"],\"legendgroup\":\"Africa\",\"marker\":{\"color\":\"#0099C6\",\"size\":[1261208.0,6253000.0,38700000.0,33465000.0,178517000.0,10806000.0,20386799.0,1711000.0,54002000.0,26378275.0,27043093.0,13508715.0,10982754.0,6205000.0,5244362.0,15768000.0,2113077.0,17322796.0,87668100.0,25041922.0,41800000.0,15023315.0,3545620.0,87952991.0,13211000.0,69360000.0,17138707.0,34856813.0,9988068.0,37289406.0,6993000.0,10628972.0,2098000.0,24383301.0,21842167.0,13061239.0,2024904.0,15805239.0,4397000.0,10996891.0,47421786.0,11384393.0,4709000.0,9530434.0],\"sizemode\":\"area\",\"sizeref\":379752.77777777775,\"symbol\":\"circle\"},\"mode\":\"markers\",\"name\":\"Africa\",\"orientation\":\"v\",\"showlegend\":true,\"type\":\"scatter\",\"x\":[1.09,0.985,0.979,0.779,0.689,0.0,0.535,1.036,0.94,0.541,0.592,0.429,0.9,0.256,0.682,0.37,0.874,0.314,0.885,0.198,0.493,0.562,0.557,0.308,0.358,0.069,0.131,0.322,0.378,0.605,0.259,0.344,0.472,0.73,0.262,0.357,1.017,0.186,0.076,0.332,0.455,0.337,0.024,0.091],\"xaxis\":\"x\",\"y\":[5.891,5.566,5.295,5.254,5.155,4.982,4.975,4.758,4.724,4.671,4.657,4.631,4.592,4.571,4.559,4.447,4.441,4.424,4.419,4.417,4.41,4.377,4.356,4.35,4.301,4.245,4.166,4.161,4.141,4.139,3.999,3.964,3.808,3.795,3.774,3.692,3.59,3.587,3.495,3.408,3.303,3.254,3.083,2.905],\"yaxis\":\"y\"}],                        {\"legend\":{\"itemsizing\":\"constant\",\"title\":{\"text\":\"Continent\"},\"tracegroupgap\":0},\"margin\":{\"t\":60},\"template\":{\"data\":{\"bar\":[{\"error_x\":{\"color\":\"#2a3f5f\"},\"error_y\":{\"color\":\"#2a3f5f\"},\"marker\":{\"line\":{\"color\":\"#E5ECF6\",\"width\":0.5},\"pattern\":{\"fillmode\":\"overlay\",\"size\":10,\"solidity\":0.2}},\"type\":\"bar\"}],\"barpolar\":[{\"marker\":{\"line\":{\"color\":\"#E5ECF6\",\"width\":0.5},\"pattern\":{\"fillmode\":\"overlay\",\"size\":10,\"solidity\":0.2}},\"type\":\"barpolar\"}],\"carpet\":[{\"aaxis\":{\"endlinecolor\":\"#2a3f5f\",\"gridcolor\":\"white\",\"linecolor\":\"white\",\"minorgridcolor\":\"white\",\"startlinecolor\":\"#2a3f5f\"},\"baxis\":{\"endlinecolor\":\"#2a3f5f\",\"gridcolor\":\"white\",\"linecolor\":\"white\",\"minorgridcolor\":\"white\",\"startlinecolor\":\"#2a3f5f\"},\"type\":\"carpet\"}],\"choropleth\":[{\"colorbar\":{\"outlinewidth\":0,\"ticks\":\"\"},\"type\":\"choropleth\"}],\"contour\":[{\"colorbar\":{\"outlinewidth\":0,\"ticks\":\"\"},\"colorscale\":[[0.0,\"#0d0887\"],[0.1111111111111111,\"#46039f\"],[0.2222222222222222,\"#7201a8\"],[0.3333333333333333,\"#9c179e\"],[0.4444444444444444,\"#bd3786\"],[0.5555555555555556,\"#d8576b\"],[0.6666666666666666,\"#ed7953\"],[0.7777777777777778,\"#fb9f3a\"],[0.8888888888888888,\"#fdca26\"],[1.0,\"#f0f921\"]],\"type\":\"contour\"}],\"contourcarpet\":[{\"colorbar\":{\"outlinewidth\":0,\"ticks\":\"\"},\"type\":\"contourcarpet\"}],\"heatmap\":[{\"colorbar\":{\"outlinewidth\":0,\"ticks\":\"\"},\"colorscale\":[[0.0,\"#0d0887\"],[0.1111111111111111,\"#46039f\"],[0.2222222222222222,\"#7201a8\"],[0.3333333333333333,\"#9c179e\"],[0.4444444444444444,\"#bd3786\"],[0.5555555555555556,\"#d8576b\"],[0.6666666666666666,\"#ed7953\"],[0.7777777777777778,\"#fb9f3a\"],[0.8888888888888888,\"#fdca26\"],[1.0,\"#f0f921\"]],\"type\":\"heatmap\"}],\"heatmapgl\":[{\"colorbar\":{\"outlinewidth\":0,\"ticks\":\"\"},\"colorscale\":[[0.0,\"#0d0887\"],[0.1111111111111111,\"#46039f\"],[0.2222222222222222,\"#7201a8\"],[0.3333333333333333,\"#9c179e\"],[0.4444444444444444,\"#bd3786\"],[0.5555555555555556,\"#d8576b\"],[0.6666666666666666,\"#ed7953\"],[0.7777777777777778,\"#fb9f3a\"],[0.8888888888888888,\"#fdca26\"],[1.0,\"#f0f921\"]],\"type\":\"heatmapgl\"}],\"histogram\":[{\"marker\":{\"pattern\":{\"fillmode\":\"overlay\",\"size\":10,\"solidity\":0.2}},\"type\":\"histogram\"}],\"histogram2d\":[{\"colorbar\":{\"outlinewidth\":0,\"ticks\":\"\"},\"colorscale\":[[0.0,\"#0d0887\"],[0.1111111111111111,\"#46039f\"],[0.2222222222222222,\"#7201a8\"],[0.3333333333333333,\"#9c179e\"],[0.4444444444444444,\"#bd3786\"],[0.5555555555555556,\"#d8576b\"],[0.6666666666666666,\"#ed7953\"],[0.7777777777777778,\"#fb9f3a\"],[0.8888888888888888,\"#fdca26\"],[1.0,\"#f0f921\"]],\"type\":\"histogram2d\"}],\"histogram2dcontour\":[{\"colorbar\":{\"outlinewidth\":0,\"ticks\":\"\"},\"colorscale\":[[0.0,\"#0d0887\"],[0.1111111111111111,\"#46039f\"],[0.2222222222222222,\"#7201a8\"],[0.3333333333333333,\"#9c179e\"],[0.4444444444444444,\"#bd3786\"],[0.5555555555555556,\"#d8576b\"],[0.6666666666666666,\"#ed7953\"],[0.7777777777777778,\"#fb9f3a\"],[0.8888888888888888,\"#fdca26\"],[1.0,\"#f0f921\"]],\"type\":\"histogram2dcontour\"}],\"mesh3d\":[{\"colorbar\":{\"outlinewidth\":0,\"ticks\":\"\"},\"type\":\"mesh3d\"}],\"parcoords\":[{\"line\":{\"colorbar\":{\"outlinewidth\":0,\"ticks\":\"\"}},\"type\":\"parcoords\"}],\"pie\":[{\"automargin\":true,\"type\":\"pie\"}],\"scatter\":[{\"marker\":{\"colorbar\":{\"outlinewidth\":0,\"ticks\":\"\"}},\"type\":\"scatter\"}],\"scatter3d\":[{\"line\":{\"colorbar\":{\"outlinewidth\":0,\"ticks\":\"\"}},\"marker\":{\"colorbar\":{\"outlinewidth\":0,\"ticks\":\"\"}},\"type\":\"scatter3d\"}],\"scattercarpet\":[{\"marker\":{\"colorbar\":{\"outlinewidth\":0,\"ticks\":\"\"}},\"type\":\"scattercarpet\"}],\"scattergeo\":[{\"marker\":{\"colorbar\":{\"outlinewidth\":0,\"ticks\":\"\"}},\"type\":\"scattergeo\"}],\"scattergl\":[{\"marker\":{\"colorbar\":{\"outlinewidth\":0,\"ticks\":\"\"}},\"type\":\"scattergl\"}],\"scattermapbox\":[{\"marker\":{\"colorbar\":{\"outlinewidth\":0,\"ticks\":\"\"}},\"type\":\"scattermapbox\"}],\"scatterpolar\":[{\"marker\":{\"colorbar\":{\"outlinewidth\":0,\"ticks\":\"\"}},\"type\":\"scatterpolar\"}],\"scatterpolargl\":[{\"marker\":{\"colorbar\":{\"outlinewidth\":0,\"ticks\":\"\"}},\"type\":\"scatterpolargl\"}],\"scatterternary\":[{\"marker\":{\"colorbar\":{\"outlinewidth\":0,\"ticks\":\"\"}},\"type\":\"scatterternary\"}],\"surface\":[{\"colorbar\":{\"outlinewidth\":0,\"ticks\":\"\"},\"colorscale\":[[0.0,\"#0d0887\"],[0.1111111111111111,\"#46039f\"],[0.2222222222222222,\"#7201a8\"],[0.3333333333333333,\"#9c179e\"],[0.4444444444444444,\"#bd3786\"],[0.5555555555555556,\"#d8576b\"],[0.6666666666666666,\"#ed7953\"],[0.7777777777777778,\"#fb9f3a\"],[0.8888888888888888,\"#fdca26\"],[1.0,\"#f0f921\"]],\"type\":\"surface\"}],\"table\":[{\"cells\":{\"fill\":{\"color\":\"#EBF0F8\"},\"line\":{\"color\":\"white\"}},\"header\":{\"fill\":{\"color\":\"#C8D4E3\"},\"line\":{\"color\":\"white\"}},\"type\":\"table\"}]},\"layout\":{\"annotationdefaults\":{\"arrowcolor\":\"#2a3f5f\",\"arrowhead\":0,\"arrowwidth\":1},\"autotypenumbers\":\"strict\",\"coloraxis\":{\"colorbar\":{\"outlinewidth\":0,\"ticks\":\"\"}},\"colorscale\":{\"diverging\":[[0,\"#8e0152\"],[0.1,\"#c51b7d\"],[0.2,\"#de77ae\"],[0.3,\"#f1b6da\"],[0.4,\"#fde0ef\"],[0.5,\"#f7f7f7\"],[0.6,\"#e6f5d0\"],[0.7,\"#b8e186\"],[0.8,\"#7fbc41\"],[0.9,\"#4d9221\"],[1,\"#276419\"]],\"sequential\":[[0.0,\"#0d0887\"],[0.1111111111111111,\"#46039f\"],[0.2222222222222222,\"#7201a8\"],[0.3333333333333333,\"#9c179e\"],[0.4444444444444444,\"#bd3786\"],[0.5555555555555556,\"#d8576b\"],[0.6666666666666666,\"#ed7953\"],[0.7777777777777778,\"#fb9f3a\"],[0.8888888888888888,\"#fdca26\"],[1.0,\"#f0f921\"]],\"sequentialminus\":[[0.0,\"#0d0887\"],[0.1111111111111111,\"#46039f\"],[0.2222222222222222,\"#7201a8\"],[0.3333333333333333,\"#9c179e\"],[0.4444444444444444,\"#bd3786\"],[0.5555555555555556,\"#d8576b\"],[0.6666666666666666,\"#ed7953\"],[0.7777777777777778,\"#fb9f3a\"],[0.8888888888888888,\"#fdca26\"],[1.0,\"#f0f921\"]]},\"colorway\":[\"#636efa\",\"#EF553B\",\"#00cc96\",\"#ab63fa\",\"#FFA15A\",\"#19d3f3\",\"#FF6692\",\"#B6E880\",\"#FF97FF\",\"#FECB52\"],\"font\":{\"color\":\"#2a3f5f\"},\"geo\":{\"bgcolor\":\"white\",\"lakecolor\":\"white\",\"landcolor\":\"#E5ECF6\",\"showlakes\":true,\"showland\":true,\"subunitcolor\":\"white\"},\"hoverlabel\":{\"align\":\"left\"},\"hovermode\":\"closest\",\"mapbox\":{\"style\":\"light\"},\"paper_bgcolor\":\"white\",\"plot_bgcolor\":\"#E5ECF6\",\"polar\":{\"angularaxis\":{\"gridcolor\":\"white\",\"linecolor\":\"white\",\"ticks\":\"\"},\"bgcolor\":\"#E5ECF6\",\"radialaxis\":{\"gridcolor\":\"white\",\"linecolor\":\"white\",\"ticks\":\"\"}},\"scene\":{\"xaxis\":{\"backgroundcolor\":\"#E5ECF6\",\"gridcolor\":\"white\",\"gridwidth\":2,\"linecolor\":\"white\",\"showbackground\":true,\"ticks\":\"\",\"zerolinecolor\":\"white\"},\"yaxis\":{\"backgroundcolor\":\"#E5ECF6\",\"gridcolor\":\"white\",\"gridwidth\":2,\"linecolor\":\"white\",\"showbackground\":true,\"ticks\":\"\",\"zerolinecolor\":\"white\"},\"zaxis\":{\"backgroundcolor\":\"#E5ECF6\",\"gridcolor\":\"white\",\"gridwidth\":2,\"linecolor\":\"white\",\"showbackground\":true,\"ticks\":\"\",\"zerolinecolor\":\"white\"}},\"shapedefaults\":{\"line\":{\"color\":\"#2a3f5f\"}},\"ternary\":{\"aaxis\":{\"gridcolor\":\"white\",\"linecolor\":\"white\",\"ticks\":\"\"},\"baxis\":{\"gridcolor\":\"white\",\"linecolor\":\"white\",\"ticks\":\"\"},\"bgcolor\":\"#E5ECF6\",\"caxis\":{\"gridcolor\":\"white\",\"linecolor\":\"white\",\"ticks\":\"\"}},\"title\":{\"x\":0.05},\"xaxis\":{\"automargin\":true,\"gridcolor\":\"white\",\"linecolor\":\"white\",\"ticks\":\"\",\"title\":{\"standoff\":15},\"zerolinecolor\":\"white\",\"zerolinewidth\":2},\"yaxis\":{\"automargin\":true,\"gridcolor\":\"white\",\"linecolor\":\"white\",\"ticks\":\"\",\"title\":{\"standoff\":15},\"zerolinecolor\":\"white\",\"zerolinewidth\":2}}},\"xaxis\":{\"anchor\":\"y\",\"domain\":[0.0,1.0],\"title\":{\"text\":\"GDP per capita\"}},\"yaxis\":{\"anchor\":\"x\",\"domain\":[0.0,1.0],\"title\":{\"text\":\"Score\"}}},                        {\"responsive\": true}                    ).then(function(){\n",
       "                            \n",
       "var gd = document.getElementById('66bda2c0-2429-43c8-897b-76f9ca1febbd');\n",
       "var x = new MutationObserver(function (mutations, observer) {{\n",
       "        var display = window.getComputedStyle(gd).display;\n",
       "        if (!display || display === 'none') {{\n",
       "            console.log([gd, 'removed!']);\n",
       "            Plotly.purge(gd);\n",
       "            observer.disconnect();\n",
       "        }}\n",
       "}});\n",
       "\n",
       "// Listen for the removal of the full notebook cells\n",
       "var notebookContainer = gd.closest('#notebook-container');\n",
       "if (notebookContainer) {{\n",
       "    x.observe(notebookContainer, {childList: true});\n",
       "}}\n",
       "\n",
       "// Listen for the clearing of the current output cell\n",
       "var outputEl = gd.closest('.output');\n",
       "if (outputEl) {{\n",
       "    x.observe(outputEl, {childList: true});\n",
       "}}\n",
       "\n",
       "                        })                };                });            </script>        </div>"
      ]
     },
     "metadata": {},
     "output_type": "display_data"
    }
   ],
   "source": [
    "fig = px.scatter(df18, x=\"GDP per capita\", y=\"Score\", size=\"Population\", color=\"Continent\",\n",
    "                 hover_name=\"Country/Region\", size_max=60, color_discrete_sequence=px.colors.qualitative.G10)\n",
    "fig.show()"
   ]
  },
  {
   "cell_type": "code",
   "execution_count": 25,
   "id": "5f01f76b",
   "metadata": {},
   "outputs": [
    {
     "data": {
      "application/vnd.plotly.v1+json": {
       "config": {
        "plotlyServerURL": "https://plot.ly"
       },
       "data": [
        {
         "branchvalues": "total",
         "customdata": [
          [
           "AF",
           3.632
          ],
          [
           "AL",
           4.586
          ],
          [
           "DZ",
           5.295
          ],
          [
           "AO",
           3.795
          ],
          [
           "AR",
           6.388
          ],
          [
           "AM",
           4.321
          ],
          [
           "AU",
           7.272
          ],
          [
           "AT",
           7.139
          ],
          [
           "AZ",
           5.201
          ],
          [
           "BH",
           6.105
          ],
          [
           "BD",
           4.5
          ],
          [
           "BY",
           5.483
          ],
          [
           "BE",
           6.927
          ],
          [
           "BZ",
           5.956
          ],
          [
           "BJ",
           4.141
          ],
          [
           "BT",
           5.082
          ],
          [
           "BO",
           5.752
          ],
          [
           "BA",
           5.129
          ],
          [
           "BW",
           3.59
          ],
          [
           "BR",
           6.419
          ],
          [
           "BG",
           4.932999999999999
          ],
          [
           "BF",
           4.424
          ],
          [
           "BI",
           2.905
          ],
          [
           "KH",
           4.433
          ],
          [
           "CM",
           4.975
          ],
          [
           "CA",
           7.328
          ],
          [
           "CF",
           3.083
          ],
          [
           "TD",
           4.301
          ],
          [
           "CL",
           6.476
          ],
          [
           "CN",
           5.246
          ],
          [
           "CO",
           6.26
          ],
          [
           "CG",
           4.559
          ],
          [
           "CR",
           7.072
          ],
          [
           "CI",
           4.671
          ],
          [
           "HR",
           5.321
          ],
          [
           "CY",
           5.7985
          ],
          [
           "CZ",
           6.711000000000001
          ],
          [
           "CD",
           4.245
          ],
          [
           "DK",
           7.555
          ],
          [
           "DO",
           5.302
          ],
          [
           "EC",
           5.973
          ],
          [
           "EG",
           4.419
          ],
          [
           "SV",
           6.167
          ],
          [
           "EE",
           5.739
          ],
          [
           "ET",
           4.35
          ],
          [
           "FI",
           7.632
          ],
          [
           "FR",
           6.489
          ],
          [
           "GA",
           4.758
          ],
          [
           "GE",
           4.34
          ],
          [
           "DE",
           6.965
          ],
          [
           "GH",
           4.657
          ],
          [
           "GR",
           5.358
          ],
          [
           "GT",
           6.382
          ],
          [
           "GN",
           3.964
          ],
          [
           "HT",
           3.5820000000000003
          ],
          [
           "HN",
           5.504
          ],
          [
           "HK",
           5.43
          ],
          [
           "HU",
           5.62
          ],
          [
           "IS",
           7.495
          ],
          [
           "IN",
           4.19
          ],
          [
           "ID",
           5.093
          ],
          [
           "IR",
           4.707
          ],
          [
           "IQ",
           4.456
          ],
          [
           "IE",
           6.977
          ],
          [
           "IL",
           6.814
          ],
          [
           "IT",
           6
          ],
          [
           "JM",
           5.89
          ],
          [
           "JP",
           5.915
          ],
          [
           "JO",
           5.161
          ],
          [
           "KZ",
           5.79
          ],
          [
           "KE",
           4.41
          ],
          [
           "XK",
           5.661999999999999
          ],
          [
           "KW",
           6.083
          ],
          [
           "KG",
           5.131
          ],
          [
           "LA",
           4.623
          ],
          [
           "LV",
           5.933
          ],
          [
           "LB",
           5.358
          ],
          [
           "LS",
           3.808
          ],
          [
           "LR",
           3.495
          ],
          [
           "LY",
           5.566
          ],
          [
           "LT",
           5.952
          ],
          [
           "LU",
           6.91
          ],
          [
           "MK",
           5.185
          ],
          [
           "MG",
           3.774
          ],
          [
           "MW",
           3.587
          ],
          [
           "MY",
           6.322
          ],
          [
           "ML",
           4.447
          ],
          [
           "MT",
           6.627
          ],
          [
           "MR",
           4.356
          ],
          [
           "MU",
           5.891
          ],
          [
           "MX",
           6.488
          ],
          [
           "MD",
           5.64
          ],
          [
           "MN",
           5.125
          ],
          [
           "ME",
           5.347
          ],
          [
           "MA",
           5.254
          ],
          [
           "MZ",
           4.417
          ],
          [
           "MM",
           4.308
          ],
          [
           null,
           4.441
          ],
          [
           "NP",
           4.88
          ],
          [
           "NL",
           7.441
          ],
          [
           "NZ",
           7.324
          ],
          [
           "NI",
           6.141
          ],
          [
           "NE",
           4.166
          ],
          [
           "NG",
           5.155
          ],
          [
           "NO",
           7.594000000000001
          ],
          [
           "PK",
           5.472
          ],
          [
           "PS",
           4.743
          ],
          [
           "PA",
           6.43
          ],
          [
           "PY",
           5.681
          ],
          [
           "PE",
           5.663
          ],
          [
           "PH",
           5.524
          ],
          [
           "PL",
           6.123
          ],
          [
           "PT",
           5.41
          ],
          [
           "QA",
           6.374
          ],
          [
           "RO",
           5.945
          ],
          [
           "RU",
           5.81
          ],
          [
           "RW",
           3.408
          ],
          [
           "SA",
           6.371
          ],
          [
           "SN",
           4.631
          ],
          [
           "RS",
           5.398
          ],
          [
           "SL",
           4.571
          ],
          [
           "SG",
           6.343
          ],
          [
           "SK",
           6.173
          ],
          [
           "SI",
           5.948
          ],
          [
           "SO",
           4.982
          ],
          [
           "ZA",
           4.724
          ],
          [
           "KR",
           5.875
          ],
          [
           "SS",
           3.2539999999999996
          ],
          [
           "ES",
           6.31
          ],
          [
           "LK",
           4.471
          ],
          [
           "SD",
           4.139
          ],
          [
           "SE",
           7.314
          ],
          [
           "CH",
           7.487
          ],
          [
           "SY",
           3.462
          ],
          [
           "TW",
           6.441
          ],
          [
           "TJ",
           5.199
          ],
          [
           "TZ",
           3.303
          ],
          [
           "TH",
           6.072
          ],
          [
           "TG",
           3.999
          ],
          [
           "TT",
           6.192
          ],
          [
           "TN",
           4.592
          ],
          [
           "TR",
           5.483
          ],
          [
           "TM",
           5.636
          ],
          [
           "UG",
           4.161
          ],
          [
           "UA",
           4.103
          ],
          [
           "AE",
           6.774
          ],
          [
           "GB",
           7.19
          ],
          [
           "US",
           6.886
          ],
          [
           "UY",
           6.379
          ],
          [
           "UZ",
           6.096
          ],
          [
           "VE",
           4.806
          ],
          [
           "VN",
           5.103
          ],
          [
           "YE",
           3.355
          ],
          [
           "ZM",
           4.377
          ],
          [
           "ZW",
           3.692
          ],
          [
           "(?)",
           4.459569148600412
          ],
          [
           "(?)",
           4.924382518321009
          ],
          [
           "(?)",
           6.212122217262459
          ],
          [
           "(?)",
           6.669974275117499
          ],
          [
           "(?)",
           7.280372896958024
          ],
          [
           "(?)",
           6.177218532601388
          ]
         ],
         "domain": {
          "x": [
           0,
           1
          ],
          "y": [
           0,
           1
          ]
         },
         "hovertemplate": "labels=%{label}<br>Population=%{value}<br>parent=%{parent}<br>id=%{id}<br>alpha2=%{customdata[0]}<br>Score=%{color}<extra></extra>",
         "ids": [
          "Asia/Afghanistan",
          "Europe/Albania",
          "Africa/Algeria",
          "Africa/Angola",
          "South America/Argentina",
          "Asia/Armenia",
          "Oceania/Australia",
          "Europe/Austria",
          "Asia/Azerbaijan",
          "Asia/Bahrain",
          "Asia/Bangladesh",
          "Europe/Belarus",
          "Europe/Belgium",
          "North America/Belize",
          "Africa/Benin",
          "Asia/Bhutan",
          "South America/Bolivia",
          "Europe/Bosnia and Herzegovina",
          "Africa/Botswana",
          "South America/Brazil",
          "Europe/Bulgaria",
          "Africa/Burkina Faso",
          "Africa/Burundi",
          "Asia/Cambodia",
          "Africa/Cameroon",
          "North America/Canada",
          "Africa/Central African Republic",
          "Africa/Chad",
          "South America/Chile",
          "Asia/China",
          "South America/Colombia",
          "Africa/Congo Republic",
          "North America/Costa Rica",
          "Africa/Cote d'Ivoire",
          "Europe/Croatia",
          "Asia/Cyprus",
          "Europe/Czech Republic",
          "Africa/DR Congo",
          "Europe/Denmark",
          "North America/Dominican Republic",
          "South America/Ecuador",
          "Africa/Egypt",
          "North America/El Salvador",
          "Europe/Estonia",
          "Africa/Ethiopia",
          "Europe/Finland",
          "Europe/France",
          "Africa/Gabon",
          "Asia/Georgia",
          "Europe/Germany",
          "Africa/Ghana",
          "Europe/Greece",
          "North America/Guatemala",
          "Africa/Guinea",
          "North America/Haiti",
          "North America/Honduras",
          "Asia/Hong Kong",
          "Europe/Hungary",
          "Europe/Iceland",
          "Asia/India",
          "Asia/Indonesia",
          "Asia/Iran",
          "Asia/Iraq",
          "Europe/Ireland",
          "Asia/Israel",
          "Europe/Italy",
          "North America/Jamaica",
          "Asia/Japan",
          "Asia/Jordan",
          "Asia/Kazakhstan",
          "Africa/Kenya",
          "Europe/Kosovo",
          "Asia/Kuwait",
          "Asia/Kyrgyz Republic",
          "Asia/Laos",
          "Europe/Latvia",
          "Asia/Lebanon",
          "Africa/Lesotho",
          "Africa/Liberia",
          "Africa/Libya",
          "Europe/Lithuania",
          "Europe/Luxembourg",
          "Europe/Macedonia",
          "Africa/Madagascar",
          "Africa/Malawi",
          "Asia/Malaysia",
          "Africa/Mali",
          "Europe/Malta",
          "Africa/Mauritania",
          "Africa/Mauritius",
          "North America/Mexico",
          "Europe/Moldova",
          "Asia/Mongolia",
          "Europe/Montenegro",
          "Africa/Morocco",
          "Africa/Mozambique",
          "Asia/Myanmar",
          "Africa/Namibia",
          "Asia/Nepal",
          "Europe/Netherlands",
          "Oceania/New Zealand",
          "North America/Nicaragua",
          "Africa/Niger",
          "Africa/Nigeria",
          "Europe/Norway",
          "Asia/Pakistan",
          "Asia/Palestine",
          "North America/Panama",
          "South America/Paraguay",
          "South America/Peru",
          "Asia/Philippines",
          "Europe/Poland",
          "Europe/Portugal",
          "Asia/Qatar",
          "Europe/Romania",
          "Europe/Russia",
          "Africa/Rwanda",
          "Asia/Saudi Arabia",
          "Africa/Senegal",
          "Europe/Serbia",
          "Africa/Sierra Leone",
          "Asia/Singapore",
          "Europe/Slovakia",
          "Europe/Slovenia",
          "Africa/Somalia",
          "Africa/South Africa",
          "Asia/South Korea",
          "Africa/South Sudan",
          "Europe/Spain",
          "Asia/Sri Lanka",
          "Africa/Sudan",
          "Europe/Sweden",
          "Europe/Switzerland",
          "Asia/Syria",
          "Asia/Taiwan",
          "Asia/Tajikistan",
          "Africa/Tanzania",
          "Asia/Thailand",
          "Africa/Togo",
          "North America/Trinidad and Tobago",
          "Africa/Tunisia",
          "Asia/Turkey",
          "Asia/Turkmenistan",
          "Africa/Uganda",
          "Europe/Ukraine",
          "Asia/United Arab Emirates",
          "Europe/United Kingdom",
          "North America/United States",
          "South America/Uruguay",
          "Asia/Uzbekistan",
          "South America/Venezuela",
          "Asia/Vietnam",
          "Asia/Yemen",
          "Africa/Zambia",
          "Africa/Zimbabwe",
          "Africa",
          "Asia",
          "Europe",
          "North America",
          "Oceania",
          "South America"
         ],
         "labels": [
          "Afghanistan",
          "Albania",
          "Algeria",
          "Angola",
          "Argentina",
          "Armenia",
          "Australia",
          "Austria",
          "Azerbaijan",
          "Bahrain",
          "Bangladesh",
          "Belarus",
          "Belgium",
          "Belize",
          "Benin",
          "Bhutan",
          "Bolivia",
          "Bosnia and Herzegovina",
          "Botswana",
          "Brazil",
          "Bulgaria",
          "Burkina Faso",
          "Burundi",
          "Cambodia",
          "Cameroon",
          "Canada",
          "Central African Republic",
          "Chad",
          "Chile",
          "China",
          "Colombia",
          "Congo Republic",
          "Costa Rica",
          "Cote d'Ivoire",
          "Croatia",
          "Cyprus",
          "Czech Republic",
          "DR Congo",
          "Denmark",
          "Dominican Republic",
          "Ecuador",
          "Egypt",
          "El Salvador",
          "Estonia",
          "Ethiopia",
          "Finland",
          "France",
          "Gabon",
          "Georgia",
          "Germany",
          "Ghana",
          "Greece",
          "Guatemala",
          "Guinea",
          "Haiti",
          "Honduras",
          "Hong Kong",
          "Hungary",
          "Iceland",
          "India",
          "Indonesia",
          "Iran",
          "Iraq",
          "Ireland",
          "Israel",
          "Italy",
          "Jamaica",
          "Japan",
          "Jordan",
          "Kazakhstan",
          "Kenya",
          "Kosovo",
          "Kuwait",
          "Kyrgyz Republic",
          "Laos",
          "Latvia",
          "Lebanon",
          "Lesotho",
          "Liberia",
          "Libya",
          "Lithuania",
          "Luxembourg",
          "Macedonia",
          "Madagascar",
          "Malawi",
          "Malaysia",
          "Mali",
          "Malta",
          "Mauritania",
          "Mauritius",
          "Mexico",
          "Moldova",
          "Mongolia",
          "Montenegro",
          "Morocco",
          "Mozambique",
          "Myanmar",
          "Namibia",
          "Nepal",
          "Netherlands",
          "New Zealand",
          "Nicaragua",
          "Niger",
          "Nigeria",
          "Norway",
          "Pakistan",
          "Palestine",
          "Panama",
          "Paraguay",
          "Peru",
          "Philippines",
          "Poland",
          "Portugal",
          "Qatar",
          "Romania",
          "Russia",
          "Rwanda",
          "Saudi Arabia",
          "Senegal",
          "Serbia",
          "Sierra Leone",
          "Singapore",
          "Slovakia",
          "Slovenia",
          "Somalia",
          "South Africa",
          "South Korea",
          "South Sudan",
          "Spain",
          "Sri Lanka",
          "Sudan",
          "Sweden",
          "Switzerland",
          "Syria",
          "Taiwan",
          "Tajikistan",
          "Tanzania",
          "Thailand",
          "Togo",
          "Trinidad and Tobago",
          "Tunisia",
          "Turkey",
          "Turkmenistan",
          "Uganda",
          "Ukraine",
          "United Arab Emirates",
          "United Kingdom",
          "United States",
          "Uruguay",
          "Uzbekistan",
          "Venezuela",
          "Vietnam",
          "Yemen",
          "Zambia",
          "Zimbabwe",
          "Africa",
          "Asia",
          "Europe",
          "North America",
          "Oceania",
          "South America"
         ],
         "marker": {
          "coloraxis": "coloraxis",
          "colors": [
           3.632,
           4.586,
           5.295,
           3.795,
           6.388,
           4.321,
           7.272,
           7.139,
           5.201,
           6.105,
           4.5,
           5.483,
           6.927,
           5.956,
           4.141,
           5.082,
           5.752,
           5.129,
           3.59,
           6.419,
           4.932999999999999,
           4.424,
           2.905,
           4.433,
           4.975,
           7.328,
           3.083,
           4.301,
           6.476,
           5.246,
           6.26,
           4.559,
           7.072,
           4.671,
           5.321,
           5.7985,
           6.711000000000001,
           4.245,
           7.555,
           5.302,
           5.973,
           4.419,
           6.167,
           5.739,
           4.35,
           7.632,
           6.489,
           4.758,
           4.34,
           6.965,
           4.657,
           5.358,
           6.382,
           3.964,
           3.5820000000000003,
           5.504,
           5.43,
           5.62,
           7.495,
           4.19,
           5.093,
           4.707,
           4.456,
           6.977,
           6.814,
           6,
           5.89,
           5.915,
           5.161,
           5.79,
           4.41,
           5.661999999999999,
           6.083,
           5.131,
           4.623,
           5.933,
           5.358,
           3.808,
           3.495,
           5.566,
           5.952,
           6.91,
           5.185,
           3.774,
           3.587,
           6.322,
           4.447,
           6.627,
           4.356,
           5.891,
           6.488,
           5.64,
           5.125,
           5.347,
           5.254,
           4.417,
           4.308,
           4.441,
           4.88,
           7.441,
           7.324,
           6.141,
           4.166,
           5.155,
           7.594000000000001,
           5.472,
           4.743,
           6.43,
           5.681,
           5.663,
           5.524,
           6.123,
           5.41,
           6.374,
           5.945,
           5.81,
           3.408,
           6.371,
           4.631,
           5.398,
           4.571,
           6.343,
           6.173,
           5.948,
           4.982,
           4.724,
           5.875,
           3.2539999999999996,
           6.31,
           4.471,
           4.139,
           7.314,
           7.487,
           3.462,
           6.441,
           5.199,
           3.303,
           6.072,
           3.999,
           6.192,
           4.592,
           5.483,
           5.636,
           4.161,
           4.103,
           6.774,
           7.19,
           6.886,
           6.379,
           6.096,
           4.806,
           5.103,
           3.355,
           4.377,
           3.692,
           4.459569148600412,
           4.924382518321009,
           6.212122217262459,
           6.669974275117499,
           7.280372896958024,
           6.177218532601388
          ]
         },
         "name": "",
         "parents": [
          "Asia",
          "Europe",
          "Africa",
          "Africa",
          "South America",
          "Asia",
          "Oceania",
          "Europe",
          "Asia",
          "Asia",
          "Asia",
          "Europe",
          "Europe",
          "North America",
          "Africa",
          "Asia",
          "South America",
          "Europe",
          "Africa",
          "South America",
          "Europe",
          "Africa",
          "Africa",
          "Asia",
          "Africa",
          "North America",
          "Africa",
          "Africa",
          "South America",
          "Asia",
          "South America",
          "Africa",
          "North America",
          "Africa",
          "Europe",
          "Asia",
          "Europe",
          "Africa",
          "Europe",
          "North America",
          "South America",
          "Africa",
          "North America",
          "Europe",
          "Africa",
          "Europe",
          "Europe",
          "Africa",
          "Asia",
          "Europe",
          "Africa",
          "Europe",
          "North America",
          "Africa",
          "North America",
          "North America",
          "Asia",
          "Europe",
          "Europe",
          "Asia",
          "Asia",
          "Asia",
          "Asia",
          "Europe",
          "Asia",
          "Europe",
          "North America",
          "Asia",
          "Asia",
          "Asia",
          "Africa",
          "Europe",
          "Asia",
          "Asia",
          "Asia",
          "Europe",
          "Asia",
          "Africa",
          "Africa",
          "Africa",
          "Europe",
          "Europe",
          "Europe",
          "Africa",
          "Africa",
          "Asia",
          "Africa",
          "Europe",
          "Africa",
          "Africa",
          "North America",
          "Europe",
          "Asia",
          "Europe",
          "Africa",
          "Africa",
          "Asia",
          "Africa",
          "Asia",
          "Europe",
          "Oceania",
          "North America",
          "Africa",
          "Africa",
          "Europe",
          "Asia",
          "Asia",
          "North America",
          "South America",
          "South America",
          "Asia",
          "Europe",
          "Europe",
          "Asia",
          "Europe",
          "Europe",
          "Africa",
          "Asia",
          "Africa",
          "Europe",
          "Africa",
          "Asia",
          "Europe",
          "Europe",
          "Africa",
          "Africa",
          "Asia",
          "Africa",
          "Europe",
          "Asia",
          "Africa",
          "Europe",
          "Europe",
          "Asia",
          "Asia",
          "Asia",
          "Africa",
          "Asia",
          "Africa",
          "North America",
          "Africa",
          "Asia",
          "Asia",
          "Africa",
          "Europe",
          "Asia",
          "Europe",
          "North America",
          "South America",
          "Asia",
          "South America",
          "Asia",
          "Asia",
          "Africa",
          "Africa",
          "",
          "",
          "",
          "",
          "",
          ""
         ],
         "type": "sunburst",
         "values": [
          26023100,
          2895947,
          38700000,
          24383301,
          42669500,
          3009800,
          23696900,
          8527230,
          9552500,
          1316500,
          157486000,
          9475100,
          11225469,
          349728,
          9988068,
          755030,
          10027254,
          3791622,
          2024904,
          203586000,
          7245677,
          17322796,
          9530434,
          15184116,
          20386799,
          35540419,
          4709000,
          13211000,
          17819054,
          1367110000,
          47907800,
          5244362,
          4713168,
          26378275,
          4267558,
          1716000,
          10521600,
          69360000,
          5655750,
          10378267,
          15888900,
          87668100,
          6401240,
          1315819,
          87952991,
          5470437,
          66078000,
          1711000,
          4490500,
          80783000,
          27043093,
          10992589,
          15806675,
          10628972,
          10745665,
          8725111,
          7234800,
          9879000,
          328170,
          1263930000,
          252164800,
          77966400,
          36004552,
          6378000,
          8268400,
          60769102,
          2717991,
          127080000,
          6666960,
          17377800,
          41800000,
          1795666,
          3268431,
          5776570,
          6693300,
          1991800,
          4104000,
          2098000,
          4397000,
          6253000,
          2927310,
          549700,
          2085051,
          21842167,
          15805239,
          30430500,
          15768000,
          416055,
          3545620,
          1261208,
          119713203,
          3557600,
          2987733,
          627809,
          33465000,
          25041922,
          53708318,
          2113077,
          27646053,
          16881000,
          4547900,
          6134270,
          17138707,
          178517000,
          5156450,
          188410000,
          5091819,
          3713312,
          6893727,
          30814175,
          100697400,
          38496000,
          10477800,
          2269672,
          19942642,
          146233000,
          10996891,
          30770375,
          13508715,
          7186862,
          6205000,
          5469700,
          5415949,
          2064966,
          10806000,
          54002000,
          50423955,
          11384393,
          46507760,
          20277597,
          37289406,
          9737521,
          8183800,
          22964324,
          23424615,
          8161000,
          47421786,
          64871000,
          6993000,
          1328019,
          10982754,
          76667864,
          5838064,
          34856813,
          42973696,
          9446000,
          64105654,
          319259000,
          3404189,
          30492800,
          30206307,
          89708900,
          25956000,
          15023315,
          13061239,
          1097820347,
          4278893248,
          742914161,
          545526068,
          28244800,
          409216906
         ]
        }
       ],
       "layout": {
        "coloraxis": {
         "colorbar": {
          "title": {
           "text": "Score"
          }
         },
         "colorscale": [
          [
           0,
           "rgb(103,0,31)"
          ],
          [
           0.1,
           "rgb(178,24,43)"
          ],
          [
           0.2,
           "rgb(214,96,77)"
          ],
          [
           0.3,
           "rgb(244,165,130)"
          ],
          [
           0.4,
           "rgb(253,219,199)"
          ],
          [
           0.5,
           "rgb(247,247,247)"
          ],
          [
           0.6,
           "rgb(209,229,240)"
          ],
          [
           0.7,
           "rgb(146,197,222)"
          ],
          [
           0.8,
           "rgb(67,147,195)"
          ],
          [
           0.9,
           "rgb(33,102,172)"
          ],
          [
           1,
           "rgb(5,48,97)"
          ]
         ]
        },
        "legend": {
         "tracegroupgap": 0
        },
        "margin": {
         "t": 60
        },
        "template": {
         "data": {
          "bar": [
           {
            "error_x": {
             "color": "#2a3f5f"
            },
            "error_y": {
             "color": "#2a3f5f"
            },
            "marker": {
             "line": {
              "color": "#E5ECF6",
              "width": 0.5
             },
             "pattern": {
              "fillmode": "overlay",
              "size": 10,
              "solidity": 0.2
             }
            },
            "type": "bar"
           }
          ],
          "barpolar": [
           {
            "marker": {
             "line": {
              "color": "#E5ECF6",
              "width": 0.5
             },
             "pattern": {
              "fillmode": "overlay",
              "size": 10,
              "solidity": 0.2
             }
            },
            "type": "barpolar"
           }
          ],
          "carpet": [
           {
            "aaxis": {
             "endlinecolor": "#2a3f5f",
             "gridcolor": "white",
             "linecolor": "white",
             "minorgridcolor": "white",
             "startlinecolor": "#2a3f5f"
            },
            "baxis": {
             "endlinecolor": "#2a3f5f",
             "gridcolor": "white",
             "linecolor": "white",
             "minorgridcolor": "white",
             "startlinecolor": "#2a3f5f"
            },
            "type": "carpet"
           }
          ],
          "choropleth": [
           {
            "colorbar": {
             "outlinewidth": 0,
             "ticks": ""
            },
            "type": "choropleth"
           }
          ],
          "contour": [
           {
            "colorbar": {
             "outlinewidth": 0,
             "ticks": ""
            },
            "colorscale": [
             [
              0,
              "#0d0887"
             ],
             [
              0.1111111111111111,
              "#46039f"
             ],
             [
              0.2222222222222222,
              "#7201a8"
             ],
             [
              0.3333333333333333,
              "#9c179e"
             ],
             [
              0.4444444444444444,
              "#bd3786"
             ],
             [
              0.5555555555555556,
              "#d8576b"
             ],
             [
              0.6666666666666666,
              "#ed7953"
             ],
             [
              0.7777777777777778,
              "#fb9f3a"
             ],
             [
              0.8888888888888888,
              "#fdca26"
             ],
             [
              1,
              "#f0f921"
             ]
            ],
            "type": "contour"
           }
          ],
          "contourcarpet": [
           {
            "colorbar": {
             "outlinewidth": 0,
             "ticks": ""
            },
            "type": "contourcarpet"
           }
          ],
          "heatmap": [
           {
            "colorbar": {
             "outlinewidth": 0,
             "ticks": ""
            },
            "colorscale": [
             [
              0,
              "#0d0887"
             ],
             [
              0.1111111111111111,
              "#46039f"
             ],
             [
              0.2222222222222222,
              "#7201a8"
             ],
             [
              0.3333333333333333,
              "#9c179e"
             ],
             [
              0.4444444444444444,
              "#bd3786"
             ],
             [
              0.5555555555555556,
              "#d8576b"
             ],
             [
              0.6666666666666666,
              "#ed7953"
             ],
             [
              0.7777777777777778,
              "#fb9f3a"
             ],
             [
              0.8888888888888888,
              "#fdca26"
             ],
             [
              1,
              "#f0f921"
             ]
            ],
            "type": "heatmap"
           }
          ],
          "heatmapgl": [
           {
            "colorbar": {
             "outlinewidth": 0,
             "ticks": ""
            },
            "colorscale": [
             [
              0,
              "#0d0887"
             ],
             [
              0.1111111111111111,
              "#46039f"
             ],
             [
              0.2222222222222222,
              "#7201a8"
             ],
             [
              0.3333333333333333,
              "#9c179e"
             ],
             [
              0.4444444444444444,
              "#bd3786"
             ],
             [
              0.5555555555555556,
              "#d8576b"
             ],
             [
              0.6666666666666666,
              "#ed7953"
             ],
             [
              0.7777777777777778,
              "#fb9f3a"
             ],
             [
              0.8888888888888888,
              "#fdca26"
             ],
             [
              1,
              "#f0f921"
             ]
            ],
            "type": "heatmapgl"
           }
          ],
          "histogram": [
           {
            "marker": {
             "pattern": {
              "fillmode": "overlay",
              "size": 10,
              "solidity": 0.2
             }
            },
            "type": "histogram"
           }
          ],
          "histogram2d": [
           {
            "colorbar": {
             "outlinewidth": 0,
             "ticks": ""
            },
            "colorscale": [
             [
              0,
              "#0d0887"
             ],
             [
              0.1111111111111111,
              "#46039f"
             ],
             [
              0.2222222222222222,
              "#7201a8"
             ],
             [
              0.3333333333333333,
              "#9c179e"
             ],
             [
              0.4444444444444444,
              "#bd3786"
             ],
             [
              0.5555555555555556,
              "#d8576b"
             ],
             [
              0.6666666666666666,
              "#ed7953"
             ],
             [
              0.7777777777777778,
              "#fb9f3a"
             ],
             [
              0.8888888888888888,
              "#fdca26"
             ],
             [
              1,
              "#f0f921"
             ]
            ],
            "type": "histogram2d"
           }
          ],
          "histogram2dcontour": [
           {
            "colorbar": {
             "outlinewidth": 0,
             "ticks": ""
            },
            "colorscale": [
             [
              0,
              "#0d0887"
             ],
             [
              0.1111111111111111,
              "#46039f"
             ],
             [
              0.2222222222222222,
              "#7201a8"
             ],
             [
              0.3333333333333333,
              "#9c179e"
             ],
             [
              0.4444444444444444,
              "#bd3786"
             ],
             [
              0.5555555555555556,
              "#d8576b"
             ],
             [
              0.6666666666666666,
              "#ed7953"
             ],
             [
              0.7777777777777778,
              "#fb9f3a"
             ],
             [
              0.8888888888888888,
              "#fdca26"
             ],
             [
              1,
              "#f0f921"
             ]
            ],
            "type": "histogram2dcontour"
           }
          ],
          "mesh3d": [
           {
            "colorbar": {
             "outlinewidth": 0,
             "ticks": ""
            },
            "type": "mesh3d"
           }
          ],
          "parcoords": [
           {
            "line": {
             "colorbar": {
              "outlinewidth": 0,
              "ticks": ""
             }
            },
            "type": "parcoords"
           }
          ],
          "pie": [
           {
            "automargin": true,
            "type": "pie"
           }
          ],
          "scatter": [
           {
            "marker": {
             "colorbar": {
              "outlinewidth": 0,
              "ticks": ""
             }
            },
            "type": "scatter"
           }
          ],
          "scatter3d": [
           {
            "line": {
             "colorbar": {
              "outlinewidth": 0,
              "ticks": ""
             }
            },
            "marker": {
             "colorbar": {
              "outlinewidth": 0,
              "ticks": ""
             }
            },
            "type": "scatter3d"
           }
          ],
          "scattercarpet": [
           {
            "marker": {
             "colorbar": {
              "outlinewidth": 0,
              "ticks": ""
             }
            },
            "type": "scattercarpet"
           }
          ],
          "scattergeo": [
           {
            "marker": {
             "colorbar": {
              "outlinewidth": 0,
              "ticks": ""
             }
            },
            "type": "scattergeo"
           }
          ],
          "scattergl": [
           {
            "marker": {
             "colorbar": {
              "outlinewidth": 0,
              "ticks": ""
             }
            },
            "type": "scattergl"
           }
          ],
          "scattermapbox": [
           {
            "marker": {
             "colorbar": {
              "outlinewidth": 0,
              "ticks": ""
             }
            },
            "type": "scattermapbox"
           }
          ],
          "scatterpolar": [
           {
            "marker": {
             "colorbar": {
              "outlinewidth": 0,
              "ticks": ""
             }
            },
            "type": "scatterpolar"
           }
          ],
          "scatterpolargl": [
           {
            "marker": {
             "colorbar": {
              "outlinewidth": 0,
              "ticks": ""
             }
            },
            "type": "scatterpolargl"
           }
          ],
          "scatterternary": [
           {
            "marker": {
             "colorbar": {
              "outlinewidth": 0,
              "ticks": ""
             }
            },
            "type": "scatterternary"
           }
          ],
          "surface": [
           {
            "colorbar": {
             "outlinewidth": 0,
             "ticks": ""
            },
            "colorscale": [
             [
              0,
              "#0d0887"
             ],
             [
              0.1111111111111111,
              "#46039f"
             ],
             [
              0.2222222222222222,
              "#7201a8"
             ],
             [
              0.3333333333333333,
              "#9c179e"
             ],
             [
              0.4444444444444444,
              "#bd3786"
             ],
             [
              0.5555555555555556,
              "#d8576b"
             ],
             [
              0.6666666666666666,
              "#ed7953"
             ],
             [
              0.7777777777777778,
              "#fb9f3a"
             ],
             [
              0.8888888888888888,
              "#fdca26"
             ],
             [
              1,
              "#f0f921"
             ]
            ],
            "type": "surface"
           }
          ],
          "table": [
           {
            "cells": {
             "fill": {
              "color": "#EBF0F8"
             },
             "line": {
              "color": "white"
             }
            },
            "header": {
             "fill": {
              "color": "#C8D4E3"
             },
             "line": {
              "color": "white"
             }
            },
            "type": "table"
           }
          ]
         },
         "layout": {
          "annotationdefaults": {
           "arrowcolor": "#2a3f5f",
           "arrowhead": 0,
           "arrowwidth": 1
          },
          "autotypenumbers": "strict",
          "coloraxis": {
           "colorbar": {
            "outlinewidth": 0,
            "ticks": ""
           }
          },
          "colorscale": {
           "diverging": [
            [
             0,
             "#8e0152"
            ],
            [
             0.1,
             "#c51b7d"
            ],
            [
             0.2,
             "#de77ae"
            ],
            [
             0.3,
             "#f1b6da"
            ],
            [
             0.4,
             "#fde0ef"
            ],
            [
             0.5,
             "#f7f7f7"
            ],
            [
             0.6,
             "#e6f5d0"
            ],
            [
             0.7,
             "#b8e186"
            ],
            [
             0.8,
             "#7fbc41"
            ],
            [
             0.9,
             "#4d9221"
            ],
            [
             1,
             "#276419"
            ]
           ],
           "sequential": [
            [
             0,
             "#0d0887"
            ],
            [
             0.1111111111111111,
             "#46039f"
            ],
            [
             0.2222222222222222,
             "#7201a8"
            ],
            [
             0.3333333333333333,
             "#9c179e"
            ],
            [
             0.4444444444444444,
             "#bd3786"
            ],
            [
             0.5555555555555556,
             "#d8576b"
            ],
            [
             0.6666666666666666,
             "#ed7953"
            ],
            [
             0.7777777777777778,
             "#fb9f3a"
            ],
            [
             0.8888888888888888,
             "#fdca26"
            ],
            [
             1,
             "#f0f921"
            ]
           ],
           "sequentialminus": [
            [
             0,
             "#0d0887"
            ],
            [
             0.1111111111111111,
             "#46039f"
            ],
            [
             0.2222222222222222,
             "#7201a8"
            ],
            [
             0.3333333333333333,
             "#9c179e"
            ],
            [
             0.4444444444444444,
             "#bd3786"
            ],
            [
             0.5555555555555556,
             "#d8576b"
            ],
            [
             0.6666666666666666,
             "#ed7953"
            ],
            [
             0.7777777777777778,
             "#fb9f3a"
            ],
            [
             0.8888888888888888,
             "#fdca26"
            ],
            [
             1,
             "#f0f921"
            ]
           ]
          },
          "colorway": [
           "#636efa",
           "#EF553B",
           "#00cc96",
           "#ab63fa",
           "#FFA15A",
           "#19d3f3",
           "#FF6692",
           "#B6E880",
           "#FF97FF",
           "#FECB52"
          ],
          "font": {
           "color": "#2a3f5f"
          },
          "geo": {
           "bgcolor": "white",
           "lakecolor": "white",
           "landcolor": "#E5ECF6",
           "showlakes": true,
           "showland": true,
           "subunitcolor": "white"
          },
          "hoverlabel": {
           "align": "left"
          },
          "hovermode": "closest",
          "mapbox": {
           "style": "light"
          },
          "paper_bgcolor": "white",
          "plot_bgcolor": "#E5ECF6",
          "polar": {
           "angularaxis": {
            "gridcolor": "white",
            "linecolor": "white",
            "ticks": ""
           },
           "bgcolor": "#E5ECF6",
           "radialaxis": {
            "gridcolor": "white",
            "linecolor": "white",
            "ticks": ""
           }
          },
          "scene": {
           "xaxis": {
            "backgroundcolor": "#E5ECF6",
            "gridcolor": "white",
            "gridwidth": 2,
            "linecolor": "white",
            "showbackground": true,
            "ticks": "",
            "zerolinecolor": "white"
           },
           "yaxis": {
            "backgroundcolor": "#E5ECF6",
            "gridcolor": "white",
            "gridwidth": 2,
            "linecolor": "white",
            "showbackground": true,
            "ticks": "",
            "zerolinecolor": "white"
           },
           "zaxis": {
            "backgroundcolor": "#E5ECF6",
            "gridcolor": "white",
            "gridwidth": 2,
            "linecolor": "white",
            "showbackground": true,
            "ticks": "",
            "zerolinecolor": "white"
           }
          },
          "shapedefaults": {
           "line": {
            "color": "#2a3f5f"
           }
          },
          "ternary": {
           "aaxis": {
            "gridcolor": "white",
            "linecolor": "white",
            "ticks": ""
           },
           "baxis": {
            "gridcolor": "white",
            "linecolor": "white",
            "ticks": ""
           },
           "bgcolor": "#E5ECF6",
           "caxis": {
            "gridcolor": "white",
            "linecolor": "white",
            "ticks": ""
           }
          },
          "title": {
           "x": 0.05
          },
          "xaxis": {
           "automargin": true,
           "gridcolor": "white",
           "linecolor": "white",
           "ticks": "",
           "title": {
            "standoff": 15
           },
           "zerolinecolor": "white",
           "zerolinewidth": 2
          },
          "yaxis": {
           "automargin": true,
           "gridcolor": "white",
           "linecolor": "white",
           "ticks": "",
           "title": {
            "standoff": 15
           },
           "zerolinecolor": "white",
           "zerolinewidth": 2
          }
         }
        }
       }
      },
      "text/html": [
       "<div>                            <div id=\"7cd2012b-7e3c-4886-9b96-d0b821cc887b\" class=\"plotly-graph-div\" style=\"height:525px; width:100%;\"></div>            <script type=\"text/javascript\">                require([\"plotly\"], function(Plotly) {                    window.PLOTLYENV=window.PLOTLYENV || {};                                    if (document.getElementById(\"7cd2012b-7e3c-4886-9b96-d0b821cc887b\")) {                    Plotly.newPlot(                        \"7cd2012b-7e3c-4886-9b96-d0b821cc887b\",                        [{\"branchvalues\":\"total\",\"customdata\":[[\"AF\",3.632],[\"AL\",4.586],[\"DZ\",5.295],[\"AO\",3.795],[\"AR\",6.388],[\"AM\",4.321],[\"AU\",7.272],[\"AT\",7.139],[\"AZ\",5.201],[\"BH\",6.105],[\"BD\",4.5],[\"BY\",5.483],[\"BE\",6.927],[\"BZ\",5.956],[\"BJ\",4.141],[\"BT\",5.082],[\"BO\",5.752],[\"BA\",5.129],[\"BW\",3.59],[\"BR\",6.419],[\"BG\",4.932999999999999],[\"BF\",4.424],[\"BI\",2.905],[\"KH\",4.433],[\"CM\",4.975],[\"CA\",7.328],[\"CF\",3.083],[\"TD\",4.301],[\"CL\",6.476],[\"CN\",5.246],[\"CO\",6.26],[\"CG\",4.559],[\"CR\",7.072],[\"CI\",4.671],[\"HR\",5.321],[\"CY\",5.7985],[\"CZ\",6.711000000000001],[\"CD\",4.245],[\"DK\",7.555],[\"DO\",5.302],[\"EC\",5.973],[\"EG\",4.419],[\"SV\",6.167],[\"EE\",5.739],[\"ET\",4.35],[\"FI\",7.632],[\"FR\",6.489],[\"GA\",4.758],[\"GE\",4.34],[\"DE\",6.965],[\"GH\",4.657],[\"GR\",5.358],[\"GT\",6.382],[\"GN\",3.964],[\"HT\",3.5820000000000003],[\"HN\",5.504],[\"HK\",5.43],[\"HU\",5.62],[\"IS\",7.495],[\"IN\",4.19],[\"ID\",5.093],[\"IR\",4.707],[\"IQ\",4.456],[\"IE\",6.977],[\"IL\",6.814],[\"IT\",6.0],[\"JM\",5.89],[\"JP\",5.915],[\"JO\",5.161],[\"KZ\",5.79],[\"KE\",4.41],[\"XK\",5.661999999999999],[\"KW\",6.083],[\"KG\",5.131],[\"LA\",4.623],[\"LV\",5.933],[\"LB\",5.358],[\"LS\",3.808],[\"LR\",3.495],[\"LY\",5.566],[\"LT\",5.952],[\"LU\",6.91],[\"MK\",5.185],[\"MG\",3.774],[\"MW\",3.587],[\"MY\",6.322],[\"ML\",4.447],[\"MT\",6.627],[\"MR\",4.356],[\"MU\",5.891],[\"MX\",6.488],[\"MD\",5.64],[\"MN\",5.125],[\"ME\",5.347],[\"MA\",5.254],[\"MZ\",4.417],[\"MM\",4.308],[null,4.441],[\"NP\",4.88],[\"NL\",7.441],[\"NZ\",7.324],[\"NI\",6.141],[\"NE\",4.166],[\"NG\",5.155],[\"NO\",7.594000000000001],[\"PK\",5.472],[\"PS\",4.743],[\"PA\",6.43],[\"PY\",5.681],[\"PE\",5.663],[\"PH\",5.524],[\"PL\",6.123],[\"PT\",5.41],[\"QA\",6.374],[\"RO\",5.945],[\"RU\",5.81],[\"RW\",3.408],[\"SA\",6.371],[\"SN\",4.631],[\"RS\",5.398],[\"SL\",4.571],[\"SG\",6.343],[\"SK\",6.173],[\"SI\",5.948],[\"SO\",4.982],[\"ZA\",4.724],[\"KR\",5.875],[\"SS\",3.2539999999999996],[\"ES\",6.31],[\"LK\",4.471],[\"SD\",4.139],[\"SE\",7.314],[\"CH\",7.487],[\"SY\",3.462],[\"TW\",6.441],[\"TJ\",5.199],[\"TZ\",3.303],[\"TH\",6.072],[\"TG\",3.999],[\"TT\",6.192],[\"TN\",4.592],[\"TR\",5.483],[\"TM\",5.636],[\"UG\",4.161],[\"UA\",4.103],[\"AE\",6.774],[\"GB\",7.19],[\"US\",6.886],[\"UY\",6.379],[\"UZ\",6.096],[\"VE\",4.806],[\"VN\",5.103],[\"YE\",3.355],[\"ZM\",4.377],[\"ZW\",3.692],[\"(?)\",4.459569148600412],[\"(?)\",4.924382518321009],[\"(?)\",6.212122217262459],[\"(?)\",6.669974275117499],[\"(?)\",7.280372896958024],[\"(?)\",6.177218532601388]],\"domain\":{\"x\":[0.0,1.0],\"y\":[0.0,1.0]},\"hovertemplate\":\"labels=%{label}<br>Population=%{value}<br>parent=%{parent}<br>id=%{id}<br>alpha2=%{customdata[0]}<br>Score=%{color}<extra></extra>\",\"ids\":[\"Asia/Afghanistan\",\"Europe/Albania\",\"Africa/Algeria\",\"Africa/Angola\",\"South America/Argentina\",\"Asia/Armenia\",\"Oceania/Australia\",\"Europe/Austria\",\"Asia/Azerbaijan\",\"Asia/Bahrain\",\"Asia/Bangladesh\",\"Europe/Belarus\",\"Europe/Belgium\",\"North America/Belize\",\"Africa/Benin\",\"Asia/Bhutan\",\"South America/Bolivia\",\"Europe/Bosnia and Herzegovina\",\"Africa/Botswana\",\"South America/Brazil\",\"Europe/Bulgaria\",\"Africa/Burkina Faso\",\"Africa/Burundi\",\"Asia/Cambodia\",\"Africa/Cameroon\",\"North America/Canada\",\"Africa/Central African Republic\",\"Africa/Chad\",\"South America/Chile\",\"Asia/China\",\"South America/Colombia\",\"Africa/Congo Republic\",\"North America/Costa Rica\",\"Africa/Cote d'Ivoire\",\"Europe/Croatia\",\"Asia/Cyprus\",\"Europe/Czech Republic\",\"Africa/DR Congo\",\"Europe/Denmark\",\"North America/Dominican Republic\",\"South America/Ecuador\",\"Africa/Egypt\",\"North America/El Salvador\",\"Europe/Estonia\",\"Africa/Ethiopia\",\"Europe/Finland\",\"Europe/France\",\"Africa/Gabon\",\"Asia/Georgia\",\"Europe/Germany\",\"Africa/Ghana\",\"Europe/Greece\",\"North America/Guatemala\",\"Africa/Guinea\",\"North America/Haiti\",\"North America/Honduras\",\"Asia/Hong Kong\",\"Europe/Hungary\",\"Europe/Iceland\",\"Asia/India\",\"Asia/Indonesia\",\"Asia/Iran\",\"Asia/Iraq\",\"Europe/Ireland\",\"Asia/Israel\",\"Europe/Italy\",\"North America/Jamaica\",\"Asia/Japan\",\"Asia/Jordan\",\"Asia/Kazakhstan\",\"Africa/Kenya\",\"Europe/Kosovo\",\"Asia/Kuwait\",\"Asia/Kyrgyz Republic\",\"Asia/Laos\",\"Europe/Latvia\",\"Asia/Lebanon\",\"Africa/Lesotho\",\"Africa/Liberia\",\"Africa/Libya\",\"Europe/Lithuania\",\"Europe/Luxembourg\",\"Europe/Macedonia\",\"Africa/Madagascar\",\"Africa/Malawi\",\"Asia/Malaysia\",\"Africa/Mali\",\"Europe/Malta\",\"Africa/Mauritania\",\"Africa/Mauritius\",\"North America/Mexico\",\"Europe/Moldova\",\"Asia/Mongolia\",\"Europe/Montenegro\",\"Africa/Morocco\",\"Africa/Mozambique\",\"Asia/Myanmar\",\"Africa/Namibia\",\"Asia/Nepal\",\"Europe/Netherlands\",\"Oceania/New Zealand\",\"North America/Nicaragua\",\"Africa/Niger\",\"Africa/Nigeria\",\"Europe/Norway\",\"Asia/Pakistan\",\"Asia/Palestine\",\"North America/Panama\",\"South America/Paraguay\",\"South America/Peru\",\"Asia/Philippines\",\"Europe/Poland\",\"Europe/Portugal\",\"Asia/Qatar\",\"Europe/Romania\",\"Europe/Russia\",\"Africa/Rwanda\",\"Asia/Saudi Arabia\",\"Africa/Senegal\",\"Europe/Serbia\",\"Africa/Sierra Leone\",\"Asia/Singapore\",\"Europe/Slovakia\",\"Europe/Slovenia\",\"Africa/Somalia\",\"Africa/South Africa\",\"Asia/South Korea\",\"Africa/South Sudan\",\"Europe/Spain\",\"Asia/Sri Lanka\",\"Africa/Sudan\",\"Europe/Sweden\",\"Europe/Switzerland\",\"Asia/Syria\",\"Asia/Taiwan\",\"Asia/Tajikistan\",\"Africa/Tanzania\",\"Asia/Thailand\",\"Africa/Togo\",\"North America/Trinidad and Tobago\",\"Africa/Tunisia\",\"Asia/Turkey\",\"Asia/Turkmenistan\",\"Africa/Uganda\",\"Europe/Ukraine\",\"Asia/United Arab Emirates\",\"Europe/United Kingdom\",\"North America/United States\",\"South America/Uruguay\",\"Asia/Uzbekistan\",\"South America/Venezuela\",\"Asia/Vietnam\",\"Asia/Yemen\",\"Africa/Zambia\",\"Africa/Zimbabwe\",\"Africa\",\"Asia\",\"Europe\",\"North America\",\"Oceania\",\"South America\"],\"labels\":[\"Afghanistan\",\"Albania\",\"Algeria\",\"Angola\",\"Argentina\",\"Armenia\",\"Australia\",\"Austria\",\"Azerbaijan\",\"Bahrain\",\"Bangladesh\",\"Belarus\",\"Belgium\",\"Belize\",\"Benin\",\"Bhutan\",\"Bolivia\",\"Bosnia and Herzegovina\",\"Botswana\",\"Brazil\",\"Bulgaria\",\"Burkina Faso\",\"Burundi\",\"Cambodia\",\"Cameroon\",\"Canada\",\"Central African Republic\",\"Chad\",\"Chile\",\"China\",\"Colombia\",\"Congo Republic\",\"Costa Rica\",\"Cote d'Ivoire\",\"Croatia\",\"Cyprus\",\"Czech Republic\",\"DR Congo\",\"Denmark\",\"Dominican Republic\",\"Ecuador\",\"Egypt\",\"El Salvador\",\"Estonia\",\"Ethiopia\",\"Finland\",\"France\",\"Gabon\",\"Georgia\",\"Germany\",\"Ghana\",\"Greece\",\"Guatemala\",\"Guinea\",\"Haiti\",\"Honduras\",\"Hong Kong\",\"Hungary\",\"Iceland\",\"India\",\"Indonesia\",\"Iran\",\"Iraq\",\"Ireland\",\"Israel\",\"Italy\",\"Jamaica\",\"Japan\",\"Jordan\",\"Kazakhstan\",\"Kenya\",\"Kosovo\",\"Kuwait\",\"Kyrgyz Republic\",\"Laos\",\"Latvia\",\"Lebanon\",\"Lesotho\",\"Liberia\",\"Libya\",\"Lithuania\",\"Luxembourg\",\"Macedonia\",\"Madagascar\",\"Malawi\",\"Malaysia\",\"Mali\",\"Malta\",\"Mauritania\",\"Mauritius\",\"Mexico\",\"Moldova\",\"Mongolia\",\"Montenegro\",\"Morocco\",\"Mozambique\",\"Myanmar\",\"Namibia\",\"Nepal\",\"Netherlands\",\"New Zealand\",\"Nicaragua\",\"Niger\",\"Nigeria\",\"Norway\",\"Pakistan\",\"Palestine\",\"Panama\",\"Paraguay\",\"Peru\",\"Philippines\",\"Poland\",\"Portugal\",\"Qatar\",\"Romania\",\"Russia\",\"Rwanda\",\"Saudi Arabia\",\"Senegal\",\"Serbia\",\"Sierra Leone\",\"Singapore\",\"Slovakia\",\"Slovenia\",\"Somalia\",\"South Africa\",\"South Korea\",\"South Sudan\",\"Spain\",\"Sri Lanka\",\"Sudan\",\"Sweden\",\"Switzerland\",\"Syria\",\"Taiwan\",\"Tajikistan\",\"Tanzania\",\"Thailand\",\"Togo\",\"Trinidad and Tobago\",\"Tunisia\",\"Turkey\",\"Turkmenistan\",\"Uganda\",\"Ukraine\",\"United Arab Emirates\",\"United Kingdom\",\"United States\",\"Uruguay\",\"Uzbekistan\",\"Venezuela\",\"Vietnam\",\"Yemen\",\"Zambia\",\"Zimbabwe\",\"Africa\",\"Asia\",\"Europe\",\"North America\",\"Oceania\",\"South America\"],\"marker\":{\"coloraxis\":\"coloraxis\",\"colors\":[3.632,4.586,5.295,3.795,6.388,4.321,7.272,7.139,5.201,6.105,4.5,5.483,6.927,5.956,4.141,5.082,5.752,5.129,3.59,6.419,4.932999999999999,4.424,2.905,4.433,4.975,7.328,3.083,4.301,6.476,5.246,6.26,4.559,7.072,4.671,5.321,5.7985,6.711000000000001,4.245,7.555,5.302,5.973,4.419,6.167,5.739,4.35,7.632,6.489,4.758,4.34,6.965,4.657,5.358,6.382,3.964,3.5820000000000003,5.504,5.43,5.62,7.495,4.19,5.093,4.707,4.456,6.977,6.814,6.0,5.89,5.915,5.161,5.79,4.41,5.661999999999999,6.083,5.131,4.623,5.933,5.358,3.808,3.495,5.566,5.952,6.91,5.185,3.774,3.587,6.322,4.447,6.627,4.356,5.891,6.488,5.64,5.125,5.347,5.254,4.417,4.308,4.441,4.88,7.441,7.324,6.141,4.166,5.155,7.594000000000001,5.472,4.743,6.43,5.681,5.663,5.524,6.123,5.41,6.374,5.945,5.81,3.408,6.371,4.631,5.398,4.571,6.343,6.173,5.948,4.982,4.724,5.875,3.2539999999999996,6.31,4.471,4.139,7.314,7.487,3.462,6.441,5.199,3.303,6.072,3.999,6.192,4.592,5.483,5.636,4.161,4.103,6.774,7.19,6.886,6.379,6.096,4.806,5.103,3.355,4.377,3.692,4.459569148600412,4.924382518321009,6.212122217262459,6.669974275117499,7.280372896958024,6.177218532601388]},\"name\":\"\",\"parents\":[\"Asia\",\"Europe\",\"Africa\",\"Africa\",\"South America\",\"Asia\",\"Oceania\",\"Europe\",\"Asia\",\"Asia\",\"Asia\",\"Europe\",\"Europe\",\"North America\",\"Africa\",\"Asia\",\"South America\",\"Europe\",\"Africa\",\"South America\",\"Europe\",\"Africa\",\"Africa\",\"Asia\",\"Africa\",\"North America\",\"Africa\",\"Africa\",\"South America\",\"Asia\",\"South America\",\"Africa\",\"North America\",\"Africa\",\"Europe\",\"Asia\",\"Europe\",\"Africa\",\"Europe\",\"North America\",\"South America\",\"Africa\",\"North America\",\"Europe\",\"Africa\",\"Europe\",\"Europe\",\"Africa\",\"Asia\",\"Europe\",\"Africa\",\"Europe\",\"North America\",\"Africa\",\"North America\",\"North America\",\"Asia\",\"Europe\",\"Europe\",\"Asia\",\"Asia\",\"Asia\",\"Asia\",\"Europe\",\"Asia\",\"Europe\",\"North America\",\"Asia\",\"Asia\",\"Asia\",\"Africa\",\"Europe\",\"Asia\",\"Asia\",\"Asia\",\"Europe\",\"Asia\",\"Africa\",\"Africa\",\"Africa\",\"Europe\",\"Europe\",\"Europe\",\"Africa\",\"Africa\",\"Asia\",\"Africa\",\"Europe\",\"Africa\",\"Africa\",\"North America\",\"Europe\",\"Asia\",\"Europe\",\"Africa\",\"Africa\",\"Asia\",\"Africa\",\"Asia\",\"Europe\",\"Oceania\",\"North America\",\"Africa\",\"Africa\",\"Europe\",\"Asia\",\"Asia\",\"North America\",\"South America\",\"South America\",\"Asia\",\"Europe\",\"Europe\",\"Asia\",\"Europe\",\"Europe\",\"Africa\",\"Asia\",\"Africa\",\"Europe\",\"Africa\",\"Asia\",\"Europe\",\"Europe\",\"Africa\",\"Africa\",\"Asia\",\"Africa\",\"Europe\",\"Asia\",\"Africa\",\"Europe\",\"Europe\",\"Asia\",\"Asia\",\"Asia\",\"Africa\",\"Asia\",\"Africa\",\"North America\",\"Africa\",\"Asia\",\"Asia\",\"Africa\",\"Europe\",\"Asia\",\"Europe\",\"North America\",\"South America\",\"Asia\",\"South America\",\"Asia\",\"Asia\",\"Africa\",\"Africa\",\"\",\"\",\"\",\"\",\"\",\"\"],\"type\":\"sunburst\",\"values\":[26023100.0,2895947.0,38700000.0,24383301.0,42669500.0,3009800.0,23696900.0,8527230.0,9552500.0,1316500.0,157486000.0,9475100.0,11225469.0,349728.0,9988068.0,755030.0,10027254.0,3791622.0,2024904.0,203586000.0,7245677.0,17322796.0,9530434.0,15184116.0,20386799.0,35540419.0,4709000.0,13211000.0,17819054.0,1367110000.0,47907800.0,5244362.0,4713168.0,26378275.0,4267558.0,1716000.0,10521600.0,69360000.0,5655750.0,10378267.0,15888900.0,87668100.0,6401240.0,1315819.0,87952991.0,5470437.0,66078000.0,1711000.0,4490500.0,80783000.0,27043093.0,10992589.0,15806675.0,10628972.0,10745665.0,8725111.0,7234800.0,9879000.0,328170.0,1263930000.0,252164800.0,77966400.0,36004552.0,6378000.0,8268400.0,60769102.0,2717991.0,127080000.0,6666960.0,17377800.0,41800000.0,1795666.0,3268431.0,5776570.0,6693300.0,1991800.0,4104000.0,2098000.0,4397000.0,6253000.0,2927310.0,549700.0,2085051.0,21842167.0,15805239.0,30430500.0,15768000.0,416055.0,3545620.0,1261208.0,119713203.0,3557600.0,2987733.0,627809.0,33465000.0,25041922.0,53708318.0,2113077.0,27646053.0,16881000.0,4547900.0,6134270.0,17138707.0,178517000.0,5156450.0,188410000.0,5091819.0,3713312.0,6893727.0,30814175.0,100697400.0,38496000.0,10477800.0,2269672.0,19942642.0,146233000.0,10996891.0,30770375.0,13508715.0,7186862.0,6205000.0,5469700.0,5415949.0,2064966.0,10806000.0,54002000.0,50423955.0,11384393.0,46507760.0,20277597.0,37289406.0,9737521.0,8183800.0,22964324.0,23424615.0,8161000.0,47421786.0,64871000.0,6993000.0,1328019.0,10982754.0,76667864.0,5838064.0,34856813.0,42973696.0,9446000.0,64105654.0,319259000.0,3404189.0,30492800.0,30206307.0,89708900.0,25956000.0,15023315.0,13061239.0,1097820347.0,4278893248.0,742914161.0,545526068.0,28244800.0,409216906.0]}],                        {\"coloraxis\":{\"colorbar\":{\"title\":{\"text\":\"Score\"}},\"colorscale\":[[0.0,\"rgb(103,0,31)\"],[0.1,\"rgb(178,24,43)\"],[0.2,\"rgb(214,96,77)\"],[0.3,\"rgb(244,165,130)\"],[0.4,\"rgb(253,219,199)\"],[0.5,\"rgb(247,247,247)\"],[0.6,\"rgb(209,229,240)\"],[0.7,\"rgb(146,197,222)\"],[0.8,\"rgb(67,147,195)\"],[0.9,\"rgb(33,102,172)\"],[1.0,\"rgb(5,48,97)\"]]},\"legend\":{\"tracegroupgap\":0},\"margin\":{\"t\":60},\"template\":{\"data\":{\"bar\":[{\"error_x\":{\"color\":\"#2a3f5f\"},\"error_y\":{\"color\":\"#2a3f5f\"},\"marker\":{\"line\":{\"color\":\"#E5ECF6\",\"width\":0.5},\"pattern\":{\"fillmode\":\"overlay\",\"size\":10,\"solidity\":0.2}},\"type\":\"bar\"}],\"barpolar\":[{\"marker\":{\"line\":{\"color\":\"#E5ECF6\",\"width\":0.5},\"pattern\":{\"fillmode\":\"overlay\",\"size\":10,\"solidity\":0.2}},\"type\":\"barpolar\"}],\"carpet\":[{\"aaxis\":{\"endlinecolor\":\"#2a3f5f\",\"gridcolor\":\"white\",\"linecolor\":\"white\",\"minorgridcolor\":\"white\",\"startlinecolor\":\"#2a3f5f\"},\"baxis\":{\"endlinecolor\":\"#2a3f5f\",\"gridcolor\":\"white\",\"linecolor\":\"white\",\"minorgridcolor\":\"white\",\"startlinecolor\":\"#2a3f5f\"},\"type\":\"carpet\"}],\"choropleth\":[{\"colorbar\":{\"outlinewidth\":0,\"ticks\":\"\"},\"type\":\"choropleth\"}],\"contour\":[{\"colorbar\":{\"outlinewidth\":0,\"ticks\":\"\"},\"colorscale\":[[0.0,\"#0d0887\"],[0.1111111111111111,\"#46039f\"],[0.2222222222222222,\"#7201a8\"],[0.3333333333333333,\"#9c179e\"],[0.4444444444444444,\"#bd3786\"],[0.5555555555555556,\"#d8576b\"],[0.6666666666666666,\"#ed7953\"],[0.7777777777777778,\"#fb9f3a\"],[0.8888888888888888,\"#fdca26\"],[1.0,\"#f0f921\"]],\"type\":\"contour\"}],\"contourcarpet\":[{\"colorbar\":{\"outlinewidth\":0,\"ticks\":\"\"},\"type\":\"contourcarpet\"}],\"heatmap\":[{\"colorbar\":{\"outlinewidth\":0,\"ticks\":\"\"},\"colorscale\":[[0.0,\"#0d0887\"],[0.1111111111111111,\"#46039f\"],[0.2222222222222222,\"#7201a8\"],[0.3333333333333333,\"#9c179e\"],[0.4444444444444444,\"#bd3786\"],[0.5555555555555556,\"#d8576b\"],[0.6666666666666666,\"#ed7953\"],[0.7777777777777778,\"#fb9f3a\"],[0.8888888888888888,\"#fdca26\"],[1.0,\"#f0f921\"]],\"type\":\"heatmap\"}],\"heatmapgl\":[{\"colorbar\":{\"outlinewidth\":0,\"ticks\":\"\"},\"colorscale\":[[0.0,\"#0d0887\"],[0.1111111111111111,\"#46039f\"],[0.2222222222222222,\"#7201a8\"],[0.3333333333333333,\"#9c179e\"],[0.4444444444444444,\"#bd3786\"],[0.5555555555555556,\"#d8576b\"],[0.6666666666666666,\"#ed7953\"],[0.7777777777777778,\"#fb9f3a\"],[0.8888888888888888,\"#fdca26\"],[1.0,\"#f0f921\"]],\"type\":\"heatmapgl\"}],\"histogram\":[{\"marker\":{\"pattern\":{\"fillmode\":\"overlay\",\"size\":10,\"solidity\":0.2}},\"type\":\"histogram\"}],\"histogram2d\":[{\"colorbar\":{\"outlinewidth\":0,\"ticks\":\"\"},\"colorscale\":[[0.0,\"#0d0887\"],[0.1111111111111111,\"#46039f\"],[0.2222222222222222,\"#7201a8\"],[0.3333333333333333,\"#9c179e\"],[0.4444444444444444,\"#bd3786\"],[0.5555555555555556,\"#d8576b\"],[0.6666666666666666,\"#ed7953\"],[0.7777777777777778,\"#fb9f3a\"],[0.8888888888888888,\"#fdca26\"],[1.0,\"#f0f921\"]],\"type\":\"histogram2d\"}],\"histogram2dcontour\":[{\"colorbar\":{\"outlinewidth\":0,\"ticks\":\"\"},\"colorscale\":[[0.0,\"#0d0887\"],[0.1111111111111111,\"#46039f\"],[0.2222222222222222,\"#7201a8\"],[0.3333333333333333,\"#9c179e\"],[0.4444444444444444,\"#bd3786\"],[0.5555555555555556,\"#d8576b\"],[0.6666666666666666,\"#ed7953\"],[0.7777777777777778,\"#fb9f3a\"],[0.8888888888888888,\"#fdca26\"],[1.0,\"#f0f921\"]],\"type\":\"histogram2dcontour\"}],\"mesh3d\":[{\"colorbar\":{\"outlinewidth\":0,\"ticks\":\"\"},\"type\":\"mesh3d\"}],\"parcoords\":[{\"line\":{\"colorbar\":{\"outlinewidth\":0,\"ticks\":\"\"}},\"type\":\"parcoords\"}],\"pie\":[{\"automargin\":true,\"type\":\"pie\"}],\"scatter\":[{\"marker\":{\"colorbar\":{\"outlinewidth\":0,\"ticks\":\"\"}},\"type\":\"scatter\"}],\"scatter3d\":[{\"line\":{\"colorbar\":{\"outlinewidth\":0,\"ticks\":\"\"}},\"marker\":{\"colorbar\":{\"outlinewidth\":0,\"ticks\":\"\"}},\"type\":\"scatter3d\"}],\"scattercarpet\":[{\"marker\":{\"colorbar\":{\"outlinewidth\":0,\"ticks\":\"\"}},\"type\":\"scattercarpet\"}],\"scattergeo\":[{\"marker\":{\"colorbar\":{\"outlinewidth\":0,\"ticks\":\"\"}},\"type\":\"scattergeo\"}],\"scattergl\":[{\"marker\":{\"colorbar\":{\"outlinewidth\":0,\"ticks\":\"\"}},\"type\":\"scattergl\"}],\"scattermapbox\":[{\"marker\":{\"colorbar\":{\"outlinewidth\":0,\"ticks\":\"\"}},\"type\":\"scattermapbox\"}],\"scatterpolar\":[{\"marker\":{\"colorbar\":{\"outlinewidth\":0,\"ticks\":\"\"}},\"type\":\"scatterpolar\"}],\"scatterpolargl\":[{\"marker\":{\"colorbar\":{\"outlinewidth\":0,\"ticks\":\"\"}},\"type\":\"scatterpolargl\"}],\"scatterternary\":[{\"marker\":{\"colorbar\":{\"outlinewidth\":0,\"ticks\":\"\"}},\"type\":\"scatterternary\"}],\"surface\":[{\"colorbar\":{\"outlinewidth\":0,\"ticks\":\"\"},\"colorscale\":[[0.0,\"#0d0887\"],[0.1111111111111111,\"#46039f\"],[0.2222222222222222,\"#7201a8\"],[0.3333333333333333,\"#9c179e\"],[0.4444444444444444,\"#bd3786\"],[0.5555555555555556,\"#d8576b\"],[0.6666666666666666,\"#ed7953\"],[0.7777777777777778,\"#fb9f3a\"],[0.8888888888888888,\"#fdca26\"],[1.0,\"#f0f921\"]],\"type\":\"surface\"}],\"table\":[{\"cells\":{\"fill\":{\"color\":\"#EBF0F8\"},\"line\":{\"color\":\"white\"}},\"header\":{\"fill\":{\"color\":\"#C8D4E3\"},\"line\":{\"color\":\"white\"}},\"type\":\"table\"}]},\"layout\":{\"annotationdefaults\":{\"arrowcolor\":\"#2a3f5f\",\"arrowhead\":0,\"arrowwidth\":1},\"autotypenumbers\":\"strict\",\"coloraxis\":{\"colorbar\":{\"outlinewidth\":0,\"ticks\":\"\"}},\"colorscale\":{\"diverging\":[[0,\"#8e0152\"],[0.1,\"#c51b7d\"],[0.2,\"#de77ae\"],[0.3,\"#f1b6da\"],[0.4,\"#fde0ef\"],[0.5,\"#f7f7f7\"],[0.6,\"#e6f5d0\"],[0.7,\"#b8e186\"],[0.8,\"#7fbc41\"],[0.9,\"#4d9221\"],[1,\"#276419\"]],\"sequential\":[[0.0,\"#0d0887\"],[0.1111111111111111,\"#46039f\"],[0.2222222222222222,\"#7201a8\"],[0.3333333333333333,\"#9c179e\"],[0.4444444444444444,\"#bd3786\"],[0.5555555555555556,\"#d8576b\"],[0.6666666666666666,\"#ed7953\"],[0.7777777777777778,\"#fb9f3a\"],[0.8888888888888888,\"#fdca26\"],[1.0,\"#f0f921\"]],\"sequentialminus\":[[0.0,\"#0d0887\"],[0.1111111111111111,\"#46039f\"],[0.2222222222222222,\"#7201a8\"],[0.3333333333333333,\"#9c179e\"],[0.4444444444444444,\"#bd3786\"],[0.5555555555555556,\"#d8576b\"],[0.6666666666666666,\"#ed7953\"],[0.7777777777777778,\"#fb9f3a\"],[0.8888888888888888,\"#fdca26\"],[1.0,\"#f0f921\"]]},\"colorway\":[\"#636efa\",\"#EF553B\",\"#00cc96\",\"#ab63fa\",\"#FFA15A\",\"#19d3f3\",\"#FF6692\",\"#B6E880\",\"#FF97FF\",\"#FECB52\"],\"font\":{\"color\":\"#2a3f5f\"},\"geo\":{\"bgcolor\":\"white\",\"lakecolor\":\"white\",\"landcolor\":\"#E5ECF6\",\"showlakes\":true,\"showland\":true,\"subunitcolor\":\"white\"},\"hoverlabel\":{\"align\":\"left\"},\"hovermode\":\"closest\",\"mapbox\":{\"style\":\"light\"},\"paper_bgcolor\":\"white\",\"plot_bgcolor\":\"#E5ECF6\",\"polar\":{\"angularaxis\":{\"gridcolor\":\"white\",\"linecolor\":\"white\",\"ticks\":\"\"},\"bgcolor\":\"#E5ECF6\",\"radialaxis\":{\"gridcolor\":\"white\",\"linecolor\":\"white\",\"ticks\":\"\"}},\"scene\":{\"xaxis\":{\"backgroundcolor\":\"#E5ECF6\",\"gridcolor\":\"white\",\"gridwidth\":2,\"linecolor\":\"white\",\"showbackground\":true,\"ticks\":\"\",\"zerolinecolor\":\"white\"},\"yaxis\":{\"backgroundcolor\":\"#E5ECF6\",\"gridcolor\":\"white\",\"gridwidth\":2,\"linecolor\":\"white\",\"showbackground\":true,\"ticks\":\"\",\"zerolinecolor\":\"white\"},\"zaxis\":{\"backgroundcolor\":\"#E5ECF6\",\"gridcolor\":\"white\",\"gridwidth\":2,\"linecolor\":\"white\",\"showbackground\":true,\"ticks\":\"\",\"zerolinecolor\":\"white\"}},\"shapedefaults\":{\"line\":{\"color\":\"#2a3f5f\"}},\"ternary\":{\"aaxis\":{\"gridcolor\":\"white\",\"linecolor\":\"white\",\"ticks\":\"\"},\"baxis\":{\"gridcolor\":\"white\",\"linecolor\":\"white\",\"ticks\":\"\"},\"bgcolor\":\"#E5ECF6\",\"caxis\":{\"gridcolor\":\"white\",\"linecolor\":\"white\",\"ticks\":\"\"}},\"title\":{\"x\":0.05},\"xaxis\":{\"automargin\":true,\"gridcolor\":\"white\",\"linecolor\":\"white\",\"ticks\":\"\",\"title\":{\"standoff\":15},\"zerolinecolor\":\"white\",\"zerolinewidth\":2},\"yaxis\":{\"automargin\":true,\"gridcolor\":\"white\",\"linecolor\":\"white\",\"ticks\":\"\",\"title\":{\"standoff\":15},\"zerolinecolor\":\"white\",\"zerolinewidth\":2}}}},                        {\"responsive\": true}                    ).then(function(){\n",
       "                            \n",
       "var gd = document.getElementById('7cd2012b-7e3c-4886-9b96-d0b821cc887b');\n",
       "var x = new MutationObserver(function (mutations, observer) {{\n",
       "        var display = window.getComputedStyle(gd).display;\n",
       "        if (!display || display === 'none') {{\n",
       "            console.log([gd, 'removed!']);\n",
       "            Plotly.purge(gd);\n",
       "            observer.disconnect();\n",
       "        }}\n",
       "}});\n",
       "\n",
       "// Listen for the removal of the full notebook cells\n",
       "var notebookContainer = gd.closest('#notebook-container');\n",
       "if (notebookContainer) {{\n",
       "    x.observe(notebookContainer, {childList: true});\n",
       "}}\n",
       "\n",
       "// Listen for the clearing of the current output cell\n",
       "var outputEl = gd.closest('.output');\n",
       "if (outputEl) {{\n",
       "    x.observe(outputEl, {childList: true});\n",
       "}}\n",
       "\n",
       "                        })                };                });            </script>        </div>"
      ]
     },
     "metadata": {},
     "output_type": "display_data"
    }
   ],
   "source": [
    "fig = px.sunburst(df18, path=['Continent', 'Country/Region'], values='Population',\n",
    "                  color='Score', hover_data=['alpha2'], color_continuous_scale=px.colors.sequential.RdBu)\n",
    "fig.show()"
   ]
  },
  {
   "cell_type": "code",
   "execution_count": 26,
   "id": "035bbff5",
   "metadata": {},
   "outputs": [
    {
     "data": {
      "application/vnd.plotly.v1+json": {
       "config": {
        "plotlyServerURL": "https://plot.ly"
       },
       "data": [
        {
         "branchvalues": "total",
         "customdata": [
          [
           "AF",
           3.632
          ],
          [
           "AL",
           4.586
          ],
          [
           "DZ",
           5.295
          ],
          [
           "AO",
           3.795
          ],
          [
           "AR",
           6.388
          ],
          [
           "AM",
           4.321
          ],
          [
           "AU",
           7.272
          ],
          [
           "AT",
           7.139
          ],
          [
           "AZ",
           5.201
          ],
          [
           "BH",
           6.105
          ],
          [
           "BD",
           4.5
          ],
          [
           "BY",
           5.483
          ],
          [
           "BE",
           6.927
          ],
          [
           "BZ",
           5.956
          ],
          [
           "BJ",
           4.141
          ],
          [
           "BT",
           5.082
          ],
          [
           "BO",
           5.752
          ],
          [
           "BA",
           5.129
          ],
          [
           "BW",
           3.59
          ],
          [
           "BR",
           6.419
          ],
          [
           "BG",
           4.932999999999999
          ],
          [
           "BF",
           4.424
          ],
          [
           "BI",
           2.905
          ],
          [
           "KH",
           4.433
          ],
          [
           "CM",
           4.975
          ],
          [
           "CA",
           7.328
          ],
          [
           "CF",
           3.083
          ],
          [
           "TD",
           4.301
          ],
          [
           "CL",
           6.476
          ],
          [
           "CN",
           5.246
          ],
          [
           "CO",
           6.26
          ],
          [
           "CG",
           4.559
          ],
          [
           "CR",
           7.072
          ],
          [
           "CI",
           4.671
          ],
          [
           "HR",
           5.321
          ],
          [
           "CY",
           5.7985
          ],
          [
           "CZ",
           6.711000000000001
          ],
          [
           "CD",
           4.245
          ],
          [
           "DK",
           7.555
          ],
          [
           "DO",
           5.302
          ],
          [
           "EC",
           5.973
          ],
          [
           "EG",
           4.419
          ],
          [
           "SV",
           6.167
          ],
          [
           "EE",
           5.739
          ],
          [
           "ET",
           4.35
          ],
          [
           "FI",
           7.632
          ],
          [
           "FR",
           6.489
          ],
          [
           "GA",
           4.758
          ],
          [
           "GE",
           4.34
          ],
          [
           "DE",
           6.965
          ],
          [
           "GH",
           4.657
          ],
          [
           "GR",
           5.358
          ],
          [
           "GT",
           6.382
          ],
          [
           "GN",
           3.964
          ],
          [
           "HT",
           3.5820000000000003
          ],
          [
           "HN",
           5.504
          ],
          [
           "HK",
           5.43
          ],
          [
           "HU",
           5.62
          ],
          [
           "IS",
           7.495
          ],
          [
           "IN",
           4.19
          ],
          [
           "ID",
           5.093
          ],
          [
           "IR",
           4.707
          ],
          [
           "IQ",
           4.456
          ],
          [
           "IE",
           6.977
          ],
          [
           "IL",
           6.814
          ],
          [
           "IT",
           6
          ],
          [
           "JM",
           5.89
          ],
          [
           "JP",
           5.915
          ],
          [
           "JO",
           5.161
          ],
          [
           "KZ",
           5.79
          ],
          [
           "KE",
           4.41
          ],
          [
           "XK",
           5.661999999999999
          ],
          [
           "KW",
           6.083
          ],
          [
           "KG",
           5.131
          ],
          [
           "LA",
           4.623
          ],
          [
           "LV",
           5.933
          ],
          [
           "LB",
           5.358
          ],
          [
           "LS",
           3.808
          ],
          [
           "LR",
           3.495
          ],
          [
           "LY",
           5.566
          ],
          [
           "LT",
           5.952
          ],
          [
           "LU",
           6.91
          ],
          [
           "MK",
           5.185
          ],
          [
           "MG",
           3.774
          ],
          [
           "MW",
           3.587
          ],
          [
           "MY",
           6.322
          ],
          [
           "ML",
           4.447
          ],
          [
           "MT",
           6.627
          ],
          [
           "MR",
           4.356
          ],
          [
           "MU",
           5.891
          ],
          [
           "MX",
           6.488
          ],
          [
           "MD",
           5.64
          ],
          [
           "MN",
           5.125
          ],
          [
           "ME",
           5.347
          ],
          [
           "MA",
           5.254
          ],
          [
           "MZ",
           4.417
          ],
          [
           "MM",
           4.308
          ],
          [
           null,
           4.441
          ],
          [
           "NP",
           4.88
          ],
          [
           "NL",
           7.441
          ],
          [
           "NZ",
           7.324
          ],
          [
           "NI",
           6.141
          ],
          [
           "NE",
           4.166
          ],
          [
           "NG",
           5.155
          ],
          [
           "NO",
           7.594000000000001
          ],
          [
           "PK",
           5.472
          ],
          [
           "PS",
           4.743
          ],
          [
           "PA",
           6.43
          ],
          [
           "PY",
           5.681
          ],
          [
           "PE",
           5.663
          ],
          [
           "PH",
           5.524
          ],
          [
           "PL",
           6.123
          ],
          [
           "PT",
           5.41
          ],
          [
           "QA",
           6.374
          ],
          [
           "RO",
           5.945
          ],
          [
           "RU",
           5.81
          ],
          [
           "RW",
           3.408
          ],
          [
           "SA",
           6.371
          ],
          [
           "SN",
           4.631
          ],
          [
           "RS",
           5.398
          ],
          [
           "SL",
           4.571
          ],
          [
           "SG",
           6.343
          ],
          [
           "SK",
           6.173
          ],
          [
           "SI",
           5.948
          ],
          [
           "SO",
           4.982
          ],
          [
           "ZA",
           4.724
          ],
          [
           "KR",
           5.875
          ],
          [
           "SS",
           3.2539999999999996
          ],
          [
           "ES",
           6.31
          ],
          [
           "LK",
           4.471
          ],
          [
           "SD",
           4.139
          ],
          [
           "SE",
           7.314
          ],
          [
           "CH",
           7.487
          ],
          [
           "SY",
           3.462
          ],
          [
           "TW",
           6.441
          ],
          [
           "TJ",
           5.199
          ],
          [
           "TZ",
           3.303
          ],
          [
           "TH",
           6.072
          ],
          [
           "TG",
           3.999
          ],
          [
           "TT",
           6.192
          ],
          [
           "TN",
           4.592
          ],
          [
           "TR",
           5.483
          ],
          [
           "TM",
           5.636
          ],
          [
           "UG",
           4.161
          ],
          [
           "UA",
           4.103
          ],
          [
           "AE",
           6.774
          ],
          [
           "GB",
           7.19
          ],
          [
           "US",
           6.886
          ],
          [
           "UY",
           6.379
          ],
          [
           "UZ",
           6.096
          ],
          [
           "VE",
           4.806
          ],
          [
           "VN",
           5.103
          ],
          [
           "YE",
           3.355
          ],
          [
           "ZM",
           4.377
          ],
          [
           "ZW",
           3.692
          ],
          [
           "(?)",
           4.459569148600412
          ],
          [
           "(?)",
           4.924382518321009
          ],
          [
           "(?)",
           6.212122217262459
          ],
          [
           "(?)",
           6.669974275117499
          ],
          [
           "(?)",
           7.280372896958024
          ],
          [
           "(?)",
           6.177218532601388
          ],
          [
           "(?)",
           5.202856052019756
          ]
         ],
         "domain": {
          "x": [
           0,
           1
          ],
          "y": [
           0,
           1
          ]
         },
         "hovertemplate": "labels=%{label}<br>Population=%{value}<br>parent=%{parent}<br>id=%{id}<br>alpha2=%{customdata[0]}<br>Score=%{color}<extra></extra>",
         "ids": [
          "World/Asia/Afghanistan",
          "World/Europe/Albania",
          "World/Africa/Algeria",
          "World/Africa/Angola",
          "World/South America/Argentina",
          "World/Asia/Armenia",
          "World/Oceania/Australia",
          "World/Europe/Austria",
          "World/Asia/Azerbaijan",
          "World/Asia/Bahrain",
          "World/Asia/Bangladesh",
          "World/Europe/Belarus",
          "World/Europe/Belgium",
          "World/North America/Belize",
          "World/Africa/Benin",
          "World/Asia/Bhutan",
          "World/South America/Bolivia",
          "World/Europe/Bosnia and Herzegovina",
          "World/Africa/Botswana",
          "World/South America/Brazil",
          "World/Europe/Bulgaria",
          "World/Africa/Burkina Faso",
          "World/Africa/Burundi",
          "World/Asia/Cambodia",
          "World/Africa/Cameroon",
          "World/North America/Canada",
          "World/Africa/Central African Republic",
          "World/Africa/Chad",
          "World/South America/Chile",
          "World/Asia/China",
          "World/South America/Colombia",
          "World/Africa/Congo Republic",
          "World/North America/Costa Rica",
          "World/Africa/Cote d'Ivoire",
          "World/Europe/Croatia",
          "World/Asia/Cyprus",
          "World/Europe/Czech Republic",
          "World/Africa/DR Congo",
          "World/Europe/Denmark",
          "World/North America/Dominican Republic",
          "World/South America/Ecuador",
          "World/Africa/Egypt",
          "World/North America/El Salvador",
          "World/Europe/Estonia",
          "World/Africa/Ethiopia",
          "World/Europe/Finland",
          "World/Europe/France",
          "World/Africa/Gabon",
          "World/Asia/Georgia",
          "World/Europe/Germany",
          "World/Africa/Ghana",
          "World/Europe/Greece",
          "World/North America/Guatemala",
          "World/Africa/Guinea",
          "World/North America/Haiti",
          "World/North America/Honduras",
          "World/Asia/Hong Kong",
          "World/Europe/Hungary",
          "World/Europe/Iceland",
          "World/Asia/India",
          "World/Asia/Indonesia",
          "World/Asia/Iran",
          "World/Asia/Iraq",
          "World/Europe/Ireland",
          "World/Asia/Israel",
          "World/Europe/Italy",
          "World/North America/Jamaica",
          "World/Asia/Japan",
          "World/Asia/Jordan",
          "World/Asia/Kazakhstan",
          "World/Africa/Kenya",
          "World/Europe/Kosovo",
          "World/Asia/Kuwait",
          "World/Asia/Kyrgyz Republic",
          "World/Asia/Laos",
          "World/Europe/Latvia",
          "World/Asia/Lebanon",
          "World/Africa/Lesotho",
          "World/Africa/Liberia",
          "World/Africa/Libya",
          "World/Europe/Lithuania",
          "World/Europe/Luxembourg",
          "World/Europe/Macedonia",
          "World/Africa/Madagascar",
          "World/Africa/Malawi",
          "World/Asia/Malaysia",
          "World/Africa/Mali",
          "World/Europe/Malta",
          "World/Africa/Mauritania",
          "World/Africa/Mauritius",
          "World/North America/Mexico",
          "World/Europe/Moldova",
          "World/Asia/Mongolia",
          "World/Europe/Montenegro",
          "World/Africa/Morocco",
          "World/Africa/Mozambique",
          "World/Asia/Myanmar",
          "World/Africa/Namibia",
          "World/Asia/Nepal",
          "World/Europe/Netherlands",
          "World/Oceania/New Zealand",
          "World/North America/Nicaragua",
          "World/Africa/Niger",
          "World/Africa/Nigeria",
          "World/Europe/Norway",
          "World/Asia/Pakistan",
          "World/Asia/Palestine",
          "World/North America/Panama",
          "World/South America/Paraguay",
          "World/South America/Peru",
          "World/Asia/Philippines",
          "World/Europe/Poland",
          "World/Europe/Portugal",
          "World/Asia/Qatar",
          "World/Europe/Romania",
          "World/Europe/Russia",
          "World/Africa/Rwanda",
          "World/Asia/Saudi Arabia",
          "World/Africa/Senegal",
          "World/Europe/Serbia",
          "World/Africa/Sierra Leone",
          "World/Asia/Singapore",
          "World/Europe/Slovakia",
          "World/Europe/Slovenia",
          "World/Africa/Somalia",
          "World/Africa/South Africa",
          "World/Asia/South Korea",
          "World/Africa/South Sudan",
          "World/Europe/Spain",
          "World/Asia/Sri Lanka",
          "World/Africa/Sudan",
          "World/Europe/Sweden",
          "World/Europe/Switzerland",
          "World/Asia/Syria",
          "World/Asia/Taiwan",
          "World/Asia/Tajikistan",
          "World/Africa/Tanzania",
          "World/Asia/Thailand",
          "World/Africa/Togo",
          "World/North America/Trinidad and Tobago",
          "World/Africa/Tunisia",
          "World/Asia/Turkey",
          "World/Asia/Turkmenistan",
          "World/Africa/Uganda",
          "World/Europe/Ukraine",
          "World/Asia/United Arab Emirates",
          "World/Europe/United Kingdom",
          "World/North America/United States",
          "World/South America/Uruguay",
          "World/Asia/Uzbekistan",
          "World/South America/Venezuela",
          "World/Asia/Vietnam",
          "World/Asia/Yemen",
          "World/Africa/Zambia",
          "World/Africa/Zimbabwe",
          "World/Africa",
          "World/Asia",
          "World/Europe",
          "World/North America",
          "World/Oceania",
          "World/South America",
          "World"
         ],
         "labels": [
          "Afghanistan",
          "Albania",
          "Algeria",
          "Angola",
          "Argentina",
          "Armenia",
          "Australia",
          "Austria",
          "Azerbaijan",
          "Bahrain",
          "Bangladesh",
          "Belarus",
          "Belgium",
          "Belize",
          "Benin",
          "Bhutan",
          "Bolivia",
          "Bosnia and Herzegovina",
          "Botswana",
          "Brazil",
          "Bulgaria",
          "Burkina Faso",
          "Burundi",
          "Cambodia",
          "Cameroon",
          "Canada",
          "Central African Republic",
          "Chad",
          "Chile",
          "China",
          "Colombia",
          "Congo Republic",
          "Costa Rica",
          "Cote d'Ivoire",
          "Croatia",
          "Cyprus",
          "Czech Republic",
          "DR Congo",
          "Denmark",
          "Dominican Republic",
          "Ecuador",
          "Egypt",
          "El Salvador",
          "Estonia",
          "Ethiopia",
          "Finland",
          "France",
          "Gabon",
          "Georgia",
          "Germany",
          "Ghana",
          "Greece",
          "Guatemala",
          "Guinea",
          "Haiti",
          "Honduras",
          "Hong Kong",
          "Hungary",
          "Iceland",
          "India",
          "Indonesia",
          "Iran",
          "Iraq",
          "Ireland",
          "Israel",
          "Italy",
          "Jamaica",
          "Japan",
          "Jordan",
          "Kazakhstan",
          "Kenya",
          "Kosovo",
          "Kuwait",
          "Kyrgyz Republic",
          "Laos",
          "Latvia",
          "Lebanon",
          "Lesotho",
          "Liberia",
          "Libya",
          "Lithuania",
          "Luxembourg",
          "Macedonia",
          "Madagascar",
          "Malawi",
          "Malaysia",
          "Mali",
          "Malta",
          "Mauritania",
          "Mauritius",
          "Mexico",
          "Moldova",
          "Mongolia",
          "Montenegro",
          "Morocco",
          "Mozambique",
          "Myanmar",
          "Namibia",
          "Nepal",
          "Netherlands",
          "New Zealand",
          "Nicaragua",
          "Niger",
          "Nigeria",
          "Norway",
          "Pakistan",
          "Palestine",
          "Panama",
          "Paraguay",
          "Peru",
          "Philippines",
          "Poland",
          "Portugal",
          "Qatar",
          "Romania",
          "Russia",
          "Rwanda",
          "Saudi Arabia",
          "Senegal",
          "Serbia",
          "Sierra Leone",
          "Singapore",
          "Slovakia",
          "Slovenia",
          "Somalia",
          "South Africa",
          "South Korea",
          "South Sudan",
          "Spain",
          "Sri Lanka",
          "Sudan",
          "Sweden",
          "Switzerland",
          "Syria",
          "Taiwan",
          "Tajikistan",
          "Tanzania",
          "Thailand",
          "Togo",
          "Trinidad and Tobago",
          "Tunisia",
          "Turkey",
          "Turkmenistan",
          "Uganda",
          "Ukraine",
          "United Arab Emirates",
          "United Kingdom",
          "United States",
          "Uruguay",
          "Uzbekistan",
          "Venezuela",
          "Vietnam",
          "Yemen",
          "Zambia",
          "Zimbabwe",
          "Africa",
          "Asia",
          "Europe",
          "North America",
          "Oceania",
          "South America",
          "World"
         ],
         "marker": {
          "coloraxis": "coloraxis",
          "colors": [
           3.632,
           4.586,
           5.295,
           3.795,
           6.388,
           4.321,
           7.272,
           7.139,
           5.201,
           6.105,
           4.5,
           5.483,
           6.927,
           5.956,
           4.141,
           5.082,
           5.752,
           5.129,
           3.59,
           6.419,
           4.932999999999999,
           4.424,
           2.905,
           4.433,
           4.975,
           7.328,
           3.083,
           4.301,
           6.476,
           5.246,
           6.26,
           4.559,
           7.072,
           4.671,
           5.321,
           5.7985,
           6.711000000000001,
           4.245,
           7.555,
           5.302,
           5.973,
           4.419,
           6.167,
           5.739,
           4.35,
           7.632,
           6.489,
           4.758,
           4.34,
           6.965,
           4.657,
           5.358,
           6.382,
           3.964,
           3.5820000000000003,
           5.504,
           5.43,
           5.62,
           7.495,
           4.19,
           5.093,
           4.707,
           4.456,
           6.977,
           6.814,
           6,
           5.89,
           5.915,
           5.161,
           5.79,
           4.41,
           5.661999999999999,
           6.083,
           5.131,
           4.623,
           5.933,
           5.358,
           3.808,
           3.495,
           5.566,
           5.952,
           6.91,
           5.185,
           3.774,
           3.587,
           6.322,
           4.447,
           6.627,
           4.356,
           5.891,
           6.488,
           5.64,
           5.125,
           5.347,
           5.254,
           4.417,
           4.308,
           4.441,
           4.88,
           7.441,
           7.324,
           6.141,
           4.166,
           5.155,
           7.594000000000001,
           5.472,
           4.743,
           6.43,
           5.681,
           5.663,
           5.524,
           6.123,
           5.41,
           6.374,
           5.945,
           5.81,
           3.408,
           6.371,
           4.631,
           5.398,
           4.571,
           6.343,
           6.173,
           5.948,
           4.982,
           4.724,
           5.875,
           3.2539999999999996,
           6.31,
           4.471,
           4.139,
           7.314,
           7.487,
           3.462,
           6.441,
           5.199,
           3.303,
           6.072,
           3.999,
           6.192,
           4.592,
           5.483,
           5.636,
           4.161,
           4.103,
           6.774,
           7.19,
           6.886,
           6.379,
           6.096,
           4.806,
           5.103,
           3.355,
           4.377,
           3.692,
           4.459569148600412,
           4.924382518321009,
           6.212122217262459,
           6.669974275117499,
           7.280372896958024,
           6.177218532601388,
           5.202856052019756
          ]
         },
         "name": "",
         "parents": [
          "World/Asia",
          "World/Europe",
          "World/Africa",
          "World/Africa",
          "World/South America",
          "World/Asia",
          "World/Oceania",
          "World/Europe",
          "World/Asia",
          "World/Asia",
          "World/Asia",
          "World/Europe",
          "World/Europe",
          "World/North America",
          "World/Africa",
          "World/Asia",
          "World/South America",
          "World/Europe",
          "World/Africa",
          "World/South America",
          "World/Europe",
          "World/Africa",
          "World/Africa",
          "World/Asia",
          "World/Africa",
          "World/North America",
          "World/Africa",
          "World/Africa",
          "World/South America",
          "World/Asia",
          "World/South America",
          "World/Africa",
          "World/North America",
          "World/Africa",
          "World/Europe",
          "World/Asia",
          "World/Europe",
          "World/Africa",
          "World/Europe",
          "World/North America",
          "World/South America",
          "World/Africa",
          "World/North America",
          "World/Europe",
          "World/Africa",
          "World/Europe",
          "World/Europe",
          "World/Africa",
          "World/Asia",
          "World/Europe",
          "World/Africa",
          "World/Europe",
          "World/North America",
          "World/Africa",
          "World/North America",
          "World/North America",
          "World/Asia",
          "World/Europe",
          "World/Europe",
          "World/Asia",
          "World/Asia",
          "World/Asia",
          "World/Asia",
          "World/Europe",
          "World/Asia",
          "World/Europe",
          "World/North America",
          "World/Asia",
          "World/Asia",
          "World/Asia",
          "World/Africa",
          "World/Europe",
          "World/Asia",
          "World/Asia",
          "World/Asia",
          "World/Europe",
          "World/Asia",
          "World/Africa",
          "World/Africa",
          "World/Africa",
          "World/Europe",
          "World/Europe",
          "World/Europe",
          "World/Africa",
          "World/Africa",
          "World/Asia",
          "World/Africa",
          "World/Europe",
          "World/Africa",
          "World/Africa",
          "World/North America",
          "World/Europe",
          "World/Asia",
          "World/Europe",
          "World/Africa",
          "World/Africa",
          "World/Asia",
          "World/Africa",
          "World/Asia",
          "World/Europe",
          "World/Oceania",
          "World/North America",
          "World/Africa",
          "World/Africa",
          "World/Europe",
          "World/Asia",
          "World/Asia",
          "World/North America",
          "World/South America",
          "World/South America",
          "World/Asia",
          "World/Europe",
          "World/Europe",
          "World/Asia",
          "World/Europe",
          "World/Europe",
          "World/Africa",
          "World/Asia",
          "World/Africa",
          "World/Europe",
          "World/Africa",
          "World/Asia",
          "World/Europe",
          "World/Europe",
          "World/Africa",
          "World/Africa",
          "World/Asia",
          "World/Africa",
          "World/Europe",
          "World/Asia",
          "World/Africa",
          "World/Europe",
          "World/Europe",
          "World/Asia",
          "World/Asia",
          "World/Asia",
          "World/Africa",
          "World/Asia",
          "World/Africa",
          "World/North America",
          "World/Africa",
          "World/Asia",
          "World/Asia",
          "World/Africa",
          "World/Europe",
          "World/Asia",
          "World/Europe",
          "World/North America",
          "World/South America",
          "World/Asia",
          "World/South America",
          "World/Asia",
          "World/Asia",
          "World/Africa",
          "World/Africa",
          "World",
          "World",
          "World",
          "World",
          "World",
          "World",
          ""
         ],
         "type": "treemap",
         "values": [
          26023100,
          2895947,
          38700000,
          24383301,
          42669500,
          3009800,
          23696900,
          8527230,
          9552500,
          1316500,
          157486000,
          9475100,
          11225469,
          349728,
          9988068,
          755030,
          10027254,
          3791622,
          2024904,
          203586000,
          7245677,
          17322796,
          9530434,
          15184116,
          20386799,
          35540419,
          4709000,
          13211000,
          17819054,
          1367110000,
          47907800,
          5244362,
          4713168,
          26378275,
          4267558,
          1716000,
          10521600,
          69360000,
          5655750,
          10378267,
          15888900,
          87668100,
          6401240,
          1315819,
          87952991,
          5470437,
          66078000,
          1711000,
          4490500,
          80783000,
          27043093,
          10992589,
          15806675,
          10628972,
          10745665,
          8725111,
          7234800,
          9879000,
          328170,
          1263930000,
          252164800,
          77966400,
          36004552,
          6378000,
          8268400,
          60769102,
          2717991,
          127080000,
          6666960,
          17377800,
          41800000,
          1795666,
          3268431,
          5776570,
          6693300,
          1991800,
          4104000,
          2098000,
          4397000,
          6253000,
          2927310,
          549700,
          2085051,
          21842167,
          15805239,
          30430500,
          15768000,
          416055,
          3545620,
          1261208,
          119713203,
          3557600,
          2987733,
          627809,
          33465000,
          25041922,
          53708318,
          2113077,
          27646053,
          16881000,
          4547900,
          6134270,
          17138707,
          178517000,
          5156450,
          188410000,
          5091819,
          3713312,
          6893727,
          30814175,
          100697400,
          38496000,
          10477800,
          2269672,
          19942642,
          146233000,
          10996891,
          30770375,
          13508715,
          7186862,
          6205000,
          5469700,
          5415949,
          2064966,
          10806000,
          54002000,
          50423955,
          11384393,
          46507760,
          20277597,
          37289406,
          9737521,
          8183800,
          22964324,
          23424615,
          8161000,
          47421786,
          64871000,
          6993000,
          1328019,
          10982754,
          76667864,
          5838064,
          34856813,
          42973696,
          9446000,
          64105654,
          319259000,
          3404189,
          30492800,
          30206307,
          89708900,
          25956000,
          15023315,
          13061239,
          1097820347,
          4278893248,
          742914161,
          545526068,
          28244800,
          409216906,
          7102615530
         ]
        }
       ],
       "layout": {
        "coloraxis": {
         "colorbar": {
          "title": {
           "text": "Score"
          }
         },
         "colorscale": [
          [
           0,
           "rgb(103,0,31)"
          ],
          [
           0.1,
           "rgb(178,24,43)"
          ],
          [
           0.2,
           "rgb(214,96,77)"
          ],
          [
           0.3,
           "rgb(244,165,130)"
          ],
          [
           0.4,
           "rgb(253,219,199)"
          ],
          [
           0.5,
           "rgb(247,247,247)"
          ],
          [
           0.6,
           "rgb(209,229,240)"
          ],
          [
           0.7,
           "rgb(146,197,222)"
          ],
          [
           0.8,
           "rgb(67,147,195)"
          ],
          [
           0.9,
           "rgb(33,102,172)"
          ],
          [
           1,
           "rgb(5,48,97)"
          ]
         ]
        },
        "legend": {
         "tracegroupgap": 0
        },
        "margin": {
         "t": 60
        },
        "template": {
         "data": {
          "bar": [
           {
            "error_x": {
             "color": "#2a3f5f"
            },
            "error_y": {
             "color": "#2a3f5f"
            },
            "marker": {
             "line": {
              "color": "#E5ECF6",
              "width": 0.5
             },
             "pattern": {
              "fillmode": "overlay",
              "size": 10,
              "solidity": 0.2
             }
            },
            "type": "bar"
           }
          ],
          "barpolar": [
           {
            "marker": {
             "line": {
              "color": "#E5ECF6",
              "width": 0.5
             },
             "pattern": {
              "fillmode": "overlay",
              "size": 10,
              "solidity": 0.2
             }
            },
            "type": "barpolar"
           }
          ],
          "carpet": [
           {
            "aaxis": {
             "endlinecolor": "#2a3f5f",
             "gridcolor": "white",
             "linecolor": "white",
             "minorgridcolor": "white",
             "startlinecolor": "#2a3f5f"
            },
            "baxis": {
             "endlinecolor": "#2a3f5f",
             "gridcolor": "white",
             "linecolor": "white",
             "minorgridcolor": "white",
             "startlinecolor": "#2a3f5f"
            },
            "type": "carpet"
           }
          ],
          "choropleth": [
           {
            "colorbar": {
             "outlinewidth": 0,
             "ticks": ""
            },
            "type": "choropleth"
           }
          ],
          "contour": [
           {
            "colorbar": {
             "outlinewidth": 0,
             "ticks": ""
            },
            "colorscale": [
             [
              0,
              "#0d0887"
             ],
             [
              0.1111111111111111,
              "#46039f"
             ],
             [
              0.2222222222222222,
              "#7201a8"
             ],
             [
              0.3333333333333333,
              "#9c179e"
             ],
             [
              0.4444444444444444,
              "#bd3786"
             ],
             [
              0.5555555555555556,
              "#d8576b"
             ],
             [
              0.6666666666666666,
              "#ed7953"
             ],
             [
              0.7777777777777778,
              "#fb9f3a"
             ],
             [
              0.8888888888888888,
              "#fdca26"
             ],
             [
              1,
              "#f0f921"
             ]
            ],
            "type": "contour"
           }
          ],
          "contourcarpet": [
           {
            "colorbar": {
             "outlinewidth": 0,
             "ticks": ""
            },
            "type": "contourcarpet"
           }
          ],
          "heatmap": [
           {
            "colorbar": {
             "outlinewidth": 0,
             "ticks": ""
            },
            "colorscale": [
             [
              0,
              "#0d0887"
             ],
             [
              0.1111111111111111,
              "#46039f"
             ],
             [
              0.2222222222222222,
              "#7201a8"
             ],
             [
              0.3333333333333333,
              "#9c179e"
             ],
             [
              0.4444444444444444,
              "#bd3786"
             ],
             [
              0.5555555555555556,
              "#d8576b"
             ],
             [
              0.6666666666666666,
              "#ed7953"
             ],
             [
              0.7777777777777778,
              "#fb9f3a"
             ],
             [
              0.8888888888888888,
              "#fdca26"
             ],
             [
              1,
              "#f0f921"
             ]
            ],
            "type": "heatmap"
           }
          ],
          "heatmapgl": [
           {
            "colorbar": {
             "outlinewidth": 0,
             "ticks": ""
            },
            "colorscale": [
             [
              0,
              "#0d0887"
             ],
             [
              0.1111111111111111,
              "#46039f"
             ],
             [
              0.2222222222222222,
              "#7201a8"
             ],
             [
              0.3333333333333333,
              "#9c179e"
             ],
             [
              0.4444444444444444,
              "#bd3786"
             ],
             [
              0.5555555555555556,
              "#d8576b"
             ],
             [
              0.6666666666666666,
              "#ed7953"
             ],
             [
              0.7777777777777778,
              "#fb9f3a"
             ],
             [
              0.8888888888888888,
              "#fdca26"
             ],
             [
              1,
              "#f0f921"
             ]
            ],
            "type": "heatmapgl"
           }
          ],
          "histogram": [
           {
            "marker": {
             "pattern": {
              "fillmode": "overlay",
              "size": 10,
              "solidity": 0.2
             }
            },
            "type": "histogram"
           }
          ],
          "histogram2d": [
           {
            "colorbar": {
             "outlinewidth": 0,
             "ticks": ""
            },
            "colorscale": [
             [
              0,
              "#0d0887"
             ],
             [
              0.1111111111111111,
              "#46039f"
             ],
             [
              0.2222222222222222,
              "#7201a8"
             ],
             [
              0.3333333333333333,
              "#9c179e"
             ],
             [
              0.4444444444444444,
              "#bd3786"
             ],
             [
              0.5555555555555556,
              "#d8576b"
             ],
             [
              0.6666666666666666,
              "#ed7953"
             ],
             [
              0.7777777777777778,
              "#fb9f3a"
             ],
             [
              0.8888888888888888,
              "#fdca26"
             ],
             [
              1,
              "#f0f921"
             ]
            ],
            "type": "histogram2d"
           }
          ],
          "histogram2dcontour": [
           {
            "colorbar": {
             "outlinewidth": 0,
             "ticks": ""
            },
            "colorscale": [
             [
              0,
              "#0d0887"
             ],
             [
              0.1111111111111111,
              "#46039f"
             ],
             [
              0.2222222222222222,
              "#7201a8"
             ],
             [
              0.3333333333333333,
              "#9c179e"
             ],
             [
              0.4444444444444444,
              "#bd3786"
             ],
             [
              0.5555555555555556,
              "#d8576b"
             ],
             [
              0.6666666666666666,
              "#ed7953"
             ],
             [
              0.7777777777777778,
              "#fb9f3a"
             ],
             [
              0.8888888888888888,
              "#fdca26"
             ],
             [
              1,
              "#f0f921"
             ]
            ],
            "type": "histogram2dcontour"
           }
          ],
          "mesh3d": [
           {
            "colorbar": {
             "outlinewidth": 0,
             "ticks": ""
            },
            "type": "mesh3d"
           }
          ],
          "parcoords": [
           {
            "line": {
             "colorbar": {
              "outlinewidth": 0,
              "ticks": ""
             }
            },
            "type": "parcoords"
           }
          ],
          "pie": [
           {
            "automargin": true,
            "type": "pie"
           }
          ],
          "scatter": [
           {
            "marker": {
             "colorbar": {
              "outlinewidth": 0,
              "ticks": ""
             }
            },
            "type": "scatter"
           }
          ],
          "scatter3d": [
           {
            "line": {
             "colorbar": {
              "outlinewidth": 0,
              "ticks": ""
             }
            },
            "marker": {
             "colorbar": {
              "outlinewidth": 0,
              "ticks": ""
             }
            },
            "type": "scatter3d"
           }
          ],
          "scattercarpet": [
           {
            "marker": {
             "colorbar": {
              "outlinewidth": 0,
              "ticks": ""
             }
            },
            "type": "scattercarpet"
           }
          ],
          "scattergeo": [
           {
            "marker": {
             "colorbar": {
              "outlinewidth": 0,
              "ticks": ""
             }
            },
            "type": "scattergeo"
           }
          ],
          "scattergl": [
           {
            "marker": {
             "colorbar": {
              "outlinewidth": 0,
              "ticks": ""
             }
            },
            "type": "scattergl"
           }
          ],
          "scattermapbox": [
           {
            "marker": {
             "colorbar": {
              "outlinewidth": 0,
              "ticks": ""
             }
            },
            "type": "scattermapbox"
           }
          ],
          "scatterpolar": [
           {
            "marker": {
             "colorbar": {
              "outlinewidth": 0,
              "ticks": ""
             }
            },
            "type": "scatterpolar"
           }
          ],
          "scatterpolargl": [
           {
            "marker": {
             "colorbar": {
              "outlinewidth": 0,
              "ticks": ""
             }
            },
            "type": "scatterpolargl"
           }
          ],
          "scatterternary": [
           {
            "marker": {
             "colorbar": {
              "outlinewidth": 0,
              "ticks": ""
             }
            },
            "type": "scatterternary"
           }
          ],
          "surface": [
           {
            "colorbar": {
             "outlinewidth": 0,
             "ticks": ""
            },
            "colorscale": [
             [
              0,
              "#0d0887"
             ],
             [
              0.1111111111111111,
              "#46039f"
             ],
             [
              0.2222222222222222,
              "#7201a8"
             ],
             [
              0.3333333333333333,
              "#9c179e"
             ],
             [
              0.4444444444444444,
              "#bd3786"
             ],
             [
              0.5555555555555556,
              "#d8576b"
             ],
             [
              0.6666666666666666,
              "#ed7953"
             ],
             [
              0.7777777777777778,
              "#fb9f3a"
             ],
             [
              0.8888888888888888,
              "#fdca26"
             ],
             [
              1,
              "#f0f921"
             ]
            ],
            "type": "surface"
           }
          ],
          "table": [
           {
            "cells": {
             "fill": {
              "color": "#EBF0F8"
             },
             "line": {
              "color": "white"
             }
            },
            "header": {
             "fill": {
              "color": "#C8D4E3"
             },
             "line": {
              "color": "white"
             }
            },
            "type": "table"
           }
          ]
         },
         "layout": {
          "annotationdefaults": {
           "arrowcolor": "#2a3f5f",
           "arrowhead": 0,
           "arrowwidth": 1
          },
          "autotypenumbers": "strict",
          "coloraxis": {
           "colorbar": {
            "outlinewidth": 0,
            "ticks": ""
           }
          },
          "colorscale": {
           "diverging": [
            [
             0,
             "#8e0152"
            ],
            [
             0.1,
             "#c51b7d"
            ],
            [
             0.2,
             "#de77ae"
            ],
            [
             0.3,
             "#f1b6da"
            ],
            [
             0.4,
             "#fde0ef"
            ],
            [
             0.5,
             "#f7f7f7"
            ],
            [
             0.6,
             "#e6f5d0"
            ],
            [
             0.7,
             "#b8e186"
            ],
            [
             0.8,
             "#7fbc41"
            ],
            [
             0.9,
             "#4d9221"
            ],
            [
             1,
             "#276419"
            ]
           ],
           "sequential": [
            [
             0,
             "#0d0887"
            ],
            [
             0.1111111111111111,
             "#46039f"
            ],
            [
             0.2222222222222222,
             "#7201a8"
            ],
            [
             0.3333333333333333,
             "#9c179e"
            ],
            [
             0.4444444444444444,
             "#bd3786"
            ],
            [
             0.5555555555555556,
             "#d8576b"
            ],
            [
             0.6666666666666666,
             "#ed7953"
            ],
            [
             0.7777777777777778,
             "#fb9f3a"
            ],
            [
             0.8888888888888888,
             "#fdca26"
            ],
            [
             1,
             "#f0f921"
            ]
           ],
           "sequentialminus": [
            [
             0,
             "#0d0887"
            ],
            [
             0.1111111111111111,
             "#46039f"
            ],
            [
             0.2222222222222222,
             "#7201a8"
            ],
            [
             0.3333333333333333,
             "#9c179e"
            ],
            [
             0.4444444444444444,
             "#bd3786"
            ],
            [
             0.5555555555555556,
             "#d8576b"
            ],
            [
             0.6666666666666666,
             "#ed7953"
            ],
            [
             0.7777777777777778,
             "#fb9f3a"
            ],
            [
             0.8888888888888888,
             "#fdca26"
            ],
            [
             1,
             "#f0f921"
            ]
           ]
          },
          "colorway": [
           "#636efa",
           "#EF553B",
           "#00cc96",
           "#ab63fa",
           "#FFA15A",
           "#19d3f3",
           "#FF6692",
           "#B6E880",
           "#FF97FF",
           "#FECB52"
          ],
          "font": {
           "color": "#2a3f5f"
          },
          "geo": {
           "bgcolor": "white",
           "lakecolor": "white",
           "landcolor": "#E5ECF6",
           "showlakes": true,
           "showland": true,
           "subunitcolor": "white"
          },
          "hoverlabel": {
           "align": "left"
          },
          "hovermode": "closest",
          "mapbox": {
           "style": "light"
          },
          "paper_bgcolor": "white",
          "plot_bgcolor": "#E5ECF6",
          "polar": {
           "angularaxis": {
            "gridcolor": "white",
            "linecolor": "white",
            "ticks": ""
           },
           "bgcolor": "#E5ECF6",
           "radialaxis": {
            "gridcolor": "white",
            "linecolor": "white",
            "ticks": ""
           }
          },
          "scene": {
           "xaxis": {
            "backgroundcolor": "#E5ECF6",
            "gridcolor": "white",
            "gridwidth": 2,
            "linecolor": "white",
            "showbackground": true,
            "ticks": "",
            "zerolinecolor": "white"
           },
           "yaxis": {
            "backgroundcolor": "#E5ECF6",
            "gridcolor": "white",
            "gridwidth": 2,
            "linecolor": "white",
            "showbackground": true,
            "ticks": "",
            "zerolinecolor": "white"
           },
           "zaxis": {
            "backgroundcolor": "#E5ECF6",
            "gridcolor": "white",
            "gridwidth": 2,
            "linecolor": "white",
            "showbackground": true,
            "ticks": "",
            "zerolinecolor": "white"
           }
          },
          "shapedefaults": {
           "line": {
            "color": "#2a3f5f"
           }
          },
          "ternary": {
           "aaxis": {
            "gridcolor": "white",
            "linecolor": "white",
            "ticks": ""
           },
           "baxis": {
            "gridcolor": "white",
            "linecolor": "white",
            "ticks": ""
           },
           "bgcolor": "#E5ECF6",
           "caxis": {
            "gridcolor": "white",
            "linecolor": "white",
            "ticks": ""
           }
          },
          "title": {
           "x": 0.05
          },
          "xaxis": {
           "automargin": true,
           "gridcolor": "white",
           "linecolor": "white",
           "ticks": "",
           "title": {
            "standoff": 15
           },
           "zerolinecolor": "white",
           "zerolinewidth": 2
          },
          "yaxis": {
           "automargin": true,
           "gridcolor": "white",
           "linecolor": "white",
           "ticks": "",
           "title": {
            "standoff": 15
           },
           "zerolinecolor": "white",
           "zerolinewidth": 2
          }
         }
        }
       }
      },
      "text/html": [
       "<div>                            <div id=\"c70ae66b-57f8-45e7-982b-0f5fc9b649aa\" class=\"plotly-graph-div\" style=\"height:525px; width:100%;\"></div>            <script type=\"text/javascript\">                require([\"plotly\"], function(Plotly) {                    window.PLOTLYENV=window.PLOTLYENV || {};                                    if (document.getElementById(\"c70ae66b-57f8-45e7-982b-0f5fc9b649aa\")) {                    Plotly.newPlot(                        \"c70ae66b-57f8-45e7-982b-0f5fc9b649aa\",                        [{\"branchvalues\":\"total\",\"customdata\":[[\"AF\",3.632],[\"AL\",4.586],[\"DZ\",5.295],[\"AO\",3.795],[\"AR\",6.388],[\"AM\",4.321],[\"AU\",7.272],[\"AT\",7.139],[\"AZ\",5.201],[\"BH\",6.105],[\"BD\",4.5],[\"BY\",5.483],[\"BE\",6.927],[\"BZ\",5.956],[\"BJ\",4.141],[\"BT\",5.082],[\"BO\",5.752],[\"BA\",5.129],[\"BW\",3.59],[\"BR\",6.419],[\"BG\",4.932999999999999],[\"BF\",4.424],[\"BI\",2.905],[\"KH\",4.433],[\"CM\",4.975],[\"CA\",7.328],[\"CF\",3.083],[\"TD\",4.301],[\"CL\",6.476],[\"CN\",5.246],[\"CO\",6.26],[\"CG\",4.559],[\"CR\",7.072],[\"CI\",4.671],[\"HR\",5.321],[\"CY\",5.7985],[\"CZ\",6.711000000000001],[\"CD\",4.245],[\"DK\",7.555],[\"DO\",5.302],[\"EC\",5.973],[\"EG\",4.419],[\"SV\",6.167],[\"EE\",5.739],[\"ET\",4.35],[\"FI\",7.632],[\"FR\",6.489],[\"GA\",4.758],[\"GE\",4.34],[\"DE\",6.965],[\"GH\",4.657],[\"GR\",5.358],[\"GT\",6.382],[\"GN\",3.964],[\"HT\",3.5820000000000003],[\"HN\",5.504],[\"HK\",5.43],[\"HU\",5.62],[\"IS\",7.495],[\"IN\",4.19],[\"ID\",5.093],[\"IR\",4.707],[\"IQ\",4.456],[\"IE\",6.977],[\"IL\",6.814],[\"IT\",6.0],[\"JM\",5.89],[\"JP\",5.915],[\"JO\",5.161],[\"KZ\",5.79],[\"KE\",4.41],[\"XK\",5.661999999999999],[\"KW\",6.083],[\"KG\",5.131],[\"LA\",4.623],[\"LV\",5.933],[\"LB\",5.358],[\"LS\",3.808],[\"LR\",3.495],[\"LY\",5.566],[\"LT\",5.952],[\"LU\",6.91],[\"MK\",5.185],[\"MG\",3.774],[\"MW\",3.587],[\"MY\",6.322],[\"ML\",4.447],[\"MT\",6.627],[\"MR\",4.356],[\"MU\",5.891],[\"MX\",6.488],[\"MD\",5.64],[\"MN\",5.125],[\"ME\",5.347],[\"MA\",5.254],[\"MZ\",4.417],[\"MM\",4.308],[null,4.441],[\"NP\",4.88],[\"NL\",7.441],[\"NZ\",7.324],[\"NI\",6.141],[\"NE\",4.166],[\"NG\",5.155],[\"NO\",7.594000000000001],[\"PK\",5.472],[\"PS\",4.743],[\"PA\",6.43],[\"PY\",5.681],[\"PE\",5.663],[\"PH\",5.524],[\"PL\",6.123],[\"PT\",5.41],[\"QA\",6.374],[\"RO\",5.945],[\"RU\",5.81],[\"RW\",3.408],[\"SA\",6.371],[\"SN\",4.631],[\"RS\",5.398],[\"SL\",4.571],[\"SG\",6.343],[\"SK\",6.173],[\"SI\",5.948],[\"SO\",4.982],[\"ZA\",4.724],[\"KR\",5.875],[\"SS\",3.2539999999999996],[\"ES\",6.31],[\"LK\",4.471],[\"SD\",4.139],[\"SE\",7.314],[\"CH\",7.487],[\"SY\",3.462],[\"TW\",6.441],[\"TJ\",5.199],[\"TZ\",3.303],[\"TH\",6.072],[\"TG\",3.999],[\"TT\",6.192],[\"TN\",4.592],[\"TR\",5.483],[\"TM\",5.636],[\"UG\",4.161],[\"UA\",4.103],[\"AE\",6.774],[\"GB\",7.19],[\"US\",6.886],[\"UY\",6.379],[\"UZ\",6.096],[\"VE\",4.806],[\"VN\",5.103],[\"YE\",3.355],[\"ZM\",4.377],[\"ZW\",3.692],[\"(?)\",4.459569148600412],[\"(?)\",4.924382518321009],[\"(?)\",6.212122217262459],[\"(?)\",6.669974275117499],[\"(?)\",7.280372896958024],[\"(?)\",6.177218532601388],[\"(?)\",5.202856052019756]],\"domain\":{\"x\":[0.0,1.0],\"y\":[0.0,1.0]},\"hovertemplate\":\"labels=%{label}<br>Population=%{value}<br>parent=%{parent}<br>id=%{id}<br>alpha2=%{customdata[0]}<br>Score=%{color}<extra></extra>\",\"ids\":[\"World/Asia/Afghanistan\",\"World/Europe/Albania\",\"World/Africa/Algeria\",\"World/Africa/Angola\",\"World/South America/Argentina\",\"World/Asia/Armenia\",\"World/Oceania/Australia\",\"World/Europe/Austria\",\"World/Asia/Azerbaijan\",\"World/Asia/Bahrain\",\"World/Asia/Bangladesh\",\"World/Europe/Belarus\",\"World/Europe/Belgium\",\"World/North America/Belize\",\"World/Africa/Benin\",\"World/Asia/Bhutan\",\"World/South America/Bolivia\",\"World/Europe/Bosnia and Herzegovina\",\"World/Africa/Botswana\",\"World/South America/Brazil\",\"World/Europe/Bulgaria\",\"World/Africa/Burkina Faso\",\"World/Africa/Burundi\",\"World/Asia/Cambodia\",\"World/Africa/Cameroon\",\"World/North America/Canada\",\"World/Africa/Central African Republic\",\"World/Africa/Chad\",\"World/South America/Chile\",\"World/Asia/China\",\"World/South America/Colombia\",\"World/Africa/Congo Republic\",\"World/North America/Costa Rica\",\"World/Africa/Cote d'Ivoire\",\"World/Europe/Croatia\",\"World/Asia/Cyprus\",\"World/Europe/Czech Republic\",\"World/Africa/DR Congo\",\"World/Europe/Denmark\",\"World/North America/Dominican Republic\",\"World/South America/Ecuador\",\"World/Africa/Egypt\",\"World/North America/El Salvador\",\"World/Europe/Estonia\",\"World/Africa/Ethiopia\",\"World/Europe/Finland\",\"World/Europe/France\",\"World/Africa/Gabon\",\"World/Asia/Georgia\",\"World/Europe/Germany\",\"World/Africa/Ghana\",\"World/Europe/Greece\",\"World/North America/Guatemala\",\"World/Africa/Guinea\",\"World/North America/Haiti\",\"World/North America/Honduras\",\"World/Asia/Hong Kong\",\"World/Europe/Hungary\",\"World/Europe/Iceland\",\"World/Asia/India\",\"World/Asia/Indonesia\",\"World/Asia/Iran\",\"World/Asia/Iraq\",\"World/Europe/Ireland\",\"World/Asia/Israel\",\"World/Europe/Italy\",\"World/North America/Jamaica\",\"World/Asia/Japan\",\"World/Asia/Jordan\",\"World/Asia/Kazakhstan\",\"World/Africa/Kenya\",\"World/Europe/Kosovo\",\"World/Asia/Kuwait\",\"World/Asia/Kyrgyz Republic\",\"World/Asia/Laos\",\"World/Europe/Latvia\",\"World/Asia/Lebanon\",\"World/Africa/Lesotho\",\"World/Africa/Liberia\",\"World/Africa/Libya\",\"World/Europe/Lithuania\",\"World/Europe/Luxembourg\",\"World/Europe/Macedonia\",\"World/Africa/Madagascar\",\"World/Africa/Malawi\",\"World/Asia/Malaysia\",\"World/Africa/Mali\",\"World/Europe/Malta\",\"World/Africa/Mauritania\",\"World/Africa/Mauritius\",\"World/North America/Mexico\",\"World/Europe/Moldova\",\"World/Asia/Mongolia\",\"World/Europe/Montenegro\",\"World/Africa/Morocco\",\"World/Africa/Mozambique\",\"World/Asia/Myanmar\",\"World/Africa/Namibia\",\"World/Asia/Nepal\",\"World/Europe/Netherlands\",\"World/Oceania/New Zealand\",\"World/North America/Nicaragua\",\"World/Africa/Niger\",\"World/Africa/Nigeria\",\"World/Europe/Norway\",\"World/Asia/Pakistan\",\"World/Asia/Palestine\",\"World/North America/Panama\",\"World/South America/Paraguay\",\"World/South America/Peru\",\"World/Asia/Philippines\",\"World/Europe/Poland\",\"World/Europe/Portugal\",\"World/Asia/Qatar\",\"World/Europe/Romania\",\"World/Europe/Russia\",\"World/Africa/Rwanda\",\"World/Asia/Saudi Arabia\",\"World/Africa/Senegal\",\"World/Europe/Serbia\",\"World/Africa/Sierra Leone\",\"World/Asia/Singapore\",\"World/Europe/Slovakia\",\"World/Europe/Slovenia\",\"World/Africa/Somalia\",\"World/Africa/South Africa\",\"World/Asia/South Korea\",\"World/Africa/South Sudan\",\"World/Europe/Spain\",\"World/Asia/Sri Lanka\",\"World/Africa/Sudan\",\"World/Europe/Sweden\",\"World/Europe/Switzerland\",\"World/Asia/Syria\",\"World/Asia/Taiwan\",\"World/Asia/Tajikistan\",\"World/Africa/Tanzania\",\"World/Asia/Thailand\",\"World/Africa/Togo\",\"World/North America/Trinidad and Tobago\",\"World/Africa/Tunisia\",\"World/Asia/Turkey\",\"World/Asia/Turkmenistan\",\"World/Africa/Uganda\",\"World/Europe/Ukraine\",\"World/Asia/United Arab Emirates\",\"World/Europe/United Kingdom\",\"World/North America/United States\",\"World/South America/Uruguay\",\"World/Asia/Uzbekistan\",\"World/South America/Venezuela\",\"World/Asia/Vietnam\",\"World/Asia/Yemen\",\"World/Africa/Zambia\",\"World/Africa/Zimbabwe\",\"World/Africa\",\"World/Asia\",\"World/Europe\",\"World/North America\",\"World/Oceania\",\"World/South America\",\"World\"],\"labels\":[\"Afghanistan\",\"Albania\",\"Algeria\",\"Angola\",\"Argentina\",\"Armenia\",\"Australia\",\"Austria\",\"Azerbaijan\",\"Bahrain\",\"Bangladesh\",\"Belarus\",\"Belgium\",\"Belize\",\"Benin\",\"Bhutan\",\"Bolivia\",\"Bosnia and Herzegovina\",\"Botswana\",\"Brazil\",\"Bulgaria\",\"Burkina Faso\",\"Burundi\",\"Cambodia\",\"Cameroon\",\"Canada\",\"Central African Republic\",\"Chad\",\"Chile\",\"China\",\"Colombia\",\"Congo Republic\",\"Costa Rica\",\"Cote d'Ivoire\",\"Croatia\",\"Cyprus\",\"Czech Republic\",\"DR Congo\",\"Denmark\",\"Dominican Republic\",\"Ecuador\",\"Egypt\",\"El Salvador\",\"Estonia\",\"Ethiopia\",\"Finland\",\"France\",\"Gabon\",\"Georgia\",\"Germany\",\"Ghana\",\"Greece\",\"Guatemala\",\"Guinea\",\"Haiti\",\"Honduras\",\"Hong Kong\",\"Hungary\",\"Iceland\",\"India\",\"Indonesia\",\"Iran\",\"Iraq\",\"Ireland\",\"Israel\",\"Italy\",\"Jamaica\",\"Japan\",\"Jordan\",\"Kazakhstan\",\"Kenya\",\"Kosovo\",\"Kuwait\",\"Kyrgyz Republic\",\"Laos\",\"Latvia\",\"Lebanon\",\"Lesotho\",\"Liberia\",\"Libya\",\"Lithuania\",\"Luxembourg\",\"Macedonia\",\"Madagascar\",\"Malawi\",\"Malaysia\",\"Mali\",\"Malta\",\"Mauritania\",\"Mauritius\",\"Mexico\",\"Moldova\",\"Mongolia\",\"Montenegro\",\"Morocco\",\"Mozambique\",\"Myanmar\",\"Namibia\",\"Nepal\",\"Netherlands\",\"New Zealand\",\"Nicaragua\",\"Niger\",\"Nigeria\",\"Norway\",\"Pakistan\",\"Palestine\",\"Panama\",\"Paraguay\",\"Peru\",\"Philippines\",\"Poland\",\"Portugal\",\"Qatar\",\"Romania\",\"Russia\",\"Rwanda\",\"Saudi Arabia\",\"Senegal\",\"Serbia\",\"Sierra Leone\",\"Singapore\",\"Slovakia\",\"Slovenia\",\"Somalia\",\"South Africa\",\"South Korea\",\"South Sudan\",\"Spain\",\"Sri Lanka\",\"Sudan\",\"Sweden\",\"Switzerland\",\"Syria\",\"Taiwan\",\"Tajikistan\",\"Tanzania\",\"Thailand\",\"Togo\",\"Trinidad and Tobago\",\"Tunisia\",\"Turkey\",\"Turkmenistan\",\"Uganda\",\"Ukraine\",\"United Arab Emirates\",\"United Kingdom\",\"United States\",\"Uruguay\",\"Uzbekistan\",\"Venezuela\",\"Vietnam\",\"Yemen\",\"Zambia\",\"Zimbabwe\",\"Africa\",\"Asia\",\"Europe\",\"North America\",\"Oceania\",\"South America\",\"World\"],\"marker\":{\"coloraxis\":\"coloraxis\",\"colors\":[3.632,4.586,5.295,3.795,6.388,4.321,7.272,7.139,5.201,6.105,4.5,5.483,6.927,5.956,4.141,5.082,5.752,5.129,3.59,6.419,4.932999999999999,4.424,2.905,4.433,4.975,7.328,3.083,4.301,6.476,5.246,6.26,4.559,7.072,4.671,5.321,5.7985,6.711000000000001,4.245,7.555,5.302,5.973,4.419,6.167,5.739,4.35,7.632,6.489,4.758,4.34,6.965,4.657,5.358,6.382,3.964,3.5820000000000003,5.504,5.43,5.62,7.495,4.19,5.093,4.707,4.456,6.977,6.814,6.0,5.89,5.915,5.161,5.79,4.41,5.661999999999999,6.083,5.131,4.623,5.933,5.358,3.808,3.495,5.566,5.952,6.91,5.185,3.774,3.587,6.322,4.447,6.627,4.356,5.891,6.488,5.64,5.125,5.347,5.254,4.417,4.308,4.441,4.88,7.441,7.324,6.141,4.166,5.155,7.594000000000001,5.472,4.743,6.43,5.681,5.663,5.524,6.123,5.41,6.374,5.945,5.81,3.408,6.371,4.631,5.398,4.571,6.343,6.173,5.948,4.982,4.724,5.875,3.2539999999999996,6.31,4.471,4.139,7.314,7.487,3.462,6.441,5.199,3.303,6.072,3.999,6.192,4.592,5.483,5.636,4.161,4.103,6.774,7.19,6.886,6.379,6.096,4.806,5.103,3.355,4.377,3.692,4.459569148600412,4.924382518321009,6.212122217262459,6.669974275117499,7.280372896958024,6.177218532601388,5.202856052019756]},\"name\":\"\",\"parents\":[\"World/Asia\",\"World/Europe\",\"World/Africa\",\"World/Africa\",\"World/South America\",\"World/Asia\",\"World/Oceania\",\"World/Europe\",\"World/Asia\",\"World/Asia\",\"World/Asia\",\"World/Europe\",\"World/Europe\",\"World/North America\",\"World/Africa\",\"World/Asia\",\"World/South America\",\"World/Europe\",\"World/Africa\",\"World/South America\",\"World/Europe\",\"World/Africa\",\"World/Africa\",\"World/Asia\",\"World/Africa\",\"World/North America\",\"World/Africa\",\"World/Africa\",\"World/South America\",\"World/Asia\",\"World/South America\",\"World/Africa\",\"World/North America\",\"World/Africa\",\"World/Europe\",\"World/Asia\",\"World/Europe\",\"World/Africa\",\"World/Europe\",\"World/North America\",\"World/South America\",\"World/Africa\",\"World/North America\",\"World/Europe\",\"World/Africa\",\"World/Europe\",\"World/Europe\",\"World/Africa\",\"World/Asia\",\"World/Europe\",\"World/Africa\",\"World/Europe\",\"World/North America\",\"World/Africa\",\"World/North America\",\"World/North America\",\"World/Asia\",\"World/Europe\",\"World/Europe\",\"World/Asia\",\"World/Asia\",\"World/Asia\",\"World/Asia\",\"World/Europe\",\"World/Asia\",\"World/Europe\",\"World/North America\",\"World/Asia\",\"World/Asia\",\"World/Asia\",\"World/Africa\",\"World/Europe\",\"World/Asia\",\"World/Asia\",\"World/Asia\",\"World/Europe\",\"World/Asia\",\"World/Africa\",\"World/Africa\",\"World/Africa\",\"World/Europe\",\"World/Europe\",\"World/Europe\",\"World/Africa\",\"World/Africa\",\"World/Asia\",\"World/Africa\",\"World/Europe\",\"World/Africa\",\"World/Africa\",\"World/North America\",\"World/Europe\",\"World/Asia\",\"World/Europe\",\"World/Africa\",\"World/Africa\",\"World/Asia\",\"World/Africa\",\"World/Asia\",\"World/Europe\",\"World/Oceania\",\"World/North America\",\"World/Africa\",\"World/Africa\",\"World/Europe\",\"World/Asia\",\"World/Asia\",\"World/North America\",\"World/South America\",\"World/South America\",\"World/Asia\",\"World/Europe\",\"World/Europe\",\"World/Asia\",\"World/Europe\",\"World/Europe\",\"World/Africa\",\"World/Asia\",\"World/Africa\",\"World/Europe\",\"World/Africa\",\"World/Asia\",\"World/Europe\",\"World/Europe\",\"World/Africa\",\"World/Africa\",\"World/Asia\",\"World/Africa\",\"World/Europe\",\"World/Asia\",\"World/Africa\",\"World/Europe\",\"World/Europe\",\"World/Asia\",\"World/Asia\",\"World/Asia\",\"World/Africa\",\"World/Asia\",\"World/Africa\",\"World/North America\",\"World/Africa\",\"World/Asia\",\"World/Asia\",\"World/Africa\",\"World/Europe\",\"World/Asia\",\"World/Europe\",\"World/North America\",\"World/South America\",\"World/Asia\",\"World/South America\",\"World/Asia\",\"World/Asia\",\"World/Africa\",\"World/Africa\",\"World\",\"World\",\"World\",\"World\",\"World\",\"World\",\"\"],\"type\":\"treemap\",\"values\":[26023100.0,2895947.0,38700000.0,24383301.0,42669500.0,3009800.0,23696900.0,8527230.0,9552500.0,1316500.0,157486000.0,9475100.0,11225469.0,349728.0,9988068.0,755030.0,10027254.0,3791622.0,2024904.0,203586000.0,7245677.0,17322796.0,9530434.0,15184116.0,20386799.0,35540419.0,4709000.0,13211000.0,17819054.0,1367110000.0,47907800.0,5244362.0,4713168.0,26378275.0,4267558.0,1716000.0,10521600.0,69360000.0,5655750.0,10378267.0,15888900.0,87668100.0,6401240.0,1315819.0,87952991.0,5470437.0,66078000.0,1711000.0,4490500.0,80783000.0,27043093.0,10992589.0,15806675.0,10628972.0,10745665.0,8725111.0,7234800.0,9879000.0,328170.0,1263930000.0,252164800.0,77966400.0,36004552.0,6378000.0,8268400.0,60769102.0,2717991.0,127080000.0,6666960.0,17377800.0,41800000.0,1795666.0,3268431.0,5776570.0,6693300.0,1991800.0,4104000.0,2098000.0,4397000.0,6253000.0,2927310.0,549700.0,2085051.0,21842167.0,15805239.0,30430500.0,15768000.0,416055.0,3545620.0,1261208.0,119713203.0,3557600.0,2987733.0,627809.0,33465000.0,25041922.0,53708318.0,2113077.0,27646053.0,16881000.0,4547900.0,6134270.0,17138707.0,178517000.0,5156450.0,188410000.0,5091819.0,3713312.0,6893727.0,30814175.0,100697400.0,38496000.0,10477800.0,2269672.0,19942642.0,146233000.0,10996891.0,30770375.0,13508715.0,7186862.0,6205000.0,5469700.0,5415949.0,2064966.0,10806000.0,54002000.0,50423955.0,11384393.0,46507760.0,20277597.0,37289406.0,9737521.0,8183800.0,22964324.0,23424615.0,8161000.0,47421786.0,64871000.0,6993000.0,1328019.0,10982754.0,76667864.0,5838064.0,34856813.0,42973696.0,9446000.0,64105654.0,319259000.0,3404189.0,30492800.0,30206307.0,89708900.0,25956000.0,15023315.0,13061239.0,1097820347.0,4278893248.0,742914161.0,545526068.0,28244800.0,409216906.0,7102615530.0]}],                        {\"coloraxis\":{\"colorbar\":{\"title\":{\"text\":\"Score\"}},\"colorscale\":[[0.0,\"rgb(103,0,31)\"],[0.1,\"rgb(178,24,43)\"],[0.2,\"rgb(214,96,77)\"],[0.3,\"rgb(244,165,130)\"],[0.4,\"rgb(253,219,199)\"],[0.5,\"rgb(247,247,247)\"],[0.6,\"rgb(209,229,240)\"],[0.7,\"rgb(146,197,222)\"],[0.8,\"rgb(67,147,195)\"],[0.9,\"rgb(33,102,172)\"],[1.0,\"rgb(5,48,97)\"]]},\"legend\":{\"tracegroupgap\":0},\"margin\":{\"t\":60},\"template\":{\"data\":{\"bar\":[{\"error_x\":{\"color\":\"#2a3f5f\"},\"error_y\":{\"color\":\"#2a3f5f\"},\"marker\":{\"line\":{\"color\":\"#E5ECF6\",\"width\":0.5},\"pattern\":{\"fillmode\":\"overlay\",\"size\":10,\"solidity\":0.2}},\"type\":\"bar\"}],\"barpolar\":[{\"marker\":{\"line\":{\"color\":\"#E5ECF6\",\"width\":0.5},\"pattern\":{\"fillmode\":\"overlay\",\"size\":10,\"solidity\":0.2}},\"type\":\"barpolar\"}],\"carpet\":[{\"aaxis\":{\"endlinecolor\":\"#2a3f5f\",\"gridcolor\":\"white\",\"linecolor\":\"white\",\"minorgridcolor\":\"white\",\"startlinecolor\":\"#2a3f5f\"},\"baxis\":{\"endlinecolor\":\"#2a3f5f\",\"gridcolor\":\"white\",\"linecolor\":\"white\",\"minorgridcolor\":\"white\",\"startlinecolor\":\"#2a3f5f\"},\"type\":\"carpet\"}],\"choropleth\":[{\"colorbar\":{\"outlinewidth\":0,\"ticks\":\"\"},\"type\":\"choropleth\"}],\"contour\":[{\"colorbar\":{\"outlinewidth\":0,\"ticks\":\"\"},\"colorscale\":[[0.0,\"#0d0887\"],[0.1111111111111111,\"#46039f\"],[0.2222222222222222,\"#7201a8\"],[0.3333333333333333,\"#9c179e\"],[0.4444444444444444,\"#bd3786\"],[0.5555555555555556,\"#d8576b\"],[0.6666666666666666,\"#ed7953\"],[0.7777777777777778,\"#fb9f3a\"],[0.8888888888888888,\"#fdca26\"],[1.0,\"#f0f921\"]],\"type\":\"contour\"}],\"contourcarpet\":[{\"colorbar\":{\"outlinewidth\":0,\"ticks\":\"\"},\"type\":\"contourcarpet\"}],\"heatmap\":[{\"colorbar\":{\"outlinewidth\":0,\"ticks\":\"\"},\"colorscale\":[[0.0,\"#0d0887\"],[0.1111111111111111,\"#46039f\"],[0.2222222222222222,\"#7201a8\"],[0.3333333333333333,\"#9c179e\"],[0.4444444444444444,\"#bd3786\"],[0.5555555555555556,\"#d8576b\"],[0.6666666666666666,\"#ed7953\"],[0.7777777777777778,\"#fb9f3a\"],[0.8888888888888888,\"#fdca26\"],[1.0,\"#f0f921\"]],\"type\":\"heatmap\"}],\"heatmapgl\":[{\"colorbar\":{\"outlinewidth\":0,\"ticks\":\"\"},\"colorscale\":[[0.0,\"#0d0887\"],[0.1111111111111111,\"#46039f\"],[0.2222222222222222,\"#7201a8\"],[0.3333333333333333,\"#9c179e\"],[0.4444444444444444,\"#bd3786\"],[0.5555555555555556,\"#d8576b\"],[0.6666666666666666,\"#ed7953\"],[0.7777777777777778,\"#fb9f3a\"],[0.8888888888888888,\"#fdca26\"],[1.0,\"#f0f921\"]],\"type\":\"heatmapgl\"}],\"histogram\":[{\"marker\":{\"pattern\":{\"fillmode\":\"overlay\",\"size\":10,\"solidity\":0.2}},\"type\":\"histogram\"}],\"histogram2d\":[{\"colorbar\":{\"outlinewidth\":0,\"ticks\":\"\"},\"colorscale\":[[0.0,\"#0d0887\"],[0.1111111111111111,\"#46039f\"],[0.2222222222222222,\"#7201a8\"],[0.3333333333333333,\"#9c179e\"],[0.4444444444444444,\"#bd3786\"],[0.5555555555555556,\"#d8576b\"],[0.6666666666666666,\"#ed7953\"],[0.7777777777777778,\"#fb9f3a\"],[0.8888888888888888,\"#fdca26\"],[1.0,\"#f0f921\"]],\"type\":\"histogram2d\"}],\"histogram2dcontour\":[{\"colorbar\":{\"outlinewidth\":0,\"ticks\":\"\"},\"colorscale\":[[0.0,\"#0d0887\"],[0.1111111111111111,\"#46039f\"],[0.2222222222222222,\"#7201a8\"],[0.3333333333333333,\"#9c179e\"],[0.4444444444444444,\"#bd3786\"],[0.5555555555555556,\"#d8576b\"],[0.6666666666666666,\"#ed7953\"],[0.7777777777777778,\"#fb9f3a\"],[0.8888888888888888,\"#fdca26\"],[1.0,\"#f0f921\"]],\"type\":\"histogram2dcontour\"}],\"mesh3d\":[{\"colorbar\":{\"outlinewidth\":0,\"ticks\":\"\"},\"type\":\"mesh3d\"}],\"parcoords\":[{\"line\":{\"colorbar\":{\"outlinewidth\":0,\"ticks\":\"\"}},\"type\":\"parcoords\"}],\"pie\":[{\"automargin\":true,\"type\":\"pie\"}],\"scatter\":[{\"marker\":{\"colorbar\":{\"outlinewidth\":0,\"ticks\":\"\"}},\"type\":\"scatter\"}],\"scatter3d\":[{\"line\":{\"colorbar\":{\"outlinewidth\":0,\"ticks\":\"\"}},\"marker\":{\"colorbar\":{\"outlinewidth\":0,\"ticks\":\"\"}},\"type\":\"scatter3d\"}],\"scattercarpet\":[{\"marker\":{\"colorbar\":{\"outlinewidth\":0,\"ticks\":\"\"}},\"type\":\"scattercarpet\"}],\"scattergeo\":[{\"marker\":{\"colorbar\":{\"outlinewidth\":0,\"ticks\":\"\"}},\"type\":\"scattergeo\"}],\"scattergl\":[{\"marker\":{\"colorbar\":{\"outlinewidth\":0,\"ticks\":\"\"}},\"type\":\"scattergl\"}],\"scattermapbox\":[{\"marker\":{\"colorbar\":{\"outlinewidth\":0,\"ticks\":\"\"}},\"type\":\"scattermapbox\"}],\"scatterpolar\":[{\"marker\":{\"colorbar\":{\"outlinewidth\":0,\"ticks\":\"\"}},\"type\":\"scatterpolar\"}],\"scatterpolargl\":[{\"marker\":{\"colorbar\":{\"outlinewidth\":0,\"ticks\":\"\"}},\"type\":\"scatterpolargl\"}],\"scatterternary\":[{\"marker\":{\"colorbar\":{\"outlinewidth\":0,\"ticks\":\"\"}},\"type\":\"scatterternary\"}],\"surface\":[{\"colorbar\":{\"outlinewidth\":0,\"ticks\":\"\"},\"colorscale\":[[0.0,\"#0d0887\"],[0.1111111111111111,\"#46039f\"],[0.2222222222222222,\"#7201a8\"],[0.3333333333333333,\"#9c179e\"],[0.4444444444444444,\"#bd3786\"],[0.5555555555555556,\"#d8576b\"],[0.6666666666666666,\"#ed7953\"],[0.7777777777777778,\"#fb9f3a\"],[0.8888888888888888,\"#fdca26\"],[1.0,\"#f0f921\"]],\"type\":\"surface\"}],\"table\":[{\"cells\":{\"fill\":{\"color\":\"#EBF0F8\"},\"line\":{\"color\":\"white\"}},\"header\":{\"fill\":{\"color\":\"#C8D4E3\"},\"line\":{\"color\":\"white\"}},\"type\":\"table\"}]},\"layout\":{\"annotationdefaults\":{\"arrowcolor\":\"#2a3f5f\",\"arrowhead\":0,\"arrowwidth\":1},\"autotypenumbers\":\"strict\",\"coloraxis\":{\"colorbar\":{\"outlinewidth\":0,\"ticks\":\"\"}},\"colorscale\":{\"diverging\":[[0,\"#8e0152\"],[0.1,\"#c51b7d\"],[0.2,\"#de77ae\"],[0.3,\"#f1b6da\"],[0.4,\"#fde0ef\"],[0.5,\"#f7f7f7\"],[0.6,\"#e6f5d0\"],[0.7,\"#b8e186\"],[0.8,\"#7fbc41\"],[0.9,\"#4d9221\"],[1,\"#276419\"]],\"sequential\":[[0.0,\"#0d0887\"],[0.1111111111111111,\"#46039f\"],[0.2222222222222222,\"#7201a8\"],[0.3333333333333333,\"#9c179e\"],[0.4444444444444444,\"#bd3786\"],[0.5555555555555556,\"#d8576b\"],[0.6666666666666666,\"#ed7953\"],[0.7777777777777778,\"#fb9f3a\"],[0.8888888888888888,\"#fdca26\"],[1.0,\"#f0f921\"]],\"sequentialminus\":[[0.0,\"#0d0887\"],[0.1111111111111111,\"#46039f\"],[0.2222222222222222,\"#7201a8\"],[0.3333333333333333,\"#9c179e\"],[0.4444444444444444,\"#bd3786\"],[0.5555555555555556,\"#d8576b\"],[0.6666666666666666,\"#ed7953\"],[0.7777777777777778,\"#fb9f3a\"],[0.8888888888888888,\"#fdca26\"],[1.0,\"#f0f921\"]]},\"colorway\":[\"#636efa\",\"#EF553B\",\"#00cc96\",\"#ab63fa\",\"#FFA15A\",\"#19d3f3\",\"#FF6692\",\"#B6E880\",\"#FF97FF\",\"#FECB52\"],\"font\":{\"color\":\"#2a3f5f\"},\"geo\":{\"bgcolor\":\"white\",\"lakecolor\":\"white\",\"landcolor\":\"#E5ECF6\",\"showlakes\":true,\"showland\":true,\"subunitcolor\":\"white\"},\"hoverlabel\":{\"align\":\"left\"},\"hovermode\":\"closest\",\"mapbox\":{\"style\":\"light\"},\"paper_bgcolor\":\"white\",\"plot_bgcolor\":\"#E5ECF6\",\"polar\":{\"angularaxis\":{\"gridcolor\":\"white\",\"linecolor\":\"white\",\"ticks\":\"\"},\"bgcolor\":\"#E5ECF6\",\"radialaxis\":{\"gridcolor\":\"white\",\"linecolor\":\"white\",\"ticks\":\"\"}},\"scene\":{\"xaxis\":{\"backgroundcolor\":\"#E5ECF6\",\"gridcolor\":\"white\",\"gridwidth\":2,\"linecolor\":\"white\",\"showbackground\":true,\"ticks\":\"\",\"zerolinecolor\":\"white\"},\"yaxis\":{\"backgroundcolor\":\"#E5ECF6\",\"gridcolor\":\"white\",\"gridwidth\":2,\"linecolor\":\"white\",\"showbackground\":true,\"ticks\":\"\",\"zerolinecolor\":\"white\"},\"zaxis\":{\"backgroundcolor\":\"#E5ECF6\",\"gridcolor\":\"white\",\"gridwidth\":2,\"linecolor\":\"white\",\"showbackground\":true,\"ticks\":\"\",\"zerolinecolor\":\"white\"}},\"shapedefaults\":{\"line\":{\"color\":\"#2a3f5f\"}},\"ternary\":{\"aaxis\":{\"gridcolor\":\"white\",\"linecolor\":\"white\",\"ticks\":\"\"},\"baxis\":{\"gridcolor\":\"white\",\"linecolor\":\"white\",\"ticks\":\"\"},\"bgcolor\":\"#E5ECF6\",\"caxis\":{\"gridcolor\":\"white\",\"linecolor\":\"white\",\"ticks\":\"\"}},\"title\":{\"x\":0.05},\"xaxis\":{\"automargin\":true,\"gridcolor\":\"white\",\"linecolor\":\"white\",\"ticks\":\"\",\"title\":{\"standoff\":15},\"zerolinecolor\":\"white\",\"zerolinewidth\":2},\"yaxis\":{\"automargin\":true,\"gridcolor\":\"white\",\"linecolor\":\"white\",\"ticks\":\"\",\"title\":{\"standoff\":15},\"zerolinecolor\":\"white\",\"zerolinewidth\":2}}}},                        {\"responsive\": true}                    ).then(function(){\n",
       "                            \n",
       "var gd = document.getElementById('c70ae66b-57f8-45e7-982b-0f5fc9b649aa');\n",
       "var x = new MutationObserver(function (mutations, observer) {{\n",
       "        var display = window.getComputedStyle(gd).display;\n",
       "        if (!display || display === 'none') {{\n",
       "            console.log([gd, 'removed!']);\n",
       "            Plotly.purge(gd);\n",
       "            observer.disconnect();\n",
       "        }}\n",
       "}});\n",
       "\n",
       "// Listen for the removal of the full notebook cells\n",
       "var notebookContainer = gd.closest('#notebook-container');\n",
       "if (notebookContainer) {{\n",
       "    x.observe(notebookContainer, {childList: true});\n",
       "}}\n",
       "\n",
       "// Listen for the clearing of the current output cell\n",
       "var outputEl = gd.closest('.output');\n",
       "if (outputEl) {{\n",
       "    x.observe(outputEl, {childList: true});\n",
       "}}\n",
       "\n",
       "                        })                };                });            </script>        </div>"
      ]
     },
     "metadata": {},
     "output_type": "display_data"
    }
   ],
   "source": [
    "fig = px.treemap(df18, path=[px.Constant('World'), \"Continent\", \"Country/Region\"], values=\"Population\",\n",
    "                  color='Score', hover_data=['alpha2'], color_continuous_scale=px.colors.sequential.RdBu)\n",
    "fig.show()"
   ]
  },
  {
   "cell_type": "code",
   "execution_count": 27,
   "id": "a9c2415b",
   "metadata": {},
   "outputs": [
    {
     "data": {
      "application/vnd.plotly.v1+json": {
       "config": {
        "plotlyServerURL": "https://plot.ly"
       },
       "data": [
        {
         "coloraxis": "coloraxis",
         "geo": "geo",
         "hovertemplate": "<b>%{hovertext}</b><br><br>alpha3=%{location}<br>Score=%{z}<extra></extra>",
         "hovertext": [
          "Finland",
          "Norway",
          "Denmark",
          "Iceland",
          "Switzerland",
          "Netherlands",
          "Canada",
          "New Zealand",
          "Sweden",
          "Australia",
          "United Kingdom",
          "Austria",
          "Costa Rica",
          "Ireland",
          "Germany",
          "Belgium",
          "Luxembourg",
          "United States",
          "Israel",
          "United Arab Emirates",
          "Czech Republic",
          "Malta",
          "France",
          "Mexico",
          "Chile",
          "Taiwan",
          "Panama",
          "Brazil",
          "Argentina",
          "Guatemala",
          "Uruguay",
          "Qatar",
          "Saudi Arabia",
          "Singapore",
          "Malaysia",
          "Spain",
          "Colombia",
          "Trinidad and Tobago",
          "Slovakia",
          "El Salvador",
          "Nicaragua",
          "Poland",
          "Bahrain",
          "Uzbekistan",
          "Kuwait",
          "Thailand",
          "Italy",
          "Ecuador",
          "Belize",
          "Lithuania",
          "Slovenia",
          "Romania",
          "Latvia",
          "Japan",
          "Mauritius",
          "Jamaica",
          "South Korea",
          "Cyprus",
          "Russia",
          "Kazakhstan",
          "Cyprus",
          "Bolivia",
          "Estonia",
          "Paraguay",
          "Peru",
          "Kosovo",
          "Moldova",
          "Turkmenistan",
          "Hungary",
          "Libya",
          "Philippines",
          "Honduras",
          "Belarus",
          "Turkey",
          "Pakistan",
          "Hong Kong",
          "Portugal",
          "Serbia",
          "Greece",
          "Lebanon",
          "Montenegro",
          "Croatia",
          "Dominican Republic",
          "Algeria",
          "Morocco",
          "China",
          "Azerbaijan",
          "Tajikistan",
          "Macedonia",
          "Jordan",
          "Nigeria",
          "Kyrgyz Republic",
          "Bosnia and Herzegovina",
          "Mongolia",
          "Vietnam",
          "Indonesia",
          "Bhutan",
          "Somalia",
          "Cameroon",
          "Bulgaria",
          "Nepal",
          "Venezuela",
          "Gabon",
          "Palestine",
          "South Africa",
          "Iran",
          "Cote d'Ivoire",
          "Ghana",
          "Senegal",
          "Laos",
          "Tunisia",
          "Albania",
          "Sierra Leone",
          "Congo Republic",
          "Bangladesh",
          "Sri Lanka",
          "Iraq",
          "Mali",
          "Namibia",
          "Cambodia",
          "Burkina Faso",
          "Egypt",
          "Mozambique",
          "Kenya",
          "Zambia",
          "Mauritania",
          "Ethiopia",
          "Georgia",
          "Armenia",
          "Myanmar",
          "Chad",
          "DR Congo",
          "India",
          "Niger",
          "Uganda",
          "Benin",
          "Sudan",
          "Ukraine",
          "Togo",
          "Guinea",
          "Lesotho",
          "Angola",
          "Madagascar",
          "Zimbabwe",
          "Afghanistan",
          "Botswana",
          "Malawi",
          "Haiti",
          "Liberia",
          "Syria",
          "Rwanda",
          "Yemen",
          "Tanzania",
          "South Sudan",
          "Central African Republic",
          "Burundi"
         ],
         "locations": [
          "FIN",
          "NOR",
          "DNK",
          "ISL",
          "CHE",
          "NLD",
          "CAN",
          "NZL",
          "SWE",
          "AUS",
          "GBR",
          "AUT",
          "CRI",
          "IRL",
          "DEU",
          "BEL",
          "LUX",
          "USA",
          "ISR",
          "ARE",
          "CZE",
          "MLT",
          "FRA",
          "MEX",
          "CHL",
          "TWN",
          "PAN",
          "BRA",
          "ARG",
          "GTM",
          "URY",
          "QAT",
          "SAU",
          "SGP",
          "MYS",
          "ESP",
          "COL",
          "TTO",
          "SVK",
          "SLV",
          "NIC",
          "POL",
          "BHR",
          "UZB",
          "KWT",
          "THA",
          "ITA",
          "ECU",
          "BLZ",
          "LTU",
          "SVN",
          "ROU",
          "LVA",
          "JPN",
          "MUS",
          "JAM",
          "KOR",
          "CYP",
          "RUS",
          "KAZ",
          "CYP",
          "BOL",
          "EST",
          "PRY",
          "PER",
          "XKX",
          "MDA",
          "TKM",
          "HUN",
          "LBY",
          "PHL",
          "HND",
          "BLR",
          "TUR",
          "PAK",
          "HKG",
          "PRT",
          "SRB",
          "GRC",
          "LBN",
          "MNE",
          "HRV",
          "DOM",
          "DZA",
          "MAR",
          "CHN",
          "AZE",
          "TJK",
          "MKD",
          "JOR",
          "NGA",
          "KGZ",
          "BIH",
          "MNG",
          "VNM",
          "IDN",
          "BTN",
          "SOM",
          "CMR",
          "BGR",
          "NPL",
          "VEN",
          "GAB",
          "PSE",
          "ZAF",
          "IRN",
          "CIV",
          "GHA",
          "SEN",
          "LAO",
          "TUN",
          "ALB",
          "SLE",
          "COG",
          "BGD",
          "LKA",
          "IRQ",
          "MLI",
          "NAM",
          "KHM",
          "BFA",
          "EGY",
          "MOZ",
          "KEN",
          "ZMB",
          "MRT",
          "ETH",
          "GEO",
          "ARM",
          "MMR",
          "TCD",
          "COD",
          "IND",
          "NER",
          "UGA",
          "BEN",
          "SDN",
          "UKR",
          "TGO",
          "GIN",
          "LSO",
          "AGO",
          "MDG",
          "ZWE",
          "AFG",
          "BWA",
          "MWI",
          "HTI",
          "LBR",
          "SYR",
          "RWA",
          "YEM",
          "TZA",
          "SSD",
          "CAF",
          "BDI"
         ],
         "name": "",
         "type": "choropleth",
         "z": [
          7.632,
          7.594,
          7.555,
          7.495,
          7.487,
          7.441,
          7.328,
          7.324,
          7.314,
          7.272,
          7.19,
          7.139,
          7.072,
          6.977,
          6.965,
          6.927,
          6.91,
          6.886,
          6.814,
          6.774,
          6.711,
          6.627,
          6.489,
          6.488,
          6.476,
          6.441,
          6.43,
          6.419,
          6.388,
          6.382,
          6.379,
          6.374,
          6.371,
          6.343,
          6.322,
          6.31,
          6.26,
          6.192,
          6.173,
          6.167,
          6.141,
          6.123,
          6.105,
          6.096,
          6.083,
          6.072,
          6,
          5.973,
          5.956,
          5.952,
          5.948,
          5.945,
          5.933,
          5.915,
          5.891,
          5.89,
          5.875,
          5.835,
          5.81,
          5.79,
          5.762,
          5.752,
          5.739,
          5.681,
          5.663,
          5.662,
          5.64,
          5.636,
          5.62,
          5.566,
          5.524,
          5.504,
          5.483,
          5.483,
          5.472,
          5.43,
          5.41,
          5.398,
          5.358,
          5.358,
          5.347,
          5.321,
          5.302,
          5.295,
          5.254,
          5.246,
          5.201,
          5.199,
          5.185,
          5.161,
          5.155,
          5.131,
          5.129,
          5.125,
          5.103,
          5.093,
          5.082,
          4.982,
          4.975,
          4.933,
          4.88,
          4.806,
          4.758,
          4.743,
          4.724,
          4.707,
          4.671,
          4.657,
          4.631,
          4.623,
          4.592,
          4.586,
          4.571,
          4.559,
          4.5,
          4.471,
          4.456,
          4.447,
          4.441,
          4.433,
          4.424,
          4.419,
          4.417,
          4.41,
          4.377,
          4.356,
          4.35,
          4.34,
          4.321,
          4.308,
          4.301,
          4.245,
          4.19,
          4.166,
          4.161,
          4.141,
          4.139,
          4.103,
          3.999,
          3.964,
          3.808,
          3.795,
          3.774,
          3.692,
          3.632,
          3.59,
          3.587,
          3.582,
          3.495,
          3.462,
          3.408,
          3.355,
          3.303,
          3.254,
          3.083,
          2.905
         ]
        }
       ],
       "layout": {
        "coloraxis": {
         "colorbar": {
          "title": {
           "text": "Score"
          }
         },
         "colorscale": [
          [
           0,
           "rgb(103,0,31)"
          ],
          [
           0.1,
           "rgb(178,24,43)"
          ],
          [
           0.2,
           "rgb(214,96,77)"
          ],
          [
           0.3,
           "rgb(244,165,130)"
          ],
          [
           0.4,
           "rgb(253,219,199)"
          ],
          [
           0.5,
           "rgb(247,247,247)"
          ],
          [
           0.6,
           "rgb(209,229,240)"
          ],
          [
           0.7,
           "rgb(146,197,222)"
          ],
          [
           0.8,
           "rgb(67,147,195)"
          ],
          [
           0.9,
           "rgb(33,102,172)"
          ],
          [
           1,
           "rgb(5,48,97)"
          ]
         ]
        },
        "geo": {
         "center": {},
         "domain": {
          "x": [
           0,
           1
          ],
          "y": [
           0,
           1
          ]
         }
        },
        "legend": {
         "tracegroupgap": 0
        },
        "margin": {
         "t": 60
        },
        "template": {
         "data": {
          "bar": [
           {
            "error_x": {
             "color": "#2a3f5f"
            },
            "error_y": {
             "color": "#2a3f5f"
            },
            "marker": {
             "line": {
              "color": "#E5ECF6",
              "width": 0.5
             },
             "pattern": {
              "fillmode": "overlay",
              "size": 10,
              "solidity": 0.2
             }
            },
            "type": "bar"
           }
          ],
          "barpolar": [
           {
            "marker": {
             "line": {
              "color": "#E5ECF6",
              "width": 0.5
             },
             "pattern": {
              "fillmode": "overlay",
              "size": 10,
              "solidity": 0.2
             }
            },
            "type": "barpolar"
           }
          ],
          "carpet": [
           {
            "aaxis": {
             "endlinecolor": "#2a3f5f",
             "gridcolor": "white",
             "linecolor": "white",
             "minorgridcolor": "white",
             "startlinecolor": "#2a3f5f"
            },
            "baxis": {
             "endlinecolor": "#2a3f5f",
             "gridcolor": "white",
             "linecolor": "white",
             "minorgridcolor": "white",
             "startlinecolor": "#2a3f5f"
            },
            "type": "carpet"
           }
          ],
          "choropleth": [
           {
            "colorbar": {
             "outlinewidth": 0,
             "ticks": ""
            },
            "type": "choropleth"
           }
          ],
          "contour": [
           {
            "colorbar": {
             "outlinewidth": 0,
             "ticks": ""
            },
            "colorscale": [
             [
              0,
              "#0d0887"
             ],
             [
              0.1111111111111111,
              "#46039f"
             ],
             [
              0.2222222222222222,
              "#7201a8"
             ],
             [
              0.3333333333333333,
              "#9c179e"
             ],
             [
              0.4444444444444444,
              "#bd3786"
             ],
             [
              0.5555555555555556,
              "#d8576b"
             ],
             [
              0.6666666666666666,
              "#ed7953"
             ],
             [
              0.7777777777777778,
              "#fb9f3a"
             ],
             [
              0.8888888888888888,
              "#fdca26"
             ],
             [
              1,
              "#f0f921"
             ]
            ],
            "type": "contour"
           }
          ],
          "contourcarpet": [
           {
            "colorbar": {
             "outlinewidth": 0,
             "ticks": ""
            },
            "type": "contourcarpet"
           }
          ],
          "heatmap": [
           {
            "colorbar": {
             "outlinewidth": 0,
             "ticks": ""
            },
            "colorscale": [
             [
              0,
              "#0d0887"
             ],
             [
              0.1111111111111111,
              "#46039f"
             ],
             [
              0.2222222222222222,
              "#7201a8"
             ],
             [
              0.3333333333333333,
              "#9c179e"
             ],
             [
              0.4444444444444444,
              "#bd3786"
             ],
             [
              0.5555555555555556,
              "#d8576b"
             ],
             [
              0.6666666666666666,
              "#ed7953"
             ],
             [
              0.7777777777777778,
              "#fb9f3a"
             ],
             [
              0.8888888888888888,
              "#fdca26"
             ],
             [
              1,
              "#f0f921"
             ]
            ],
            "type": "heatmap"
           }
          ],
          "heatmapgl": [
           {
            "colorbar": {
             "outlinewidth": 0,
             "ticks": ""
            },
            "colorscale": [
             [
              0,
              "#0d0887"
             ],
             [
              0.1111111111111111,
              "#46039f"
             ],
             [
              0.2222222222222222,
              "#7201a8"
             ],
             [
              0.3333333333333333,
              "#9c179e"
             ],
             [
              0.4444444444444444,
              "#bd3786"
             ],
             [
              0.5555555555555556,
              "#d8576b"
             ],
             [
              0.6666666666666666,
              "#ed7953"
             ],
             [
              0.7777777777777778,
              "#fb9f3a"
             ],
             [
              0.8888888888888888,
              "#fdca26"
             ],
             [
              1,
              "#f0f921"
             ]
            ],
            "type": "heatmapgl"
           }
          ],
          "histogram": [
           {
            "marker": {
             "pattern": {
              "fillmode": "overlay",
              "size": 10,
              "solidity": 0.2
             }
            },
            "type": "histogram"
           }
          ],
          "histogram2d": [
           {
            "colorbar": {
             "outlinewidth": 0,
             "ticks": ""
            },
            "colorscale": [
             [
              0,
              "#0d0887"
             ],
             [
              0.1111111111111111,
              "#46039f"
             ],
             [
              0.2222222222222222,
              "#7201a8"
             ],
             [
              0.3333333333333333,
              "#9c179e"
             ],
             [
              0.4444444444444444,
              "#bd3786"
             ],
             [
              0.5555555555555556,
              "#d8576b"
             ],
             [
              0.6666666666666666,
              "#ed7953"
             ],
             [
              0.7777777777777778,
              "#fb9f3a"
             ],
             [
              0.8888888888888888,
              "#fdca26"
             ],
             [
              1,
              "#f0f921"
             ]
            ],
            "type": "histogram2d"
           }
          ],
          "histogram2dcontour": [
           {
            "colorbar": {
             "outlinewidth": 0,
             "ticks": ""
            },
            "colorscale": [
             [
              0,
              "#0d0887"
             ],
             [
              0.1111111111111111,
              "#46039f"
             ],
             [
              0.2222222222222222,
              "#7201a8"
             ],
             [
              0.3333333333333333,
              "#9c179e"
             ],
             [
              0.4444444444444444,
              "#bd3786"
             ],
             [
              0.5555555555555556,
              "#d8576b"
             ],
             [
              0.6666666666666666,
              "#ed7953"
             ],
             [
              0.7777777777777778,
              "#fb9f3a"
             ],
             [
              0.8888888888888888,
              "#fdca26"
             ],
             [
              1,
              "#f0f921"
             ]
            ],
            "type": "histogram2dcontour"
           }
          ],
          "mesh3d": [
           {
            "colorbar": {
             "outlinewidth": 0,
             "ticks": ""
            },
            "type": "mesh3d"
           }
          ],
          "parcoords": [
           {
            "line": {
             "colorbar": {
              "outlinewidth": 0,
              "ticks": ""
             }
            },
            "type": "parcoords"
           }
          ],
          "pie": [
           {
            "automargin": true,
            "type": "pie"
           }
          ],
          "scatter": [
           {
            "marker": {
             "colorbar": {
              "outlinewidth": 0,
              "ticks": ""
             }
            },
            "type": "scatter"
           }
          ],
          "scatter3d": [
           {
            "line": {
             "colorbar": {
              "outlinewidth": 0,
              "ticks": ""
             }
            },
            "marker": {
             "colorbar": {
              "outlinewidth": 0,
              "ticks": ""
             }
            },
            "type": "scatter3d"
           }
          ],
          "scattercarpet": [
           {
            "marker": {
             "colorbar": {
              "outlinewidth": 0,
              "ticks": ""
             }
            },
            "type": "scattercarpet"
           }
          ],
          "scattergeo": [
           {
            "marker": {
             "colorbar": {
              "outlinewidth": 0,
              "ticks": ""
             }
            },
            "type": "scattergeo"
           }
          ],
          "scattergl": [
           {
            "marker": {
             "colorbar": {
              "outlinewidth": 0,
              "ticks": ""
             }
            },
            "type": "scattergl"
           }
          ],
          "scattermapbox": [
           {
            "marker": {
             "colorbar": {
              "outlinewidth": 0,
              "ticks": ""
             }
            },
            "type": "scattermapbox"
           }
          ],
          "scatterpolar": [
           {
            "marker": {
             "colorbar": {
              "outlinewidth": 0,
              "ticks": ""
             }
            },
            "type": "scatterpolar"
           }
          ],
          "scatterpolargl": [
           {
            "marker": {
             "colorbar": {
              "outlinewidth": 0,
              "ticks": ""
             }
            },
            "type": "scatterpolargl"
           }
          ],
          "scatterternary": [
           {
            "marker": {
             "colorbar": {
              "outlinewidth": 0,
              "ticks": ""
             }
            },
            "type": "scatterternary"
           }
          ],
          "surface": [
           {
            "colorbar": {
             "outlinewidth": 0,
             "ticks": ""
            },
            "colorscale": [
             [
              0,
              "#0d0887"
             ],
             [
              0.1111111111111111,
              "#46039f"
             ],
             [
              0.2222222222222222,
              "#7201a8"
             ],
             [
              0.3333333333333333,
              "#9c179e"
             ],
             [
              0.4444444444444444,
              "#bd3786"
             ],
             [
              0.5555555555555556,
              "#d8576b"
             ],
             [
              0.6666666666666666,
              "#ed7953"
             ],
             [
              0.7777777777777778,
              "#fb9f3a"
             ],
             [
              0.8888888888888888,
              "#fdca26"
             ],
             [
              1,
              "#f0f921"
             ]
            ],
            "type": "surface"
           }
          ],
          "table": [
           {
            "cells": {
             "fill": {
              "color": "#EBF0F8"
             },
             "line": {
              "color": "white"
             }
            },
            "header": {
             "fill": {
              "color": "#C8D4E3"
             },
             "line": {
              "color": "white"
             }
            },
            "type": "table"
           }
          ]
         },
         "layout": {
          "annotationdefaults": {
           "arrowcolor": "#2a3f5f",
           "arrowhead": 0,
           "arrowwidth": 1
          },
          "autotypenumbers": "strict",
          "coloraxis": {
           "colorbar": {
            "outlinewidth": 0,
            "ticks": ""
           }
          },
          "colorscale": {
           "diverging": [
            [
             0,
             "#8e0152"
            ],
            [
             0.1,
             "#c51b7d"
            ],
            [
             0.2,
             "#de77ae"
            ],
            [
             0.3,
             "#f1b6da"
            ],
            [
             0.4,
             "#fde0ef"
            ],
            [
             0.5,
             "#f7f7f7"
            ],
            [
             0.6,
             "#e6f5d0"
            ],
            [
             0.7,
             "#b8e186"
            ],
            [
             0.8,
             "#7fbc41"
            ],
            [
             0.9,
             "#4d9221"
            ],
            [
             1,
             "#276419"
            ]
           ],
           "sequential": [
            [
             0,
             "#0d0887"
            ],
            [
             0.1111111111111111,
             "#46039f"
            ],
            [
             0.2222222222222222,
             "#7201a8"
            ],
            [
             0.3333333333333333,
             "#9c179e"
            ],
            [
             0.4444444444444444,
             "#bd3786"
            ],
            [
             0.5555555555555556,
             "#d8576b"
            ],
            [
             0.6666666666666666,
             "#ed7953"
            ],
            [
             0.7777777777777778,
             "#fb9f3a"
            ],
            [
             0.8888888888888888,
             "#fdca26"
            ],
            [
             1,
             "#f0f921"
            ]
           ],
           "sequentialminus": [
            [
             0,
             "#0d0887"
            ],
            [
             0.1111111111111111,
             "#46039f"
            ],
            [
             0.2222222222222222,
             "#7201a8"
            ],
            [
             0.3333333333333333,
             "#9c179e"
            ],
            [
             0.4444444444444444,
             "#bd3786"
            ],
            [
             0.5555555555555556,
             "#d8576b"
            ],
            [
             0.6666666666666666,
             "#ed7953"
            ],
            [
             0.7777777777777778,
             "#fb9f3a"
            ],
            [
             0.8888888888888888,
             "#fdca26"
            ],
            [
             1,
             "#f0f921"
            ]
           ]
          },
          "colorway": [
           "#636efa",
           "#EF553B",
           "#00cc96",
           "#ab63fa",
           "#FFA15A",
           "#19d3f3",
           "#FF6692",
           "#B6E880",
           "#FF97FF",
           "#FECB52"
          ],
          "font": {
           "color": "#2a3f5f"
          },
          "geo": {
           "bgcolor": "white",
           "lakecolor": "white",
           "landcolor": "#E5ECF6",
           "showlakes": true,
           "showland": true,
           "subunitcolor": "white"
          },
          "hoverlabel": {
           "align": "left"
          },
          "hovermode": "closest",
          "mapbox": {
           "style": "light"
          },
          "paper_bgcolor": "white",
          "plot_bgcolor": "#E5ECF6",
          "polar": {
           "angularaxis": {
            "gridcolor": "white",
            "linecolor": "white",
            "ticks": ""
           },
           "bgcolor": "#E5ECF6",
           "radialaxis": {
            "gridcolor": "white",
            "linecolor": "white",
            "ticks": ""
           }
          },
          "scene": {
           "xaxis": {
            "backgroundcolor": "#E5ECF6",
            "gridcolor": "white",
            "gridwidth": 2,
            "linecolor": "white",
            "showbackground": true,
            "ticks": "",
            "zerolinecolor": "white"
           },
           "yaxis": {
            "backgroundcolor": "#E5ECF6",
            "gridcolor": "white",
            "gridwidth": 2,
            "linecolor": "white",
            "showbackground": true,
            "ticks": "",
            "zerolinecolor": "white"
           },
           "zaxis": {
            "backgroundcolor": "#E5ECF6",
            "gridcolor": "white",
            "gridwidth": 2,
            "linecolor": "white",
            "showbackground": true,
            "ticks": "",
            "zerolinecolor": "white"
           }
          },
          "shapedefaults": {
           "line": {
            "color": "#2a3f5f"
           }
          },
          "ternary": {
           "aaxis": {
            "gridcolor": "white",
            "linecolor": "white",
            "ticks": ""
           },
           "baxis": {
            "gridcolor": "white",
            "linecolor": "white",
            "ticks": ""
           },
           "bgcolor": "#E5ECF6",
           "caxis": {
            "gridcolor": "white",
            "linecolor": "white",
            "ticks": ""
           }
          },
          "title": {
           "x": 0.05
          },
          "xaxis": {
           "automargin": true,
           "gridcolor": "white",
           "linecolor": "white",
           "ticks": "",
           "title": {
            "standoff": 15
           },
           "zerolinecolor": "white",
           "zerolinewidth": 2
          },
          "yaxis": {
           "automargin": true,
           "gridcolor": "white",
           "linecolor": "white",
           "ticks": "",
           "title": {
            "standoff": 15
           },
           "zerolinecolor": "white",
           "zerolinewidth": 2
          }
         }
        }
       }
      },
      "text/html": [
       "<div>                            <div id=\"a8ec6c3c-8061-4923-bc91-94af4ab2fbdd\" class=\"plotly-graph-div\" style=\"height:525px; width:100%;\"></div>            <script type=\"text/javascript\">                require([\"plotly\"], function(Plotly) {                    window.PLOTLYENV=window.PLOTLYENV || {};                                    if (document.getElementById(\"a8ec6c3c-8061-4923-bc91-94af4ab2fbdd\")) {                    Plotly.newPlot(                        \"a8ec6c3c-8061-4923-bc91-94af4ab2fbdd\",                        [{\"coloraxis\":\"coloraxis\",\"geo\":\"geo\",\"hovertemplate\":\"<b>%{hovertext}</b><br><br>alpha3=%{location}<br>Score=%{z}<extra></extra>\",\"hovertext\":[\"Finland\",\"Norway\",\"Denmark\",\"Iceland\",\"Switzerland\",\"Netherlands\",\"Canada\",\"New Zealand\",\"Sweden\",\"Australia\",\"United Kingdom\",\"Austria\",\"Costa Rica\",\"Ireland\",\"Germany\",\"Belgium\",\"Luxembourg\",\"United States\",\"Israel\",\"United Arab Emirates\",\"Czech Republic\",\"Malta\",\"France\",\"Mexico\",\"Chile\",\"Taiwan\",\"Panama\",\"Brazil\",\"Argentina\",\"Guatemala\",\"Uruguay\",\"Qatar\",\"Saudi Arabia\",\"Singapore\",\"Malaysia\",\"Spain\",\"Colombia\",\"Trinidad and Tobago\",\"Slovakia\",\"El Salvador\",\"Nicaragua\",\"Poland\",\"Bahrain\",\"Uzbekistan\",\"Kuwait\",\"Thailand\",\"Italy\",\"Ecuador\",\"Belize\",\"Lithuania\",\"Slovenia\",\"Romania\",\"Latvia\",\"Japan\",\"Mauritius\",\"Jamaica\",\"South Korea\",\"Cyprus\",\"Russia\",\"Kazakhstan\",\"Cyprus\",\"Bolivia\",\"Estonia\",\"Paraguay\",\"Peru\",\"Kosovo\",\"Moldova\",\"Turkmenistan\",\"Hungary\",\"Libya\",\"Philippines\",\"Honduras\",\"Belarus\",\"Turkey\",\"Pakistan\",\"Hong Kong\",\"Portugal\",\"Serbia\",\"Greece\",\"Lebanon\",\"Montenegro\",\"Croatia\",\"Dominican Republic\",\"Algeria\",\"Morocco\",\"China\",\"Azerbaijan\",\"Tajikistan\",\"Macedonia\",\"Jordan\",\"Nigeria\",\"Kyrgyz Republic\",\"Bosnia and Herzegovina\",\"Mongolia\",\"Vietnam\",\"Indonesia\",\"Bhutan\",\"Somalia\",\"Cameroon\",\"Bulgaria\",\"Nepal\",\"Venezuela\",\"Gabon\",\"Palestine\",\"South Africa\",\"Iran\",\"Cote d'Ivoire\",\"Ghana\",\"Senegal\",\"Laos\",\"Tunisia\",\"Albania\",\"Sierra Leone\",\"Congo Republic\",\"Bangladesh\",\"Sri Lanka\",\"Iraq\",\"Mali\",\"Namibia\",\"Cambodia\",\"Burkina Faso\",\"Egypt\",\"Mozambique\",\"Kenya\",\"Zambia\",\"Mauritania\",\"Ethiopia\",\"Georgia\",\"Armenia\",\"Myanmar\",\"Chad\",\"DR Congo\",\"India\",\"Niger\",\"Uganda\",\"Benin\",\"Sudan\",\"Ukraine\",\"Togo\",\"Guinea\",\"Lesotho\",\"Angola\",\"Madagascar\",\"Zimbabwe\",\"Afghanistan\",\"Botswana\",\"Malawi\",\"Haiti\",\"Liberia\",\"Syria\",\"Rwanda\",\"Yemen\",\"Tanzania\",\"South Sudan\",\"Central African Republic\",\"Burundi\"],\"locations\":[\"FIN\",\"NOR\",\"DNK\",\"ISL\",\"CHE\",\"NLD\",\"CAN\",\"NZL\",\"SWE\",\"AUS\",\"GBR\",\"AUT\",\"CRI\",\"IRL\",\"DEU\",\"BEL\",\"LUX\",\"USA\",\"ISR\",\"ARE\",\"CZE\",\"MLT\",\"FRA\",\"MEX\",\"CHL\",\"TWN\",\"PAN\",\"BRA\",\"ARG\",\"GTM\",\"URY\",\"QAT\",\"SAU\",\"SGP\",\"MYS\",\"ESP\",\"COL\",\"TTO\",\"SVK\",\"SLV\",\"NIC\",\"POL\",\"BHR\",\"UZB\",\"KWT\",\"THA\",\"ITA\",\"ECU\",\"BLZ\",\"LTU\",\"SVN\",\"ROU\",\"LVA\",\"JPN\",\"MUS\",\"JAM\",\"KOR\",\"CYP\",\"RUS\",\"KAZ\",\"CYP\",\"BOL\",\"EST\",\"PRY\",\"PER\",\"XKX\",\"MDA\",\"TKM\",\"HUN\",\"LBY\",\"PHL\",\"HND\",\"BLR\",\"TUR\",\"PAK\",\"HKG\",\"PRT\",\"SRB\",\"GRC\",\"LBN\",\"MNE\",\"HRV\",\"DOM\",\"DZA\",\"MAR\",\"CHN\",\"AZE\",\"TJK\",\"MKD\",\"JOR\",\"NGA\",\"KGZ\",\"BIH\",\"MNG\",\"VNM\",\"IDN\",\"BTN\",\"SOM\",\"CMR\",\"BGR\",\"NPL\",\"VEN\",\"GAB\",\"PSE\",\"ZAF\",\"IRN\",\"CIV\",\"GHA\",\"SEN\",\"LAO\",\"TUN\",\"ALB\",\"SLE\",\"COG\",\"BGD\",\"LKA\",\"IRQ\",\"MLI\",\"NAM\",\"KHM\",\"BFA\",\"EGY\",\"MOZ\",\"KEN\",\"ZMB\",\"MRT\",\"ETH\",\"GEO\",\"ARM\",\"MMR\",\"TCD\",\"COD\",\"IND\",\"NER\",\"UGA\",\"BEN\",\"SDN\",\"UKR\",\"TGO\",\"GIN\",\"LSO\",\"AGO\",\"MDG\",\"ZWE\",\"AFG\",\"BWA\",\"MWI\",\"HTI\",\"LBR\",\"SYR\",\"RWA\",\"YEM\",\"TZA\",\"SSD\",\"CAF\",\"BDI\"],\"name\":\"\",\"type\":\"choropleth\",\"z\":[7.632,7.594,7.555,7.495,7.487,7.441,7.328,7.324,7.314,7.272,7.19,7.139,7.072,6.977,6.965,6.927,6.91,6.886,6.814,6.774,6.711,6.627,6.489,6.488,6.476,6.441,6.43,6.419,6.388,6.382,6.379,6.374,6.371,6.343,6.322,6.31,6.26,6.192,6.173,6.167,6.141,6.123,6.105,6.096,6.083,6.072,6.0,5.973,5.956,5.952,5.948,5.945,5.933,5.915,5.891,5.89,5.875,5.835,5.81,5.79,5.762,5.752,5.739,5.681,5.663,5.662,5.64,5.636,5.62,5.566,5.524,5.504,5.483,5.483,5.472,5.43,5.41,5.398,5.358,5.358,5.347,5.321,5.302,5.295,5.254,5.246,5.201,5.199,5.185,5.161,5.155,5.131,5.129,5.125,5.103,5.093,5.082,4.982,4.975,4.933,4.88,4.806,4.758,4.743,4.724,4.707,4.671,4.657,4.631,4.623,4.592,4.586,4.571,4.559,4.5,4.471,4.456,4.447,4.441,4.433,4.424,4.419,4.417,4.41,4.377,4.356,4.35,4.34,4.321,4.308,4.301,4.245,4.19,4.166,4.161,4.141,4.139,4.103,3.999,3.964,3.808,3.795,3.774,3.692,3.632,3.59,3.587,3.582,3.495,3.462,3.408,3.355,3.303,3.254,3.083,2.905]}],                        {\"coloraxis\":{\"colorbar\":{\"title\":{\"text\":\"Score\"}},\"colorscale\":[[0.0,\"rgb(103,0,31)\"],[0.1,\"rgb(178,24,43)\"],[0.2,\"rgb(214,96,77)\"],[0.3,\"rgb(244,165,130)\"],[0.4,\"rgb(253,219,199)\"],[0.5,\"rgb(247,247,247)\"],[0.6,\"rgb(209,229,240)\"],[0.7,\"rgb(146,197,222)\"],[0.8,\"rgb(67,147,195)\"],[0.9,\"rgb(33,102,172)\"],[1.0,\"rgb(5,48,97)\"]]},\"geo\":{\"center\":{},\"domain\":{\"x\":[0.0,1.0],\"y\":[0.0,1.0]}},\"legend\":{\"tracegroupgap\":0},\"margin\":{\"t\":60},\"template\":{\"data\":{\"bar\":[{\"error_x\":{\"color\":\"#2a3f5f\"},\"error_y\":{\"color\":\"#2a3f5f\"},\"marker\":{\"line\":{\"color\":\"#E5ECF6\",\"width\":0.5},\"pattern\":{\"fillmode\":\"overlay\",\"size\":10,\"solidity\":0.2}},\"type\":\"bar\"}],\"barpolar\":[{\"marker\":{\"line\":{\"color\":\"#E5ECF6\",\"width\":0.5},\"pattern\":{\"fillmode\":\"overlay\",\"size\":10,\"solidity\":0.2}},\"type\":\"barpolar\"}],\"carpet\":[{\"aaxis\":{\"endlinecolor\":\"#2a3f5f\",\"gridcolor\":\"white\",\"linecolor\":\"white\",\"minorgridcolor\":\"white\",\"startlinecolor\":\"#2a3f5f\"},\"baxis\":{\"endlinecolor\":\"#2a3f5f\",\"gridcolor\":\"white\",\"linecolor\":\"white\",\"minorgridcolor\":\"white\",\"startlinecolor\":\"#2a3f5f\"},\"type\":\"carpet\"}],\"choropleth\":[{\"colorbar\":{\"outlinewidth\":0,\"ticks\":\"\"},\"type\":\"choropleth\"}],\"contour\":[{\"colorbar\":{\"outlinewidth\":0,\"ticks\":\"\"},\"colorscale\":[[0.0,\"#0d0887\"],[0.1111111111111111,\"#46039f\"],[0.2222222222222222,\"#7201a8\"],[0.3333333333333333,\"#9c179e\"],[0.4444444444444444,\"#bd3786\"],[0.5555555555555556,\"#d8576b\"],[0.6666666666666666,\"#ed7953\"],[0.7777777777777778,\"#fb9f3a\"],[0.8888888888888888,\"#fdca26\"],[1.0,\"#f0f921\"]],\"type\":\"contour\"}],\"contourcarpet\":[{\"colorbar\":{\"outlinewidth\":0,\"ticks\":\"\"},\"type\":\"contourcarpet\"}],\"heatmap\":[{\"colorbar\":{\"outlinewidth\":0,\"ticks\":\"\"},\"colorscale\":[[0.0,\"#0d0887\"],[0.1111111111111111,\"#46039f\"],[0.2222222222222222,\"#7201a8\"],[0.3333333333333333,\"#9c179e\"],[0.4444444444444444,\"#bd3786\"],[0.5555555555555556,\"#d8576b\"],[0.6666666666666666,\"#ed7953\"],[0.7777777777777778,\"#fb9f3a\"],[0.8888888888888888,\"#fdca26\"],[1.0,\"#f0f921\"]],\"type\":\"heatmap\"}],\"heatmapgl\":[{\"colorbar\":{\"outlinewidth\":0,\"ticks\":\"\"},\"colorscale\":[[0.0,\"#0d0887\"],[0.1111111111111111,\"#46039f\"],[0.2222222222222222,\"#7201a8\"],[0.3333333333333333,\"#9c179e\"],[0.4444444444444444,\"#bd3786\"],[0.5555555555555556,\"#d8576b\"],[0.6666666666666666,\"#ed7953\"],[0.7777777777777778,\"#fb9f3a\"],[0.8888888888888888,\"#fdca26\"],[1.0,\"#f0f921\"]],\"type\":\"heatmapgl\"}],\"histogram\":[{\"marker\":{\"pattern\":{\"fillmode\":\"overlay\",\"size\":10,\"solidity\":0.2}},\"type\":\"histogram\"}],\"histogram2d\":[{\"colorbar\":{\"outlinewidth\":0,\"ticks\":\"\"},\"colorscale\":[[0.0,\"#0d0887\"],[0.1111111111111111,\"#46039f\"],[0.2222222222222222,\"#7201a8\"],[0.3333333333333333,\"#9c179e\"],[0.4444444444444444,\"#bd3786\"],[0.5555555555555556,\"#d8576b\"],[0.6666666666666666,\"#ed7953\"],[0.7777777777777778,\"#fb9f3a\"],[0.8888888888888888,\"#fdca26\"],[1.0,\"#f0f921\"]],\"type\":\"histogram2d\"}],\"histogram2dcontour\":[{\"colorbar\":{\"outlinewidth\":0,\"ticks\":\"\"},\"colorscale\":[[0.0,\"#0d0887\"],[0.1111111111111111,\"#46039f\"],[0.2222222222222222,\"#7201a8\"],[0.3333333333333333,\"#9c179e\"],[0.4444444444444444,\"#bd3786\"],[0.5555555555555556,\"#d8576b\"],[0.6666666666666666,\"#ed7953\"],[0.7777777777777778,\"#fb9f3a\"],[0.8888888888888888,\"#fdca26\"],[1.0,\"#f0f921\"]],\"type\":\"histogram2dcontour\"}],\"mesh3d\":[{\"colorbar\":{\"outlinewidth\":0,\"ticks\":\"\"},\"type\":\"mesh3d\"}],\"parcoords\":[{\"line\":{\"colorbar\":{\"outlinewidth\":0,\"ticks\":\"\"}},\"type\":\"parcoords\"}],\"pie\":[{\"automargin\":true,\"type\":\"pie\"}],\"scatter\":[{\"marker\":{\"colorbar\":{\"outlinewidth\":0,\"ticks\":\"\"}},\"type\":\"scatter\"}],\"scatter3d\":[{\"line\":{\"colorbar\":{\"outlinewidth\":0,\"ticks\":\"\"}},\"marker\":{\"colorbar\":{\"outlinewidth\":0,\"ticks\":\"\"}},\"type\":\"scatter3d\"}],\"scattercarpet\":[{\"marker\":{\"colorbar\":{\"outlinewidth\":0,\"ticks\":\"\"}},\"type\":\"scattercarpet\"}],\"scattergeo\":[{\"marker\":{\"colorbar\":{\"outlinewidth\":0,\"ticks\":\"\"}},\"type\":\"scattergeo\"}],\"scattergl\":[{\"marker\":{\"colorbar\":{\"outlinewidth\":0,\"ticks\":\"\"}},\"type\":\"scattergl\"}],\"scattermapbox\":[{\"marker\":{\"colorbar\":{\"outlinewidth\":0,\"ticks\":\"\"}},\"type\":\"scattermapbox\"}],\"scatterpolar\":[{\"marker\":{\"colorbar\":{\"outlinewidth\":0,\"ticks\":\"\"}},\"type\":\"scatterpolar\"}],\"scatterpolargl\":[{\"marker\":{\"colorbar\":{\"outlinewidth\":0,\"ticks\":\"\"}},\"type\":\"scatterpolargl\"}],\"scatterternary\":[{\"marker\":{\"colorbar\":{\"outlinewidth\":0,\"ticks\":\"\"}},\"type\":\"scatterternary\"}],\"surface\":[{\"colorbar\":{\"outlinewidth\":0,\"ticks\":\"\"},\"colorscale\":[[0.0,\"#0d0887\"],[0.1111111111111111,\"#46039f\"],[0.2222222222222222,\"#7201a8\"],[0.3333333333333333,\"#9c179e\"],[0.4444444444444444,\"#bd3786\"],[0.5555555555555556,\"#d8576b\"],[0.6666666666666666,\"#ed7953\"],[0.7777777777777778,\"#fb9f3a\"],[0.8888888888888888,\"#fdca26\"],[1.0,\"#f0f921\"]],\"type\":\"surface\"}],\"table\":[{\"cells\":{\"fill\":{\"color\":\"#EBF0F8\"},\"line\":{\"color\":\"white\"}},\"header\":{\"fill\":{\"color\":\"#C8D4E3\"},\"line\":{\"color\":\"white\"}},\"type\":\"table\"}]},\"layout\":{\"annotationdefaults\":{\"arrowcolor\":\"#2a3f5f\",\"arrowhead\":0,\"arrowwidth\":1},\"autotypenumbers\":\"strict\",\"coloraxis\":{\"colorbar\":{\"outlinewidth\":0,\"ticks\":\"\"}},\"colorscale\":{\"diverging\":[[0,\"#8e0152\"],[0.1,\"#c51b7d\"],[0.2,\"#de77ae\"],[0.3,\"#f1b6da\"],[0.4,\"#fde0ef\"],[0.5,\"#f7f7f7\"],[0.6,\"#e6f5d0\"],[0.7,\"#b8e186\"],[0.8,\"#7fbc41\"],[0.9,\"#4d9221\"],[1,\"#276419\"]],\"sequential\":[[0.0,\"#0d0887\"],[0.1111111111111111,\"#46039f\"],[0.2222222222222222,\"#7201a8\"],[0.3333333333333333,\"#9c179e\"],[0.4444444444444444,\"#bd3786\"],[0.5555555555555556,\"#d8576b\"],[0.6666666666666666,\"#ed7953\"],[0.7777777777777778,\"#fb9f3a\"],[0.8888888888888888,\"#fdca26\"],[1.0,\"#f0f921\"]],\"sequentialminus\":[[0.0,\"#0d0887\"],[0.1111111111111111,\"#46039f\"],[0.2222222222222222,\"#7201a8\"],[0.3333333333333333,\"#9c179e\"],[0.4444444444444444,\"#bd3786\"],[0.5555555555555556,\"#d8576b\"],[0.6666666666666666,\"#ed7953\"],[0.7777777777777778,\"#fb9f3a\"],[0.8888888888888888,\"#fdca26\"],[1.0,\"#f0f921\"]]},\"colorway\":[\"#636efa\",\"#EF553B\",\"#00cc96\",\"#ab63fa\",\"#FFA15A\",\"#19d3f3\",\"#FF6692\",\"#B6E880\",\"#FF97FF\",\"#FECB52\"],\"font\":{\"color\":\"#2a3f5f\"},\"geo\":{\"bgcolor\":\"white\",\"lakecolor\":\"white\",\"landcolor\":\"#E5ECF6\",\"showlakes\":true,\"showland\":true,\"subunitcolor\":\"white\"},\"hoverlabel\":{\"align\":\"left\"},\"hovermode\":\"closest\",\"mapbox\":{\"style\":\"light\"},\"paper_bgcolor\":\"white\",\"plot_bgcolor\":\"#E5ECF6\",\"polar\":{\"angularaxis\":{\"gridcolor\":\"white\",\"linecolor\":\"white\",\"ticks\":\"\"},\"bgcolor\":\"#E5ECF6\",\"radialaxis\":{\"gridcolor\":\"white\",\"linecolor\":\"white\",\"ticks\":\"\"}},\"scene\":{\"xaxis\":{\"backgroundcolor\":\"#E5ECF6\",\"gridcolor\":\"white\",\"gridwidth\":2,\"linecolor\":\"white\",\"showbackground\":true,\"ticks\":\"\",\"zerolinecolor\":\"white\"},\"yaxis\":{\"backgroundcolor\":\"#E5ECF6\",\"gridcolor\":\"white\",\"gridwidth\":2,\"linecolor\":\"white\",\"showbackground\":true,\"ticks\":\"\",\"zerolinecolor\":\"white\"},\"zaxis\":{\"backgroundcolor\":\"#E5ECF6\",\"gridcolor\":\"white\",\"gridwidth\":2,\"linecolor\":\"white\",\"showbackground\":true,\"ticks\":\"\",\"zerolinecolor\":\"white\"}},\"shapedefaults\":{\"line\":{\"color\":\"#2a3f5f\"}},\"ternary\":{\"aaxis\":{\"gridcolor\":\"white\",\"linecolor\":\"white\",\"ticks\":\"\"},\"baxis\":{\"gridcolor\":\"white\",\"linecolor\":\"white\",\"ticks\":\"\"},\"bgcolor\":\"#E5ECF6\",\"caxis\":{\"gridcolor\":\"white\",\"linecolor\":\"white\",\"ticks\":\"\"}},\"title\":{\"x\":0.05},\"xaxis\":{\"automargin\":true,\"gridcolor\":\"white\",\"linecolor\":\"white\",\"ticks\":\"\",\"title\":{\"standoff\":15},\"zerolinecolor\":\"white\",\"zerolinewidth\":2},\"yaxis\":{\"automargin\":true,\"gridcolor\":\"white\",\"linecolor\":\"white\",\"ticks\":\"\",\"title\":{\"standoff\":15},\"zerolinecolor\":\"white\",\"zerolinewidth\":2}}}},                        {\"responsive\": true}                    ).then(function(){\n",
       "                            \n",
       "var gd = document.getElementById('a8ec6c3c-8061-4923-bc91-94af4ab2fbdd');\n",
       "var x = new MutationObserver(function (mutations, observer) {{\n",
       "        var display = window.getComputedStyle(gd).display;\n",
       "        if (!display || display === 'none') {{\n",
       "            console.log([gd, 'removed!']);\n",
       "            Plotly.purge(gd);\n",
       "            observer.disconnect();\n",
       "        }}\n",
       "}});\n",
       "\n",
       "// Listen for the removal of the full notebook cells\n",
       "var notebookContainer = gd.closest('#notebook-container');\n",
       "if (notebookContainer) {{\n",
       "    x.observe(notebookContainer, {childList: true});\n",
       "}}\n",
       "\n",
       "// Listen for the clearing of the current output cell\n",
       "var outputEl = gd.closest('.output');\n",
       "if (outputEl) {{\n",
       "    x.observe(outputEl, {childList: true});\n",
       "}}\n",
       "\n",
       "                        })                };                });            </script>        </div>"
      ]
     },
     "metadata": {},
     "output_type": "display_data"
    }
   ],
   "source": [
    "fig = px.choropleth(df18, locations=\"alpha3\", color=\"Score\", hover_name=\"Country/Region\", color_continuous_scale=px.colors.sequential.RdBu)\n",
    "fig.show()"
   ]
  },
  {
   "cell_type": "markdown",
   "id": "17f2d31c",
   "metadata": {},
   "source": [
    "# World Happiness 2019 - Visuals"
   ]
  }
 ],
 "metadata": {
  "kernelspec": {
   "display_name": "Python [conda env:happiness_report]",
   "language": "python",
   "name": "conda-env-happiness_report-py"
  },
  "language_info": {
   "codemirror_mode": {
    "name": "ipython",
    "version": 3
   },
   "file_extension": ".py",
   "mimetype": "text/x-python",
   "name": "python",
   "nbconvert_exporter": "python",
   "pygments_lexer": "ipython3",
   "version": "3.8.11"
  }
 },
 "nbformat": 4,
 "nbformat_minor": 5
}
